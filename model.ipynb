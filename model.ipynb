{
 "cells": [
  {
   "cell_type": "code",
   "execution_count": 1,
   "metadata": {},
   "outputs": [],
   "source": [
    "from utils.data_acquisition import get_players, get_matches, get_players_perfomance, get_next_match"
   ]
  },
  {
   "attachments": {},
   "cell_type": "markdown",
   "metadata": {},
   "source": [
    "## Generating player list ranked by position"
   ]
  },
  {
   "cell_type": "code",
   "execution_count": 2,
   "metadata": {},
   "outputs": [],
   "source": [
    "players = get_players()"
   ]
  },
  {
   "cell_type": "code",
   "execution_count": 3,
   "metadata": {},
   "outputs": [],
   "source": [
    "positions = players['position'].unique()"
   ]
  },
  {
   "cell_type": "code",
   "execution_count": 4,
   "metadata": {},
   "outputs": [],
   "source": [
    "players_ranked = players.copy() \n",
    "players_ranked['rank'] = None\n",
    "\n",
    "for position in positions:\n",
    "    rank = players_ranked[players_ranked['position'] == position].id.rank(method='min')\n",
    "    rank = rank - 1\n",
    "    players_ranked.iloc[rank.index,-1] = rank\n",
    "\n",
    "columns_sorted = [\"rank\", \"nickname\", \"id\", \"position\", \"price\", \"team\", \"status\"]\n",
    "players_ranked = players_ranked[columns_sorted].drop_duplicates().sort_values('rank', ignore_index=True)"
   ]
  },
  {
   "cell_type": "code",
   "execution_count": 5,
   "metadata": {},
   "outputs": [
    {
     "data": {
      "text/html": [
       "<div>\n",
       "<style scoped>\n",
       "    .dataframe tbody tr th:only-of-type {\n",
       "        vertical-align: middle;\n",
       "    }\n",
       "\n",
       "    .dataframe tbody tr th {\n",
       "        vertical-align: top;\n",
       "    }\n",
       "\n",
       "    .dataframe thead th {\n",
       "        text-align: right;\n",
       "    }\n",
       "</style>\n",
       "<table border=\"1\" class=\"dataframe\">\n",
       "  <thead>\n",
       "    <tr style=\"text-align: right;\">\n",
       "      <th></th>\n",
       "      <th>rank</th>\n",
       "      <th>nickname</th>\n",
       "      <th>id</th>\n",
       "      <th>position</th>\n",
       "      <th>price</th>\n",
       "      <th>team</th>\n",
       "      <th>status</th>\n",
       "    </tr>\n",
       "  </thead>\n",
       "  <tbody>\n",
       "    <tr>\n",
       "      <th>0</th>\n",
       "      <td>0.0</td>\n",
       "      <td>Mano Menezes</td>\n",
       "      <td>37281</td>\n",
       "      <td>tec</td>\n",
       "      <td>8.48</td>\n",
       "      <td>FLU</td>\n",
       "      <td>Nulo</td>\n",
       "    </tr>\n",
       "    <tr>\n",
       "      <th>1</th>\n",
       "      <td>0.0</td>\n",
       "      <td>Rafinha</td>\n",
       "      <td>38144</td>\n",
       "      <td>lat</td>\n",
       "      <td>6.31</td>\n",
       "      <td>SAO</td>\n",
       "      <td>Nulo</td>\n",
       "    </tr>\n",
       "    <tr>\n",
       "      <th>2</th>\n",
       "      <td>0.0</td>\n",
       "      <td>Hulk</td>\n",
       "      <td>39148</td>\n",
       "      <td>ata</td>\n",
       "      <td>13.85</td>\n",
       "      <td>CAM</td>\n",
       "      <td>Provável</td>\n",
       "    </tr>\n",
       "    <tr>\n",
       "      <th>3</th>\n",
       "      <td>0.0</td>\n",
       "      <td>Fábio</td>\n",
       "      <td>37656</td>\n",
       "      <td>gol</td>\n",
       "      <td>7.99</td>\n",
       "      <td>FLU</td>\n",
       "      <td>Nulo</td>\n",
       "    </tr>\n",
       "    <tr>\n",
       "      <th>4</th>\n",
       "      <td>0.0</td>\n",
       "      <td>Renato Augusto</td>\n",
       "      <td>38398</td>\n",
       "      <td>mei</td>\n",
       "      <td>4.85</td>\n",
       "      <td>FLU</td>\n",
       "      <td>Nulo</td>\n",
       "    </tr>\n",
       "    <tr>\n",
       "      <th>5</th>\n",
       "      <td>0.0</td>\n",
       "      <td>Thiago Silva</td>\n",
       "      <td>37715</td>\n",
       "      <td>zag</td>\n",
       "      <td>10.00</td>\n",
       "      <td>FLU</td>\n",
       "      <td>Nulo</td>\n",
       "    </tr>\n",
       "    <tr>\n",
       "      <th>6</th>\n",
       "      <td>1.0</td>\n",
       "      <td>Cássio</td>\n",
       "      <td>42234</td>\n",
       "      <td>gol</td>\n",
       "      <td>11.40</td>\n",
       "      <td>CRU</td>\n",
       "      <td>Nulo</td>\n",
       "    </tr>\n",
       "    <tr>\n",
       "      <th>7</th>\n",
       "      <td>1.0</td>\n",
       "      <td>Vagner Mancini</td>\n",
       "      <td>39850</td>\n",
       "      <td>tec</td>\n",
       "      <td>7.62</td>\n",
       "      <td>ACG</td>\n",
       "      <td>Provável</td>\n",
       "    </tr>\n",
       "    <tr>\n",
       "      <th>8</th>\n",
       "      <td>1.0</td>\n",
       "      <td>Osvaldo</td>\n",
       "      <td>42222</td>\n",
       "      <td>ata</td>\n",
       "      <td>4.29</td>\n",
       "      <td>VIT</td>\n",
       "      <td>Dúvida</td>\n",
       "    </tr>\n",
       "    <tr>\n",
       "      <th>9</th>\n",
       "      <td>1.0</td>\n",
       "      <td>Marcelo</td>\n",
       "      <td>38402</td>\n",
       "      <td>lat</td>\n",
       "      <td>9.64</td>\n",
       "      <td>FLU</td>\n",
       "      <td>Nulo</td>\n",
       "    </tr>\n",
       "  </tbody>\n",
       "</table>\n",
       "</div>"
      ],
      "text/plain": [
       "  rank        nickname     id position  price team    status\n",
       "0  0.0    Mano Menezes  37281      tec   8.48  FLU      Nulo\n",
       "1  0.0         Rafinha  38144      lat   6.31  SAO      Nulo\n",
       "2  0.0            Hulk  39148      ata  13.85  CAM  Provável\n",
       "3  0.0           Fábio  37656      gol   7.99  FLU      Nulo\n",
       "4  0.0  Renato Augusto  38398      mei   4.85  FLU      Nulo\n",
       "5  0.0    Thiago Silva  37715      zag  10.00  FLU      Nulo\n",
       "6  1.0          Cássio  42234      gol  11.40  CRU      Nulo\n",
       "7  1.0  Vagner Mancini  39850      tec   7.62  ACG  Provável\n",
       "8  1.0         Osvaldo  42222      ata   4.29  VIT    Dúvida\n",
       "9  1.0         Marcelo  38402      lat   9.64  FLU      Nulo"
      ]
     },
     "execution_count": 5,
     "metadata": {},
     "output_type": "execute_result"
    }
   ],
   "source": [
    "players_ranked.head(10)"
   ]
  },
  {
   "attachments": {},
   "cell_type": "markdown",
   "metadata": {},
   "source": [
    "## Matches"
   ]
  },
  {
   "cell_type": "code",
   "execution_count": 6,
   "metadata": {},
   "outputs": [],
   "source": [
    "matches = get_matches()"
   ]
  },
  {
   "cell_type": "code",
   "execution_count": 7,
   "metadata": {},
   "outputs": [],
   "source": [
    "matches[\"home_score_norm\"] = matches[\"home_score\"]/matches[\"home_score\"].max()\n",
    "matches[\"away_score_norm\"] = matches[\"away_score\"]/matches[\"away_score\"].max()"
   ]
  },
  {
   "cell_type": "code",
   "execution_count": 8,
   "metadata": {},
   "outputs": [
    {
     "data": {
      "text/plain": [
       "(160, 8)"
      ]
     },
     "execution_count": 8,
     "metadata": {},
     "output_type": "execute_result"
    }
   ],
   "source": [
    "matches.shape"
   ]
  },
  {
   "cell_type": "code",
   "execution_count": 9,
   "metadata": {},
   "outputs": [
    {
     "data": {
      "text/html": [
       "<div>\n",
       "<style scoped>\n",
       "    .dataframe tbody tr th:only-of-type {\n",
       "        vertical-align: middle;\n",
       "    }\n",
       "\n",
       "    .dataframe tbody tr th {\n",
       "        vertical-align: top;\n",
       "    }\n",
       "\n",
       "    .dataframe thead th {\n",
       "        text-align: right;\n",
       "    }\n",
       "</style>\n",
       "<table border=\"1\" class=\"dataframe\">\n",
       "  <thead>\n",
       "    <tr style=\"text-align: right;\">\n",
       "      <th></th>\n",
       "      <th>date</th>\n",
       "      <th>home_team</th>\n",
       "      <th>away_team</th>\n",
       "      <th>home_score</th>\n",
       "      <th>away_score</th>\n",
       "      <th>round</th>\n",
       "      <th>home_score_norm</th>\n",
       "      <th>away_score_norm</th>\n",
       "    </tr>\n",
       "  </thead>\n",
       "  <tbody>\n",
       "    <tr>\n",
       "      <th>0</th>\n",
       "      <td>2024-04-13 18:30:00</td>\n",
       "      <td>INT</td>\n",
       "      <td>BAH</td>\n",
       "      <td>2.0</td>\n",
       "      <td>1.0</td>\n",
       "      <td>1</td>\n",
       "      <td>0.4</td>\n",
       "      <td>0.166667</td>\n",
       "    </tr>\n",
       "    <tr>\n",
       "      <th>1</th>\n",
       "      <td>2024-04-13 18:30:00</td>\n",
       "      <td>CRI</td>\n",
       "      <td>JUV</td>\n",
       "      <td>1.0</td>\n",
       "      <td>1.0</td>\n",
       "      <td>1</td>\n",
       "      <td>0.2</td>\n",
       "      <td>0.166667</td>\n",
       "    </tr>\n",
       "    <tr>\n",
       "      <th>2</th>\n",
       "      <td>2024-04-13 21:00:00</td>\n",
       "      <td>FLU</td>\n",
       "      <td>BGT</td>\n",
       "      <td>2.0</td>\n",
       "      <td>2.0</td>\n",
       "      <td>1</td>\n",
       "      <td>0.4</td>\n",
       "      <td>0.333333</td>\n",
       "    </tr>\n",
       "    <tr>\n",
       "      <th>3</th>\n",
       "      <td>2024-04-13 21:00:00</td>\n",
       "      <td>SAO</td>\n",
       "      <td>FOR</td>\n",
       "      <td>1.0</td>\n",
       "      <td>2.0</td>\n",
       "      <td>1</td>\n",
       "      <td>0.2</td>\n",
       "      <td>0.333333</td>\n",
       "    </tr>\n",
       "    <tr>\n",
       "      <th>4</th>\n",
       "      <td>2024-04-14 16:00:00</td>\n",
       "      <td>VAS</td>\n",
       "      <td>GRE</td>\n",
       "      <td>2.0</td>\n",
       "      <td>1.0</td>\n",
       "      <td>1</td>\n",
       "      <td>0.4</td>\n",
       "      <td>0.166667</td>\n",
       "    </tr>\n",
       "  </tbody>\n",
       "</table>\n",
       "</div>"
      ],
      "text/plain": [
       "                 date home_team away_team  home_score  away_score  round  \\\n",
       "0 2024-04-13 18:30:00       INT       BAH         2.0         1.0      1   \n",
       "1 2024-04-13 18:30:00       CRI       JUV         1.0         1.0      1   \n",
       "2 2024-04-13 21:00:00       FLU       BGT         2.0         2.0      1   \n",
       "3 2024-04-13 21:00:00       SAO       FOR         1.0         2.0      1   \n",
       "4 2024-04-14 16:00:00       VAS       GRE         2.0         1.0      1   \n",
       "\n",
       "   home_score_norm  away_score_norm  \n",
       "0              0.4         0.166667  \n",
       "1              0.2         0.166667  \n",
       "2              0.4         0.333333  \n",
       "3              0.2         0.333333  \n",
       "4              0.4         0.166667  "
      ]
     },
     "execution_count": 9,
     "metadata": {},
     "output_type": "execute_result"
    }
   ],
   "source": [
    "matches.head()"
   ]
  },
  {
   "cell_type": "code",
   "execution_count": 10,
   "metadata": {},
   "outputs": [
    {
     "data": {
      "text/plain": [
       "date               2024-07-11 21:30:00\n",
       "home_team                          VIT\n",
       "away_team                          BOT\n",
       "home_score                         0.0\n",
       "away_score                         1.0\n",
       "round                               16\n",
       "home_score_norm                    0.0\n",
       "away_score_norm               0.166667\n",
       "Name: 159, dtype: object"
      ]
     },
     "execution_count": 10,
     "metadata": {},
     "output_type": "execute_result"
    }
   ],
   "source": [
    "matches.iloc[-1]"
   ]
  },
  {
   "attachments": {},
   "cell_type": "markdown",
   "metadata": {},
   "source": [
    "Remark: RS teams didn't player last rounds"
   ]
  },
  {
   "cell_type": "code",
   "execution_count": 11,
   "metadata": {},
   "outputs": [],
   "source": [
    "matches = matches.dropna().reset_index()"
   ]
  },
  {
   "cell_type": "code",
   "execution_count": 12,
   "metadata": {},
   "outputs": [
    {
     "data": {
      "text/plain": [
       "(153, 9)"
      ]
     },
     "execution_count": 12,
     "metadata": {},
     "output_type": "execute_result"
    }
   ],
   "source": [
    "matches.shape"
   ]
  },
  {
   "attachments": {},
   "cell_type": "markdown",
   "metadata": {},
   "source": [
    "### Players performance"
   ]
  },
  {
   "cell_type": "code",
   "execution_count": 13,
   "metadata": {},
   "outputs": [],
   "source": [
    "players_performance = get_players_perfomance()"
   ]
  },
  {
   "cell_type": "code",
   "execution_count": 14,
   "metadata": {},
   "outputs": [],
   "source": [
    "players_performance = players_performance.drop(\n",
    "    [\"price\", \"nickname\", \"position\", \"team\"], axis=1)"
   ]
  },
  {
   "cell_type": "code",
   "execution_count": 15,
   "metadata": {},
   "outputs": [
    {
     "data": {
      "text/html": [
       "<div>\n",
       "<style scoped>\n",
       "    .dataframe tbody tr th:only-of-type {\n",
       "        vertical-align: middle;\n",
       "    }\n",
       "\n",
       "    .dataframe tbody tr th {\n",
       "        vertical-align: top;\n",
       "    }\n",
       "\n",
       "    .dataframe thead th {\n",
       "        text-align: right;\n",
       "    }\n",
       "</style>\n",
       "<table border=\"1\" class=\"dataframe\">\n",
       "  <thead>\n",
       "    <tr style=\"text-align: right;\">\n",
       "      <th></th>\n",
       "      <th>id</th>\n",
       "      <th>points</th>\n",
       "      <th>round</th>\n",
       "    </tr>\n",
       "  </thead>\n",
       "  <tbody>\n",
       "    <tr>\n",
       "      <th>0</th>\n",
       "      <td>100079</td>\n",
       "      <td>2.6</td>\n",
       "      <td>1</td>\n",
       "    </tr>\n",
       "    <tr>\n",
       "      <th>1</th>\n",
       "      <td>100084</td>\n",
       "      <td>1.4</td>\n",
       "      <td>1</td>\n",
       "    </tr>\n",
       "    <tr>\n",
       "      <th>2</th>\n",
       "      <td>100085</td>\n",
       "      <td>5.0</td>\n",
       "      <td>1</td>\n",
       "    </tr>\n",
       "    <tr>\n",
       "      <th>3</th>\n",
       "      <td>100652</td>\n",
       "      <td>1.3</td>\n",
       "      <td>1</td>\n",
       "    </tr>\n",
       "    <tr>\n",
       "      <th>4</th>\n",
       "      <td>100846</td>\n",
       "      <td>-1.5</td>\n",
       "      <td>1</td>\n",
       "    </tr>\n",
       "  </tbody>\n",
       "</table>\n",
       "</div>"
      ],
      "text/plain": [
       "       id  points  round\n",
       "0  100079     2.6      1\n",
       "1  100084     1.4      1\n",
       "2  100085     5.0      1\n",
       "3  100652     1.3      1\n",
       "4  100846    -1.5      1"
      ]
     },
     "execution_count": 15,
     "metadata": {},
     "output_type": "execute_result"
    }
   ],
   "source": [
    "players_performance.head()"
   ]
  },
  {
   "attachments": {},
   "cell_type": "markdown",
   "metadata": {},
   "source": [
    "Joining the above table with the players table, which contains the ranks"
   ]
  },
  {
   "cell_type": "code",
   "execution_count": 16,
   "metadata": {},
   "outputs": [],
   "source": [
    "players_performance = players_performance.set_index(\"id\").join(players_ranked.set_index(\"id\"))"
   ]
  },
  {
   "cell_type": "code",
   "execution_count": 17,
   "metadata": {},
   "outputs": [
    {
     "data": {
      "text/html": [
       "<div>\n",
       "<style scoped>\n",
       "    .dataframe tbody tr th:only-of-type {\n",
       "        vertical-align: middle;\n",
       "    }\n",
       "\n",
       "    .dataframe tbody tr th {\n",
       "        vertical-align: top;\n",
       "    }\n",
       "\n",
       "    .dataframe thead th {\n",
       "        text-align: right;\n",
       "    }\n",
       "</style>\n",
       "<table border=\"1\" class=\"dataframe\">\n",
       "  <thead>\n",
       "    <tr style=\"text-align: right;\">\n",
       "      <th></th>\n",
       "      <th>points</th>\n",
       "      <th>round</th>\n",
       "      <th>rank</th>\n",
       "      <th>nickname</th>\n",
       "      <th>position</th>\n",
       "      <th>price</th>\n",
       "      <th>team</th>\n",
       "      <th>status</th>\n",
       "    </tr>\n",
       "    <tr>\n",
       "      <th>id</th>\n",
       "      <th></th>\n",
       "      <th></th>\n",
       "      <th></th>\n",
       "      <th></th>\n",
       "      <th></th>\n",
       "      <th></th>\n",
       "      <th></th>\n",
       "      <th></th>\n",
       "    </tr>\n",
       "  </thead>\n",
       "  <tbody>\n",
       "    <tr>\n",
       "      <th>100079</th>\n",
       "      <td>2.6</td>\n",
       "      <td>1</td>\n",
       "      <td>102.0</td>\n",
       "      <td>Zaracho</td>\n",
       "      <td>mei</td>\n",
       "      <td>7.55</td>\n",
       "      <td>CAM</td>\n",
       "      <td>Nulo</td>\n",
       "    </tr>\n",
       "    <tr>\n",
       "      <th>100084</th>\n",
       "      <td>1.4</td>\n",
       "      <td>1</td>\n",
       "      <td>103.0</td>\n",
       "      <td>Igor Gomes</td>\n",
       "      <td>mei</td>\n",
       "      <td>5.22</td>\n",
       "      <td>CAM</td>\n",
       "      <td>Nulo</td>\n",
       "    </tr>\n",
       "    <tr>\n",
       "      <th>100085</th>\n",
       "      <td>5.0</td>\n",
       "      <td>1</td>\n",
       "      <td>104.0</td>\n",
       "      <td>Pedro Augusto</td>\n",
       "      <td>mei</td>\n",
       "      <td>4.30</td>\n",
       "      <td>FOR</td>\n",
       "      <td>Provável</td>\n",
       "    </tr>\n",
       "    <tr>\n",
       "      <th>100652</th>\n",
       "      <td>1.3</td>\n",
       "      <td>1</td>\n",
       "      <td>71.0</td>\n",
       "      <td>Yuri Alberto</td>\n",
       "      <td>ata</td>\n",
       "      <td>6.93</td>\n",
       "      <td>COR</td>\n",
       "      <td>Provável</td>\n",
       "    </tr>\n",
       "    <tr>\n",
       "      <th>100846</th>\n",
       "      <td>-1.5</td>\n",
       "      <td>1</td>\n",
       "      <td>49.0</td>\n",
       "      <td>Lucas Esteves</td>\n",
       "      <td>lat</td>\n",
       "      <td>3.87</td>\n",
       "      <td>VIT</td>\n",
       "      <td>Provável</td>\n",
       "    </tr>\n",
       "  </tbody>\n",
       "</table>\n",
       "</div>"
      ],
      "text/plain": [
       "        points  round   rank       nickname position  price team    status\n",
       "id                                                                        \n",
       "100079     2.6      1  102.0        Zaracho      mei   7.55  CAM      Nulo\n",
       "100084     1.4      1  103.0     Igor Gomes      mei   5.22  CAM      Nulo\n",
       "100085     5.0      1  104.0  Pedro Augusto      mei   4.30  FOR  Provável\n",
       "100652     1.3      1   71.0   Yuri Alberto      ata   6.93  COR  Provável\n",
       "100846    -1.5      1   49.0  Lucas Esteves      lat   3.87  VIT  Provável"
      ]
     },
     "execution_count": 17,
     "metadata": {},
     "output_type": "execute_result"
    }
   ],
   "source": [
    "players_performance.head()"
   ]
  },
  {
   "attachments": {},
   "cell_type": "markdown",
   "metadata": {},
   "source": [
    "**Remark**: The price column here can lead to confusion. This price was get from the market database. So, it is the current price of the player in the market.\n",
    "For this reason, I will rename the column: "
   ]
  },
  {
   "cell_type": "code",
   "execution_count": 18,
   "metadata": {},
   "outputs": [],
   "source": [
    "players_performance = players_performance.rename(columns={\"price\": \"current_price\"})"
   ]
  },
  {
   "cell_type": "code",
   "execution_count": 19,
   "metadata": {},
   "outputs": [
    {
     "data": {
      "text/plain": [
       "Index(['points', 'round', 'rank', 'nickname', 'position', 'current_price',\n",
       "       'team', 'status'],\n",
       "      dtype='object')"
      ]
     },
     "execution_count": 19,
     "metadata": {},
     "output_type": "execute_result"
    }
   ],
   "source": [
    "players_performance.columns"
   ]
  },
  {
   "cell_type": "code",
   "execution_count": 20,
   "metadata": {},
   "outputs": [
    {
     "data": {
      "text/plain": [
       "(4904, 8)"
      ]
     },
     "execution_count": 20,
     "metadata": {},
     "output_type": "execute_result"
    }
   ],
   "source": [
    "players_performance.shape"
   ]
  },
  {
   "attachments": {},
   "cell_type": "markdown",
   "metadata": {},
   "source": [
    "Removing player that are not available in the market"
   ]
  },
  {
   "cell_type": "code",
   "execution_count": 21,
   "metadata": {},
   "outputs": [],
   "source": [
    "players_performance.drop(\n",
    "    players_performance[players_performance['rank'].isnull()].index,\n",
    "    inplace=True)\n",
    "\n",
    "players_performance['rank'] = players_performance['rank'].astype(int)"
   ]
  },
  {
   "cell_type": "code",
   "execution_count": 22,
   "metadata": {},
   "outputs": [
    {
     "data": {
      "text/html": [
       "<div>\n",
       "<style scoped>\n",
       "    .dataframe tbody tr th:only-of-type {\n",
       "        vertical-align: middle;\n",
       "    }\n",
       "\n",
       "    .dataframe tbody tr th {\n",
       "        vertical-align: top;\n",
       "    }\n",
       "\n",
       "    .dataframe thead th {\n",
       "        text-align: right;\n",
       "    }\n",
       "</style>\n",
       "<table border=\"1\" class=\"dataframe\">\n",
       "  <thead>\n",
       "    <tr style=\"text-align: right;\">\n",
       "      <th></th>\n",
       "      <th>points</th>\n",
       "      <th>round</th>\n",
       "      <th>rank</th>\n",
       "      <th>nickname</th>\n",
       "      <th>position</th>\n",
       "      <th>current_price</th>\n",
       "      <th>team</th>\n",
       "      <th>status</th>\n",
       "    </tr>\n",
       "    <tr>\n",
       "      <th>id</th>\n",
       "      <th></th>\n",
       "      <th></th>\n",
       "      <th></th>\n",
       "      <th></th>\n",
       "      <th></th>\n",
       "      <th></th>\n",
       "      <th></th>\n",
       "      <th></th>\n",
       "    </tr>\n",
       "  </thead>\n",
       "  <tbody>\n",
       "    <tr>\n",
       "      <th>100079</th>\n",
       "      <td>2.6</td>\n",
       "      <td>1</td>\n",
       "      <td>102</td>\n",
       "      <td>Zaracho</td>\n",
       "      <td>mei</td>\n",
       "      <td>7.55</td>\n",
       "      <td>CAM</td>\n",
       "      <td>Nulo</td>\n",
       "    </tr>\n",
       "    <tr>\n",
       "      <th>100084</th>\n",
       "      <td>1.4</td>\n",
       "      <td>1</td>\n",
       "      <td>103</td>\n",
       "      <td>Igor Gomes</td>\n",
       "      <td>mei</td>\n",
       "      <td>5.22</td>\n",
       "      <td>CAM</td>\n",
       "      <td>Nulo</td>\n",
       "    </tr>\n",
       "    <tr>\n",
       "      <th>100085</th>\n",
       "      <td>5.0</td>\n",
       "      <td>1</td>\n",
       "      <td>104</td>\n",
       "      <td>Pedro Augusto</td>\n",
       "      <td>mei</td>\n",
       "      <td>4.30</td>\n",
       "      <td>FOR</td>\n",
       "      <td>Provável</td>\n",
       "    </tr>\n",
       "    <tr>\n",
       "      <th>100652</th>\n",
       "      <td>1.3</td>\n",
       "      <td>1</td>\n",
       "      <td>71</td>\n",
       "      <td>Yuri Alberto</td>\n",
       "      <td>ata</td>\n",
       "      <td>6.93</td>\n",
       "      <td>COR</td>\n",
       "      <td>Provável</td>\n",
       "    </tr>\n",
       "    <tr>\n",
       "      <th>100846</th>\n",
       "      <td>-1.5</td>\n",
       "      <td>1</td>\n",
       "      <td>49</td>\n",
       "      <td>Lucas Esteves</td>\n",
       "      <td>lat</td>\n",
       "      <td>3.87</td>\n",
       "      <td>VIT</td>\n",
       "      <td>Provável</td>\n",
       "    </tr>\n",
       "  </tbody>\n",
       "</table>\n",
       "</div>"
      ],
      "text/plain": [
       "        points  round  rank       nickname position  current_price team  \\\n",
       "id                                                                        \n",
       "100079     2.6      1   102        Zaracho      mei           7.55  CAM   \n",
       "100084     1.4      1   103     Igor Gomes      mei           5.22  CAM   \n",
       "100085     5.0      1   104  Pedro Augusto      mei           4.30  FOR   \n",
       "100652     1.3      1    71   Yuri Alberto      ata           6.93  COR   \n",
       "100846    -1.5      1    49  Lucas Esteves      lat           3.87  VIT   \n",
       "\n",
       "          status  \n",
       "id                \n",
       "100079      Nulo  \n",
       "100084      Nulo  \n",
       "100085  Provável  \n",
       "100652  Provável  \n",
       "100846  Provável  "
      ]
     },
     "execution_count": 22,
     "metadata": {},
     "output_type": "execute_result"
    }
   ],
   "source": [
    "players_performance.head()"
   ]
  },
  {
   "cell_type": "code",
   "execution_count": 23,
   "metadata": {},
   "outputs": [
    {
     "data": {
      "text/plain": [
       "(4824, 8)"
      ]
     },
     "execution_count": 23,
     "metadata": {},
     "output_type": "execute_result"
    }
   ],
   "source": [
    "players_performance.shape"
   ]
  },
  {
   "attachments": {},
   "cell_type": "markdown",
   "metadata": {},
   "source": [
    "## Transition matrix M between the states\n",
    "Until here, it is not clear for me yet what the states in this matrix means"
   ]
  },
  {
   "cell_type": "code",
   "execution_count": 24,
   "metadata": {},
   "outputs": [],
   "source": [
    "import numpy as np\n",
    "import matplotlib.pyplot as plt\n",
    "from matplotlib.colors import TwoSlopeNorm\n",
    "from typing import Literal, Callable, Tuple\n",
    "from numpy._typing import NDArray, ArrayLike"
   ]
  },
  {
   "cell_type": "code",
   "execution_count": 25,
   "metadata": {},
   "outputs": [],
   "source": [
    "def normalize_transition_matrix(m: NDArray) -> NDArray:\n",
    "    \"\"\".\"\"\"\n",
    "    M_norm = m.copy()\n",
    "    M_norm = M_norm / np.sum(M_norm, axis=1)[:, None] # Normalizing the rows.\n",
    "    M_norm = np.nan_to_num(M_norm, nan=1/M_norm.shape[0])  # Replacing no info rows with equally distributed probability\n",
    "    return M_norm"
   ]
  },
  {
   "cell_type": "code",
   "execution_count": 26,
   "metadata": {},
   "outputs": [],
   "source": [
    "def forward(home_goals: int, away_goals: int) -> Tuple[int, int]:\n",
    "    return home_goals, away_goals\n",
    "\n",
    "def defender(home_goals: int, away_goals: int):\n",
    "    home_extra_score, away_extra_score = 1, 1\n",
    "    if away_goals:\n",
    "        home_extra_score =- 1\n",
    "    if home_goals:\n",
    "        away_extra_score = -1\n",
    "    return home_extra_score, away_extra_score\n",
    "\n",
    "def midfilder(home_goals: int, away_goals: int) -> Tuple[int, int]:\n",
    "    forward_h, forward_a = forward(home_goals, away_goals)\n",
    "    defender_h, defender_a = defender(home_goals, away_goals)\n",
    "    return forward_h + defender_h, forward_a + defender_a\n",
    "\n",
    "def manager(*args) -> Tuple[int, int]:\n",
    "    return 0,0"
   ]
  },
  {
   "cell_type": "code",
   "execution_count": 27,
   "metadata": {},
   "outputs": [],
   "source": [
    "def generate_m_matrix(\n",
    "        position: Literal[\"ata\", \"mei\", \"zag\", \"tec\"], \n",
    "        extra_function: Callable[[int, int], Tuple[int, int]]\n",
    ") -> NDArray:\n",
    "    \"\"\".\"\"\"\n",
    "    players_performance_position = players_performance[\n",
    "        players_performance[\"position\"] == position\n",
    "        ].copy()\n",
    "\n",
    "    n_players = len(players_ranked[players_ranked[\"position\"] == position])\n",
    "    M = np.zeros([n_players, n_players])\n",
    "\n",
    "    # The match are labeled from 0 to len(matches)\n",
    "    for match in range(len(matches)):\n",
    "        # Selecting all players that played in the round where the match ocurred\n",
    "        df_round = players_performance_position[\n",
    "            players_performance_position[\"round\"] == matches[\"round\"][match]\n",
    "        ]\n",
    "        # Selecting the players that played in the given match\n",
    "        players_home = df_round[df_round[\"team\"] == matches[\"home_team\"][match]]\n",
    "        players_away = df_round[df_round[\"team\"] == matches[\"away_team\"][match]]\n",
    "\n",
    "        for p_home in range(len(players_home)):\n",
    "            for p_away in range(len(players_away)):\n",
    "                score_home, score_away = 0,0\n",
    "            \n",
    "                points_p_home = players_home[\"points\"].iloc[p_home]\n",
    "                points_p_away = players_away[\"points\"].iloc[p_away]\n",
    "\n",
    "                sum = points_p_home + points_p_away\n",
    "                if sum != 0:\n",
    "                    score_home = points_p_home/sum\n",
    "                    score_away = points_p_away/sum\n",
    "                \n",
    "                # Selecting the coordinates of each player in the matrix\n",
    "                p1 = players_home[\"rank\"].iloc[p_home]\n",
    "                p2 = players_away[\"rank\"].iloc[p_away]\n",
    "\n",
    "                home_extra_score, away_extra_score = extra_function(\n",
    "                    matches['home_score_norm'][match],\n",
    "                    matches['away_score_norm'][match]\n",
    "                )\n",
    "                home_extra_score, away_extra_score = 0,0\n",
    "\n",
    "                M[p1,p1] = M[p1,p1] + home_extra_score + score_home\n",
    "                M[p1,p2] = M[p1,p2] + away_extra_score + score_away\n",
    "                M[p2,p1] = M[p2,p1] + home_extra_score + score_home\n",
    "                M[p2,p2] = M[p2,p2] + away_extra_score + score_away\n",
    "    \n",
    "    # return normalize_transition_matrix(M)\n",
    "    return M\n"
   ]
  },
  {
   "cell_type": "code",
   "execution_count": 28,
   "metadata": {},
   "outputs": [],
   "source": [
    "def stacionary_distribution(m_norm: NDArray) -> ArrayLike:\n",
    "    \"\"\".\"\"\"\n",
    "    tolerances = [1e-10, 1e-4, 1e-3, 1e-2]\n",
    "    evals, evecs = np.linalg.eig(m_norm.T)\n",
    "    \n",
    "    for tol in tolerances:\n",
    "        try: # TODO: Change this to a size validation\n",
    "            # evec1 = evecs[:,np.isclose(evals, 1, rtol=0, atol=tol)] # Increase the tolerance a little\n",
    "            evec1 = evecs[:,np.isclose(evals, 1, rtol=0, atol=tol)] # Increase the tolerance a little\n",
    "            evec1 = evec1[:,0]\n",
    "        except:\n",
    "            print(f\"tolerance: {tol} didn't work\")\n",
    "            continue\n",
    "        stationary = evec1 / evec1.sum()\n",
    "        stationary = stationary.real\n",
    "        return stationary, evals, evecs"
   ]
  },
  {
   "cell_type": "code",
   "execution_count": 29,
   "metadata": {},
   "outputs": [],
   "source": [
    "out_data = {\n",
    "    \"gol\": {\"func\": defender},\n",
    "    \"zag\": {\"func\": defender},\n",
    "    \"lat\": {\"func\": defender},\n",
    "    \"mei\": {\"func\": midfilder},\n",
    "    \"ata\": {\"func\": forward},\n",
    "    \"tec\": {\"func\": manager}\n",
    "}"
   ]
  },
  {
   "cell_type": "code",
   "execution_count": 30,
   "metadata": {},
   "outputs": [
    {
     "name": "stderr",
     "output_type": "stream",
     "text": [
      "/tmp/ipykernel_1912/3863926212.py:4: RuntimeWarning: invalid value encountered in divide\n",
      "  M_norm = M_norm / np.sum(M_norm, axis=1)[:, None] # Normalizing the rows.\n"
     ]
    }
   ],
   "source": [
    "for position, content in out_data.items():\n",
    "    content['M'] = generate_m_matrix(position, content[\"func\"])\n",
    "    content['M_norm'] = normalize_transition_matrix(content['M'])\n",
    "    content[\"st_dist\"], *_ = stacionary_distribution(content['M_norm'])"
   ]
  },
  {
   "attachments": {},
   "cell_type": "markdown",
   "metadata": {},
   "source": [
    "Transiction matrix plot"
   ]
  },
  {
   "cell_type": "code",
   "execution_count": 31,
   "metadata": {},
   "outputs": [
    {
     "data": {
      "text/plain": [
       "<matplotlib.colorbar.Colorbar at 0x7f1ecfdac700>"
      ]
     },
     "execution_count": 31,
     "metadata": {},
     "output_type": "execute_result"
    },
    {
     "data": {
      "image/png": "[encoded data removed]",
      "text/plain": [
       "<Figure size 1500x1000 with 7 Axes>"
      ]
     },
     "metadata": {},
     "output_type": "display_data"
    }
   ],
   "source": [
    "fig, axes = plt.subplots(2, 3, figsize=(15, 10))\n",
    "axesli = axes.flatten()\n",
    "for i, key in enumerate(out_data):\n",
    "    im = axesli[i].imshow(out_data[key][\"M_norm\"], cmap='seismic', norm=TwoSlopeNorm(0))\n",
    "    axesli[i].set_title(key)\n",
    "\n",
    "fig.colorbar(im, ax=axes.ravel())\n"
   ]
  },
  {
   "attachments": {},
   "cell_type": "markdown",
   "metadata": {},
   "source": [
    "Stationary Distribution plot "
   ]
  },
  {
   "cell_type": "code",
   "execution_count": 32,
   "metadata": {},
   "outputs": [
    {
     "data": {
      "image/png": "[encoded data removed]",
      "text/plain": [
       "<Figure size 1500x1000 with 6 Axes>"
      ]
     },
     "metadata": {},
     "output_type": "display_data"
    }
   ],
   "source": [
    "fig, axes = plt.subplots(2, 3, figsize=(15, 10))\n",
    "axesli = axes.flatten()\n",
    "for i, key in enumerate(out_data):\n",
    "    im = axesli[i].hist(out_data[key][\"st_dist\"])\n",
    "    axesli[i].set_title(key)"
   ]
  },
  {
   "attachments": {},
   "cell_type": "markdown",
   "metadata": {},
   "source": [
    "### Overperfomance players for each position"
   ]
  },
  {
   "cell_type": "code",
   "execution_count": 33,
   "metadata": {},
   "outputs": [
    {
     "data": {
      "text/html": [
       "<div>\n",
       "<style scoped>\n",
       "    .dataframe tbody tr th:only-of-type {\n",
       "        vertical-align: middle;\n",
       "    }\n",
       "\n",
       "    .dataframe tbody tr th {\n",
       "        vertical-align: top;\n",
       "    }\n",
       "\n",
       "    .dataframe thead th {\n",
       "        text-align: right;\n",
       "    }\n",
       "</style>\n",
       "<table border=\"1\" class=\"dataframe\">\n",
       "  <thead>\n",
       "    <tr style=\"text-align: right;\">\n",
       "      <th></th>\n",
       "      <th>rank</th>\n",
       "      <th>nickname</th>\n",
       "      <th>id</th>\n",
       "      <th>position</th>\n",
       "      <th>price</th>\n",
       "      <th>team</th>\n",
       "      <th>status</th>\n",
       "    </tr>\n",
       "  </thead>\n",
       "  <tbody>\n",
       "    <tr>\n",
       "      <th>3</th>\n",
       "      <td>0.0</td>\n",
       "      <td>Fábio</td>\n",
       "      <td>37656</td>\n",
       "      <td>gol</td>\n",
       "      <td>7.99</td>\n",
       "      <td>FLU</td>\n",
       "      <td>Nulo</td>\n",
       "    </tr>\n",
       "    <tr>\n",
       "      <th>13</th>\n",
       "      <td>2.0</td>\n",
       "      <td>Walter</td>\n",
       "      <td>51413</td>\n",
       "      <td>gol</td>\n",
       "      <td>6.22</td>\n",
       "      <td>CUI</td>\n",
       "      <td>Nulo</td>\n",
       "    </tr>\n",
       "    <tr>\n",
       "      <th>75</th>\n",
       "      <td>12.0</td>\n",
       "      <td>Marchesín</td>\n",
       "      <td>70332</td>\n",
       "      <td>gol</td>\n",
       "      <td>5.67</td>\n",
       "      <td>GRE</td>\n",
       "      <td>Provável</td>\n",
       "    </tr>\n",
       "    <tr>\n",
       "      <th>82</th>\n",
       "      <td>13.0</td>\n",
       "      <td>Gabriel</td>\n",
       "      <td>70449</td>\n",
       "      <td>gol</td>\n",
       "      <td>5.23</td>\n",
       "      <td>JUV</td>\n",
       "      <td>Provável</td>\n",
       "    </tr>\n",
       "    <tr>\n",
       "      <th>84</th>\n",
       "      <td>14.0</td>\n",
       "      <td>Weverton</td>\n",
       "      <td>71631</td>\n",
       "      <td>gol</td>\n",
       "      <td>10.53</td>\n",
       "      <td>PAL</td>\n",
       "      <td>Provável</td>\n",
       "    </tr>\n",
       "  </tbody>\n",
       "</table>\n",
       "</div>"
      ],
      "text/plain": [
       "    rank   nickname     id position  price team    status\n",
       "3    0.0      Fábio  37656      gol   7.99  FLU      Nulo\n",
       "13   2.0     Walter  51413      gol   6.22  CUI      Nulo\n",
       "75  12.0  Marchesín  70332      gol   5.67  GRE  Provável\n",
       "82  13.0    Gabriel  70449      gol   5.23  JUV  Provável\n",
       "84  14.0   Weverton  71631      gol  10.53  PAL  Provável"
      ]
     },
     "execution_count": 33,
     "metadata": {},
     "output_type": "execute_result"
    }
   ],
   "source": [
    "position = 'gol'\n",
    "dist = out_data[position]['st_dist']\n",
    "deviation = dist.std()\n",
    "players_ranked[players_ranked.position==position][list(dist > deviation)].head()"
   ]
  },
  {
   "cell_type": "code",
   "execution_count": 34,
   "metadata": {},
   "outputs": [
    {
     "data": {
      "text/html": [
       "<div>\n",
       "<style scoped>\n",
       "    .dataframe tbody tr th:only-of-type {\n",
       "        vertical-align: middle;\n",
       "    }\n",
       "\n",
       "    .dataframe tbody tr th {\n",
       "        vertical-align: top;\n",
       "    }\n",
       "\n",
       "    .dataframe thead th {\n",
       "        text-align: right;\n",
       "    }\n",
       "</style>\n",
       "<table border=\"1\" class=\"dataframe\">\n",
       "  <thead>\n",
       "    <tr style=\"text-align: right;\">\n",
       "      <th></th>\n",
       "      <th>rank</th>\n",
       "      <th>nickname</th>\n",
       "      <th>id</th>\n",
       "      <th>position</th>\n",
       "      <th>price</th>\n",
       "      <th>team</th>\n",
       "      <th>status</th>\n",
       "    </tr>\n",
       "  </thead>\n",
       "  <tbody>\n",
       "    <tr>\n",
       "      <th>54</th>\n",
       "      <td>9.0</td>\n",
       "      <td>Pedro Henrique</td>\n",
       "      <td>71038</td>\n",
       "      <td>zag</td>\n",
       "      <td>4.40</td>\n",
       "      <td>ACG</td>\n",
       "      <td>Contundido</td>\n",
       "    </tr>\n",
       "    <tr>\n",
       "      <th>147</th>\n",
       "      <td>25.0</td>\n",
       "      <td>Léo Pereira</td>\n",
       "      <td>83528</td>\n",
       "      <td>zag</td>\n",
       "      <td>5.95</td>\n",
       "      <td>FLA</td>\n",
       "      <td>Nulo</td>\n",
       "    </tr>\n",
       "    <tr>\n",
       "      <th>476</th>\n",
       "      <td>94.0</td>\n",
       "      <td>Rômulo</td>\n",
       "      <td>115268</td>\n",
       "      <td>zag</td>\n",
       "      <td>2.28</td>\n",
       "      <td>CAM</td>\n",
       "      <td>Nulo</td>\n",
       "    </tr>\n",
       "    <tr>\n",
       "      <th>489</th>\n",
       "      <td>97.0</td>\n",
       "      <td>Robert Renan</td>\n",
       "      <td>117330</td>\n",
       "      <td>zag</td>\n",
       "      <td>7.44</td>\n",
       "      <td>INT</td>\n",
       "      <td>Nulo</td>\n",
       "    </tr>\n",
       "  </tbody>\n",
       "</table>\n",
       "</div>"
      ],
      "text/plain": [
       "     rank        nickname      id position  price team      status\n",
       "54    9.0  Pedro Henrique   71038      zag   4.40  ACG  Contundido\n",
       "147  25.0     Léo Pereira   83528      zag   5.95  FLA        Nulo\n",
       "476  94.0          Rômulo  115268      zag   2.28  CAM        Nulo\n",
       "489  97.0    Robert Renan  117330      zag   7.44  INT        Nulo"
      ]
     },
     "execution_count": 34,
     "metadata": {},
     "output_type": "execute_result"
    }
   ],
   "source": [
    "position = 'zag'\n",
    "dist = out_data[position]['st_dist']\n",
    "deviation = dist.std()\n",
    "players_ranked[players_ranked.position==position][list(dist > deviation)]"
   ]
  },
  {
   "cell_type": "code",
   "execution_count": 35,
   "metadata": {},
   "outputs": [
    {
     "data": {
      "text/html": [
       "<div>\n",
       "<style scoped>\n",
       "    .dataframe tbody tr th:only-of-type {\n",
       "        vertical-align: middle;\n",
       "    }\n",
       "\n",
       "    .dataframe tbody tr th {\n",
       "        vertical-align: top;\n",
       "    }\n",
       "\n",
       "    .dataframe thead th {\n",
       "        text-align: right;\n",
       "    }\n",
       "</style>\n",
       "<table border=\"1\" class=\"dataframe\">\n",
       "  <thead>\n",
       "    <tr style=\"text-align: right;\">\n",
       "      <th></th>\n",
       "      <th>rank</th>\n",
       "      <th>nickname</th>\n",
       "      <th>id</th>\n",
       "      <th>position</th>\n",
       "      <th>price</th>\n",
       "      <th>team</th>\n",
       "      <th>status</th>\n",
       "    </tr>\n",
       "  </thead>\n",
       "  <tbody>\n",
       "    <tr>\n",
       "      <th>9</th>\n",
       "      <td>1.0</td>\n",
       "      <td>Marcelo</td>\n",
       "      <td>38402</td>\n",
       "      <td>lat</td>\n",
       "      <td>9.64</td>\n",
       "      <td>FLU</td>\n",
       "      <td>Nulo</td>\n",
       "    </tr>\n",
       "    <tr>\n",
       "      <th>14</th>\n",
       "      <td>2.0</td>\n",
       "      <td>Mariano</td>\n",
       "      <td>38877</td>\n",
       "      <td>lat</td>\n",
       "      <td>4.18</td>\n",
       "      <td>CAM</td>\n",
       "      <td>Nulo</td>\n",
       "    </tr>\n",
       "    <tr>\n",
       "      <th>18</th>\n",
       "      <td>3.0</td>\n",
       "      <td>Fagner</td>\n",
       "      <td>42500</td>\n",
       "      <td>lat</td>\n",
       "      <td>6.97</td>\n",
       "      <td>COR</td>\n",
       "      <td>Nulo</td>\n",
       "    </tr>\n",
       "    <tr>\n",
       "      <th>26</th>\n",
       "      <td>4.0</td>\n",
       "      <td>Cicinho</td>\n",
       "      <td>61106</td>\n",
       "      <td>lat</td>\n",
       "      <td>4.17</td>\n",
       "      <td>BAH</td>\n",
       "      <td>Nulo</td>\n",
       "    </tr>\n",
       "    <tr>\n",
       "      <th>33</th>\n",
       "      <td>5.0</td>\n",
       "      <td>Marcos Rocha</td>\n",
       "      <td>63013</td>\n",
       "      <td>lat</td>\n",
       "      <td>7.41</td>\n",
       "      <td>PAL</td>\n",
       "      <td>Nulo</td>\n",
       "    </tr>\n",
       "  </tbody>\n",
       "</table>\n",
       "</div>"
      ],
      "text/plain": [
       "   rank      nickname     id position  price team status\n",
       "9   1.0       Marcelo  38402      lat   9.64  FLU   Nulo\n",
       "14  2.0       Mariano  38877      lat   4.18  CAM   Nulo\n",
       "18  3.0        Fagner  42500      lat   6.97  COR   Nulo\n",
       "26  4.0       Cicinho  61106      lat   4.17  BAH   Nulo\n",
       "33  5.0  Marcos Rocha  63013      lat   7.41  PAL   Nulo"
      ]
     },
     "execution_count": 35,
     "metadata": {},
     "output_type": "execute_result"
    }
   ],
   "source": [
    "position = 'lat'\n",
    "dist = out_data[position]['st_dist']\n",
    "deviation = dist.std()\n",
    "players_ranked[players_ranked.position==position][list(dist > 0)].head()"
   ]
  },
  {
   "cell_type": "code",
   "execution_count": 36,
   "metadata": {},
   "outputs": [
    {
     "data": {
      "text/html": [
       "<div>\n",
       "<style scoped>\n",
       "    .dataframe tbody tr th:only-of-type {\n",
       "        vertical-align: middle;\n",
       "    }\n",
       "\n",
       "    .dataframe tbody tr th {\n",
       "        vertical-align: top;\n",
       "    }\n",
       "\n",
       "    .dataframe thead th {\n",
       "        text-align: right;\n",
       "    }\n",
       "</style>\n",
       "<table border=\"1\" class=\"dataframe\">\n",
       "  <thead>\n",
       "    <tr style=\"text-align: right;\">\n",
       "      <th></th>\n",
       "      <th>rank</th>\n",
       "      <th>nickname</th>\n",
       "      <th>id</th>\n",
       "      <th>position</th>\n",
       "      <th>price</th>\n",
       "      <th>team</th>\n",
       "      <th>status</th>\n",
       "    </tr>\n",
       "  </thead>\n",
       "  <tbody>\n",
       "    <tr>\n",
       "      <th>16</th>\n",
       "      <td>2.0</td>\n",
       "      <td>Alan Franco</td>\n",
       "      <td>39656</td>\n",
       "      <td>mei</td>\n",
       "      <td>3.61</td>\n",
       "      <td>CAM</td>\n",
       "      <td>Provável</td>\n",
       "    </tr>\n",
       "    <tr>\n",
       "      <th>56</th>\n",
       "      <td>9.0</td>\n",
       "      <td>Eduardo</td>\n",
       "      <td>68708</td>\n",
       "      <td>mei</td>\n",
       "      <td>6.26</td>\n",
       "      <td>BOT</td>\n",
       "      <td>Contundido</td>\n",
       "    </tr>\n",
       "    <tr>\n",
       "      <th>114</th>\n",
       "      <td>19.0</td>\n",
       "      <td>Bruno Henrique</td>\n",
       "      <td>70944</td>\n",
       "      <td>mei</td>\n",
       "      <td>5.45</td>\n",
       "      <td>INT</td>\n",
       "      <td>Nulo</td>\n",
       "    </tr>\n",
       "    <tr>\n",
       "      <th>184</th>\n",
       "      <td>33.0</td>\n",
       "      <td>Jadson</td>\n",
       "      <td>80129</td>\n",
       "      <td>mei</td>\n",
       "      <td>9.81</td>\n",
       "      <td>JUV</td>\n",
       "      <td>Provável</td>\n",
       "    </tr>\n",
       "    <tr>\n",
       "      <th>216</th>\n",
       "      <td>39.0</td>\n",
       "      <td>Otávio</td>\n",
       "      <td>82463</td>\n",
       "      <td>mei</td>\n",
       "      <td>6.30</td>\n",
       "      <td>CAM</td>\n",
       "      <td>Provável</td>\n",
       "    </tr>\n",
       "  </tbody>\n",
       "</table>\n",
       "</div>"
      ],
      "text/plain": [
       "     rank        nickname     id position  price team      status\n",
       "16    2.0     Alan Franco  39656      mei   3.61  CAM    Provável\n",
       "56    9.0         Eduardo  68708      mei   6.26  BOT  Contundido\n",
       "114  19.0  Bruno Henrique  70944      mei   5.45  INT        Nulo\n",
       "184  33.0          Jadson  80129      mei   9.81  JUV    Provável\n",
       "216  39.0          Otávio  82463      mei   6.30  CAM    Provável"
      ]
     },
     "execution_count": 36,
     "metadata": {},
     "output_type": "execute_result"
    }
   ],
   "source": [
    "position = 'mei'\n",
    "dist = out_data[position]['st_dist']\n",
    "deviation = dist.std()\n",
    "players_ranked[players_ranked.position==position][list(dist > deviation)].head()"
   ]
  },
  {
   "cell_type": "code",
   "execution_count": 37,
   "metadata": {},
   "outputs": [
    {
     "data": {
      "text/html": [
       "<div>\n",
       "<style scoped>\n",
       "    .dataframe tbody tr th:only-of-type {\n",
       "        vertical-align: middle;\n",
       "    }\n",
       "\n",
       "    .dataframe tbody tr th {\n",
       "        vertical-align: top;\n",
       "    }\n",
       "\n",
       "    .dataframe thead th {\n",
       "        text-align: right;\n",
       "    }\n",
       "</style>\n",
       "<table border=\"1\" class=\"dataframe\">\n",
       "  <thead>\n",
       "    <tr style=\"text-align: right;\">\n",
       "      <th></th>\n",
       "      <th>rank</th>\n",
       "      <th>nickname</th>\n",
       "      <th>id</th>\n",
       "      <th>position</th>\n",
       "      <th>price</th>\n",
       "      <th>team</th>\n",
       "      <th>status</th>\n",
       "    </tr>\n",
       "  </thead>\n",
       "  <tbody>\n",
       "    <tr>\n",
       "      <th>2</th>\n",
       "      <td>0.0</td>\n",
       "      <td>Hulk</td>\n",
       "      <td>39148</td>\n",
       "      <td>ata</td>\n",
       "      <td>13.85</td>\n",
       "      <td>CAM</td>\n",
       "      <td>Provável</td>\n",
       "    </tr>\n",
       "    <tr>\n",
       "      <th>8</th>\n",
       "      <td>1.0</td>\n",
       "      <td>Osvaldo</td>\n",
       "      <td>42222</td>\n",
       "      <td>ata</td>\n",
       "      <td>4.29</td>\n",
       "      <td>VIT</td>\n",
       "      <td>Dúvida</td>\n",
       "    </tr>\n",
       "    <tr>\n",
       "      <th>57</th>\n",
       "      <td>9.0</td>\n",
       "      <td>Pablo</td>\n",
       "      <td>69138</td>\n",
       "      <td>ata</td>\n",
       "      <td>5.84</td>\n",
       "      <td>CAP</td>\n",
       "      <td>Nulo</td>\n",
       "    </tr>\n",
       "    <tr>\n",
       "      <th>92</th>\n",
       "      <td>15.0</td>\n",
       "      <td>Everaldo</td>\n",
       "      <td>78117</td>\n",
       "      <td>ata</td>\n",
       "      <td>8.14</td>\n",
       "      <td>BAH</td>\n",
       "      <td>Nulo</td>\n",
       "    </tr>\n",
       "    <tr>\n",
       "      <th>116</th>\n",
       "      <td>19.0</td>\n",
       "      <td>Luciano</td>\n",
       "      <td>80287</td>\n",
       "      <td>ata</td>\n",
       "      <td>10.91</td>\n",
       "      <td>SAO</td>\n",
       "      <td>Provável</td>\n",
       "    </tr>\n",
       "  </tbody>\n",
       "</table>\n",
       "</div>"
      ],
      "text/plain": [
       "     rank  nickname     id position  price team    status\n",
       "2     0.0      Hulk  39148      ata  13.85  CAM  Provável\n",
       "8     1.0   Osvaldo  42222      ata   4.29  VIT    Dúvida\n",
       "57    9.0     Pablo  69138      ata   5.84  CAP      Nulo\n",
       "92   15.0  Everaldo  78117      ata   8.14  BAH      Nulo\n",
       "116  19.0   Luciano  80287      ata  10.91  SAO  Provável"
      ]
     },
     "execution_count": 37,
     "metadata": {},
     "output_type": "execute_result"
    }
   ],
   "source": [
    "position = 'ata'\n",
    "dist = out_data[position]['st_dist']\n",
    "deviation = dist.std()\n",
    "players_ranked[players_ranked.position==position][list(dist > deviation)].head()"
   ]
  },
  {
   "cell_type": "code",
   "execution_count": 38,
   "metadata": {},
   "outputs": [
    {
     "data": {
      "text/html": [
       "<div>\n",
       "<style scoped>\n",
       "    .dataframe tbody tr th:only-of-type {\n",
       "        vertical-align: middle;\n",
       "    }\n",
       "\n",
       "    .dataframe tbody tr th {\n",
       "        vertical-align: top;\n",
       "    }\n",
       "\n",
       "    .dataframe thead th {\n",
       "        text-align: right;\n",
       "    }\n",
       "</style>\n",
       "<table border=\"1\" class=\"dataframe\">\n",
       "  <thead>\n",
       "    <tr style=\"text-align: right;\">\n",
       "      <th></th>\n",
       "      <th>rank</th>\n",
       "      <th>nickname</th>\n",
       "      <th>id</th>\n",
       "      <th>position</th>\n",
       "      <th>price</th>\n",
       "      <th>team</th>\n",
       "      <th>status</th>\n",
       "    </tr>\n",
       "  </thead>\n",
       "  <tbody>\n",
       "    <tr>\n",
       "      <th>19</th>\n",
       "      <td>3.0</td>\n",
       "      <td>Tite</td>\n",
       "      <td>45125</td>\n",
       "      <td>tec</td>\n",
       "      <td>10.42</td>\n",
       "      <td>FLA</td>\n",
       "      <td>Nulo</td>\n",
       "    </tr>\n",
       "    <tr>\n",
       "      <th>25</th>\n",
       "      <td>4.0</td>\n",
       "      <td>Cláudio Tencati</td>\n",
       "      <td>78450</td>\n",
       "      <td>tec</td>\n",
       "      <td>6.32</td>\n",
       "      <td>CRI</td>\n",
       "      <td>Provável</td>\n",
       "    </tr>\n",
       "    <tr>\n",
       "      <th>35</th>\n",
       "      <td>5.0</td>\n",
       "      <td>Roger Machado</td>\n",
       "      <td>79437</td>\n",
       "      <td>tec</td>\n",
       "      <td>7.98</td>\n",
       "      <td>JUV</td>\n",
       "      <td>Provável</td>\n",
       "    </tr>\n",
       "    <tr>\n",
       "      <th>38</th>\n",
       "      <td>6.0</td>\n",
       "      <td>Petit</td>\n",
       "      <td>89141</td>\n",
       "      <td>tec</td>\n",
       "      <td>6.35</td>\n",
       "      <td>CUI</td>\n",
       "      <td>Nulo</td>\n",
       "    </tr>\n",
       "    <tr>\n",
       "      <th>51</th>\n",
       "      <td>8.0</td>\n",
       "      <td>Gabriel Milito</td>\n",
       "      <td>96673</td>\n",
       "      <td>tec</td>\n",
       "      <td>8.88</td>\n",
       "      <td>CAM</td>\n",
       "      <td>Provável</td>\n",
       "    </tr>\n",
       "  </tbody>\n",
       "</table>\n",
       "</div>"
      ],
      "text/plain": [
       "   rank         nickname     id position  price team    status\n",
       "19  3.0             Tite  45125      tec  10.42  FLA      Nulo\n",
       "25  4.0  Cláudio Tencati  78450      tec   6.32  CRI  Provável\n",
       "35  5.0    Roger Machado  79437      tec   7.98  JUV  Provável\n",
       "38  6.0            Petit  89141      tec   6.35  CUI      Nulo\n",
       "51  8.0   Gabriel Milito  96673      tec   8.88  CAM  Provável"
      ]
     },
     "execution_count": 38,
     "metadata": {},
     "output_type": "execute_result"
    }
   ],
   "source": [
    "position = 'tec'\n",
    "dist = out_data[position]['st_dist']\n",
    "deviation = dist.std()\n",
    "players_ranked[players_ranked.position==position][list(dist > deviation)].head()"
   ]
  },
  {
   "attachments": {},
   "cell_type": "markdown",
   "metadata": {},
   "source": [
    "## Using linear programming to build the team"
   ]
  },
  {
   "attachments": {},
   "cell_type": "markdown",
   "metadata": {},
   "source": [
    "Adding probabilities in players on the market data"
   ]
  },
  {
   "cell_type": "code",
   "execution_count": 39,
   "metadata": {},
   "outputs": [],
   "source": [
    "df_players_anl = players_ranked.copy()\n",
    "df_players_anl['rank'] = df_players_anl['rank'].astype(int)\n",
    "df_players_anl['prob'] = 0.00"
   ]
  },
  {
   "cell_type": "code",
   "execution_count": 40,
   "metadata": {},
   "outputs": [],
   "source": [
    "def get_prob(df):\n",
    "    position = df['position']\n",
    "    rank = df['rank']\n",
    "    return out_data.get(position)[\"st_dist\"][int(rank)]"
   ]
  },
  {
   "cell_type": "code",
   "execution_count": 41,
   "metadata": {},
   "outputs": [],
   "source": [
    "df_players_anl['prob'] = df_players_anl.apply(get_prob, axis=1)"
   ]
  },
  {
   "cell_type": "code",
   "execution_count": 42,
   "metadata": {},
   "outputs": [
    {
     "data": {
      "text/html": [
       "<div>\n",
       "<style scoped>\n",
       "    .dataframe tbody tr th:only-of-type {\n",
       "        vertical-align: middle;\n",
       "    }\n",
       "\n",
       "    .dataframe tbody tr th {\n",
       "        vertical-align: top;\n",
       "    }\n",
       "\n",
       "    .dataframe thead th {\n",
       "        text-align: right;\n",
       "    }\n",
       "</style>\n",
       "<table border=\"1\" class=\"dataframe\">\n",
       "  <thead>\n",
       "    <tr style=\"text-align: right;\">\n",
       "      <th></th>\n",
       "      <th>rank</th>\n",
       "      <th>nickname</th>\n",
       "      <th>id</th>\n",
       "      <th>position</th>\n",
       "      <th>price</th>\n",
       "      <th>team</th>\n",
       "      <th>status</th>\n",
       "      <th>prob</th>\n",
       "    </tr>\n",
       "  </thead>\n",
       "  <tbody>\n",
       "    <tr>\n",
       "      <th>147</th>\n",
       "      <td>25</td>\n",
       "      <td>Léo Pereira</td>\n",
       "      <td>83528</td>\n",
       "      <td>zag</td>\n",
       "      <td>5.95</td>\n",
       "      <td>FLA</td>\n",
       "      <td>Nulo</td>\n",
       "      <td>10.989701</td>\n",
       "    </tr>\n",
       "    <tr>\n",
       "      <th>489</th>\n",
       "      <td>97</td>\n",
       "      <td>Robert Renan</td>\n",
       "      <td>117330</td>\n",
       "      <td>zag</td>\n",
       "      <td>7.44</td>\n",
       "      <td>INT</td>\n",
       "      <td>Nulo</td>\n",
       "      <td>7.724417</td>\n",
       "    </tr>\n",
       "    <tr>\n",
       "      <th>54</th>\n",
       "      <td>9</td>\n",
       "      <td>Pedro Henrique</td>\n",
       "      <td>71038</td>\n",
       "      <td>zag</td>\n",
       "      <td>4.40</td>\n",
       "      <td>ACG</td>\n",
       "      <td>Contundido</td>\n",
       "      <td>4.381443</td>\n",
       "    </tr>\n",
       "    <tr>\n",
       "      <th>476</th>\n",
       "      <td>94</td>\n",
       "      <td>Rômulo</td>\n",
       "      <td>115268</td>\n",
       "      <td>zag</td>\n",
       "      <td>2.28</td>\n",
       "      <td>CAM</td>\n",
       "      <td>Nulo</td>\n",
       "      <td>2.182513</td>\n",
       "    </tr>\n",
       "    <tr>\n",
       "      <th>166</th>\n",
       "      <td>29</td>\n",
       "      <td>Rodrigo</td>\n",
       "      <td>86684</td>\n",
       "      <td>zag</td>\n",
       "      <td>4.64</td>\n",
       "      <td>CRI</td>\n",
       "      <td>Provável</td>\n",
       "      <td>2.001326</td>\n",
       "    </tr>\n",
       "  </tbody>\n",
       "</table>\n",
       "</div>"
      ],
      "text/plain": [
       "     rank        nickname      id position  price team      status       prob\n",
       "147    25     Léo Pereira   83528      zag   5.95  FLA        Nulo  10.989701\n",
       "489    97    Robert Renan  117330      zag   7.44  INT        Nulo   7.724417\n",
       "54      9  Pedro Henrique   71038      zag   4.40  ACG  Contundido   4.381443\n",
       "476    94          Rômulo  115268      zag   2.28  CAM        Nulo   2.182513\n",
       "166    29         Rodrigo   86684      zag   4.64  CRI    Provável   2.001326"
      ]
     },
     "execution_count": 42,
     "metadata": {},
     "output_type": "execute_result"
    }
   ],
   "source": [
    "df_players_anl.sort_values('prob', ascending=False).head()"
   ]
  },
  {
   "attachments": {},
   "cell_type": "markdown",
   "metadata": {},
   "source": [
    "Lets remove probs that aren't between -1 and 1."
   ]
  },
  {
   "cell_type": "code",
   "execution_count": 43,
   "metadata": {},
   "outputs": [],
   "source": [
    "df_players_anl = df_players_anl[(df_players_anl['prob'] > -1) & (df_players_anl['prob'] < 1)]"
   ]
  },
  {
   "cell_type": "code",
   "execution_count": 44,
   "metadata": {},
   "outputs": [],
   "source": [
    "df_players_anl['nickname'] = df_players_anl['nickname'].str.replace(\" \", \"_\")\n",
    "df_players_likely = df_players_anl[df_players_anl.status == \"Provável\"]"
   ]
  },
  {
   "attachments": {},
   "cell_type": "markdown",
   "metadata": {},
   "source": [
    "### Giving extra probability points for the players that will play at home.\n",
    "\n",
    "I found this [study](https://www.scielo.br/j/rbcdh/a/wc9c38CkYs5NZJYSF6SpNJR/?format=pdf&lang=pt) who says that teams in brazillian championship has 25% more chance to win when playing at home;\n"
   ]
  },
  {
   "cell_type": "code",
   "execution_count": 45,
   "metadata": {},
   "outputs": [],
   "source": [
    "next_matches = get_next_match()"
   ]
  },
  {
   "cell_type": "code",
   "execution_count": 46,
   "metadata": {},
   "outputs": [],
   "source": [
    "home_team = next_matches[\"home_team\"].values"
   ]
  },
  {
   "cell_type": "code",
   "execution_count": 47,
   "metadata": {},
   "outputs": [
    {
     "data": {
      "text/plain": [
       "array(['INT', 'FLU', 'CRU', 'BAH', 'JUV', 'COR', 'ACG', 'SAO', 'BOT',\n",
       "       'FOR'], dtype=object)"
      ]
     },
     "execution_count": 47,
     "metadata": {},
     "output_type": "execute_result"
    }
   ],
   "source": [
    "home_team"
   ]
  },
  {
   "cell_type": "code",
   "execution_count": 48,
   "metadata": {},
   "outputs": [],
   "source": [
    "df_players_likely_bonus = df_players_likely.copy()"
   ]
  },
  {
   "cell_type": "code",
   "execution_count": 49,
   "metadata": {},
   "outputs": [],
   "source": [
    "df_players_likely_bonus.loc[df_players_likely_bonus.team.isin(home_team), 'prob'] *= 1.25"
   ]
  },
  {
   "cell_type": "code",
   "execution_count": 50,
   "metadata": {},
   "outputs": [
    {
     "data": {
      "text/html": [
       "<div>\n",
       "<style scoped>\n",
       "    .dataframe tbody tr th:only-of-type {\n",
       "        vertical-align: middle;\n",
       "    }\n",
       "\n",
       "    .dataframe tbody tr th {\n",
       "        vertical-align: top;\n",
       "    }\n",
       "\n",
       "    .dataframe thead th {\n",
       "        text-align: right;\n",
       "    }\n",
       "</style>\n",
       "<table border=\"1\" class=\"dataframe\">\n",
       "  <thead>\n",
       "    <tr style=\"text-align: right;\">\n",
       "      <th></th>\n",
       "      <th>rank</th>\n",
       "      <th>nickname</th>\n",
       "      <th>id</th>\n",
       "      <th>position</th>\n",
       "      <th>price</th>\n",
       "      <th>team</th>\n",
       "      <th>status</th>\n",
       "      <th>prob</th>\n",
       "    </tr>\n",
       "  </thead>\n",
       "  <tbody>\n",
       "    <tr>\n",
       "      <th>2</th>\n",
       "      <td>0</td>\n",
       "      <td>Hulk</td>\n",
       "      <td>39148</td>\n",
       "      <td>ata</td>\n",
       "      <td>13.85</td>\n",
       "      <td>CAM</td>\n",
       "      <td>Provável</td>\n",
       "      <td>0.011101</td>\n",
       "    </tr>\n",
       "    <tr>\n",
       "      <th>7</th>\n",
       "      <td>1</td>\n",
       "      <td>Vagner_Mancini</td>\n",
       "      <td>39850</td>\n",
       "      <td>tec</td>\n",
       "      <td>7.62</td>\n",
       "      <td>ACG</td>\n",
       "      <td>Provável</td>\n",
       "      <td>0.011753</td>\n",
       "    </tr>\n",
       "    <tr>\n",
       "      <th>16</th>\n",
       "      <td>2</td>\n",
       "      <td>Alan_Franco</td>\n",
       "      <td>39656</td>\n",
       "      <td>mei</td>\n",
       "      <td>3.61</td>\n",
       "      <td>CAM</td>\n",
       "      <td>Provável</td>\n",
       "      <td>0.137493</td>\n",
       "    </tr>\n",
       "    <tr>\n",
       "      <th>17</th>\n",
       "      <td>2</td>\n",
       "      <td>Renato_Gaúcho</td>\n",
       "      <td>41929</td>\n",
       "      <td>tec</td>\n",
       "      <td>7.94</td>\n",
       "      <td>GRE</td>\n",
       "      <td>Provável</td>\n",
       "      <td>0.025609</td>\n",
       "    </tr>\n",
       "    <tr>\n",
       "      <th>23</th>\n",
       "      <td>3</td>\n",
       "      <td>Titi</td>\n",
       "      <td>50353</td>\n",
       "      <td>zag</td>\n",
       "      <td>4.55</td>\n",
       "      <td>FOR</td>\n",
       "      <td>Provável</td>\n",
       "      <td>-0.530379</td>\n",
       "    </tr>\n",
       "  </tbody>\n",
       "</table>\n",
       "</div>"
      ],
      "text/plain": [
       "    rank        nickname     id position  price team    status      prob\n",
       "2      0            Hulk  39148      ata  13.85  CAM  Provável  0.011101\n",
       "7      1  Vagner_Mancini  39850      tec   7.62  ACG  Provável  0.011753\n",
       "16     2     Alan_Franco  39656      mei   3.61  CAM  Provável  0.137493\n",
       "17     2   Renato_Gaúcho  41929      tec   7.94  GRE  Provável  0.025609\n",
       "23     3            Titi  50353      zag   4.55  FOR  Provável -0.530379"
      ]
     },
     "execution_count": 50,
     "metadata": {},
     "output_type": "execute_result"
    }
   ],
   "source": [
    "df_players_likely_bonus.head()"
   ]
  },
  {
   "attachments": {},
   "cell_type": "markdown",
   "metadata": {},
   "source": [
    "### Optimization"
   ]
  },
  {
   "cell_type": "code",
   "execution_count": 51,
   "metadata": {},
   "outputs": [],
   "source": [
    "from pulp import LpMaximize, LpProblem, lpSum, LpVariable\n",
    "from itertools import product as  cartersian_product\n",
    "import pandas as pd"
   ]
  },
  {
   "cell_type": "code",
   "execution_count": 52,
   "metadata": {},
   "outputs": [],
   "source": [
    "# Team and money constraints\n",
    "team = {\n",
    "    'ata': 3,\n",
    "    'mei': 3,\n",
    "    'lat': 2,\n",
    "    'zag': 2,\n",
    "    'gol':1,\n",
    "    'tec':1\n",
    "}\n",
    "\n",
    "money = 106.76"
   ]
  },
  {
   "cell_type": "code",
   "execution_count": 53,
   "metadata": {},
   "outputs": [],
   "source": [
    "# Selecting the dataframe to use in the optimization\n",
    "df = df_players_likely_bonus.copy()"
   ]
  },
  {
   "cell_type": "code",
   "execution_count": 54,
   "metadata": {},
   "outputs": [
    {
     "data": {
      "text/html": [
       "<div>\n",
       "<style scoped>\n",
       "    .dataframe tbody tr th:only-of-type {\n",
       "        vertical-align: middle;\n",
       "    }\n",
       "\n",
       "    .dataframe tbody tr th {\n",
       "        vertical-align: top;\n",
       "    }\n",
       "\n",
       "    .dataframe thead th {\n",
       "        text-align: right;\n",
       "    }\n",
       "</style>\n",
       "<table border=\"1\" class=\"dataframe\">\n",
       "  <thead>\n",
       "    <tr style=\"text-align: right;\">\n",
       "      <th></th>\n",
       "      <th>rank</th>\n",
       "      <th>nickname</th>\n",
       "      <th>position</th>\n",
       "      <th>price</th>\n",
       "      <th>team</th>\n",
       "      <th>status</th>\n",
       "      <th>prob</th>\n",
       "    </tr>\n",
       "    <tr>\n",
       "      <th>id</th>\n",
       "      <th></th>\n",
       "      <th></th>\n",
       "      <th></th>\n",
       "      <th></th>\n",
       "      <th></th>\n",
       "      <th></th>\n",
       "      <th></th>\n",
       "    </tr>\n",
       "  </thead>\n",
       "  <tbody>\n",
       "    <tr>\n",
       "      <th>39148</th>\n",
       "      <td>0</td>\n",
       "      <td>Hulk</td>\n",
       "      <td>ata</td>\n",
       "      <td>13.85</td>\n",
       "      <td>CAM</td>\n",
       "      <td>Provável</td>\n",
       "      <td>0.011101</td>\n",
       "    </tr>\n",
       "    <tr>\n",
       "      <th>39850</th>\n",
       "      <td>1</td>\n",
       "      <td>Vagner_Mancini</td>\n",
       "      <td>tec</td>\n",
       "      <td>7.62</td>\n",
       "      <td>ACG</td>\n",
       "      <td>Provável</td>\n",
       "      <td>0.011753</td>\n",
       "    </tr>\n",
       "    <tr>\n",
       "      <th>39656</th>\n",
       "      <td>2</td>\n",
       "      <td>Alan_Franco</td>\n",
       "      <td>mei</td>\n",
       "      <td>3.61</td>\n",
       "      <td>CAM</td>\n",
       "      <td>Provável</td>\n",
       "      <td>0.137493</td>\n",
       "    </tr>\n",
       "    <tr>\n",
       "      <th>41929</th>\n",
       "      <td>2</td>\n",
       "      <td>Renato_Gaúcho</td>\n",
       "      <td>tec</td>\n",
       "      <td>7.94</td>\n",
       "      <td>GRE</td>\n",
       "      <td>Provável</td>\n",
       "      <td>0.025609</td>\n",
       "    </tr>\n",
       "    <tr>\n",
       "      <th>50353</th>\n",
       "      <td>3</td>\n",
       "      <td>Titi</td>\n",
       "      <td>zag</td>\n",
       "      <td>4.55</td>\n",
       "      <td>FOR</td>\n",
       "      <td>Provável</td>\n",
       "      <td>-0.530379</td>\n",
       "    </tr>\n",
       "  </tbody>\n",
       "</table>\n",
       "</div>"
      ],
      "text/plain": [
       "       rank        nickname position  price team    status      prob\n",
       "id                                                                  \n",
       "39148     0            Hulk      ata  13.85  CAM  Provável  0.011101\n",
       "39850     1  Vagner_Mancini      tec   7.62  ACG  Provável  0.011753\n",
       "39656     2     Alan_Franco      mei   3.61  CAM  Provável  0.137493\n",
       "41929     2   Renato_Gaúcho      tec   7.94  GRE  Provável  0.025609\n",
       "50353     3            Titi      zag   4.55  FOR  Provável -0.530379"
      ]
     },
     "execution_count": 54,
     "metadata": {},
     "output_type": "execute_result"
    }
   ],
   "source": [
    "df.set_index(\"id\", inplace=True)\n",
    "df.head()"
   ]
  },
  {
   "cell_type": "code",
   "execution_count": 55,
   "metadata": {},
   "outputs": [
    {
     "data": {
      "text/html": [
       "<div>\n",
       "<style scoped>\n",
       "    .dataframe tbody tr th:only-of-type {\n",
       "        vertical-align: middle;\n",
       "    }\n",
       "\n",
       "    .dataframe tbody tr th {\n",
       "        vertical-align: top;\n",
       "    }\n",
       "\n",
       "    .dataframe thead th {\n",
       "        text-align: right;\n",
       "    }\n",
       "</style>\n",
       "<table border=\"1\" class=\"dataframe\">\n",
       "  <thead>\n",
       "    <tr style=\"text-align: right;\">\n",
       "      <th></th>\n",
       "      <th>rank</th>\n",
       "      <th>nickname</th>\n",
       "      <th>position</th>\n",
       "      <th>price</th>\n",
       "      <th>team</th>\n",
       "      <th>status</th>\n",
       "      <th>prob</th>\n",
       "    </tr>\n",
       "    <tr>\n",
       "      <th>id</th>\n",
       "      <th></th>\n",
       "      <th></th>\n",
       "      <th></th>\n",
       "      <th></th>\n",
       "      <th></th>\n",
       "      <th></th>\n",
       "      <th></th>\n",
       "    </tr>\n",
       "  </thead>\n",
       "  <tbody>\n",
       "    <tr>\n",
       "      <th>101002</th>\n",
       "      <td>73</td>\n",
       "      <td>Júnior_Santos</td>\n",
       "      <td>ata</td>\n",
       "      <td>8.23</td>\n",
       "      <td>BOT</td>\n",
       "      <td>Provável</td>\n",
       "      <td>0.040508</td>\n",
       "    </tr>\n",
       "    <tr>\n",
       "      <th>112886</th>\n",
       "      <td>113</td>\n",
       "      <td>Lucas_Barbosa</td>\n",
       "      <td>ata</td>\n",
       "      <td>8.90</td>\n",
       "      <td>JUV</td>\n",
       "      <td>Provável</td>\n",
       "      <td>0.035906</td>\n",
       "    </tr>\n",
       "    <tr>\n",
       "      <th>91607</th>\n",
       "      <td>45</td>\n",
       "      <td>Rony</td>\n",
       "      <td>ata</td>\n",
       "      <td>7.03</td>\n",
       "      <td>PAL</td>\n",
       "      <td>Provável</td>\n",
       "      <td>0.034005</td>\n",
       "    </tr>\n",
       "    <tr>\n",
       "      <th>128915</th>\n",
       "      <td>168</td>\n",
       "      <td>Estêvão</td>\n",
       "      <td>ata</td>\n",
       "      <td>7.96</td>\n",
       "      <td>PAL</td>\n",
       "      <td>Provável</td>\n",
       "      <td>0.028158</td>\n",
       "    </tr>\n",
       "    <tr>\n",
       "      <th>80287</th>\n",
       "      <td>19</td>\n",
       "      <td>Luciano</td>\n",
       "      <td>ata</td>\n",
       "      <td>10.91</td>\n",
       "      <td>SAO</td>\n",
       "      <td>Provável</td>\n",
       "      <td>0.024175</td>\n",
       "    </tr>\n",
       "    <tr>\n",
       "      <th>99818</th>\n",
       "      <td>69</td>\n",
       "      <td>Paulinho</td>\n",
       "      <td>ata</td>\n",
       "      <td>13.16</td>\n",
       "      <td>CAM</td>\n",
       "      <td>Provável</td>\n",
       "      <td>0.022350</td>\n",
       "    </tr>\n",
       "    <tr>\n",
       "      <th>88323</th>\n",
       "      <td>33</td>\n",
       "      <td>Ángel_Romero</td>\n",
       "      <td>ata</td>\n",
       "      <td>5.45</td>\n",
       "      <td>COR</td>\n",
       "      <td>Provável</td>\n",
       "      <td>0.020539</td>\n",
       "    </tr>\n",
       "    <tr>\n",
       "      <th>99198</th>\n",
       "      <td>67</td>\n",
       "      <td>Vegetti</td>\n",
       "      <td>ata</td>\n",
       "      <td>12.74</td>\n",
       "      <td>VAS</td>\n",
       "      <td>Provável</td>\n",
       "      <td>0.020518</td>\n",
       "    </tr>\n",
       "    <tr>\n",
       "      <th>105568</th>\n",
       "      <td>89</td>\n",
       "      <td>Lucero</td>\n",
       "      <td>ata</td>\n",
       "      <td>10.79</td>\n",
       "      <td>FOR</td>\n",
       "      <td>Provável</td>\n",
       "      <td>0.019847</td>\n",
       "    </tr>\n",
       "    <tr>\n",
       "      <th>90715</th>\n",
       "      <td>42</td>\n",
       "      <td>Luiz_Fernando</td>\n",
       "      <td>ata</td>\n",
       "      <td>9.47</td>\n",
       "      <td>ACG</td>\n",
       "      <td>Provável</td>\n",
       "      <td>0.017468</td>\n",
       "    </tr>\n",
       "    <tr>\n",
       "      <th>89840</th>\n",
       "      <td>36</td>\n",
       "      <td>Calleri</td>\n",
       "      <td>ata</td>\n",
       "      <td>10.33</td>\n",
       "      <td>SAO</td>\n",
       "      <td>Provável</td>\n",
       "      <td>0.017431</td>\n",
       "    </tr>\n",
       "    <tr>\n",
       "      <th>101715</th>\n",
       "      <td>76</td>\n",
       "      <td>Alerrandro</td>\n",
       "      <td>ata</td>\n",
       "      <td>8.05</td>\n",
       "      <td>VIT</td>\n",
       "      <td>Provável</td>\n",
       "      <td>0.014850</td>\n",
       "    </tr>\n",
       "    <tr>\n",
       "      <th>93988</th>\n",
       "      <td>54</td>\n",
       "      <td>Breno_Lopes</td>\n",
       "      <td>ata</td>\n",
       "      <td>7.19</td>\n",
       "      <td>FOR</td>\n",
       "      <td>Provável</td>\n",
       "      <td>0.013970</td>\n",
       "    </tr>\n",
       "    <tr>\n",
       "      <th>84042</th>\n",
       "      <td>25</td>\n",
       "      <td>Tiquinho_Soares</td>\n",
       "      <td>ata</td>\n",
       "      <td>9.86</td>\n",
       "      <td>BOT</td>\n",
       "      <td>Provável</td>\n",
       "      <td>0.011630</td>\n",
       "    </tr>\n",
       "    <tr>\n",
       "      <th>39148</th>\n",
       "      <td>0</td>\n",
       "      <td>Hulk</td>\n",
       "      <td>ata</td>\n",
       "      <td>13.85</td>\n",
       "      <td>CAM</td>\n",
       "      <td>Provável</td>\n",
       "      <td>0.011101</td>\n",
       "    </tr>\n",
       "    <tr>\n",
       "      <th>98672</th>\n",
       "      <td>65</td>\n",
       "      <td>Savarino</td>\n",
       "      <td>ata</td>\n",
       "      <td>8.41</td>\n",
       "      <td>BOT</td>\n",
       "      <td>Provável</td>\n",
       "      <td>0.010304</td>\n",
       "    </tr>\n",
       "    <tr>\n",
       "      <th>117909</th>\n",
       "      <td>131</td>\n",
       "      <td>Wesley</td>\n",
       "      <td>ata</td>\n",
       "      <td>6.20</td>\n",
       "      <td>COR</td>\n",
       "      <td>Provável</td>\n",
       "      <td>0.009544</td>\n",
       "    </tr>\n",
       "    <tr>\n",
       "      <th>80337</th>\n",
       "      <td>20</td>\n",
       "      <td>Arthur_Caíke</td>\n",
       "      <td>ata</td>\n",
       "      <td>4.62</td>\n",
       "      <td>CRI</td>\n",
       "      <td>Provável</td>\n",
       "      <td>0.008814</td>\n",
       "    </tr>\n",
       "    <tr>\n",
       "      <th>101290</th>\n",
       "      <td>74</td>\n",
       "      <td>Ferreira</td>\n",
       "      <td>ata</td>\n",
       "      <td>8.73</td>\n",
       "      <td>SAO</td>\n",
       "      <td>Provável</td>\n",
       "      <td>0.008225</td>\n",
       "    </tr>\n",
       "    <tr>\n",
       "      <th>91908</th>\n",
       "      <td>46</td>\n",
       "      <td>Pavón</td>\n",
       "      <td>ata</td>\n",
       "      <td>6.44</td>\n",
       "      <td>GRE</td>\n",
       "      <td>Provável</td>\n",
       "      <td>0.008042</td>\n",
       "    </tr>\n",
       "    <tr>\n",
       "      <th>61188</th>\n",
       "      <td>4</td>\n",
       "      <td>Gilberto</td>\n",
       "      <td>ata</td>\n",
       "      <td>5.31</td>\n",
       "      <td>JUV</td>\n",
       "      <td>Provável</td>\n",
       "      <td>0.006554</td>\n",
       "    </tr>\n",
       "    <tr>\n",
       "      <th>89467</th>\n",
       "      <td>34</td>\n",
       "      <td>Erick</td>\n",
       "      <td>ata</td>\n",
       "      <td>6.31</td>\n",
       "      <td>JUV</td>\n",
       "      <td>Provável</td>\n",
       "      <td>0.006169</td>\n",
       "    </tr>\n",
       "    <tr>\n",
       "      <th>113103</th>\n",
       "      <td>115</td>\n",
       "      <td>Flaco_López</td>\n",
       "      <td>ata</td>\n",
       "      <td>7.84</td>\n",
       "      <td>PAL</td>\n",
       "      <td>Provável</td>\n",
       "      <td>0.003388</td>\n",
       "    </tr>\n",
       "    <tr>\n",
       "      <th>87258</th>\n",
       "      <td>31</td>\n",
       "      <td>Soteldo</td>\n",
       "      <td>ata</td>\n",
       "      <td>9.10</td>\n",
       "      <td>GRE</td>\n",
       "      <td>Provável</td>\n",
       "      <td>0.002780</td>\n",
       "    </tr>\n",
       "    <tr>\n",
       "      <th>100652</th>\n",
       "      <td>71</td>\n",
       "      <td>Yuri_Alberto</td>\n",
       "      <td>ata</td>\n",
       "      <td>6.93</td>\n",
       "      <td>COR</td>\n",
       "      <td>Provável</td>\n",
       "      <td>-0.001454</td>\n",
       "    </tr>\n",
       "  </tbody>\n",
       "</table>\n",
       "</div>"
      ],
      "text/plain": [
       "        rank         nickname position  price team    status      prob\n",
       "id                                                                    \n",
       "101002    73    Júnior_Santos      ata   8.23  BOT  Provável  0.040508\n",
       "112886   113    Lucas_Barbosa      ata   8.90  JUV  Provável  0.035906\n",
       "91607     45             Rony      ata   7.03  PAL  Provável  0.034005\n",
       "128915   168          Estêvão      ata   7.96  PAL  Provável  0.028158\n",
       "80287     19          Luciano      ata  10.91  SAO  Provável  0.024175\n",
       "99818     69         Paulinho      ata  13.16  CAM  Provável  0.022350\n",
       "88323     33     Ángel_Romero      ata   5.45  COR  Provável  0.020539\n",
       "99198     67          Vegetti      ata  12.74  VAS  Provável  0.020518\n",
       "105568    89           Lucero      ata  10.79  FOR  Provável  0.019847\n",
       "90715     42    Luiz_Fernando      ata   9.47  ACG  Provável  0.017468\n",
       "89840     36          Calleri      ata  10.33  SAO  Provável  0.017431\n",
       "101715    76       Alerrandro      ata   8.05  VIT  Provável  0.014850\n",
       "93988     54      Breno_Lopes      ata   7.19  FOR  Provável  0.013970\n",
       "84042     25  Tiquinho_Soares      ata   9.86  BOT  Provável  0.011630\n",
       "39148      0             Hulk      ata  13.85  CAM  Provável  0.011101\n",
       "98672     65         Savarino      ata   8.41  BOT  Provável  0.010304\n",
       "117909   131           Wesley      ata   6.20  COR  Provável  0.009544\n",
       "80337     20     Arthur_Caíke      ata   4.62  CRI  Provável  0.008814\n",
       "101290    74         Ferreira      ata   8.73  SAO  Provável  0.008225\n",
       "91908     46            Pavón      ata   6.44  GRE  Provável  0.008042\n",
       "61188      4         Gilberto      ata   5.31  JUV  Provável  0.006554\n",
       "89467     34            Erick      ata   6.31  JUV  Provável  0.006169\n",
       "113103   115      Flaco_López      ata   7.84  PAL  Provável  0.003388\n",
       "87258     31          Soteldo      ata   9.10  GRE  Provável  0.002780\n",
       "100652    71     Yuri_Alberto      ata   6.93  COR  Provável -0.001454"
      ]
     },
     "execution_count": 55,
     "metadata": {},
     "output_type": "execute_result"
    }
   ],
   "source": [
    "sorted = df.sort_values(by=['prob'], axis=0, ascending=False)\n",
    "sorted[sorted.position == \"ata\"]"
   ]
  },
  {
   "cell_type": "code",
   "execution_count": 56,
   "metadata": {},
   "outputs": [],
   "source": [
    "all_conflicts = []\n",
    "# Computing all combinations of players that will  play against\n",
    "for _, row in next_matches.iterrows(): # We just have 9 lines, it is not too bad use iterrows here\n",
    "    home_team, away_team = row['home_team'], row['away_team']\n",
    "    players_home = df[df['team'] == home_team].index.values\n",
    "    players_away = df[df['team'] == away_team].index.values\n",
    "    all_conflicts += list(cartersian_product(players_home, players_away))"
   ]
  },
  {
   "cell_type": "code",
   "execution_count": 57,
   "metadata": {},
   "outputs": [
    {
     "data": {
      "text/plain": [
       "650"
      ]
     },
     "execution_count": 57,
     "metadata": {},
     "output_type": "execute_result"
    }
   ],
   "source": [
    "len(all_conflicts)"
   ]
  },
  {
   "cell_type": "code",
   "execution_count": 58,
   "metadata": {},
   "outputs": [
    {
     "name": "stderr",
     "output_type": "stream",
     "text": [
      "/home/jucelio/.local/share/virtualenvs/mkv-cartola-AYh-Mpys/lib/python3.9/site-packages/pulp/pulp.py:1316: UserWarning: Spaces are not permitted in the name. Converted to '_'\n",
      "  warnings.warn(\"Spaces are not permitted in the name. Converted to '_'\")\n"
     ]
    }
   ],
   "source": [
    "z = df['prob'].to_dict()\n",
    "c = df['price'].to_dict()\n",
    "\n",
    "dummies_position = pd.get_dummies(df.position)\n",
    "dummies_position = dummies_position.to_dict()\n",
    "prob = LpProblem(\"Players CHoice\", LpMaximize)\n",
    "y = LpVariable.dicts(\"player_id\", df.index , 0,1, cat='Binary')\n",
    "prob += lpSum([z[i] * y[i] for i in y])"
   ]
  },
  {
   "cell_type": "code",
   "execution_count": 59,
   "metadata": {},
   "outputs": [],
   "source": [
    "prob += lpSum([c[i] * y[i] for i in y]) <= money, \"money_limit\"\n",
    "prob += lpSum([dummies_position['ata'][i] * y[i] for i in y]) == team['ata'], \"Quantidade Atacantes\"\n",
    "prob += lpSum([dummies_position['lat'][i] * y[i] for i in y]) == team['lat'], \"Quantidade Laterais\"\n",
    "prob += lpSum([dummies_position['mei'][i] * y[i] for i in y]) == team['mei'], \"Quantidade Meio\"\n",
    "prob += lpSum([dummies_position['zag'][i] * y[i] for i in y]) == team['zag'], \"Quantidade Zagueiros\"\n",
    "prob += lpSum([dummies_position['gol'][i] * y[i] for i in y]) == team['gol'], \"Quantidade Gol\"\n",
    "prob += lpSum([dummies_position['tec'][i] * y[i] for i in y]) == team['tec'], \"Quantidade Tecnico\"\n",
    "\n",
    "# Add the conflicts rule\n",
    "for i, j in all_conflicts:\n",
    "    prob += y[i] + y[j] <= 1"
   ]
  },
  {
   "cell_type": "code",
   "execution_count": 60,
   "metadata": {},
   "outputs": [
    {
     "data": {
      "text/plain": [
       "106.76"
      ]
     },
     "execution_count": 60,
     "metadata": {},
     "output_type": "execute_result"
    }
   ],
   "source": [
    "money"
   ]
  },
  {
   "cell_type": "code",
   "execution_count": 61,
   "metadata": {},
   "outputs": [
    {
     "name": "stdout",
     "output_type": "stream",
     "text": [
      "Welcome to the CBC MILP Solver \n",
      "Version: 2.10.3 \n",
      "Build Date: Dec 15 2019 \n",
      "\n",
      "command line - /home/jucelio/.local/share/virtualenvs/mkv-cartola-AYh-Mpys/lib/python3.9/site-packages/pulp/solverdir/cbc/linux/64/cbc /tmp/8078ed03c9e74b80894926aafba4cdff-pulp.mps -max -timeMode elapsed -branch -printingOptions all -solution /tmp/8078ed03c9e74b80894926aafba4cdff-pulp.sol (default strategy 1)\n",
      "At line 2 NAME          MODEL\n",
      "At line 3 ROWS\n",
      "At line 662 COLUMNS\n",
      "At line 2588 RHS\n",
      "At line 3246 BOUNDS\n",
      "At line 3372 ENDATA\n",
      "Problem MODEL has 657 rows, 125 columns and 1550 elements\n",
      "Coin0008I MODEL read with 0 errors\n",
      "Option for timeMode changed from cpu to elapsed\n",
      "Continuous objective value is 1.81056 - 0.00 seconds\n",
      "Cgl0003I 0 fixed, 0 tightened bounds, 11 strengthened rows, 0 substitutions\n",
      "Cgl0003I 0 fixed, 0 tightened bounds, 11 strengthened rows, 0 substitutions\n",
      "Cgl0003I 0 fixed, 0 tightened bounds, 11 strengthened rows, 0 substitutions\n",
      "Cgl0003I 0 fixed, 0 tightened bounds, 11 strengthened rows, 0 substitutions\n",
      "Cgl0003I 0 fixed, 0 tightened bounds, 11 strengthened rows, 0 substitutions\n",
      "Cgl0003I 0 fixed, 0 tightened bounds, 11 strengthened rows, 0 substitutions\n",
      "Cgl0003I 0 fixed, 0 tightened bounds, 11 strengthened rows, 0 substitutions\n",
      "Cgl0003I 0 fixed, 0 tightened bounds, 11 strengthened rows, 0 substitutions\n",
      "Cgl0003I 0 fixed, 0 tightened bounds, 7 strengthened rows, 0 substitutions\n",
      "Cgl0004I processed model has 657 rows, 125 columns (125 integer (125 of which binary)) and 1645 elements\n",
      "Cbc0038I Initial state - 0 integers unsatisfied sum - 3.33067e-16\n",
      "Cbc0038I Solution found of -1.81056\n",
      "Cbc0038I Before mini branch and bound, 125 integers at bound fixed and 0 continuous\n",
      "Cbc0038I Mini branch and bound did not improve solution (0.15 seconds)\n",
      "Cbc0038I After 0.15 seconds - Feasibility pump exiting with objective of -1.81056 - took 0.00 seconds\n",
      "Cbc0012I Integer solution of -1.8105641 found by feasibility pump after 0 iterations and 0 nodes (0.15 seconds)\n",
      "Cbc0001I Search completed - best objective -1.81056412079894, took 0 iterations and 0 nodes (0.15 seconds)\n",
      "Cbc0035I Maximum depth 0, 0 variables fixed on reduced cost\n",
      "Cuts at root node changed objective from -1.81056 to -1.81056\n",
      "Probing was tried 0 times and created 0 cuts of which 0 were active after adding rounds of cuts (0.000 seconds)\n",
      "Gomory was tried 0 times and created 0 cuts of which 0 were active after adding rounds of cuts (0.000 seconds)\n",
      "Knapsack was tried 0 times and created 0 cuts of which 0 were active after adding rounds of cuts (0.000 seconds)\n",
      "Clique was tried 0 times and created 0 cuts of which 0 were active after adding rounds of cuts (0.000 seconds)\n",
      "MixedIntegerRounding2 was tried 0 times and created 0 cuts of which 0 were active after adding rounds of cuts (0.000 seconds)\n",
      "FlowCover was tried 0 times and created 0 cuts of which 0 were active after adding rounds of cuts (0.000 seconds)\n",
      "TwoMirCuts was tried 0 times and created 0 cuts of which 0 were active after adding rounds of cuts (0.000 seconds)\n",
      "ZeroHalf was tried 0 times and created 0 cuts of which 0 were active after adding rounds of cuts (0.000 seconds)\n",
      "\n",
      "Result - Optimal solution found\n",
      "\n",
      "Objective value:                1.81056412\n",
      "Enumerated nodes:               0\n",
      "Total iterations:               0\n",
      "Time (CPU seconds):             0.11\n",
      "Time (Wallclock seconds):       0.16\n",
      "\n",
      "Option for printingOptions changed from normal to all\n",
      "Total time (CPU seconds):       0.12   (Wallclock seconds):       0.20\n",
      "\n"
     ]
    },
    {
     "data": {
      "text/plain": [
       "1"
      ]
     },
     "execution_count": 61,
     "metadata": {},
     "output_type": "execute_result"
    }
   ],
   "source": [
    "prob.solve()"
   ]
  },
  {
   "cell_type": "code",
   "execution_count": 62,
   "metadata": {},
   "outputs": [
    {
     "name": "stdout",
     "output_type": "stream",
     "text": [
      "101002 = 1.0\n",
      "104085 = 1.0\n",
      "104994 = 1.0\n",
      "127273 = 1.0\n",
      "39656 = 1.0\n",
      "80287 = 1.0\n",
      "82463 = 1.0\n",
      "87008 = 1.0\n",
      "87999 = 1.0\n",
      "95466 = 1.0\n",
      "97522 = 1.0\n",
      "99818 = 1.0\n"
     ]
    }
   ],
   "source": [
    "escalados = []\n",
    "for v in prob.variables():\n",
    "    if v.varValue == 1:\n",
    "        atleta = v.name.replace('player_id_','')\n",
    "        escalados.append(int(atleta))\n",
    "        print(atleta, \"=\", v.varValue)"
   ]
  },
  {
   "cell_type": "code",
   "execution_count": 63,
   "metadata": {},
   "outputs": [],
   "source": [
    "my_team = df.loc[escalados]"
   ]
  },
  {
   "cell_type": "code",
   "execution_count": 64,
   "metadata": {},
   "outputs": [
    {
     "data": {
      "text/html": [
       "<div>\n",
       "<style scoped>\n",
       "    .dataframe tbody tr th:only-of-type {\n",
       "        vertical-align: middle;\n",
       "    }\n",
       "\n",
       "    .dataframe tbody tr th {\n",
       "        vertical-align: top;\n",
       "    }\n",
       "\n",
       "    .dataframe thead th {\n",
       "        text-align: right;\n",
       "    }\n",
       "</style>\n",
       "<table border=\"1\" class=\"dataframe\">\n",
       "  <thead>\n",
       "    <tr style=\"text-align: right;\">\n",
       "      <th></th>\n",
       "      <th>rank</th>\n",
       "      <th>nickname</th>\n",
       "      <th>position</th>\n",
       "      <th>price</th>\n",
       "      <th>team</th>\n",
       "      <th>status</th>\n",
       "      <th>prob</th>\n",
       "    </tr>\n",
       "    <tr>\n",
       "      <th>id</th>\n",
       "      <th></th>\n",
       "      <th></th>\n",
       "      <th></th>\n",
       "      <th></th>\n",
       "      <th></th>\n",
       "      <th></th>\n",
       "      <th></th>\n",
       "    </tr>\n",
       "  </thead>\n",
       "  <tbody>\n",
       "    <tr>\n",
       "      <th>101002</th>\n",
       "      <td>73</td>\n",
       "      <td>Júnior_Santos</td>\n",
       "      <td>ata</td>\n",
       "      <td>8.23</td>\n",
       "      <td>BOT</td>\n",
       "      <td>Provável</td>\n",
       "      <td>0.040508</td>\n",
       "    </tr>\n",
       "    <tr>\n",
       "      <th>104085</th>\n",
       "      <td>69</td>\n",
       "      <td>Bruno_Fuchs</td>\n",
       "      <td>zag</td>\n",
       "      <td>4.44</td>\n",
       "      <td>CAM</td>\n",
       "      <td>Provável</td>\n",
       "      <td>0.186443</td>\n",
       "    </tr>\n",
       "    <tr>\n",
       "      <th>104994</th>\n",
       "      <td>73</td>\n",
       "      <td>Wagner_Leonardo</td>\n",
       "      <td>zag</td>\n",
       "      <td>5.01</td>\n",
       "      <td>VIT</td>\n",
       "      <td>Provável</td>\n",
       "      <td>0.784308</td>\n",
       "    </tr>\n",
       "    <tr>\n",
       "      <th>127273</th>\n",
       "      <td>17</td>\n",
       "      <td>Artur_Jorge</td>\n",
       "      <td>tec</td>\n",
       "      <td>9.00</td>\n",
       "      <td>BOT</td>\n",
       "      <td>Provável</td>\n",
       "      <td>0.123699</td>\n",
       "    </tr>\n",
       "    <tr>\n",
       "      <th>39656</th>\n",
       "      <td>2</td>\n",
       "      <td>Alan_Franco</td>\n",
       "      <td>mei</td>\n",
       "      <td>3.61</td>\n",
       "      <td>CAM</td>\n",
       "      <td>Provável</td>\n",
       "      <td>0.137493</td>\n",
       "    </tr>\n",
       "    <tr>\n",
       "      <th>80287</th>\n",
       "      <td>19</td>\n",
       "      <td>Luciano</td>\n",
       "      <td>ata</td>\n",
       "      <td>10.91</td>\n",
       "      <td>SAO</td>\n",
       "      <td>Provável</td>\n",
       "      <td>0.024175</td>\n",
       "    </tr>\n",
       "    <tr>\n",
       "      <th>82463</th>\n",
       "      <td>39</td>\n",
       "      <td>Otávio</td>\n",
       "      <td>mei</td>\n",
       "      <td>6.30</td>\n",
       "      <td>CAM</td>\n",
       "      <td>Provável</td>\n",
       "      <td>0.123841</td>\n",
       "    </tr>\n",
       "    <tr>\n",
       "      <th>87008</th>\n",
       "      <td>23</td>\n",
       "      <td>Léo_Jardim</td>\n",
       "      <td>gol</td>\n",
       "      <td>7.13</td>\n",
       "      <td>VAS</td>\n",
       "      <td>Provável</td>\n",
       "      <td>0.071244</td>\n",
       "    </tr>\n",
       "    <tr>\n",
       "      <th>87999</th>\n",
       "      <td>59</td>\n",
       "      <td>Gustavo_Scarpa</td>\n",
       "      <td>mei</td>\n",
       "      <td>11.57</td>\n",
       "      <td>CAM</td>\n",
       "      <td>Provável</td>\n",
       "      <td>0.192920</td>\n",
       "    </tr>\n",
       "    <tr>\n",
       "      <th>95466</th>\n",
       "      <td>37</td>\n",
       "      <td>Igor_Vinícius</td>\n",
       "      <td>lat</td>\n",
       "      <td>6.28</td>\n",
       "      <td>SAO</td>\n",
       "      <td>Provável</td>\n",
       "      <td>0.063762</td>\n",
       "    </tr>\n",
       "    <tr>\n",
       "      <th>97522</th>\n",
       "      <td>43</td>\n",
       "      <td>Willean_Lepo</td>\n",
       "      <td>lat</td>\n",
       "      <td>5.53</td>\n",
       "      <td>VIT</td>\n",
       "      <td>Provável</td>\n",
       "      <td>0.039821</td>\n",
       "    </tr>\n",
       "    <tr>\n",
       "      <th>99818</th>\n",
       "      <td>69</td>\n",
       "      <td>Paulinho</td>\n",
       "      <td>ata</td>\n",
       "      <td>13.16</td>\n",
       "      <td>CAM</td>\n",
       "      <td>Provável</td>\n",
       "      <td>0.022350</td>\n",
       "    </tr>\n",
       "  </tbody>\n",
       "</table>\n",
       "</div>"
      ],
      "text/plain": [
       "        rank         nickname position  price team    status      prob\n",
       "id                                                                    \n",
       "101002    73    Júnior_Santos      ata   8.23  BOT  Provável  0.040508\n",
       "104085    69      Bruno_Fuchs      zag   4.44  CAM  Provável  0.186443\n",
       "104994    73  Wagner_Leonardo      zag   5.01  VIT  Provável  0.784308\n",
       "127273    17      Artur_Jorge      tec   9.00  BOT  Provável  0.123699\n",
       "39656      2      Alan_Franco      mei   3.61  CAM  Provável  0.137493\n",
       "80287     19          Luciano      ata  10.91  SAO  Provável  0.024175\n",
       "82463     39           Otávio      mei   6.30  CAM  Provável  0.123841\n",
       "87008     23       Léo_Jardim      gol   7.13  VAS  Provável  0.071244\n",
       "87999     59   Gustavo_Scarpa      mei  11.57  CAM  Provável  0.192920\n",
       "95466     37    Igor_Vinícius      lat   6.28  SAO  Provável  0.063762\n",
       "97522     43     Willean_Lepo      lat   5.53  VIT  Provável  0.039821\n",
       "99818     69         Paulinho      ata  13.16  CAM  Provável  0.022350"
      ]
     },
     "execution_count": 64,
     "metadata": {},
     "output_type": "execute_result"
    }
   ],
   "source": [
    "my_team"
   ]
  },
  {
   "cell_type": "code",
   "execution_count": 65,
   "metadata": {},
   "outputs": [
    {
     "data": {
      "text/plain": [
       "91.16999999999999"
      ]
     },
     "execution_count": 65,
     "metadata": {},
     "output_type": "execute_result"
    }
   ],
   "source": [
    "my_team['price'].sum()"
   ]
  },
  {
   "cell_type": "code",
   "execution_count": 66,
   "metadata": {},
   "outputs": [
    {
     "data": {
      "text/html": [
       "<div>\n",
       "<style scoped>\n",
       "    .dataframe tbody tr th:only-of-type {\n",
       "        vertical-align: middle;\n",
       "    }\n",
       "\n",
       "    .dataframe tbody tr th {\n",
       "        vertical-align: top;\n",
       "    }\n",
       "\n",
       "    .dataframe thead th {\n",
       "        text-align: right;\n",
       "    }\n",
       "</style>\n",
       "<table border=\"1\" class=\"dataframe\">\n",
       "  <thead>\n",
       "    <tr style=\"text-align: right;\">\n",
       "      <th></th>\n",
       "      <th>rank</th>\n",
       "      <th>nickname</th>\n",
       "      <th>position</th>\n",
       "      <th>price</th>\n",
       "      <th>team</th>\n",
       "      <th>status</th>\n",
       "      <th>prob</th>\n",
       "    </tr>\n",
       "    <tr>\n",
       "      <th>id</th>\n",
       "      <th></th>\n",
       "      <th></th>\n",
       "      <th></th>\n",
       "      <th></th>\n",
       "      <th></th>\n",
       "      <th></th>\n",
       "      <th></th>\n",
       "    </tr>\n",
       "  </thead>\n",
       "  <tbody>\n",
       "    <tr>\n",
       "      <th>87999</th>\n",
       "      <td>59</td>\n",
       "      <td>Gustavo_Scarpa</td>\n",
       "      <td>mei</td>\n",
       "      <td>11.57</td>\n",
       "      <td>CAM</td>\n",
       "      <td>Provável</td>\n",
       "      <td>0.192920</td>\n",
       "    </tr>\n",
       "    <tr>\n",
       "      <th>39656</th>\n",
       "      <td>2</td>\n",
       "      <td>Alan_Franco</td>\n",
       "      <td>mei</td>\n",
       "      <td>3.61</td>\n",
       "      <td>CAM</td>\n",
       "      <td>Provável</td>\n",
       "      <td>0.137493</td>\n",
       "    </tr>\n",
       "    <tr>\n",
       "      <th>82463</th>\n",
       "      <td>39</td>\n",
       "      <td>Otávio</td>\n",
       "      <td>mei</td>\n",
       "      <td>6.30</td>\n",
       "      <td>CAM</td>\n",
       "      <td>Provável</td>\n",
       "      <td>0.123841</td>\n",
       "    </tr>\n",
       "    <tr>\n",
       "      <th>101002</th>\n",
       "      <td>73</td>\n",
       "      <td>Júnior_Santos</td>\n",
       "      <td>ata</td>\n",
       "      <td>8.23</td>\n",
       "      <td>BOT</td>\n",
       "      <td>Provável</td>\n",
       "      <td>0.040508</td>\n",
       "    </tr>\n",
       "    <tr>\n",
       "      <th>80287</th>\n",
       "      <td>19</td>\n",
       "      <td>Luciano</td>\n",
       "      <td>ata</td>\n",
       "      <td>10.91</td>\n",
       "      <td>SAO</td>\n",
       "      <td>Provável</td>\n",
       "      <td>0.024175</td>\n",
       "    </tr>\n",
       "    <tr>\n",
       "      <th>99818</th>\n",
       "      <td>69</td>\n",
       "      <td>Paulinho</td>\n",
       "      <td>ata</td>\n",
       "      <td>13.16</td>\n",
       "      <td>CAM</td>\n",
       "      <td>Provável</td>\n",
       "      <td>0.022350</td>\n",
       "    </tr>\n",
       "  </tbody>\n",
       "</table>\n",
       "</div>"
      ],
      "text/plain": [
       "        rank        nickname position  price team    status      prob\n",
       "id                                                                   \n",
       "87999     59  Gustavo_Scarpa      mei  11.57  CAM  Provável  0.192920\n",
       "39656      2     Alan_Franco      mei   3.61  CAM  Provável  0.137493\n",
       "82463     39          Otávio      mei   6.30  CAM  Provável  0.123841\n",
       "101002    73   Júnior_Santos      ata   8.23  BOT  Provável  0.040508\n",
       "80287     19         Luciano      ata  10.91  SAO  Provável  0.024175\n",
       "99818     69        Paulinho      ata  13.16  CAM  Provável  0.022350"
      ]
     },
     "execution_count": 66,
     "metadata": {},
     "output_type": "execute_result"
    }
   ],
   "source": [
    "# Captain\n",
    "my_team[my_team['position'].isin([\"ata\", \"mei\"])].sort_values('prob', axis=0, ascending=False)"
   ]
  },
  {
   "attachments": {},
   "cell_type": "markdown",
   "metadata": {},
   "source": [
    "TODO: \n",
    "- ~~Adicionar bonus para o caso do próximo jogo ser em casa;~~\n",
    "- Adicionar bonus para quem joga contra os últimos da tabela; ou a diferença entre as posições(?)\n",
    "- ~~Adicionar restrição para que os jogadores escalados não se enfrentem na rodada;~~\n",
    "- Adicionar minimização para escolher os melhores reservas;\n",
    "- Adicionar possibilidade de outras escalações;\n",
    "- ~~Adicionar método para a escolha do capitão.~~\n",
    "\n"
   ]
  },
  {
   "attachments": {},
   "cell_type": "markdown",
   "metadata": {},
   "source": [
    "## Model Results"
   ]
  },
  {
   "cell_type": "code",
   "execution_count": 67,
   "metadata": {},
   "outputs": [],
   "source": [
    "results = pd.read_csv(\"results/2024.csv\")"
   ]
  },
  {
   "cell_type": "code",
   "execution_count": 68,
   "metadata": {},
   "outputs": [
    {
     "data": {
      "text/plain": [
       "Index(['Rodada', 'Score', 'Players Mean', 'Money', 'Aditional Info'], dtype='object')"
      ]
     },
     "execution_count": 68,
     "metadata": {},
     "output_type": "execute_result"
    }
   ],
   "source": [
    "results.columns"
   ]
  },
  {
   "cell_type": "code",
   "execution_count": 69,
   "metadata": {},
   "outputs": [
    {
     "data": {
      "text/plain": [
       "<Axes: title={'center': 'Model Results'}, xlabel='Rodada'>"
      ]
     },
     "execution_count": 69,
     "metadata": {},
     "output_type": "execute_result"
    },
    {
     "data": {
      "image/png": "[encoded data removed]",
      "text/plain": [
       "<Figure size 640x480 with 1 Axes>"
      ]
     },
     "metadata": {},
     "output_type": "display_data"
    }
   ],
   "source": [
    "results.plot(x='Rodada', y=['Score', 'Players Mean', \"Money\"], title='Model Results')"
   ]
  }
 ],
 "metadata": {
  "kernelspec": {
   "display_name": "Python 3 (ipykernel)",
   "language": "python",
   "name": "python3"
  },
  "language_info": {
   "codemirror_mode": {
    "name": "ipython",
    "version": 3
   },
   "file_extension": ".py",
   "mimetype": "text/x-python",
   "name": "python",
   "nbconvert_exporter": "python",
   "pygments_lexer": "ipython3",
   "version": "3.9.5"
  }
 },
 "nbformat": 4,
 "nbformat_minor": 2
}
