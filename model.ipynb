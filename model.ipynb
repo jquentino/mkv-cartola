{
 "cells": [
  {
   "cell_type": "code",
   "execution_count": 1,
   "metadata": {},
   "outputs": [],
   "source": [
    "from utils.data_acquisition import get_players, get_matches, get_players_perfomance"
   ]
  },
  {
   "attachments": {},
   "cell_type": "markdown",
   "metadata": {},
   "source": [
    "## Generating player list ranked by position"
   ]
  },
  {
   "cell_type": "code",
   "execution_count": 2,
   "metadata": {},
   "outputs": [],
   "source": [
    "players = get_players()"
   ]
  },
  {
   "cell_type": "code",
   "execution_count": 3,
   "metadata": {},
   "outputs": [],
   "source": [
    "positions = players['position'].unique()"
   ]
  },
  {
   "cell_type": "code",
   "execution_count": 69,
   "metadata": {},
   "outputs": [],
   "source": [
    "players_ranked = players.copy() \n",
    "players_ranked['rank'] = None\n",
    "\n",
    "for position in positions:\n",
    "    rank = players_ranked[players_ranked['position'] == position].id.rank(method='min')\n",
    "    rank = rank - 1\n",
    "    players_ranked.iloc[rank.index,-1] = rank\n",
    "\n",
    "columns_sorted = [\"rank\", \"nickname\", \"id\", \"position\", \"price\", \"team\"]\n",
    "players_ranked = players_ranked[columns_sorted].drop_duplicates().sort_values('rank', ignore_index=True)"
   ]
  },
  {
   "cell_type": "code",
   "execution_count": 5,
   "metadata": {},
   "outputs": [
    {
     "data": {
      "text/html": [
       "<div>\n",
       "<style scoped>\n",
       "    .dataframe tbody tr th:only-of-type {\n",
       "        vertical-align: middle;\n",
       "    }\n",
       "\n",
       "    .dataframe tbody tr th {\n",
       "        vertical-align: top;\n",
       "    }\n",
       "\n",
       "    .dataframe thead th {\n",
       "        text-align: right;\n",
       "    }\n",
       "</style>\n",
       "<table border=\"1\" class=\"dataframe\">\n",
       "  <thead>\n",
       "    <tr style=\"text-align: right;\">\n",
       "      <th></th>\n",
       "      <th>rank</th>\n",
       "      <th>nickname</th>\n",
       "      <th>id</th>\n",
       "      <th>position</th>\n",
       "      <th>price</th>\n",
       "    </tr>\n",
       "  </thead>\n",
       "  <tbody>\n",
       "    <tr>\n",
       "      <th>0</th>\n",
       "      <td>0.0</td>\n",
       "      <td>Fábio</td>\n",
       "      <td>37656</td>\n",
       "      <td>gol</td>\n",
       "      <td>9.48</td>\n",
       "    </tr>\n",
       "    <tr>\n",
       "      <th>1</th>\n",
       "      <td>0.0</td>\n",
       "      <td>Vagner Love</td>\n",
       "      <td>38959</td>\n",
       "      <td>ata</td>\n",
       "      <td>5.10</td>\n",
       "    </tr>\n",
       "    <tr>\n",
       "      <th>2</th>\n",
       "      <td>0.0</td>\n",
       "      <td>Rafinha</td>\n",
       "      <td>38144</td>\n",
       "      <td>lat</td>\n",
       "      <td>7.00</td>\n",
       "    </tr>\n",
       "    <tr>\n",
       "      <th>3</th>\n",
       "      <td>0.0</td>\n",
       "      <td>Thiago Heleno</td>\n",
       "      <td>38394</td>\n",
       "      <td>zag</td>\n",
       "      <td>6.53</td>\n",
       "    </tr>\n",
       "    <tr>\n",
       "      <th>4</th>\n",
       "      <td>0.0</td>\n",
       "      <td>Renato Augusto</td>\n",
       "      <td>38398</td>\n",
       "      <td>mei</td>\n",
       "      <td>7.78</td>\n",
       "    </tr>\n",
       "    <tr>\n",
       "      <th>5</th>\n",
       "      <td>0.0</td>\n",
       "      <td>Léo Condé</td>\n",
       "      <td>37457</td>\n",
       "      <td>tec</td>\n",
       "      <td>4.44</td>\n",
       "    </tr>\n",
       "    <tr>\n",
       "      <th>6</th>\n",
       "      <td>1.0</td>\n",
       "      <td>Felipe Melo</td>\n",
       "      <td>38545</td>\n",
       "      <td>zag</td>\n",
       "      <td>4.46</td>\n",
       "    </tr>\n",
       "    <tr>\n",
       "      <th>7</th>\n",
       "      <td>1.0</td>\n",
       "      <td>Hulk</td>\n",
       "      <td>39148</td>\n",
       "      <td>ata</td>\n",
       "      <td>14.21</td>\n",
       "    </tr>\n",
       "    <tr>\n",
       "      <th>8</th>\n",
       "      <td>1.0</td>\n",
       "      <td>Nenê</td>\n",
       "      <td>38913</td>\n",
       "      <td>mei</td>\n",
       "      <td>3.95</td>\n",
       "    </tr>\n",
       "    <tr>\n",
       "      <th>9</th>\n",
       "      <td>1.0</td>\n",
       "      <td>Marcelo</td>\n",
       "      <td>38402</td>\n",
       "      <td>lat</td>\n",
       "      <td>11.22</td>\n",
       "    </tr>\n",
       "  </tbody>\n",
       "</table>\n",
       "</div>"
      ],
      "text/plain": [
       "  rank        nickname     id position  price\n",
       "0  0.0           Fábio  37656      gol   9.48\n",
       "1  0.0     Vagner Love  38959      ata   5.10\n",
       "2  0.0         Rafinha  38144      lat   7.00\n",
       "3  0.0   Thiago Heleno  38394      zag   6.53\n",
       "4  0.0  Renato Augusto  38398      mei   7.78\n",
       "5  0.0       Léo Condé  37457      tec   4.44\n",
       "6  1.0     Felipe Melo  38545      zag   4.46\n",
       "7  1.0            Hulk  39148      ata  14.21\n",
       "8  1.0            Nenê  38913      mei   3.95\n",
       "9  1.0         Marcelo  38402      lat  11.22"
      ]
     },
     "execution_count": 5,
     "metadata": {},
     "output_type": "execute_result"
    }
   ],
   "source": [
    "players_ranked.head(10)"
   ]
  },
  {
   "attachments": {},
   "cell_type": "markdown",
   "metadata": {},
   "source": [
    "## Matches"
   ]
  },
  {
   "cell_type": "code",
   "execution_count": 6,
   "metadata": {},
   "outputs": [],
   "source": [
    "matches = get_matches()"
   ]
  },
  {
   "cell_type": "code",
   "execution_count": 7,
   "metadata": {},
   "outputs": [],
   "source": [
    "matches[\"home_score_norm\"] = matches[\"home_score\"]/matches[\"home_score\"].max()\n",
    "matches[\"away_score_norm\"] = matches[\"away_score\"]/matches[\"away_score\"].max()"
   ]
  },
  {
   "cell_type": "code",
   "execution_count": 8,
   "metadata": {},
   "outputs": [
    {
     "data": {
      "text/plain": [
       "(50, 8)"
      ]
     },
     "execution_count": 8,
     "metadata": {},
     "output_type": "execute_result"
    }
   ],
   "source": [
    "matches.shape"
   ]
  },
  {
   "cell_type": "code",
   "execution_count": 9,
   "metadata": {},
   "outputs": [
    {
     "data": {
      "text/html": [
       "<div>\n",
       "<style scoped>\n",
       "    .dataframe tbody tr th:only-of-type {\n",
       "        vertical-align: middle;\n",
       "    }\n",
       "\n",
       "    .dataframe tbody tr th {\n",
       "        vertical-align: top;\n",
       "    }\n",
       "\n",
       "    .dataframe thead th {\n",
       "        text-align: right;\n",
       "    }\n",
       "</style>\n",
       "<table border=\"1\" class=\"dataframe\">\n",
       "  <thead>\n",
       "    <tr style=\"text-align: right;\">\n",
       "      <th></th>\n",
       "      <th>date</th>\n",
       "      <th>home_team</th>\n",
       "      <th>away_team</th>\n",
       "      <th>home_score</th>\n",
       "      <th>away_score</th>\n",
       "      <th>round</th>\n",
       "      <th>home_score_norm</th>\n",
       "      <th>away_score_norm</th>\n",
       "    </tr>\n",
       "  </thead>\n",
       "  <tbody>\n",
       "    <tr>\n",
       "      <th>0</th>\n",
       "      <td>2024-04-13 18:30:00</td>\n",
       "      <td>INT</td>\n",
       "      <td>BAH</td>\n",
       "      <td>2.0</td>\n",
       "      <td>1.0</td>\n",
       "      <td>1</td>\n",
       "      <td>0.4</td>\n",
       "      <td>0.25</td>\n",
       "    </tr>\n",
       "    <tr>\n",
       "      <th>1</th>\n",
       "      <td>2024-04-13 18:30:00</td>\n",
       "      <td>CRI</td>\n",
       "      <td>JUV</td>\n",
       "      <td>1.0</td>\n",
       "      <td>1.0</td>\n",
       "      <td>1</td>\n",
       "      <td>0.2</td>\n",
       "      <td>0.25</td>\n",
       "    </tr>\n",
       "    <tr>\n",
       "      <th>2</th>\n",
       "      <td>2024-04-13 21:00:00</td>\n",
       "      <td>FLU</td>\n",
       "      <td>BGT</td>\n",
       "      <td>2.0</td>\n",
       "      <td>2.0</td>\n",
       "      <td>1</td>\n",
       "      <td>0.4</td>\n",
       "      <td>0.50</td>\n",
       "    </tr>\n",
       "    <tr>\n",
       "      <th>3</th>\n",
       "      <td>2024-04-13 21:00:00</td>\n",
       "      <td>SAO</td>\n",
       "      <td>FOR</td>\n",
       "      <td>1.0</td>\n",
       "      <td>2.0</td>\n",
       "      <td>1</td>\n",
       "      <td>0.2</td>\n",
       "      <td>0.50</td>\n",
       "    </tr>\n",
       "    <tr>\n",
       "      <th>4</th>\n",
       "      <td>2024-04-14 16:00:00</td>\n",
       "      <td>VAS</td>\n",
       "      <td>GRE</td>\n",
       "      <td>2.0</td>\n",
       "      <td>1.0</td>\n",
       "      <td>1</td>\n",
       "      <td>0.4</td>\n",
       "      <td>0.25</td>\n",
       "    </tr>\n",
       "  </tbody>\n",
       "</table>\n",
       "</div>"
      ],
      "text/plain": [
       "                 date home_team away_team  home_score  away_score  round  \\\n",
       "0 2024-04-13 18:30:00       INT       BAH         2.0         1.0      1   \n",
       "1 2024-04-13 18:30:00       CRI       JUV         1.0         1.0      1   \n",
       "2 2024-04-13 21:00:00       FLU       BGT         2.0         2.0      1   \n",
       "3 2024-04-13 21:00:00       SAO       FOR         1.0         2.0      1   \n",
       "4 2024-04-14 16:00:00       VAS       GRE         2.0         1.0      1   \n",
       "\n",
       "   home_score_norm  away_score_norm  \n",
       "0              0.4             0.25  \n",
       "1              0.2             0.25  \n",
       "2              0.4             0.50  \n",
       "3              0.2             0.50  \n",
       "4              0.4             0.25  "
      ]
     },
     "execution_count": 9,
     "metadata": {},
     "output_type": "execute_result"
    }
   ],
   "source": [
    "matches.head()"
   ]
  },
  {
   "cell_type": "code",
   "execution_count": 10,
   "metadata": {},
   "outputs": [
    {
     "data": {
      "text/plain": [
       "date               2024-05-06 20:00:00\n",
       "home_team                          JUV\n",
       "away_team                          ACG\n",
       "home_score                         NaN\n",
       "away_score                         NaN\n",
       "round                                5\n",
       "home_score_norm                    NaN\n",
       "away_score_norm                    NaN\n",
       "Name: 49, dtype: object"
      ]
     },
     "execution_count": 10,
     "metadata": {},
     "output_type": "execute_result"
    }
   ],
   "source": [
    "matches.iloc[-1]"
   ]
  },
  {
   "attachments": {},
   "cell_type": "markdown",
   "metadata": {},
   "source": [
    "Remark: RS teams didn't player last rounds"
   ]
  },
  {
   "cell_type": "code",
   "execution_count": 11,
   "metadata": {},
   "outputs": [],
   "source": [
    "matches = matches.dropna().reset_index()"
   ]
  },
  {
   "cell_type": "code",
   "execution_count": 12,
   "metadata": {},
   "outputs": [
    {
     "data": {
      "text/plain": [
       "(45, 9)"
      ]
     },
     "execution_count": 12,
     "metadata": {},
     "output_type": "execute_result"
    }
   ],
   "source": [
    "matches.shape"
   ]
  },
  {
   "attachments": {},
   "cell_type": "markdown",
   "metadata": {},
   "source": [
    "### Players performance"
   ]
  },
  {
   "cell_type": "code",
   "execution_count": 13,
   "metadata": {},
   "outputs": [],
   "source": [
    "players_performance = get_players_perfomance()"
   ]
  },
  {
   "cell_type": "code",
   "execution_count": 14,
   "metadata": {},
   "outputs": [],
   "source": [
    "players_performance = players_performance.drop(\n",
    "    [\"price\", \"nickname\", \"position\"], axis=1)"
   ]
  },
  {
   "cell_type": "code",
   "execution_count": 15,
   "metadata": {},
   "outputs": [
    {
     "data": {
      "text/html": [
       "<div>\n",
       "<style scoped>\n",
       "    .dataframe tbody tr th:only-of-type {\n",
       "        vertical-align: middle;\n",
       "    }\n",
       "\n",
       "    .dataframe tbody tr th {\n",
       "        vertical-align: top;\n",
       "    }\n",
       "\n",
       "    .dataframe thead th {\n",
       "        text-align: right;\n",
       "    }\n",
       "</style>\n",
       "<table border=\"1\" class=\"dataframe\">\n",
       "  <thead>\n",
       "    <tr style=\"text-align: right;\">\n",
       "      <th></th>\n",
       "      <th>id</th>\n",
       "      <th>team</th>\n",
       "      <th>points</th>\n",
       "      <th>round</th>\n",
       "    </tr>\n",
       "  </thead>\n",
       "  <tbody>\n",
       "    <tr>\n",
       "      <th>0</th>\n",
       "      <td>100079</td>\n",
       "      <td>CAM</td>\n",
       "      <td>2.6</td>\n",
       "      <td>1</td>\n",
       "    </tr>\n",
       "    <tr>\n",
       "      <th>1</th>\n",
       "      <td>100084</td>\n",
       "      <td>CAM</td>\n",
       "      <td>1.4</td>\n",
       "      <td>1</td>\n",
       "    </tr>\n",
       "    <tr>\n",
       "      <th>2</th>\n",
       "      <td>100085</td>\n",
       "      <td>FOR</td>\n",
       "      <td>5.0</td>\n",
       "      <td>1</td>\n",
       "    </tr>\n",
       "    <tr>\n",
       "      <th>3</th>\n",
       "      <td>100652</td>\n",
       "      <td>COR</td>\n",
       "      <td>1.3</td>\n",
       "      <td>1</td>\n",
       "    </tr>\n",
       "    <tr>\n",
       "      <th>4</th>\n",
       "      <td>100846</td>\n",
       "      <td>VIT</td>\n",
       "      <td>-1.5</td>\n",
       "      <td>1</td>\n",
       "    </tr>\n",
       "  </tbody>\n",
       "</table>\n",
       "</div>"
      ],
      "text/plain": [
       "       id team  points  round\n",
       "0  100079  CAM     2.6      1\n",
       "1  100084  CAM     1.4      1\n",
       "2  100085  FOR     5.0      1\n",
       "3  100652  COR     1.3      1\n",
       "4  100846  VIT    -1.5      1"
      ]
     },
     "execution_count": 15,
     "metadata": {},
     "output_type": "execute_result"
    }
   ],
   "source": [
    "players_performance.head()"
   ]
  },
  {
   "attachments": {},
   "cell_type": "markdown",
   "metadata": {},
   "source": [
    "Joining the above table with the players table, which contains the ranks"
   ]
  },
  {
   "cell_type": "code",
   "execution_count": 16,
   "metadata": {},
   "outputs": [],
   "source": [
    "players_performance = players_performance.set_index(\"id\").join(players_ranked.set_index(\"id\"))"
   ]
  },
  {
   "cell_type": "code",
   "execution_count": 17,
   "metadata": {},
   "outputs": [
    {
     "data": {
      "text/html": [
       "<div>\n",
       "<style scoped>\n",
       "    .dataframe tbody tr th:only-of-type {\n",
       "        vertical-align: middle;\n",
       "    }\n",
       "\n",
       "    .dataframe tbody tr th {\n",
       "        vertical-align: top;\n",
       "    }\n",
       "\n",
       "    .dataframe thead th {\n",
       "        text-align: right;\n",
       "    }\n",
       "</style>\n",
       "<table border=\"1\" class=\"dataframe\">\n",
       "  <thead>\n",
       "    <tr style=\"text-align: right;\">\n",
       "      <th></th>\n",
       "      <th>team</th>\n",
       "      <th>points</th>\n",
       "      <th>round</th>\n",
       "      <th>rank</th>\n",
       "      <th>nickname</th>\n",
       "      <th>position</th>\n",
       "      <th>price</th>\n",
       "    </tr>\n",
       "    <tr>\n",
       "      <th>id</th>\n",
       "      <th></th>\n",
       "      <th></th>\n",
       "      <th></th>\n",
       "      <th></th>\n",
       "      <th></th>\n",
       "      <th></th>\n",
       "      <th></th>\n",
       "    </tr>\n",
       "  </thead>\n",
       "  <tbody>\n",
       "    <tr>\n",
       "      <th>100079</th>\n",
       "      <td>CAM</td>\n",
       "      <td>2.6</td>\n",
       "      <td>1</td>\n",
       "      <td>95.0</td>\n",
       "      <td>Zaracho</td>\n",
       "      <td>mei</td>\n",
       "      <td>8.03</td>\n",
       "    </tr>\n",
       "    <tr>\n",
       "      <th>100084</th>\n",
       "      <td>CAM</td>\n",
       "      <td>1.4</td>\n",
       "      <td>1</td>\n",
       "      <td>96.0</td>\n",
       "      <td>Igor Gomes</td>\n",
       "      <td>mei</td>\n",
       "      <td>5.43</td>\n",
       "    </tr>\n",
       "    <tr>\n",
       "      <th>100085</th>\n",
       "      <td>FOR</td>\n",
       "      <td>5.0</td>\n",
       "      <td>1</td>\n",
       "      <td>97.0</td>\n",
       "      <td>Pedro Augusto</td>\n",
       "      <td>mei</td>\n",
       "      <td>3.75</td>\n",
       "    </tr>\n",
       "    <tr>\n",
       "      <th>100652</th>\n",
       "      <td>COR</td>\n",
       "      <td>1.3</td>\n",
       "      <td>1</td>\n",
       "      <td>72.0</td>\n",
       "      <td>Yuri Alberto</td>\n",
       "      <td>ata</td>\n",
       "      <td>6.06</td>\n",
       "    </tr>\n",
       "    <tr>\n",
       "      <th>100846</th>\n",
       "      <td>VIT</td>\n",
       "      <td>-1.5</td>\n",
       "      <td>1</td>\n",
       "      <td>50.0</td>\n",
       "      <td>Lucas Esteves</td>\n",
       "      <td>lat</td>\n",
       "      <td>2.66</td>\n",
       "    </tr>\n",
       "  </tbody>\n",
       "</table>\n",
       "</div>"
      ],
      "text/plain": [
       "       team  points  round  rank       nickname position  price\n",
       "id                                                             \n",
       "100079  CAM     2.6      1  95.0        Zaracho      mei   8.03\n",
       "100084  CAM     1.4      1  96.0     Igor Gomes      mei   5.43\n",
       "100085  FOR     5.0      1  97.0  Pedro Augusto      mei   3.75\n",
       "100652  COR     1.3      1  72.0   Yuri Alberto      ata   6.06\n",
       "100846  VIT    -1.5      1  50.0  Lucas Esteves      lat   2.66"
      ]
     },
     "execution_count": 17,
     "metadata": {},
     "output_type": "execute_result"
    }
   ],
   "source": [
    "players_performance.head()"
   ]
  },
  {
   "attachments": {},
   "cell_type": "markdown",
   "metadata": {},
   "source": [
    "**Remark**: The price column here can lead to confusion. This price was get from the market database. So, it is the current price of the player in the market.\n",
    "For this reason, I will rename the column: "
   ]
  },
  {
   "cell_type": "code",
   "execution_count": 18,
   "metadata": {},
   "outputs": [],
   "source": [
    "players_performance = players_performance.rename(columns={\"price\": \"current_price\"})"
   ]
  },
  {
   "cell_type": "code",
   "execution_count": 19,
   "metadata": {},
   "outputs": [
    {
     "data": {
      "text/plain": [
       "Index(['team', 'points', 'round', 'rank', 'nickname', 'position',\n",
       "       'current_price'],\n",
       "      dtype='object')"
      ]
     },
     "execution_count": 19,
     "metadata": {},
     "output_type": "execute_result"
    }
   ],
   "source": [
    "players_performance.columns"
   ]
  },
  {
   "cell_type": "code",
   "execution_count": 20,
   "metadata": {},
   "outputs": [
    {
     "data": {
      "text/plain": [
       "(1499, 7)"
      ]
     },
     "execution_count": 20,
     "metadata": {},
     "output_type": "execute_result"
    }
   ],
   "source": [
    "players_performance.shape"
   ]
  },
  {
   "attachments": {},
   "cell_type": "markdown",
   "metadata": {},
   "source": [
    "Removing player that are not available in the market"
   ]
  },
  {
   "cell_type": "code",
   "execution_count": 21,
   "metadata": {},
   "outputs": [],
   "source": [
    "players_performance.drop(\n",
    "    players_performance[players_performance['rank'].isnull()].index,\n",
    "    inplace=True)\n",
    "\n",
    "players_performance['rank'] = players_performance['rank'].astype(int)"
   ]
  },
  {
   "cell_type": "code",
   "execution_count": 22,
   "metadata": {},
   "outputs": [
    {
     "data": {
      "text/plain": [
       "(1487, 7)"
      ]
     },
     "execution_count": 22,
     "metadata": {},
     "output_type": "execute_result"
    }
   ],
   "source": [
    "players_performance.shape"
   ]
  },
  {
   "attachments": {},
   "cell_type": "markdown",
   "metadata": {},
   "source": [
    "## Transction matrix M between the states\n",
    "Until here, it is not clear for me yet what the states in this matrix means"
   ]
  },
  {
   "cell_type": "code",
   "execution_count": 23,
   "metadata": {},
   "outputs": [],
   "source": [
    "import numpy as np\n",
    "import matplotlib.pyplot as plt\n",
    "from matplotlib.colors import TwoSlopeNorm"
   ]
  },
  {
   "attachments": {},
   "cell_type": "markdown",
   "metadata": {},
   "source": [
    "Doing for Attackers"
   ]
  },
  {
   "cell_type": "code",
   "execution_count": 24,
   "metadata": {},
   "outputs": [],
   "source": [
    "position = \"ata\"\n",
    "\n",
    "players_performance_position = players_performance[\n",
    "    players_performance[\"position\"] == position\n",
    "    ].copy()\n",
    "\n",
    "n_players = len(players_ranked[players_ranked[\"position\"] == position])\n",
    "M = np.zeros([n_players, n_players])"
   ]
  },
  {
   "cell_type": "code",
   "execution_count": 25,
   "metadata": {},
   "outputs": [
    {
     "data": {
      "text/plain": [
       "(177, 177)"
      ]
     },
     "execution_count": 25,
     "metadata": {},
     "output_type": "execute_result"
    }
   ],
   "source": [
    "M.shape"
   ]
  },
  {
   "cell_type": "code",
   "execution_count": 26,
   "metadata": {},
   "outputs": [],
   "source": [
    "# The match are labeled from 0 to len(matches)\n",
    "for match in range(len(matches)):\n",
    "    # Selecting all players that played in the round where the match ocurred\n",
    "    df_round = players_performance_position[\n",
    "        players_performance_position[\"round\"] == matches[\"round\"][match]\n",
    "    ]\n",
    "    # Selecting the players that played in the given match\n",
    "    players_home = df_round[df_round[\"team\"] == matches[\"home_team\"][match]]\n",
    "    players_away = df_round[df_round[\"team\"] == matches[\"away_team\"][match]]\n",
    "\n",
    "    for p_home in range(len(players_home)):\n",
    "        for p_away in range(len(players_away)):\n",
    "            score_home, score_away = 0,0\n",
    "        \n",
    "            points_p_home = players_home[\"points\"].iloc[p_home]\n",
    "            points_p_away = players_away[\"points\"].iloc[p_away]\n",
    "\n",
    "            sum = points_p_home + points_p_away\n",
    "            if sum != 0:\n",
    "                score_home = points_p_home/sum\n",
    "                score_away = points_p_away/sum\n",
    "            \n",
    "            # Selecting the coordinates of each player in the matrix\n",
    "            p1 = players_home[\"rank\"].iloc[p_home]\n",
    "            p2 = players_away[\"rank\"].iloc[p_away]\n",
    "\n",
    "            M[p1,p1] = M[p1,p1] + matches['home_score_norm'][match] + score_home\n",
    "            M[p1,p2] = M[p1,p2] + matches['away_score_norm'][match] + score_away\n",
    "            M[p2,p1] = M[p2,p1] + matches['home_score_norm'][match] + score_home\n",
    "            M[p2,p2] = M[p2,p2] + matches['away_score_norm'][match] + score_away"
   ]
  },
  {
   "cell_type": "code",
   "execution_count": 27,
   "metadata": {},
   "outputs": [],
   "source": [
    "# normalizing\n",
    "M_norm = M.copy()\n",
    "for i, column in enumerate(M.T):\n",
    "    sum_of_columns = np.sum(column)\n",
    "    if sum_of_columns !=0:\n",
    "        M_norm[:, i] = M_norm[:, i] / sum_of_columns"
   ]
  },
  {
   "cell_type": "code",
   "execution_count": 30,
   "metadata": {},
   "outputs": [
    {
     "data": {
      "text/plain": [
       "<matplotlib.colorbar.Colorbar at 0x7f71240b7f10>"
      ]
     },
     "execution_count": 30,
     "metadata": {},
     "output_type": "execute_result"
    },
    {
     "data": {
      "image/png": "[encoded data removed]",
      "text/plain": [
       "<Figure size 640x480 with 2 Axes>"
      ]
     },
     "metadata": {},
     "output_type": "display_data"
    }
   ],
   "source": [
    "plt.imshow(M_norm, cmap='seismic', norm=TwoSlopeNorm(0))\n",
    "plt.colorbar()"
   ]
  },
  {
   "attachments": {},
   "cell_type": "markdown",
   "metadata": {},
   "source": [
    "### Stationary distribution"
   ]
  },
  {
   "cell_type": "code",
   "execution_count": 43,
   "metadata": {},
   "outputs": [],
   "source": [
    "evals, evecs = np.linalg.eig(M_norm.T)\n",
    "evec1 = evecs[:,np.isclose(evals, 1, 1e-2)] # Increase the tolerance a little\n",
    "evec1 = evec1[:,0]\n",
    "stationary = evec1 / evec1.sum()\n",
    "stationary = stationary.real"
   ]
  },
  {
   "cell_type": "code",
   "execution_count": 60,
   "metadata": {},
   "outputs": [
    {
     "data": {
      "image/png": "[encoded data removed]",
      "text/plain": [
       "<Figure size 640x480 with 1 Axes>"
      ]
     },
     "metadata": {},
     "output_type": "display_data"
    }
   ],
   "source": [
    "_ = plt.hist(stationary)"
   ]
  },
  {
   "attachments": {},
   "cell_type": "markdown",
   "metadata": {},
   "source": [
    "most of the players have a probability around to 0.08 % "
   ]
  },
  {
   "cell_type": "code",
   "execution_count": 78,
   "metadata": {},
   "outputs": [
    {
     "data": {
      "text/html": [
       "<div>\n",
       "<style scoped>\n",
       "    .dataframe tbody tr th:only-of-type {\n",
       "        vertical-align: middle;\n",
       "    }\n",
       "\n",
       "    .dataframe tbody tr th {\n",
       "        vertical-align: top;\n",
       "    }\n",
       "\n",
       "    .dataframe thead th {\n",
       "        text-align: right;\n",
       "    }\n",
       "</style>\n",
       "<table border=\"1\" class=\"dataframe\">\n",
       "  <thead>\n",
       "    <tr style=\"text-align: right;\">\n",
       "      <th></th>\n",
       "      <th>rank</th>\n",
       "      <th>nickname</th>\n",
       "      <th>id</th>\n",
       "      <th>position</th>\n",
       "      <th>price</th>\n",
       "      <th>team</th>\n",
       "    </tr>\n",
       "  </thead>\n",
       "  <tbody>\n",
       "    <tr>\n",
       "      <th>1</th>\n",
       "      <td>0.0</td>\n",
       "      <td>Vagner Love</td>\n",
       "      <td>38959</td>\n",
       "      <td>ata</td>\n",
       "      <td>5.10</td>\n",
       "      <td>ACG</td>\n",
       "    </tr>\n",
       "    <tr>\n",
       "      <th>7</th>\n",
       "      <td>1.0</td>\n",
       "      <td>Hulk</td>\n",
       "      <td>39148</td>\n",
       "      <td>ata</td>\n",
       "      <td>14.21</td>\n",
       "      <td>CAM</td>\n",
       "    </tr>\n",
       "    <tr>\n",
       "      <th>22</th>\n",
       "      <td>3.0</td>\n",
       "      <td>Alan Kardec</td>\n",
       "      <td>50347</td>\n",
       "      <td>ata</td>\n",
       "      <td>4.11</td>\n",
       "      <td>CAM</td>\n",
       "    </tr>\n",
       "    <tr>\n",
       "      <th>28</th>\n",
       "      <td>4.0</td>\n",
       "      <td>Léo Gamalho</td>\n",
       "      <td>53865</td>\n",
       "      <td>ata</td>\n",
       "      <td>4.11</td>\n",
       "      <td>VIT</td>\n",
       "    </tr>\n",
       "    <tr>\n",
       "      <th>33</th>\n",
       "      <td>5.0</td>\n",
       "      <td>Gilberto</td>\n",
       "      <td>61188</td>\n",
       "      <td>ata</td>\n",
       "      <td>5.22</td>\n",
       "      <td>JUV</td>\n",
       "    </tr>\n",
       "    <tr>\n",
       "      <th>...</th>\n",
       "      <td>...</td>\n",
       "      <td>...</td>\n",
       "      <td>...</td>\n",
       "      <td>...</td>\n",
       "      <td>...</td>\n",
       "      <td>...</td>\n",
       "    </tr>\n",
       "    <tr>\n",
       "      <th>622</th>\n",
       "      <td>157.0</td>\n",
       "      <td>Barreal</td>\n",
       "      <td>126471</td>\n",
       "      <td>ata</td>\n",
       "      <td>5.56</td>\n",
       "      <td>CRU</td>\n",
       "    </tr>\n",
       "    <tr>\n",
       "      <th>629</th>\n",
       "      <td>160.0</td>\n",
       "      <td>William Gomes</td>\n",
       "      <td>128668</td>\n",
       "      <td>ata</td>\n",
       "      <td>1.56</td>\n",
       "      <td>SAO</td>\n",
       "    </tr>\n",
       "    <tr>\n",
       "      <th>635</th>\n",
       "      <td>163.0</td>\n",
       "      <td>Luciano Giménez</td>\n",
       "      <td>129202</td>\n",
       "      <td>ata</td>\n",
       "      <td>1.99</td>\n",
       "      <td>CUI</td>\n",
       "    </tr>\n",
       "    <tr>\n",
       "      <th>637</th>\n",
       "      <td>164.0</td>\n",
       "      <td>Max</td>\n",
       "      <td>129766</td>\n",
       "      <td>ata</td>\n",
       "      <td>1.55</td>\n",
       "      <td>ACG</td>\n",
       "    </tr>\n",
       "    <tr>\n",
       "      <th>654</th>\n",
       "      <td>173.0</td>\n",
       "      <td>André Silva</td>\n",
       "      <td>131617</td>\n",
       "      <td>ata</td>\n",
       "      <td>6.47</td>\n",
       "      <td>SAO</td>\n",
       "    </tr>\n",
       "  </tbody>\n",
       "</table>\n",
       "<p>105 rows × 6 columns</p>\n",
       "</div>"
      ],
      "text/plain": [
       "      rank         nickname      id position  price team\n",
       "1      0.0      Vagner Love   38959      ata   5.10  ACG\n",
       "7      1.0             Hulk   39148      ata  14.21  CAM\n",
       "22     3.0      Alan Kardec   50347      ata   4.11  CAM\n",
       "28     4.0      Léo Gamalho   53865      ata   4.11  VIT\n",
       "33     5.0         Gilberto   61188      ata   5.22  JUV\n",
       "..     ...              ...     ...      ...    ...  ...\n",
       "622  157.0          Barreal  126471      ata   5.56  CRU\n",
       "629  160.0    William Gomes  128668      ata   1.56  SAO\n",
       "635  163.0  Luciano Giménez  129202      ata   1.99  CUI\n",
       "637  164.0              Max  129766      ata   1.55  ACG\n",
       "654  173.0      André Silva  131617      ata   6.47  SAO\n",
       "\n",
       "[105 rows x 6 columns]"
      ]
     },
     "execution_count": 78,
     "metadata": {},
     "output_type": "execute_result"
    }
   ],
   "source": [
    "players_ranked[players_ranked.position == 'ata'][stationary > 0.008]"
   ]
  },
  {
   "attachments": {},
   "cell_type": "markdown",
   "metadata": {},
   "source": [
    "The best we dont know, but let take a look in the worst"
   ]
  },
  {
   "cell_type": "code",
   "execution_count": 89,
   "metadata": {},
   "outputs": [
    {
     "data": {
      "text/html": [
       "<div>\n",
       "<style scoped>\n",
       "    .dataframe tbody tr th:only-of-type {\n",
       "        vertical-align: middle;\n",
       "    }\n",
       "\n",
       "    .dataframe tbody tr th {\n",
       "        vertical-align: top;\n",
       "    }\n",
       "\n",
       "    .dataframe thead th {\n",
       "        text-align: right;\n",
       "    }\n",
       "</style>\n",
       "<table border=\"1\" class=\"dataframe\">\n",
       "  <thead>\n",
       "    <tr style=\"text-align: right;\">\n",
       "      <th></th>\n",
       "      <th>rank</th>\n",
       "      <th>nickname</th>\n",
       "      <th>id</th>\n",
       "      <th>position</th>\n",
       "      <th>price</th>\n",
       "      <th>team</th>\n",
       "    </tr>\n",
       "  </thead>\n",
       "  <tbody>\n",
       "    <tr>\n",
       "      <th>538</th>\n",
       "      <td>115.0</td>\n",
       "      <td>Flaco López</td>\n",
       "      <td>113103</td>\n",
       "      <td>ata</td>\n",
       "      <td>5.6</td>\n",
       "      <td>PAL</td>\n",
       "    </tr>\n",
       "  </tbody>\n",
       "</table>\n",
       "</div>"
      ],
      "text/plain": [
       "      rank     nickname      id position  price team\n",
       "538  115.0  Flaco López  113103      ata    5.6  PAL"
      ]
     },
     "execution_count": 89,
     "metadata": {},
     "output_type": "execute_result"
    }
   ],
   "source": [
    "players_ranked[players_ranked.position == 'ata'][(stationary > 0) * (stationary < 0.007)]"
   ]
  },
  {
   "attachments": {},
   "cell_type": "markdown",
   "metadata": {},
   "source": [
    "## Test sections"
   ]
  },
  {
   "cell_type": "code",
   "execution_count": null,
   "metadata": {},
   "outputs": [],
   "source": []
  },
  {
   "cell_type": "code",
   "execution_count": null,
   "metadata": {},
   "outputs": [],
   "source": []
  },
  {
   "cell_type": "code",
   "execution_count": null,
   "metadata": {},
   "outputs": [],
   "source": [
    "from cartolafc import Api\n",
    "import pandas as pd"
   ]
  },
  {
   "cell_type": "code",
   "execution_count": null,
   "metadata": {},
   "outputs": [],
   "source": [
    "api = Api()"
   ]
  },
  {
   "cell_type": "code",
   "execution_count": null,
   "metadata": {},
   "outputs": [
    {
     "data": {
      "text/plain": [
       "[{\"data\": {\"year\": 2024, \"month\": 5, \"day\": 11, \"hour\": 16, \"minute\": 0, \"second\": 0, \"microsecond\": 0, \"tzinfo\": null}, \"local\": \"Maracan\\u00e3\", \"clube_casa\": {\"id\": 262, \"nome\": \"Flamengo\", \"abreviacao\": \"FLA\"}, \"placar_casa\": 2, \"clube_visitante\": {\"id\": 264, \"nome\": \"Corinthians\", \"abreviacao\": \"COR\"}, \"placar_visitante\": 0},\n",
       " {\"data\": {\"year\": 2024, \"month\": 5, \"day\": 11, \"hour\": 21, \"minute\": 0, \"second\": 0, \"microsecond\": 0, \"tzinfo\": null}, \"local\": \"Arena MRV\", \"clube_casa\": {\"id\": 282, \"nome\": \"Atl\\u00e9tico-MG\", \"abreviacao\": \"CAM\"}, \"placar_casa\": null, \"clube_visitante\": {\"id\": 284, \"nome\": \"Gr\\u00eamio\", \"abreviacao\": \"GRE\"}, \"placar_visitante\": null},\n",
       " {\"data\": {\"year\": 2024, \"month\": 5, \"day\": 12, \"hour\": 16, \"minute\": 0, \"second\": 0, \"microsecond\": 0, \"tzinfo\": null}, \"local\": \"Arena Barueri\", \"clube_casa\": {\"id\": 275, \"nome\": \"Palmeiras\", \"abreviacao\": \"PAL\"}, \"placar_casa\": 0, \"clube_visitante\": {\"id\": 293, \"nome\": \"Athl\\u00e9tico-PR\", \"abreviacao\": \"CAP\"}, \"placar_visitante\": 2},\n",
       " {\"data\": {\"year\": 2024, \"month\": 5, \"day\": 12, \"hour\": 16, \"minute\": 0, \"second\": 0, \"microsecond\": 0, \"tzinfo\": null}, \"local\": \"Castel\\u00e3o (CE)\", \"clube_casa\": {\"id\": 356, \"nome\": \"Fortaleza\", \"abreviacao\": \"FOR\"}, \"placar_casa\": 1, \"clube_visitante\": {\"id\": 263, \"nome\": \"Botafogo\", \"abreviacao\": \"BOT\"}, \"placar_visitante\": 1},\n",
       " {\"data\": {\"year\": 2024, \"month\": 5, \"day\": 12, \"hour\": 16, \"minute\": 0, \"second\": 0, \"microsecond\": 0, \"tzinfo\": null}, \"local\": \"Ant\\u00f4nio Accioly\", \"clube_casa\": {\"id\": 373, \"nome\": \"Atl\\u00e9tico-GO\", \"abreviacao\": \"ACG\"}, \"placar_casa\": 0, \"clube_visitante\": {\"id\": 283, \"nome\": \"Cruzeiro\", \"abreviacao\": \"CRU\"}, \"placar_visitante\": 1},\n",
       " {\"data\": {\"year\": 2024, \"month\": 5, \"day\": 12, \"hour\": 18, \"minute\": 30, \"second\": 0, \"microsecond\": 0, \"tzinfo\": null}, \"local\": \"S\\u00e3o Janu\\u00e1rio\", \"clube_casa\": {\"id\": 267, \"nome\": \"Vasco\", \"abreviacao\": \"VAS\"}, \"placar_casa\": 2, \"clube_visitante\": {\"id\": 287, \"nome\": \"Vit\\u00f3ria\", \"abreviacao\": \"VIT\"}, \"placar_visitante\": 1},\n",
       " {\"data\": {\"year\": 2024, \"month\": 5, \"day\": 12, \"hour\": 18, \"minute\": 30, \"second\": 0, \"microsecond\": 0, \"tzinfo\": null}, \"local\": \"Casa de Apostas Arena Fonte Nova\", \"clube_casa\": {\"id\": 265, \"nome\": \"Bahia\", \"abreviacao\": \"BAH\"}, \"placar_casa\": 1, \"clube_visitante\": {\"id\": 280, \"nome\": \"Bragantino\", \"abreviacao\": \"BGT\"}, \"placar_visitante\": 0},\n",
       " {\"data\": {\"year\": 2024, \"month\": 5, \"day\": 12, \"hour\": 20, \"minute\": 30, \"second\": 0, \"microsecond\": 0, \"tzinfo\": null}, \"local\": \" \", \"clube_casa\": {\"id\": 288, \"nome\": \"Crici\\u00fama\", \"abreviacao\": \"CRI\"}, \"placar_casa\": null, \"clube_visitante\": {\"id\": 1371, \"nome\": \"Cuiab\\u00e1\", \"abreviacao\": \"CUI\"}, \"placar_visitante\": null},\n",
       " {\"data\": {\"year\": 2024, \"month\": 5, \"day\": 13, \"hour\": 20, \"minute\": 0, \"second\": 0, \"microsecond\": 0, \"tzinfo\": null}, \"local\": \"Morumbis\", \"clube_casa\": {\"id\": 276, \"nome\": \"S\\u00e3o Paulo\", \"abreviacao\": \"SAO\"}, \"placar_casa\": 2, \"clube_visitante\": {\"id\": 266, \"nome\": \"Fluminense\", \"abreviacao\": \"FLU\"}, \"placar_visitante\": 1},\n",
       " {\"data\": {\"year\": 2024, \"month\": 5, \"day\": 13, \"hour\": 21, \"minute\": 0, \"second\": 0, \"microsecond\": 0, \"tzinfo\": null}, \"local\": \"Beira-Rio\", \"clube_casa\": {\"id\": 285, \"nome\": \"Internacional\", \"abreviacao\": \"INT\"}, \"placar_casa\": null, \"clube_visitante\": {\"id\": 286, \"nome\": \"Juventude\", \"abreviacao\": \"JUV\"}, \"placar_visitante\": null}]"
      ]
     },
     "execution_count": 30,
     "metadata": {},
     "output_type": "execute_result"
    }
   ],
   "source": [
    "api.partidas(0)"
   ]
  },
  {
   "cell_type": "code",
   "execution_count": null,
   "metadata": {},
   "outputs": [
    {
     "data": {
      "text/plain": [
       "{\"rodada_atual\": 6, \"status\": [2, \"Mercado fechado\"], \"times_escalados\": 2241893, \"fechamento\": {\"year\": 2024, \"month\": 5, \"day\": 11, \"hour\": 15, \"minute\": 59, \"second\": 0, \"microsecond\": 0, \"tzinfo\": null}}"
      ]
     },
     "execution_count": 31,
     "metadata": {},
     "output_type": "execute_result"
    }
   ],
   "source": [
    "api.mercado()"
   ]
  },
  {
   "cell_type": "code",
   "execution_count": null,
   "metadata": {},
   "outputs": [],
   "source": [
    "api = Api()\n",
    "max_rounds = api.mercado().rodada_atual \n",
    "\n",
    "players_performance = pd.DataFrame()\n",
    "for round in range(1, max_rounds):\n",
    "    players_round = api.resultados_atletas(round)"
   ]
  },
  {
   "cell_type": "code",
   "execution_count": null,
   "metadata": {},
   "outputs": [],
   "source": [
    "players_round = api.resultados_atletas(1)"
   ]
  },
  {
   "cell_type": "code",
   "execution_count": null,
   "metadata": {},
   "outputs": [
    {
     "ename": "AttributeError",
     "evalue": "'int' object has no attribute 'i'",
     "output_type": "error",
     "traceback": [
      "\u001b[0;31m---------------------------------------------------------------------------\u001b[0m",
      "\u001b[0;31mAttributeError\u001b[0m                            Traceback (most recent call last)",
      "Cell \u001b[0;32mIn[34], line 2\u001b[0m\n\u001b[1;32m      1\u001b[0m \u001b[39mfor\u001b[39;00m player \u001b[39min\u001b[39;00m players_round:\n\u001b[0;32m----> 2\u001b[0m     player\u001b[39m.\u001b[39;49mi\n",
      "\u001b[0;31mAttributeError\u001b[0m: 'int' object has no attribute 'i'"
     ]
    }
   ],
   "source": [
    "for player in players_round:\n",
    "    player.i"
   ]
  },
  {
   "cell_type": "code",
   "execution_count": null,
   "metadata": {},
   "outputs": [
    {
     "name": "stdout",
     "output_type": "stream",
     "text": [
      "{\"id\": 100079, \"apelido\": \"Zaracho\", \"pontos\": 2.6, \"scout\": {\"DS\": 2, \"FC\": 2, \"FF\": 1}, \"posicao\": [4, \"Meia\", \"mei\"], \"clube\": {\"id\": 282, \"nome\": \"Atl\\u00e9tico-MG\", \"abreviacao\": \"CAM\"}, \"status\": null, \"is_capitao\": null, \"preco\": null, \"entrou_em_campo\": true}\n",
      "{\"id\": 100084, \"apelido\": \"Igor Gomes\", \"pontos\": 1.4, \"scout\": {\"FC\": 1, \"FD\": 1, \"FS\": 1}, \"posicao\": [4, \"Meia\", \"mei\"], \"clube\": {\"id\": 282, \"nome\": \"Atl\\u00e9tico-MG\", \"abreviacao\": \"CAM\"}, \"status\": null, \"is_capitao\": null, \"preco\": null, \"entrou_em_campo\": true}\n",
      "{\"id\": 100085, \"apelido\": \"Pedro Augusto\", \"pontos\": 5, \"scout\": {\"A\": 1}, \"posicao\": [4, \"Meia\", \"mei\"], \"clube\": {\"id\": 356, \"nome\": \"Fortaleza\", \"abreviacao\": \"FOR\"}, \"status\": null, \"is_capitao\": null, \"preco\": null, \"entrou_em_campo\": true}\n",
      "{\"id\": 100652, \"apelido\": \"Yuri Alberto\", \"pontos\": 1.3, \"scout\": {\"CA\": 1, \"DS\": 1, \"FC\": 3, \"FS\": 4}, \"posicao\": [5, \"Atacante\", \"ata\"], \"clube\": {\"id\": 264, \"nome\": \"Corinthians\", \"abreviacao\": \"COR\"}, \"status\": null, \"is_capitao\": null, \"preco\": null, \"entrou_em_campo\": true}\n",
      "{\"id\": 100846, \"apelido\": \"Lucas Esteves\", \"pontos\": -1.5, \"scout\": {\"CA\": 1, \"FC\": 3, \"FS\": 1, \"I\": 1}, \"posicao\": [2, \"Lateral\", \"lat\"], \"clube\": {\"id\": 287, \"nome\": \"Vit\\u00f3ria\", \"abreviacao\": \"VIT\"}, \"status\": null, \"is_capitao\": null, \"preco\": null, \"entrou_em_campo\": true}\n",
      "{\"id\": 100848, \"apelido\": \"Luan C\\u00e2ndido\", \"pontos\": 0.1, \"scout\": {\"CA\": 1, \"DS\": 1, \"FC\": 3, \"FF\": 1}, \"posicao\": [3, \"Zagueiro\", \"zag\"], \"clube\": {\"id\": 280, \"nome\": \"Bragantino\", \"abreviacao\": \"BGT\"}, \"status\": null, \"is_capitao\": null, \"preco\": null, \"entrou_em_campo\": true}\n",
      "{\"id\": 100976, \"apelido\": \"Derek\", \"pontos\": 0, \"scout\": {}, \"posicao\": [5, \"Atacante\", \"ata\"], \"clube\": {\"id\": 373, \"nome\": \"Atl\\u00e9tico-GO\", \"abreviacao\": \"ACG\"}, \"status\": null, \"is_capitao\": null, \"preco\": null, \"entrou_em_campo\": true}\n",
      "{\"id\": 101002, \"apelido\": \"J\\u00fanior Santos\", \"pontos\": 6.8, \"scout\": {\"A\": 1, \"CA\": 1, \"DS\": 1, \"FC\": 2, \"FD\": 1, \"FS\": 2}, \"posicao\": [5, \"Atacante\", \"ata\"], \"clube\": {\"id\": 263, \"nome\": \"Botafogo\", \"abreviacao\": \"BOT\"}, \"status\": null, \"is_capitao\": null, \"preco\": null, \"entrou_em_campo\": true}\n",
      "{\"id\": 101319, \"apelido\": \"Guga\", \"pontos\": -1, \"scout\": {\"CA\": 1}, \"posicao\": [2, \"Lateral\", \"lat\"], \"clube\": {\"id\": 266, \"nome\": \"Fluminense\", \"abreviacao\": \"FLU\"}, \"status\": null, \"is_capitao\": null, \"preco\": null, \"entrou_em_campo\": false}\n",
      "{\"id\": 101666, \"apelido\": \"Rhaldney\", \"pontos\": 1.6, \"scout\": {\"CA\": 1, \"DS\": 2, \"FC\": 1, \"FS\": 1}, \"posicao\": [4, \"Meia\", \"mei\"], \"clube\": {\"id\": 373, \"nome\": \"Atl\\u00e9tico-GO\", \"abreviacao\": \"ACG\"}, \"status\": null, \"is_capitao\": null, \"preco\": null, \"entrou_em_campo\": true}\n",
      "{\"id\": 101715, \"apelido\": \"Alerrandro\", \"pontos\": 3, \"scout\": {\"CA\": 1, \"FD\": 2, \"FF\": 2}, \"posicao\": [5, \"Atacante\", \"ata\"], \"clube\": {\"id\": 287, \"nome\": \"Vit\\u00f3ria\", \"abreviacao\": \"VIT\"}, \"status\": null, \"is_capitao\": null, \"preco\": null, \"entrou_em_campo\": true}\n",
      "{\"id\": 101726, \"apelido\": \"Railan\", \"pontos\": 2.8, \"scout\": {\"DS\": 2, \"FC\": 2, \"FS\": 2}, \"posicao\": [2, \"Lateral\", \"lat\"], \"clube\": {\"id\": 1371, \"nome\": \"Cuiab\\u00e1\", \"abreviacao\": \"CUI\"}, \"status\": null, \"is_capitao\": null, \"preco\": null, \"entrou_em_campo\": true}\n",
      "{\"id\": 101727, \"apelido\": \"Matheuzinho\", \"pontos\": 4.2, \"scout\": {\"CA\": 1, \"FC\": 2, \"FF\": 1, \"SG\": 1}, \"posicao\": [2, \"Lateral\", \"lat\"], \"clube\": {\"id\": 264, \"nome\": \"Corinthians\", \"abreviacao\": \"COR\"}, \"status\": null, \"is_capitao\": null, \"preco\": null, \"entrou_em_campo\": true}\n",
      "{\"id\": 101728, \"apelido\": \"Diego Costa\", \"pontos\": 0.9, \"scout\": {\"DS\": 1, \"FC\": 1}, \"posicao\": [3, \"Zagueiro\", \"zag\"], \"clube\": {\"id\": 276, \"nome\": \"S\\u00e3o Paulo\", \"abreviacao\": \"SAO\"}, \"status\": null, \"is_capitao\": null, \"preco\": null, \"entrou_em_campo\": true}\n",
      "{\"id\": 101752, \"apelido\": \"Claudinho\", \"pontos\": 6, \"scout\": {\"DS\": 5}, \"posicao\": [2, \"Lateral\", \"lat\"], \"clube\": {\"id\": 288, \"nome\": \"Crici\\u00fama\", \"abreviacao\": \"CRI\"}, \"status\": null, \"is_capitao\": null, \"preco\": null, \"entrou_em_campo\": true}\n",
      "{\"id\": 101960, \"apelido\": \"Vitinho\", \"pontos\": 13, \"scout\": {\"A\": 2, \"CA\": 1, \"DS\": 2, \"FC\": 2, \"FD\": 1, \"FS\": 2}, \"posicao\": [5, \"Atacante\", \"ata\"], \"clube\": {\"id\": 280, \"nome\": \"Bragantino\", \"abreviacao\": \"BGT\"}, \"status\": null, \"is_capitao\": null, \"preco\": null, \"entrou_em_campo\": true}\n",
      "{\"id\": 101995, \"apelido\": \"Br\\u00edtez\", \"pontos\": 0.8, \"scout\": {\"CA\": 1, \"DS\": 2, \"FC\": 2}, \"posicao\": [3, \"Zagueiro\", \"zag\"], \"clube\": {\"id\": 356, \"nome\": \"Fortaleza\", \"abreviacao\": \"FOR\"}, \"status\": null, \"is_capitao\": null, \"preco\": null, \"entrou_em_campo\": true}\n",
      "{\"id\": 102253, \"apelido\": \"Lucas Halter\", \"pontos\": 0.6, \"scout\": {\"DS\": 1, \"FC\": 2}, \"posicao\": [3, \"Zagueiro\", \"zag\"], \"clube\": {\"id\": 263, \"nome\": \"Botafogo\", \"abreviacao\": \"BOT\"}, \"status\": null, \"is_capitao\": null, \"preco\": null, \"entrou_em_campo\": true}\n",
      "{\"id\": 102302, \"apelido\": \"Rafael Elias\", \"pontos\": 6.7, \"scout\": {\"CA\": 1, \"FC\": 1, \"G\": 1}, \"posicao\": [5, \"Atacante\", \"ata\"], \"clube\": {\"id\": 283, \"nome\": \"Cruzeiro\", \"abreviacao\": \"CRU\"}, \"status\": null, \"is_capitao\": null, \"preco\": null, \"entrou_em_campo\": true}\n",
      "{\"id\": 102561, \"apelido\": \"Mastriani\", \"pontos\": 8, \"scout\": {\"G\": 1}, \"posicao\": [5, \"Atacante\", \"ata\"], \"clube\": {\"id\": 293, \"nome\": \"Athl\\u00e9tico-PR\", \"abreviacao\": \"CAP\"}, \"status\": null, \"is_capitao\": null, \"preco\": null, \"entrou_em_campo\": true}\n",
      "{\"id\": 102599, \"apelido\": \"Thiaguinho\", \"pontos\": 1.4, \"scout\": {\"DS\": 1, \"FC\": 1, \"FS\": 1}, \"posicao\": [4, \"Meia\", \"mei\"], \"clube\": {\"id\": 286, \"nome\": \"Juventude\", \"abreviacao\": \"JUV\"}, \"status\": null, \"is_capitao\": null, \"preco\": null, \"entrou_em_campo\": true}\n",
      "{\"id\": 102796, \"apelido\": \"Julimar\", \"pontos\": 8.3, \"scout\": {\"A\": 1, \"DS\": 1, \"FC\": 2, \"FD\": 1, \"FF\": 2, \"I\": 1}, \"posicao\": [5, \"Atacante\", \"ata\"], \"clube\": {\"id\": 293, \"nome\": \"Athl\\u00e9tico-PR\", \"abreviacao\": \"CAP\"}, \"status\": null, \"is_capitao\": null, \"preco\": null, \"entrou_em_campo\": true}\n",
      "{\"id\": 102906, \"apelido\": \"Anderson\", \"pontos\": -1, \"scout\": {\"DE\": 1, \"GS\": 2}, \"posicao\": [1, \"Goleiro\", \"gol\"], \"clube\": {\"id\": 283, \"nome\": \"Cruzeiro\", \"abreviacao\": \"CRU\"}, \"status\": null, \"is_capitao\": null, \"preco\": null, \"entrou_em_campo\": true}\n",
      "{\"id\": 102928, \"apelido\": \"Canobbio\", \"pontos\": 17.9, \"scout\": {\"A\": 1, \"DS\": 2, \"FC\": 1, \"FD\": 1, \"FF\": 2, \"G\": 1}, \"posicao\": [5, \"Atacante\", \"ata\"], \"clube\": {\"id\": 293, \"nome\": \"Athl\\u00e9tico-PR\", \"abreviacao\": \"CAP\"}, \"status\": null, \"is_capitao\": null, \"preco\": null, \"entrou_em_campo\": true}\n",
      "{\"id\": 103014, \"apelido\": \"Laquintana\", \"pontos\": 1.2, \"scout\": {\"FD\": 1}, \"posicao\": [5, \"Atacante\", \"ata\"], \"clube\": {\"id\": 280, \"nome\": \"Bragantino\", \"abreviacao\": \"BGT\"}, \"status\": null, \"is_capitao\": null, \"preco\": null, \"entrou_em_campo\": true}\n",
      "{\"id\": 103076, \"apelido\": \"Mateus Gon\\u00e7alves\", \"pontos\": 1.7, \"scout\": {\"FD\": 1, \"FS\": 1}, \"posicao\": [5, \"Atacante\", \"ata\"], \"clube\": {\"id\": 287, \"nome\": \"Vit\\u00f3ria\", \"abreviacao\": \"VIT\"}, \"status\": null, \"is_capitao\": null, \"preco\": null, \"entrou_em_campo\": true}\n",
      "{\"id\": 103195, \"apelido\": \"Candelo\", \"pontos\": 0, \"scout\": {}, \"posicao\": [4, \"Meia\", \"mei\"], \"clube\": {\"id\": 288, \"nome\": \"Crici\\u00fama\", \"abreviacao\": \"CRI\"}, \"status\": null, \"is_capitao\": null, \"preco\": null, \"entrou_em_campo\": true}\n",
      "{\"id\": 103295, \"apelido\": \"Eric Ramires\", \"pontos\": 4.3, \"scout\": {\"DS\": 3, \"FC\": 2, \"FF\": 1, \"FS\": 1}, \"posicao\": [4, \"Meia\", \"mei\"], \"clube\": {\"id\": 280, \"nome\": \"Bragantino\", \"abreviacao\": \"BGT\"}, \"status\": null, \"is_capitao\": null, \"preco\": null, \"entrou_em_campo\": true}\n",
      "{\"id\": 103684, \"apelido\": \"Ka\\u00edque Rocha\", \"pontos\": 8.8, \"scout\": {\"DS\": 3, \"FC\": 1, \"FS\": 1, \"SG\": 1}, \"posicao\": [3, \"Zagueiro\", \"zag\"], \"clube\": {\"id\": 293, \"nome\": \"Athl\\u00e9tico-PR\", \"abreviacao\": \"CAP\"}, \"status\": null, \"is_capitao\": null, \"preco\": null, \"entrou_em_campo\": true}\n",
      "{\"id\": 103695, \"apelido\": \"Jadsom Silva\", \"pontos\": -1.1, \"scout\": {\"CA\": 1, \"FC\": 2, \"FS\": 1}, \"posicao\": [4, \"Meia\", \"mei\"], \"clube\": {\"id\": 280, \"nome\": \"Bragantino\", \"abreviacao\": \"BGT\"}, \"status\": null, \"is_capitao\": null, \"preco\": null, \"entrou_em_campo\": true}\n",
      "{\"id\": 103764, \"apelido\": \"Gabriel Veron\", \"pontos\": -0.3, \"scout\": {\"FC\": 1}, \"posicao\": [5, \"Atacante\", \"ata\"], \"clube\": {\"id\": 283, \"nome\": \"Cruzeiro\", \"abreviacao\": \"CRU\"}, \"status\": null, \"is_capitao\": null, \"preco\": null, \"entrou_em_campo\": true}\n",
      "{\"id\": 103767, \"apelido\": \"Gabriel Menino\", \"pontos\": 3.9, \"scout\": {\"CA\": 1, \"DS\": 2, \"FC\": 2, \"FF\": 2, \"FS\": 3}, \"posicao\": [4, \"Meia\", \"mei\"], \"clube\": {\"id\": 275, \"nome\": \"Palmeiras\", \"abreviacao\": \"PAL\"}, \"status\": null, \"is_capitao\": null, \"preco\": null, \"entrou_em_campo\": true}\n",
      "{\"id\": 103987, \"apelido\": \"Higor Merit\\u00e3o\", \"pontos\": 1.2, \"scout\": {\"DS\": 1}, \"posicao\": [4, \"Meia\", \"mei\"], \"clube\": {\"id\": 288, \"nome\": \"Crici\\u00fama\", \"abreviacao\": \"CRI\"}, \"status\": null, \"is_capitao\": null, \"preco\": null, \"entrou_em_campo\": true}\n",
      "{\"id\": 104084, \"apelido\": \"Carlos Miguel\", \"pontos\": -1, \"scout\": {\"CA\": 1}, \"posicao\": [1, \"Goleiro\", \"gol\"], \"clube\": {\"id\": 264, \"nome\": \"Corinthians\", \"abreviacao\": \"COR\"}, \"status\": null, \"is_capitao\": null, \"preco\": null, \"entrou_em_campo\": false}\n",
      "{\"id\": 104118, \"apelido\": \"Lucas Arcanjo\", \"pontos\": 2.5, \"scout\": {\"DE\": 3, \"FS\": 1, \"GS\": 1}, \"posicao\": [1, \"Goleiro\", \"gol\"], \"clube\": {\"id\": 287, \"nome\": \"Vit\\u00f3ria\", \"abreviacao\": \"VIT\"}, \"status\": null, \"is_capitao\": null, \"preco\": null, \"entrou_em_campo\": true}\n",
      "{\"id\": 104250, \"apelido\": \"Jo\\u00e3o Victor\", \"pontos\": 1.9, \"scout\": {\"CA\": 1, \"DS\": 2, \"FS\": 1}, \"posicao\": [3, \"Zagueiro\", \"zag\"], \"clube\": {\"id\": 267, \"nome\": \"Vasco\", \"abreviacao\": \"VAS\"}, \"status\": null, \"is_capitao\": null, \"preco\": null, \"entrou_em_campo\": true}\n",
      "{\"id\": 104253, \"apelido\": \"Adriano Martins\", \"pontos\": 1.1, \"scout\": {\"CA\": 1, \"DS\": 2, \"FC\": 1}, \"posicao\": [3, \"Zagueiro\", \"zag\"], \"clube\": {\"id\": 373, \"nome\": \"Atl\\u00e9tico-GO\", \"abreviacao\": \"ACG\"}, \"status\": null, \"is_capitao\": null, \"preco\": null, \"entrou_em_campo\": true}\n",
      "{\"id\": 104257, \"apelido\": \"Jo\\u00e3o Lucas\", \"pontos\": 1.6, \"scout\": {\"CA\": 1, \"DS\": 2, \"FC\": 1, \"FS\": 1}, \"posicao\": [2, \"Lateral\", \"lat\"], \"clube\": {\"id\": 286, \"nome\": \"Juventude\", \"abreviacao\": \"JUV\"}, \"status\": null, \"is_capitao\": null, \"preco\": null, \"entrou_em_campo\": true}\n",
      "{\"id\": 104330, \"apelido\": \"Dudu\", \"pontos\": 3.6, \"scout\": {\"DS\": 3}, \"posicao\": [4, \"Meia\", \"mei\"], \"clube\": {\"id\": 287, \"nome\": \"Vit\\u00f3ria\", \"abreviacao\": \"VIT\"}, \"status\": null, \"is_capitao\": null, \"preco\": null, \"entrou_em_campo\": true}\n",
      "{\"id\": 104588, \"apelido\": \"Fabr\\u00edcio\", \"pontos\": 0, \"scout\": {}, \"posicao\": [1, \"Goleiro\", \"gol\"], \"clube\": {\"id\": 280, \"nome\": \"Bragantino\", \"abreviacao\": \"BGT\"}, \"status\": null, \"is_capitao\": null, \"preco\": null, \"entrou_em_campo\": false}\n",
      "{\"id\": 104666, \"apelido\": \"Mois\\u00e9s\", \"pontos\": 0, \"scout\": {}, \"posicao\": [5, \"Atacante\", \"ata\"], \"clube\": {\"id\": 356, \"nome\": \"Fortaleza\", \"abreviacao\": \"FOR\"}, \"status\": null, \"is_capitao\": null, \"preco\": null, \"entrou_em_campo\": true}\n",
      "{\"id\": 104754, \"apelido\": \"Juan Vojvoda\", \"pontos\": 5.48, \"scout\": {\"V\": 1}, \"posicao\": [6, \"T\\u00e9cnico\", \"tec\"], \"clube\": {\"id\": 356, \"nome\": \"Fortaleza\", \"abreviacao\": \"FOR\"}, \"status\": null, \"is_capitao\": null, \"preco\": null, \"entrou_em_campo\": true}\n",
      "{\"id\": 104759, \"apelido\": \"Leo Godoy\", \"pontos\": 12.9, \"scout\": {\"G\": 1, \"I\": 1, \"SG\": 1}, \"posicao\": [2, \"Lateral\", \"lat\"], \"clube\": {\"id\": 293, \"nome\": \"Athl\\u00e9tico-PR\", \"abreviacao\": \"CAP\"}, \"status\": null, \"is_capitao\": null, \"preco\": null, \"entrou_em_campo\": true}\n",
      "{\"id\": 104994, \"apelido\": \"Wagner Leonardo\", \"pontos\": 1.2, \"scout\": {\"DS\": 1}, \"posicao\": [3, \"Zagueiro\", \"zag\"], \"clube\": {\"id\": 287, \"nome\": \"Vit\\u00f3ria\", \"abreviacao\": \"VIT\"}, \"status\": null, \"is_capitao\": null, \"preco\": null, \"entrou_em_campo\": true}\n",
      "{\"id\": 105047, \"apelido\": \"Jo\\u00e3o Marcelo\", \"pontos\": 0, \"scout\": {}, \"posicao\": [3, \"Zagueiro\", \"zag\"], \"clube\": {\"id\": 283, \"nome\": \"Cruzeiro\", \"abreviacao\": \"CRU\"}, \"status\": null, \"is_capitao\": null, \"preco\": null, \"entrou_em_campo\": true}\n",
      "{\"id\": 105208, \"apelido\": \"Bento\", \"pontos\": 6, \"scout\": {\"DE\": 1, \"SG\": 1}, \"posicao\": [1, \"Goleiro\", \"gol\"], \"clube\": {\"id\": 293, \"nome\": \"Athl\\u00e9tico-PR\", \"abreviacao\": \"CAP\"}, \"status\": null, \"is_capitao\": null, \"preco\": null, \"entrou_em_campo\": true}\n",
      "{\"id\": 105300, \"apelido\": \"Ferraresi\", \"pontos\": 2.9, \"scout\": {\"DS\": 2, \"FS\": 1}, \"posicao\": [3, \"Zagueiro\", \"zag\"], \"clube\": {\"id\": 276, \"nome\": \"S\\u00e3o Paulo\", \"abreviacao\": \"SAO\"}, \"status\": null, \"is_capitao\": null, \"preco\": null, \"entrou_em_campo\": true}\n",
      "{\"id\": 105547, \"apelido\": \"Rikelme\", \"pontos\": 1.7, \"scout\": {\"DS\": 1, \"FS\": 1}, \"posicao\": [2, \"Lateral\", \"lat\"], \"clube\": {\"id\": 1371, \"nome\": \"Cuiab\\u00e1\", \"abreviacao\": \"CUI\"}, \"status\": null, \"is_capitao\": null, \"preco\": null, \"entrou_em_campo\": true}\n",
      "{\"id\": 105568, \"apelido\": \"Lucero\", \"pontos\": 6.9, \"scout\": {\"CA\": 1, \"FC\": 2, \"FS\": 1, \"G\": 1}, \"posicao\": [5, \"Atacante\", \"ata\"], \"clube\": {\"id\": 356, \"nome\": \"Fortaleza\", \"abreviacao\": \"FOR\"}, \"status\": null, \"is_capitao\": null, \"preco\": null, \"entrou_em_campo\": true}\n",
      "{\"id\": 105584, \"apelido\": \"Lucas Piton\", \"pontos\": 0.2, \"scout\": {\"CA\": 1, \"DS\": 1}, \"posicao\": [2, \"Lateral\", \"lat\"], \"clube\": {\"id\": 267, \"nome\": \"Vasco\", \"abreviacao\": \"VAS\"}, \"status\": null, \"is_capitao\": null, \"preco\": null, \"entrou_em_campo\": true}\n",
      "{\"id\": 105647, \"apelido\": \"Maur\\u00edcio\", \"pontos\": 4.8, \"scout\": {\"CA\": 1, \"DS\": 3, \"FC\": 1, \"FD\": 1, \"FF\": 1, \"FS\": 1}, \"posicao\": [4, \"Meia\", \"mei\"], \"clube\": {\"id\": 285, \"nome\": \"Internacional\", \"abreviacao\": \"INT\"}, \"status\": null, \"is_capitao\": null, \"preco\": null, \"entrou_em_campo\": true}\n",
      "{\"id\": 105811, \"apelido\": \"Wesley\", \"pontos\": 9.4, \"scout\": {\"DS\": 1, \"FC\": 1, \"FS\": 1, \"G\": 1}, \"posicao\": [5, \"Atacante\", \"ata\"], \"clube\": {\"id\": 285, \"nome\": \"Internacional\", \"abreviacao\": \"INT\"}, \"status\": null, \"is_capitao\": null, \"preco\": null, \"entrou_em_campo\": true}\n",
      "{\"id\": 105949, \"apelido\": \"Rochet\", \"pontos\": 2.5, \"scout\": {\"DE\": 3, \"FS\": 1, \"GS\": 1}, \"posicao\": [1, \"Goleiro\", \"gol\"], \"clube\": {\"id\": 285, \"nome\": \"Internacional\", \"abreviacao\": \"INT\"}, \"status\": null, \"is_capitao\": null, \"preco\": null, \"entrou_em_campo\": true}\n",
      "{\"id\": 106147, \"apelido\": \"Thiago Carpini\", \"pontos\": 3.76, \"scout\": {}, \"posicao\": [6, \"T\\u00e9cnico\", \"tec\"], \"clube\": {\"id\": 276, \"nome\": \"S\\u00e3o Paulo\", \"abreviacao\": \"SAO\"}, \"status\": null, \"is_capitao\": null, \"preco\": null, \"entrou_em_campo\": true}\n",
      "{\"id\": 106160, \"apelido\": \"Luc\\u00e3o\", \"pontos\": 2, \"scout\": {\"DE\": 3, \"GS\": 1}, \"posicao\": [1, \"Goleiro\", \"gol\"], \"clube\": {\"id\": 280, \"nome\": \"Bragantino\", \"abreviacao\": \"BGT\"}, \"status\": null, \"is_capitao\": null, \"preco\": null, \"entrou_em_campo\": true}\n",
      "{\"id\": 106202, \"apelido\": \"Bruno Gomes\", \"pontos\": 0.1, \"scout\": {\"FC\": 3, \"FS\": 2}, \"posicao\": [4, \"Meia\", \"mei\"], \"clube\": {\"id\": 285, \"nome\": \"Internacional\", \"abreviacao\": \"INT\"}, \"status\": null, \"is_capitao\": null, \"preco\": null, \"entrou_em_campo\": true}\n",
      "{\"id\": 106323, \"apelido\": \"Caio Alexandre\", \"pontos\": 4.1, \"scout\": {\"DS\": 2, \"FC\": 1, \"FS\": 4}, \"posicao\": [4, \"Meia\", \"mei\"], \"clube\": {\"id\": 265, \"nome\": \"Bahia\", \"abreviacao\": \"BAH\"}, \"status\": null, \"is_capitao\": null, \"preco\": null, \"entrou_em_campo\": true}\n",
      "{\"id\": 106822, \"apelido\": \"Rodrigo Nestor\", \"pontos\": -1, \"scout\": {\"CA\": 1}, \"posicao\": [4, \"Meia\", \"mei\"], \"clube\": {\"id\": 276, \"nome\": \"S\\u00e3o Paulo\", \"abreviacao\": \"SAO\"}, \"status\": null, \"is_capitao\": null, \"preco\": null, \"entrou_em_campo\": true}\n",
      "{\"id\": 107093, \"apelido\": \"Luciano Juba\", \"pontos\": 2.9, \"scout\": {\"DS\": 2, \"FS\": 1}, \"posicao\": [2, \"Lateral\", \"lat\"], \"clube\": {\"id\": 265, \"nome\": \"Bahia\", \"abreviacao\": \"BAH\"}, \"status\": null, \"is_capitao\": null, \"preco\": null, \"entrou_em_campo\": true}\n",
      "{\"id\": 107111, \"apelido\": \"Richard R\\u00edos\", \"pontos\": 9.6, \"scout\": {\"CA\": 1, \"DS\": 2, \"FC\": 1, \"FS\": 1, \"G\": 1}, \"posicao\": [4, \"Meia\", \"mei\"], \"clube\": {\"id\": 275, \"nome\": \"Palmeiras\", \"abreviacao\": \"PAL\"}, \"status\": null, \"is_capitao\": null, \"preco\": null, \"entrou_em_campo\": true}\n",
      "{\"id\": 107170, \"apelido\": \"Jeffinho\", \"pontos\": 2.5, \"scout\": {\"DS\": 1, \"FC\": 1, \"FF\": 2}, \"posicao\": [5, \"Atacante\", \"ata\"], \"clube\": {\"id\": 263, \"nome\": \"Botafogo\", \"abreviacao\": \"BOT\"}, \"status\": null, \"is_capitao\": null, \"preco\": null, \"entrou_em_campo\": true}\n",
      "{\"id\": 107173, \"apelido\": \"Michel Ara\\u00fajo\", \"pontos\": 4.3, \"scout\": {\"DS\": 2, \"FC\": 1, \"FD\": 1, \"FS\": 2}, \"posicao\": [4, \"Meia\", \"mei\"], \"clube\": {\"id\": 276, \"nome\": \"S\\u00e3o Paulo\", \"abreviacao\": \"SAO\"}, \"status\": null, \"is_capitao\": null, \"preco\": null, \"entrou_em_campo\": true}\n",
      "{\"id\": 107203, \"apelido\": \"Max\", \"pontos\": 1.2, \"scout\": {\"DS\": 1}, \"posicao\": [4, \"Meia\", \"mei\"], \"clube\": {\"id\": 1371, \"nome\": \"Cuiab\\u00e1\", \"abreviacao\": \"CUI\"}, \"status\": null, \"is_capitao\": null, \"preco\": null, \"entrou_em_campo\": true}\n",
      "{\"id\": 107236, \"apelido\": \"Vanderlan\", \"pontos\": 5.2, \"scout\": {\"FC\": 2, \"FF\": 1, \"SG\": 1}, \"posicao\": [2, \"Lateral\", \"lat\"], \"clube\": {\"id\": 275, \"nome\": \"Palmeiras\", \"abreviacao\": \"PAL\"}, \"status\": null, \"is_capitao\": null, \"preco\": null, \"entrou_em_campo\": true}\n",
      "{\"id\": 107238, \"apelido\": \"Marcelinho\", \"pontos\": 2, \"scout\": {\"FD\": 1, \"FF\": 1}, \"posicao\": [5, \"Atacante\", \"ata\"], \"clube\": {\"id\": 286, \"nome\": \"Juventude\", \"abreviacao\": \"JUV\"}, \"status\": null, \"is_capitao\": null, \"preco\": null, \"entrou_em_campo\": true}\n",
      "{\"id\": 107256, \"apelido\": \"Z\\u00e9 Vitor\", \"pontos\": 0, \"scout\": {}, \"posicao\": [4, \"Meia\", \"mei\"], \"clube\": {\"id\": 293, \"nome\": \"Athl\\u00e9tico-PR\", \"abreviacao\": \"CAP\"}, \"status\": null, \"is_capitao\": null, \"preco\": null, \"entrou_em_campo\": true}\n",
      "{\"id\": 107498, \"apelido\": \"Andr\\u00e9\", \"pontos\": -0.6, \"scout\": {\"CA\": 1, \"FC\": 2, \"FS\": 2}, \"posicao\": [4, \"Meia\", \"mei\"], \"clube\": {\"id\": 266, \"nome\": \"Fluminense\", \"abreviacao\": \"FLU\"}, \"status\": null, \"is_capitao\": null, \"preco\": null, \"entrou_em_campo\": true}\n",
      "{\"id\": 107798, \"apelido\": \"Rildo\", \"pontos\": 0.5, \"scout\": {\"FS\": 1}, \"posicao\": [5, \"Atacante\", \"ata\"], \"clube\": {\"id\": 286, \"nome\": \"Juventude\", \"abreviacao\": \"JUV\"}, \"status\": null, \"is_capitao\": null, \"preco\": null, \"entrou_em_campo\": true}\n",
      "{\"id\": 107908, \"apelido\": \"Hugo\", \"pontos\": 6.2, \"scout\": {\"CA\": 1, \"DS\": 1, \"FC\": 2, \"FF\": 2, \"SG\": 1}, \"posicao\": [2, \"Lateral\", \"lat\"], \"clube\": {\"id\": 264, \"nome\": \"Corinthians\", \"abreviacao\": \"COR\"}, \"status\": null, \"is_capitao\": null, \"preco\": null, \"entrou_em_campo\": true}\n",
      "{\"id\": 107950, \"apelido\": \"Fausto Vera\", \"pontos\": -0.6, \"scout\": {\"FC\": 2}, \"posicao\": [4, \"Meia\", \"mei\"], \"clube\": {\"id\": 264, \"nome\": \"Corinthians\", \"abreviacao\": \"COR\"}, \"status\": null, \"is_capitao\": null, \"preco\": null, \"entrou_em_campo\": true}\n",
      "{\"id\": 108133, \"apelido\": \"Isidro Pitta\", \"pontos\": 0, \"scout\": {}, \"posicao\": [5, \"Atacante\", \"ata\"], \"clube\": {\"id\": 1371, \"nome\": \"Cuiab\\u00e1\", \"abreviacao\": \"CUI\"}, \"status\": null, \"is_capitao\": null, \"preco\": null, \"entrou_em_campo\": true}\n",
      "{\"id\": 109282, \"apelido\": \"Luiz Henrique\", \"pontos\": 1.8, \"scout\": {\"FF\": 1, \"FS\": 2}, \"posicao\": [5, \"Atacante\", \"ata\"], \"clube\": {\"id\": 263, \"nome\": \"Botafogo\", \"abreviacao\": \"BOT\"}, \"status\": null, \"is_capitao\": null, \"preco\": null, \"entrou_em_campo\": true}\n",
      "{\"id\": 109573, \"apelido\": \"Martinelli\", \"pontos\": 1.3, \"scout\": {\"FF\": 1, \"FS\": 1}, \"posicao\": [4, \"Meia\", \"mei\"], \"clube\": {\"id\": 266, \"nome\": \"Fluminense\", \"abreviacao\": \"FLU\"}, \"status\": null, \"is_capitao\": null, \"preco\": null, \"entrou_em_campo\": true}\n",
      "{\"id\": 109668, \"apelido\": \"Hugo\", \"pontos\": 4.7, \"scout\": {\"A\": 1, \"FC\": 1}, \"posicao\": [2, \"Lateral\", \"lat\"], \"clube\": {\"id\": 263, \"nome\": \"Botafogo\", \"abreviacao\": \"BOT\"}, \"status\": null, \"is_capitao\": null, \"preco\": null, \"entrou_em_campo\": true}\n",
      "{\"id\": 110193, \"apelido\": \"L\\u00e1zaro\", \"pontos\": 0.8, \"scout\": {\"FF\": 1}, \"posicao\": [5, \"Atacante\", \"ata\"], \"clube\": {\"id\": 275, \"nome\": \"Palmeiras\", \"abreviacao\": \"PAL\"}, \"status\": null, \"is_capitao\": null, \"preco\": null, \"entrou_em_campo\": true}\n",
      "{\"id\": 110506, \"apelido\": \"Abel Ferreira\", \"pontos\": 7.68, \"scout\": {\"V\": 1}, \"posicao\": [6, \"T\\u00e9cnico\", \"tec\"], \"clube\": {\"id\": 275, \"nome\": \"Palmeiras\", \"abreviacao\": \"PAL\"}, \"status\": null, \"is_capitao\": null, \"preco\": null, \"entrou_em_campo\": true}\n",
      "{\"id\": 110667, \"apelido\": \"Machuca\", \"pontos\": 8.5, \"scout\": {\"FC\": 1, \"FF\": 1, \"G\": 1}, \"posicao\": [5, \"Atacante\", \"ata\"], \"clube\": {\"id\": 356, \"nome\": \"Fortaleza\", \"abreviacao\": \"FOR\"}, \"status\": null, \"is_capitao\": null, \"preco\": null, \"entrou_em_campo\": true}\n",
      "{\"id\": 110668, \"apelido\": \"Esquivel\", \"pontos\": 9.5, \"scout\": {\"DS\": 3, \"FC\": 3, \"FF\": 1, \"FS\": 2, \"SG\": 1}, \"posicao\": [2, \"Lateral\", \"lat\"], \"clube\": {\"id\": 293, \"nome\": \"Athl\\u00e9tico-PR\", \"abreviacao\": \"CAP\"}, \"status\": null, \"is_capitao\": null, \"preco\": null, \"entrou_em_campo\": true}\n",
      "{\"id\": 110715, \"apelido\": \"Andr\\u00e9s Hurtado\", \"pontos\": 4.8, \"scout\": {\"DS\": 4}, \"posicao\": [2, \"Lateral\", \"lat\"], \"clube\": {\"id\": 280, \"nome\": \"Bragantino\", \"abreviacao\": \"BGT\"}, \"status\": null, \"is_capitao\": null, \"preco\": null, \"entrou_em_campo\": true}\n",
      "{\"id\": 110759, \"apelido\": \"John Kennedy\", \"pontos\": 3, \"scout\": {\"DS\": 1, \"FF\": 1, \"FS\": 2}, \"posicao\": [5, \"Atacante\", \"ata\"], \"clube\": {\"id\": 266, \"nome\": \"Fluminense\", \"abreviacao\": \"FLU\"}, \"status\": null, \"is_capitao\": null, \"preco\": null, \"entrou_em_campo\": true}\n",
      "{\"id\": 110760, \"apelido\": \"Biel\", \"pontos\": 8.9, \"scout\": {\"FS\": 2, \"G\": 1, \"I\": 1}, \"posicao\": [5, \"Atacante\", \"ata\"], \"clube\": {\"id\": 265, \"nome\": \"Bahia\", \"abreviacao\": \"BAH\"}, \"status\": null, \"is_capitao\": null, \"preco\": null, \"entrou_em_campo\": true}\n",
      "{\"id\": 110909, \"apelido\": \"Guilherme Lopes\", \"pontos\": 1.6, \"scout\": {\"FF\": 2}, \"posicao\": [2, \"Lateral\", \"lat\"], \"clube\": {\"id\": 280, \"nome\": \"Bragantino\", \"abreviacao\": \"BGT\"}, \"status\": null, \"is_capitao\": null, \"preco\": null, \"entrou_em_campo\": true}\n",
      "{\"id\": 111246, \"apelido\": \"Alix Vinicius\", \"pontos\": -2.8, \"scout\": {\"CV\": 1, \"FC\": 2, \"FF\": 1}, \"posicao\": [3, \"Zagueiro\", \"zag\"], \"clube\": {\"id\": 373, \"nome\": \"Atl\\u00e9tico-GO\", \"abreviacao\": \"ACG\"}, \"status\": null, \"is_capitao\": null, \"preco\": null, \"entrou_em_campo\": true}\n",
      "{\"id\": 111309, \"apelido\": \"Gustavo Martins\", \"pontos\": 8.7, \"scout\": {\"FC\": 1, \"FS\": 2, \"G\": 1}, \"posicao\": [3, \"Zagueiro\", \"zag\"], \"clube\": {\"id\": 284, \"nome\": \"Gr\\u00eamio\", \"abreviacao\": \"GRE\"}, \"status\": null, \"is_capitao\": null, \"preco\": null, \"entrou_em_campo\": true}\n",
      "{\"id\": 111547, \"apelido\": \"Luiz Fernando Iubel\", \"pontos\": 1.63, \"scout\": {}, \"posicao\": [6, \"T\\u00e9cnico\", \"tec\"], \"clube\": {\"id\": 1371, \"nome\": \"Cuiab\\u00e1\", \"abreviacao\": \"CUI\"}, \"status\": null, \"is_capitao\": null, \"preco\": null, \"entrou_em_campo\": true}\n",
      "{\"id\": 111578, \"apelido\": \"Ant\\u00f3nio Oliveira\", \"pontos\": 4.77, \"scout\": {}, \"posicao\": [6, \"T\\u00e9cnico\", \"tec\"], \"clube\": {\"id\": 264, \"nome\": \"Corinthians\", \"abreviacao\": \"COR\"}, \"status\": null, \"is_capitao\": null, \"preco\": null, \"entrou_em_campo\": true}\n",
      "{\"id\": 111682, \"apelido\": \"Adson\", \"pontos\": 0.9, \"scout\": {\"DS\": 1, \"FC\": 1}, \"posicao\": [4, \"Meia\", \"mei\"], \"clube\": {\"id\": 267, \"nome\": \"Vasco\", \"abreviacao\": \"VAS\"}, \"status\": null, \"is_capitao\": null, \"preco\": null, \"entrou_em_campo\": true}\n",
      "{\"id\": 111760, \"apelido\": \"Fabinho\", \"pontos\": 0, \"scout\": {}, \"posicao\": [4, \"Meia\", \"mei\"], \"clube\": {\"id\": 275, \"nome\": \"Palmeiras\", \"abreviacao\": \"PAL\"}, \"status\": null, \"is_capitao\": null, \"preco\": null, \"entrou_em_campo\": true}\n",
      "{\"id\": 111839, \"apelido\": \"Felipe Andrade\", \"pontos\": 0, \"scout\": {}, \"posicao\": [3, \"Zagueiro\", \"zag\"], \"clube\": {\"id\": 266, \"nome\": \"Fluminense\", \"abreviacao\": \"FLU\"}, \"status\": null, \"is_capitao\": null, \"preco\": null, \"entrou_em_campo\": true}\n",
      "{\"id\": 112017, \"apelido\": \"Felipinho\", \"pontos\": 0.5, \"scout\": {\"FS\": 1}, \"posicao\": [4, \"Meia\", \"mei\"], \"clube\": {\"id\": 293, \"nome\": \"Athl\\u00e9tico-PR\", \"abreviacao\": \"CAP\"}, \"status\": null, \"is_capitao\": null, \"preco\": null, \"entrou_em_campo\": true}\n",
      "{\"id\": 112886, \"apelido\": \"Lucas Barbosa\", \"pontos\": 6.4, \"scout\": {\"DS\": 4, \"FF\": 2}, \"posicao\": [5, \"Atacante\", \"ata\"], \"clube\": {\"id\": 286, \"nome\": \"Juventude\", \"abreviacao\": \"JUV\"}, \"status\": null, \"is_capitao\": null, \"preco\": null, \"entrou_em_campo\": true}\n",
      "{\"id\": 112906, \"apelido\": \"Sforza\", \"pontos\": -0.1, \"scout\": {\"CA\": 1, \"DS\": 1, \"FC\": 1}, \"posicao\": [4, \"Meia\", \"mei\"], \"clube\": {\"id\": 267, \"nome\": \"Vasco\", \"abreviacao\": \"VAS\"}, \"status\": null, \"is_capitao\": null, \"preco\": null, \"entrou_em_campo\": true}\n",
      "{\"id\": 113103, \"apelido\": \"Flaco L\\u00f3pez\", \"pontos\": -0.8, \"scout\": {\"CA\": 1, \"FC\": 2, \"FF\": 1}, \"posicao\": [5, \"Atacante\", \"ata\"], \"clube\": {\"id\": 275, \"nome\": \"Palmeiras\", \"abreviacao\": \"PAL\"}, \"status\": null, \"is_capitao\": null, \"preco\": null, \"entrou_em_campo\": true}\n",
      "{\"id\": 113158, \"apelido\": \"Marquinhos\", \"pontos\": 5.6, \"scout\": {\"CA\": 1, \"FC\": 3, \"FD\": 1, \"FF\": 1, \"FS\": 5, \"FT\": 1}, \"posicao\": [5, \"Atacante\", \"ata\"], \"clube\": {\"id\": 266, \"nome\": \"Fluminense\", \"abreviacao\": \"FLU\"}, \"status\": null, \"is_capitao\": null, \"preco\": null, \"entrou_em_campo\": true}\n",
      "{\"id\": 113359, \"apelido\": \"Pablo Maia\", \"pontos\": 5, \"scout\": {\"DS\": 2, \"FC\": 1, \"FF\": 3, \"FS\": 1}, \"posicao\": [4, \"Meia\", \"mei\"], \"clube\": {\"id\": 276, \"nome\": \"S\\u00e3o Paulo\", \"abreviacao\": \"SAO\"}, \"status\": null, \"is_capitao\": null, \"preco\": null, \"entrou_em_campo\": true}\n",
      "{\"id\": 113687, \"apelido\": \"Du Queiroz\", \"pontos\": 4.1, \"scout\": {\"DS\": 3, \"FS\": 1}, \"posicao\": [4, \"Meia\", \"mei\"], \"clube\": {\"id\": 284, \"nome\": \"Gr\\u00eamio\", \"abreviacao\": \"GRE\"}, \"status\": null, \"is_capitao\": null, \"preco\": null, \"entrou_em_campo\": true}\n",
      "{\"id\": 114311, \"apelido\": \"Douglas Mendes\", \"pontos\": 0, \"scout\": {}, \"posicao\": [3, \"Zagueiro\", \"zag\"], \"clube\": {\"id\": 280, \"nome\": \"Bragantino\", \"abreviacao\": \"BGT\"}, \"status\": null, \"is_capitao\": null, \"preco\": null, \"entrou_em_campo\": true}\n",
      "{\"id\": 115246, \"apelido\": \"Naves\", \"pontos\": 5, \"scout\": {\"SG\": 1}, \"posicao\": [3, \"Zagueiro\", \"zag\"], \"clube\": {\"id\": 275, \"nome\": \"Palmeiras\", \"abreviacao\": \"PAL\"}, \"status\": null, \"is_capitao\": null, \"preco\": null, \"entrou_em_campo\": true}\n",
      "{\"id\": 115959, \"apelido\": \"Endrick\", \"pontos\": 5.4, \"scout\": {\"CA\": 1, \"DS\": 3, \"FC\": 1, \"FF\": 2, \"FS\": 3}, \"posicao\": [5, \"Atacante\", \"ata\"], \"clube\": {\"id\": 275, \"nome\": \"Palmeiras\", \"abreviacao\": \"PAL\"}, \"status\": null, \"is_capitao\": null, \"preco\": null, \"entrou_em_campo\": true}\n",
      "{\"id\": 116034, \"apelido\": \"Victor Hugo\", \"pontos\": 0, \"scout\": {}, \"posicao\": [4, \"Meia\", \"mei\"], \"clube\": {\"id\": 262, \"nome\": \"Flamengo\", \"abreviacao\": \"FLA\"}, \"status\": null, \"is_capitao\": null, \"preco\": null, \"entrou_em_campo\": true}\n",
      "{\"id\": 116056, \"apelido\": \"Z\\u00e9 Hugo\", \"pontos\": 0, \"scout\": {}, \"posicao\": [5, \"Atacante\", \"ata\"], \"clube\": {\"id\": 287, \"nome\": \"Vit\\u00f3ria\", \"abreviacao\": \"VIT\"}, \"status\": null, \"is_capitao\": null, \"preco\": null, \"entrou_em_campo\": true}\n",
      "{\"id\": 116065, \"apelido\": \"Cuiabano\", \"pontos\": 6.2, \"scout\": {\"A\": 1, \"FC\": 1, \"FS\": 3}, \"posicao\": [2, \"Lateral\", \"lat\"], \"clube\": {\"id\": 284, \"nome\": \"Gr\\u00eamio\", \"abreviacao\": \"GRE\"}, \"status\": null, \"is_capitao\": null, \"preco\": null, \"entrou_em_campo\": true}\n",
      "{\"id\": 116447, \"apelido\": \"H\\u00e9rcules\", \"pontos\": 0.2, \"scout\": {\"FC\": 1, \"FS\": 1}, \"posicao\": [4, \"Meia\", \"mei\"], \"clube\": {\"id\": 356, \"nome\": \"Fortaleza\", \"abreviacao\": \"FOR\"}, \"status\": null, \"is_capitao\": null, \"preco\": null, \"entrou_em_campo\": true}\n",
      "{\"id\": 117314, \"apelido\": \"Thiago Borbas\", \"pontos\": 10.1, \"scout\": {\"FC\": 1, \"FD\": 2, \"G\": 1}, \"posicao\": [5, \"Atacante\", \"ata\"], \"clube\": {\"id\": 280, \"nome\": \"Bragantino\", \"abreviacao\": \"BGT\"}, \"status\": null, \"is_capitao\": null, \"preco\": null, \"entrou_em_campo\": true}\n",
      "{\"id\": 117579, \"apelido\": \"Galoppo\", \"pontos\": 1.4, \"scout\": {\"DS\": 1, \"FC\": 1, \"FS\": 1}, \"posicao\": [4, \"Meia\", \"mei\"], \"clube\": {\"id\": 276, \"nome\": \"S\\u00e3o Paulo\", \"abreviacao\": \"SAO\"}, \"status\": null, \"is_capitao\": null, \"preco\": null, \"entrou_em_campo\": true}\n",
      "{\"id\": 117622, \"apelido\": \"Alejo Cruz\", \"pontos\": 0.4, \"scout\": {\"CA\": 1, \"DS\": 1, \"FC\": 1, \"FS\": 1}, \"posicao\": [5, \"Atacante\", \"ata\"], \"clube\": {\"id\": 373, \"nome\": \"Atl\\u00e9tico-GO\", \"abreviacao\": \"ACG\"}, \"status\": null, \"is_capitao\": null, \"preco\": null, \"entrou_em_campo\": true}\n",
      "{\"id\": 117632, \"apelido\": \"Garro\", \"pontos\": 5.6, \"scout\": {\"DS\": 2, \"FC\": 1, \"FD\": 1, \"FF\": 1, \"FS\": 3}, \"posicao\": [4, \"Meia\", \"mei\"], \"clube\": {\"id\": 264, \"nome\": \"Corinthians\", \"abreviacao\": \"COR\"}, \"status\": null, \"is_capitao\": null, \"preco\": null, \"entrou_em_campo\": true}\n",
      "{\"id\": 117711, \"apelido\": \"Pedro Caixinha\", \"pontos\": 5.06, \"scout\": {}, \"posicao\": [6, \"T\\u00e9cnico\", \"tec\"], \"clube\": {\"id\": 280, \"nome\": \"Bragantino\", \"abreviacao\": \"BGT\"}, \"status\": null, \"is_capitao\": null, \"preco\": null, \"entrou_em_campo\": true}\n",
      "{\"id\": 117909, \"apelido\": \"Wesley\", \"pontos\": 4.9, \"scout\": {\"DS\": 2, \"FD\": 1, \"FF\": 1, \"FS\": 1}, \"posicao\": [5, \"Atacante\", \"ata\"], \"clube\": {\"id\": 264, \"nome\": \"Corinthians\", \"abreviacao\": \"COR\"}, \"status\": null, \"is_capitao\": null, \"preco\": null, \"entrou_em_campo\": true}\n",
      "{\"id\": 118752, \"apelido\": \"Mateus Carvalho\", \"pontos\": 10.2, \"scout\": {\"DS\": 1, \"FS\": 2, \"G\": 1}, \"posicao\": [4, \"Meia\", \"mei\"], \"clube\": {\"id\": 267, \"nome\": \"Vasco\", \"abreviacao\": \"VAS\"}, \"status\": null, \"is_capitao\": null, \"preco\": null, \"entrou_em_campo\": true}\n",
      "{\"id\": 122321, \"apelido\": \"Lorran\", \"pontos\": 0, \"scout\": {}, \"posicao\": [4, \"Meia\", \"mei\"], \"clube\": {\"id\": 262, \"nome\": \"Flamengo\", \"abreviacao\": \"FLA\"}, \"status\": null, \"is_capitao\": null, \"preco\": null, \"entrou_em_campo\": true}\n",
      "{\"id\": 122394, \"apelido\": \"Gustavinho\", \"pontos\": 0.3, \"scout\": {\"DS\": 1, \"FC\": 3}, \"posicao\": [4, \"Meia\", \"mei\"], \"clube\": {\"id\": 280, \"nome\": \"Bragantino\", \"abreviacao\": \"BGT\"}, \"status\": null, \"is_capitao\": null, \"preco\": null, \"entrou_em_campo\": true}\n",
      "{\"id\": 122420, \"apelido\": \"Lucca\", \"pontos\": 0.7, \"scout\": {\"FC\": 1, \"FS\": 2}, \"posicao\": [5, \"Atacante\", \"ata\"], \"clube\": {\"id\": 285, \"nome\": \"Internacional\", \"abreviacao\": \"INT\"}, \"status\": null, \"is_capitao\": null, \"preco\": null, \"entrou_em_campo\": true}\n",
      "{\"id\": 122486, \"apelido\": \"Rayan\", \"pontos\": 4.1, \"scout\": {\"DS\": 1, \"FC\": 1, \"FF\": 4}, \"posicao\": [5, \"Atacante\", \"ata\"], \"clube\": {\"id\": 267, \"nome\": \"Vasco\", \"abreviacao\": \"VAS\"}, \"status\": null, \"is_capitao\": null, \"preco\": null, \"entrou_em_campo\": true}\n",
      "{\"id\": 122887, \"apelido\": \"Emiliano Rodr\\u00edguez\", \"pontos\": 2.9, \"scout\": {\"FC\": 1, \"FD\": 2, \"FS\": 2, \"I\": 2}, \"posicao\": [5, \"Atacante\", \"ata\"], \"clube\": {\"id\": 373, \"nome\": \"Atl\\u00e9tico-GO\", \"abreviacao\": \"ACG\"}, \"status\": null, \"is_capitao\": null, \"preco\": null, \"entrou_em_campo\": true}\n",
      "{\"id\": 123360, \"apelido\": \"Cauly\", \"pontos\": 1.2, \"scout\": {\"FD\": 1}, \"posicao\": [4, \"Meia\", \"mei\"], \"clube\": {\"id\": 265, \"nome\": \"Bahia\", \"abreviacao\": \"BAH\"}, \"status\": null, \"is_capitao\": null, \"preco\": null, \"entrou_em_campo\": true}\n",
      "{\"id\": 123713, \"apelido\": \"Luis Guilherme\", \"pontos\": 0, \"scout\": {}, \"posicao\": [4, \"Meia\", \"mei\"], \"clube\": {\"id\": 275, \"nome\": \"Palmeiras\", \"abreviacao\": \"PAL\"}, \"status\": null, \"is_capitao\": null, \"preco\": null, \"entrou_em_campo\": true}\n",
      "{\"id\": 123717, \"apelido\": \"Z\\u00e9 Guilherme\", \"pontos\": 0, \"scout\": {}, \"posicao\": [2, \"Lateral\", \"lat\"], \"clube\": {\"id\": 284, \"nome\": \"Gr\\u00eamio\", \"abreviacao\": \"GRE\"}, \"status\": null, \"is_capitao\": null, \"preco\": null, \"entrou_em_campo\": true}\n",
      "{\"id\": 124239, \"apelido\": \"Henry Mosquera\", \"pontos\": 0.5, \"scout\": {\"FS\": 1}, \"posicao\": [5, \"Atacante\", \"ata\"], \"clube\": {\"id\": 280, \"nome\": \"Bragantino\", \"abreviacao\": \"BGT\"}, \"status\": null, \"is_capitao\": null, \"preco\": null, \"entrou_em_campo\": true}\n",
      "{\"id\": 124271, \"apelido\": \"Gustavo Prado\", \"pontos\": 0, \"scout\": {}, \"posicao\": [4, \"Meia\", \"mei\"], \"clube\": {\"id\": 285, \"nome\": \"Internacional\", \"abreviacao\": \"INT\"}, \"status\": null, \"is_capitao\": null, \"preco\": null, \"entrou_em_campo\": true}\n",
      "{\"id\": 124340, \"apelido\": \"Allyson\", \"pontos\": 2.4, \"scout\": {\"DS\": 2}, \"posicao\": [3, \"Zagueiro\", \"zag\"], \"clube\": {\"id\": 1371, \"nome\": \"Cuiab\\u00e1\", \"abreviacao\": \"CUI\"}, \"status\": null, \"is_capitao\": null, \"preco\": null, \"entrou_em_campo\": true}\n",
      "{\"id\": 124481, \"apelido\": \"Mateo Ponte\", \"pontos\": 4.1, \"scout\": {\"DS\": 3, \"FS\": 1}, \"posicao\": [2, \"Lateral\", \"lat\"], \"clube\": {\"id\": 263, \"nome\": \"Botafogo\", \"abreviacao\": \"BOT\"}, \"status\": null, \"is_capitao\": null, \"preco\": null, \"entrou_em_campo\": true}\n",
      "{\"id\": 124757, \"apelido\": \"Nathan Fernandes\", \"pontos\": 2.9, \"scout\": {\"DS\": 1, \"FC\": 1, \"FD\": 1, \"FF\": 1}, \"posicao\": [5, \"Atacante\", \"ata\"], \"clube\": {\"id\": 284, \"nome\": \"Gr\\u00eamio\", \"abreviacao\": \"GRE\"}, \"status\": null, \"is_capitao\": null, \"preco\": null, \"entrou_em_campo\": true}\n",
      "{\"id\": 124821, \"apelido\": \"Kau\\u00e3 Elias\", \"pontos\": 0, \"scout\": {}, \"posicao\": [5, \"Atacante\", \"ata\"], \"clube\": {\"id\": 266, \"nome\": \"Fluminense\", \"abreviacao\": \"FLU\"}, \"status\": null, \"is_capitao\": null, \"preco\": null, \"entrou_em_campo\": true}\n",
      "{\"id\": 125926, \"apelido\": \"Zapelli\", \"pontos\": 4.4, \"scout\": {\"A\": 1, \"FC\": 2}, \"posicao\": [4, \"Meia\", \"mei\"], \"clube\": {\"id\": 293, \"nome\": \"Athl\\u00e9tico-PR\", \"abreviacao\": \"CAP\"}, \"status\": null, \"is_capitao\": null, \"preco\": null, \"entrou_em_campo\": true}\n",
      "{\"id\": 126117, \"apelido\": \"Gustavo Nunes\", \"pontos\": 0.2, \"scout\": {\"FC\": 1, \"FS\": 1}, \"posicao\": [5, \"Atacante\", \"ata\"], \"clube\": {\"id\": 284, \"nome\": \"Gr\\u00eamio\", \"abreviacao\": \"GRE\"}, \"status\": null, \"is_capitao\": null, \"preco\": null, \"entrou_em_campo\": true}\n",
      "{\"id\": 126216, \"apelido\": \"Derik Lacerda\", \"pontos\": 2.6, \"scout\": {\"CA\": 1, \"DS\": 2, \"FC\": 2, \"FF\": 1, \"FS\": 2}, \"posicao\": [5, \"Atacante\", \"ata\"], \"clube\": {\"id\": 1371, \"nome\": \"Cuiab\\u00e1\", \"abreviacao\": \"CUI\"}, \"status\": null, \"is_capitao\": null, \"preco\": null, \"entrou_em_campo\": true}\n",
      "{\"id\": 126471, \"apelido\": \"Barreal\", \"pontos\": 0, \"scout\": {}, \"posicao\": [5, \"Atacante\", \"ata\"], \"clube\": {\"id\": 283, \"nome\": \"Cruzeiro\", \"abreviacao\": \"CRU\"}, \"status\": null, \"is_capitao\": null, \"preco\": null, \"entrou_em_campo\": true}\n",
      "{\"id\": 126900, \"apelido\": \"Igor Coronado\", \"pontos\": 0, \"scout\": {}, \"posicao\": [4, \"Meia\", \"mei\"], \"clube\": {\"id\": 264, \"nome\": \"Corinthians\", \"abreviacao\": \"COR\"}, \"status\": null, \"is_capitao\": null, \"preco\": null, \"entrou_em_campo\": true}\n",
      "{\"id\": 126977, \"apelido\": \"Fernando Seabra\", \"pontos\": 6.11, \"scout\": {\"V\": 1}, \"posicao\": [6, \"T\\u00e9cnico\", \"tec\"], \"clube\": {\"id\": 283, \"nome\": \"Cruzeiro\", \"abreviacao\": \"CRU\"}, \"status\": null, \"is_capitao\": null, \"preco\": null, \"entrou_em_campo\": true}\n",
      "{\"id\": 127273, \"apelido\": \"Artur Jorge\", \"pontos\": 3.5, \"scout\": {}, \"posicao\": [6, \"T\\u00e9cnico\", \"tec\"], \"clube\": {\"id\": 263, \"nome\": \"Botafogo\", \"abreviacao\": \"BOT\"}, \"status\": null, \"is_capitao\": null, \"preco\": null, \"entrou_em_campo\": true}\n",
      "{\"id\": 128668, \"apelido\": \"William Gomes\", \"pontos\": 2.1, \"scout\": {\"FC\": 1, \"FD\": 2}, \"posicao\": [5, \"Atacante\", \"ata\"], \"clube\": {\"id\": 276, \"nome\": \"S\\u00e3o Paulo\", \"abreviacao\": \"SAO\"}, \"status\": null, \"is_capitao\": null, \"preco\": null, \"entrou_em_campo\": true}\n",
      "{\"id\": 128915, \"apelido\": \"Est\\u00eav\\u00e3o\", \"pontos\": 1.2, \"scout\": {\"DS\": 1}, \"posicao\": [5, \"Atacante\", \"ata\"], \"clube\": {\"id\": 275, \"nome\": \"Palmeiras\", \"abreviacao\": \"PAL\"}, \"status\": null, \"is_capitao\": null, \"preco\": null, \"entrou_em_campo\": true}\n",
      "{\"id\": 129666, \"apelido\": \"JP\", \"pontos\": 2.9, \"scout\": {\"DS\": 2, \"FS\": 1}, \"posicao\": [4, \"Meia\", \"mei\"], \"clube\": {\"id\": 267, \"nome\": \"Vasco\", \"abreviacao\": \"VAS\"}, \"status\": null, \"is_capitao\": null, \"preco\": null, \"entrou_em_campo\": true}\n",
      "{\"id\": 129766, \"apelido\": \"Max\", \"pontos\": 0, \"scout\": {}, \"posicao\": [5, \"Atacante\", \"ata\"], \"clube\": {\"id\": 373, \"nome\": \"Atl\\u00e9tico-GO\", \"abreviacao\": \"ACG\"}, \"status\": null, \"is_capitao\": null, \"preco\": null, \"entrou_em_campo\": true}\n",
      "{\"id\": 131617, \"apelido\": \"Andr\\u00e9 Silva\", \"pontos\": 8, \"scout\": {\"G\": 1}, \"posicao\": [5, \"Atacante\", \"ata\"], \"clube\": {\"id\": 276, \"nome\": \"S\\u00e3o Paulo\", \"abreviacao\": \"SAO\"}, \"status\": null, \"is_capitao\": null, \"preco\": null, \"entrou_em_campo\": true}\n",
      "{\"id\": 37457, \"apelido\": \"L\\u00e9o Cond\\u00e9\", \"pontos\": 2.65, \"scout\": {}, \"posicao\": [6, \"T\\u00e9cnico\", \"tec\"], \"clube\": {\"id\": 287, \"nome\": \"Vit\\u00f3ria\", \"abreviacao\": \"VIT\"}, \"status\": null, \"is_capitao\": null, \"preco\": null, \"entrou_em_campo\": true}\n",
      "{\"id\": 37656, \"apelido\": \"F\\u00e1bio\", \"pontos\": 4, \"scout\": {\"DE\": 6, \"GS\": 2}, \"posicao\": [1, \"Goleiro\", \"gol\"], \"clube\": {\"id\": 266, \"nome\": \"Fluminense\", \"abreviacao\": \"FLU\"}, \"status\": null, \"is_capitao\": null, \"preco\": null, \"entrou_em_campo\": true}\n",
      "{\"id\": 38394, \"apelido\": \"Thiago Heleno\", \"pontos\": 4.7, \"scout\": {\"FC\": 1, \"SG\": 1}, \"posicao\": [3, \"Zagueiro\", \"zag\"], \"clube\": {\"id\": 293, \"nome\": \"Athl\\u00e9tico-PR\", \"abreviacao\": \"CAP\"}, \"status\": null, \"is_capitao\": null, \"preco\": null, \"entrou_em_campo\": true}\n",
      "{\"id\": 38402, \"apelido\": \"Marcelo\", \"pontos\": 6.7, \"scout\": {\"DS\": 2, \"FC\": 1, \"FF\": 2, \"FT\": 1}, \"posicao\": [2, \"Lateral\", \"lat\"], \"clube\": {\"id\": 266, \"nome\": \"Fluminense\", \"abreviacao\": \"FLU\"}, \"status\": null, \"is_capitao\": null, \"preco\": null, \"entrou_em_campo\": true}\n",
      "{\"id\": 38545, \"apelido\": \"Felipe Melo\", \"pontos\": 1.5, \"scout\": {\"FC\": 1, \"FF\": 1, \"FS\": 2}, \"posicao\": [3, \"Zagueiro\", \"zag\"], \"clube\": {\"id\": 266, \"nome\": \"Fluminense\", \"abreviacao\": \"FLU\"}, \"status\": null, \"is_capitao\": null, \"preco\": null, \"entrou_em_campo\": true}\n",
      "{\"id\": 38913, \"apelido\": \"Nen\\u00ea\", \"pontos\": 1.9, \"scout\": {\"DS\": 1, \"FC\": 1, \"FD\": 1, \"I\": 2}, \"posicao\": [4, \"Meia\", \"mei\"], \"clube\": {\"id\": 286, \"nome\": \"Juventude\", \"abreviacao\": \"JUV\"}, \"status\": null, \"is_capitao\": null, \"preco\": null, \"entrou_em_campo\": true}\n",
      "{\"id\": 38959, \"apelido\": \"Vagner Love\", \"pontos\": -1, \"scout\": {\"CA\": 1}, \"posicao\": [5, \"Atacante\", \"ata\"], \"clube\": {\"id\": 373, \"nome\": \"Atl\\u00e9tico-GO\", \"abreviacao\": \"ACG\"}, \"status\": null, \"is_capitao\": null, \"preco\": null, \"entrou_em_campo\": false}\n",
      "{\"id\": 39148, \"apelido\": \"Hulk\", \"pontos\": -0.2, \"scout\": {\"CA\": 1, \"FC\": 2, \"FS\": 3, \"I\": 1}, \"posicao\": [5, \"Atacante\", \"ata\"], \"clube\": {\"id\": 282, \"nome\": \"Atl\\u00e9tico-MG\", \"abreviacao\": \"CAM\"}, \"status\": null, \"is_capitao\": null, \"preco\": null, \"entrou_em_campo\": true}\n",
      "{\"id\": 39656, \"apelido\": \"Alan Franco\", \"pontos\": 0.5, \"scout\": {\"FS\": 1}, \"posicao\": [4, \"Meia\", \"mei\"], \"clube\": {\"id\": 282, \"nome\": \"Atl\\u00e9tico-MG\", \"abreviacao\": \"CAM\"}, \"status\": null, \"is_capitao\": null, \"preco\": null, \"entrou_em_campo\": true}\n",
      "{\"id\": 41929, \"apelido\": \"Renato Ga\\u00facho\", \"pontos\": 3.03, \"scout\": {}, \"posicao\": [6, \"T\\u00e9cnico\", \"tec\"], \"clube\": {\"id\": 284, \"nome\": \"Gr\\u00eamio\", \"abreviacao\": \"GRE\"}, \"status\": null, \"is_capitao\": null, \"preco\": null, \"entrou_em_campo\": true}\n",
      "{\"id\": 42222, \"apelido\": \"Osvaldo\", \"pontos\": 2.2, \"scout\": {\"FD\": 1, \"FS\": 2}, \"posicao\": [5, \"Atacante\", \"ata\"], \"clube\": {\"id\": 287, \"nome\": \"Vit\\u00f3ria\", \"abreviacao\": \"VIT\"}, \"status\": null, \"is_capitao\": null, \"preco\": null, \"entrou_em_campo\": true}\n",
      "{\"id\": 42234, \"apelido\": \"C\\u00e1ssio\", \"pontos\": 8, \"scout\": {\"DE\": 3, \"SG\": 1}, \"posicao\": [1, \"Goleiro\", \"gol\"], \"clube\": {\"id\": 264, \"nome\": \"Corinthians\", \"abreviacao\": \"COR\"}, \"status\": null, \"is_capitao\": null, \"preco\": null, \"entrou_em_campo\": true}\n",
      "{\"id\": 42411, \"apelido\": \"Cuca\", \"pontos\": 10.81, \"scout\": {\"V\": 1}, \"posicao\": [6, \"T\\u00e9cnico\", \"tec\"], \"clube\": {\"id\": 293, \"nome\": \"Athl\\u00e9tico-PR\", \"abreviacao\": \"CAP\"}, \"status\": null, \"is_capitao\": null, \"preco\": null, \"entrou_em_campo\": true}\n",
      "{\"id\": 42500, \"apelido\": \"Fagner\", \"pontos\": 5.2, \"scout\": {\"CA\": 1, \"DS\": 1, \"SG\": 1}, \"posicao\": [2, \"Lateral\", \"lat\"], \"clube\": {\"id\": 264, \"nome\": \"Corinthians\", \"abreviacao\": \"COR\"}, \"status\": null, \"is_capitao\": null, \"preco\": null, \"entrou_em_campo\": true}\n",
      "{\"id\": 45125, \"apelido\": \"Tite\", \"pontos\": 4.08, \"scout\": {\"V\": 1}, \"posicao\": [6, \"T\\u00e9cnico\", \"tec\"], \"clube\": {\"id\": 262, \"nome\": \"Flamengo\", \"abreviacao\": \"FLA\"}, \"status\": null, \"is_capitao\": null, \"preco\": null, \"entrou_em_campo\": true}\n",
      "{\"id\": 50353, \"apelido\": \"Titi\", \"pontos\": -0.3, \"scout\": {\"FC\": 1}, \"posicao\": [3, \"Zagueiro\", \"zag\"], \"clube\": {\"id\": 356, \"nome\": \"Fortaleza\", \"abreviacao\": \"FOR\"}, \"status\": null, \"is_capitao\": null, \"preco\": null, \"entrou_em_campo\": true}\n",
      "{\"id\": 51413, \"apelido\": \"Walter\", \"pontos\": 1, \"scout\": {\"DE\": 5, \"GS\": 4}, \"posicao\": [1, \"Goleiro\", \"gol\"], \"clube\": {\"id\": 1371, \"nome\": \"Cuiab\\u00e1\", \"abreviacao\": \"CUI\"}, \"status\": null, \"is_capitao\": null, \"preco\": null, \"entrou_em_campo\": true}\n",
      "{\"id\": 51772, \"apelido\": \"Everton Ribeiro\", \"pontos\": 5.1, \"scout\": {\"DS\": 3, \"FC\": 1, \"FF\": 1, \"FS\": 2}, \"posicao\": [4, \"Meia\", \"mei\"], \"clube\": {\"id\": 265, \"nome\": \"Bahia\", \"abreviacao\": \"BAH\"}, \"status\": null, \"is_capitao\": null, \"preco\": null, \"entrou_em_campo\": true}\n",
      "{\"id\": 52271, \"apelido\": \"Fernando\", \"pontos\": 8.8, \"scout\": {\"CA\": 1, \"DS\": 2, \"FC\": 2, \"G\": 1}, \"posicao\": [4, \"Meia\", \"mei\"], \"clube\": {\"id\": 285, \"nome\": \"Internacional\", \"abreviacao\": \"INT\"}, \"status\": null, \"is_capitao\": null, \"preco\": null, \"entrou_em_campo\": true}\n",
      "{\"id\": 61188, \"apelido\": \"Gilberto\", \"pontos\": 0.8, \"scout\": {\"FF\": 1}, \"posicao\": [5, \"Atacante\", \"ata\"], \"clube\": {\"id\": 286, \"nome\": \"Juventude\", \"abreviacao\": \"JUV\"}, \"status\": null, \"is_capitao\": null, \"preco\": null, \"entrou_em_campo\": true}\n",
      "{\"id\": 62020, \"apelido\": \"Douglas Costa\", \"pontos\": 0.9, \"scout\": {\"DS\": 1, \"FC\": 1}, \"posicao\": [5, \"Atacante\", \"ata\"], \"clube\": {\"id\": 266, \"nome\": \"Fluminense\", \"abreviacao\": \"FLU\"}, \"status\": null, \"is_capitao\": null, \"preco\": null, \"entrou_em_campo\": true}\n",
      "{\"id\": 62977, \"apelido\": \"Ganso\", \"pontos\": 11.7, \"scout\": {\"A\": 2, \"DS\": 1, \"FS\": 1}, \"posicao\": [4, \"Meia\", \"mei\"], \"clube\": {\"id\": 266, \"nome\": \"Fluminense\", \"abreviacao\": \"FLU\"}, \"status\": null, \"is_capitao\": null, \"preco\": null, \"entrou_em_campo\": true}\n",
      "{\"id\": 68928, \"apelido\": \"Rafael\", \"pontos\": -2, \"scout\": {\"GS\": 2}, \"posicao\": [1, \"Goleiro\", \"gol\"], \"clube\": {\"id\": 276, \"nome\": \"S\\u00e3o Paulo\", \"abreviacao\": \"SAO\"}, \"status\": null, \"is_capitao\": null, \"preco\": null, \"entrou_em_campo\": true}\n",
      "{\"id\": 68952, \"apelido\": \"Marinho\", \"pontos\": 0.6, \"scout\": {\"FC\": 1, \"FS\": 2, \"I\": 1}, \"posicao\": [5, \"Atacante\", \"ata\"], \"clube\": {\"id\": 356, \"nome\": \"Fortaleza\", \"abreviacao\": \"FOR\"}, \"status\": null, \"is_capitao\": null, \"preco\": null, \"entrou_em_campo\": true}\n",
      "{\"id\": 68954, \"apelido\": \"Marquinhos Gabriel\", \"pontos\": 1.6, \"scout\": {\"CA\": 1, \"DS\": 1, \"FC\": 1, \"FD\": 1, \"FS\": 1}, \"posicao\": [4, \"Meia\", \"mei\"], \"clube\": {\"id\": 288, \"nome\": \"Crici\\u00fama\", \"abreviacao\": \"CRI\"}, \"status\": null, \"is_capitao\": null, \"preco\": null, \"entrou_em_campo\": true}\n",
      "{\"id\": 68991, \"apelido\": \"Lucas Sasha\", \"pontos\": 6, \"scout\": {\"DS\": 5}, \"posicao\": [4, \"Meia\", \"mei\"], \"clube\": {\"id\": 356, \"nome\": \"Fortaleza\", \"abreviacao\": \"FOR\"}, \"status\": null, \"is_capitao\": null, \"preco\": null, \"entrou_em_campo\": true}\n",
      "{\"id\": 69034, \"apelido\": \"Paulinho\", \"pontos\": 0.8, \"scout\": {\"FF\": 1}, \"posicao\": [4, \"Meia\", \"mei\"], \"clube\": {\"id\": 264, \"nome\": \"Corinthians\", \"abreviacao\": \"COR\"}, \"status\": null, \"is_capitao\": null, \"preco\": null, \"entrou_em_campo\": true}\n",
      "{\"id\": 69063, \"apelido\": \"James Rodr\\u00edguez\", \"pontos\": 0, \"scout\": {}, \"posicao\": [4, \"Meia\", \"mei\"], \"clube\": {\"id\": 276, \"nome\": \"S\\u00e3o Paulo\", \"abreviacao\": \"SAO\"}, \"status\": null, \"is_capitao\": null, \"preco\": null, \"entrou_em_campo\": true}\n",
      "{\"id\": 69102, \"apelido\": \"Vargas\", \"pontos\": 0.5, \"scout\": {\"FS\": 1}, \"posicao\": [5, \"Atacante\", \"ata\"], \"clube\": {\"id\": 282, \"nome\": \"Atl\\u00e9tico-MG\", \"abreviacao\": \"CAM\"}, \"status\": null, \"is_capitao\": null, \"preco\": null, \"entrou_em_campo\": true}\n",
      "{\"id\": 69138, \"apelido\": \"Pablo\", \"pontos\": 9.4, \"scout\": {\"FC\": 2, \"FD\": 1, \"FF\": 1, \"G\": 1}, \"posicao\": [5, \"Atacante\", \"ata\"], \"clube\": {\"id\": 293, \"nome\": \"Athl\\u00e9tico-PR\", \"abreviacao\": \"CAP\"}, \"status\": null, \"is_capitao\": null, \"preco\": null, \"entrou_em_campo\": true}\n",
      "{\"id\": 69355, \"apelido\": \"Medel\", \"pontos\": -0.3, \"scout\": {\"FC\": 1}, \"posicao\": [3, \"Zagueiro\", \"zag\"], \"clube\": {\"id\": 267, \"nome\": \"Vasco\", \"abreviacao\": \"VAS\"}, \"status\": null, \"is_capitao\": null, \"preco\": null, \"entrou_em_campo\": true}\n",
      "{\"id\": 69686, \"apelido\": \"Jo\\u00e3o Pedro Galv\\u00e3o\", \"pontos\": 0.7, \"scout\": {\"CA\": 1, \"DS\": 1, \"FS\": 1}, \"posicao\": [5, \"Atacante\", \"ata\"], \"clube\": {\"id\": 284, \"nome\": \"Gr\\u00eamio\", \"abreviacao\": \"GRE\"}, \"status\": null, \"is_capitao\": null, \"preco\": null, \"entrou_em_campo\": true}\n",
      "{\"id\": 70316, \"apelido\": \"Diego Costa\", \"pontos\": 1, \"scout\": {\"FS\": 2}, \"posicao\": [5, \"Atacante\", \"ata\"], \"clube\": {\"id\": 284, \"nome\": \"Gr\\u00eamio\", \"abreviacao\": \"GRE\"}, \"status\": null, \"is_capitao\": null, \"preco\": null, \"entrou_em_campo\": true}\n",
      "{\"id\": 70332, \"apelido\": \"Marches\\u00edn\", \"pontos\": -1, \"scout\": {\"DE\": 1, \"GS\": 2}, \"posicao\": [1, \"Goleiro\", \"gol\"], \"clube\": {\"id\": 284, \"nome\": \"Gr\\u00eamio\", \"abreviacao\": \"GRE\"}, \"status\": null, \"is_capitao\": null, \"preco\": null, \"entrou_em_campo\": true}\n",
      "{\"id\": 70360, \"apelido\": \"Eduardo Sasha\", \"pontos\": 13.5, \"scout\": {\"DS\": 2, \"FC\": 2, \"FD\": 2, \"FF\": 1, \"FS\": 1, \"G\": 1}, \"posicao\": [5, \"Atacante\", \"ata\"], \"clube\": {\"id\": 280, \"nome\": \"Bragantino\", \"abreviacao\": \"BGT\"}, \"status\": null, \"is_capitao\": null, \"preco\": null, \"entrou_em_campo\": true}\n",
      "{\"id\": 70449, \"apelido\": \"Gabriel\", \"pontos\": 0.5, \"scout\": {\"CA\": 1, \"DE\": 2, \"FS\": 1, \"GS\": 1}, \"posicao\": [1, \"Goleiro\", \"gol\"], \"clube\": {\"id\": 286, \"nome\": \"Juventude\", \"abreviacao\": \"JUV\"}, \"status\": null, \"is_capitao\": null, \"preco\": null, \"entrou_em_campo\": true}\n",
      "{\"id\": 70666, \"apelido\": \"Marllon\", \"pontos\": 0.5, \"scout\": {\"FS\": 1}, \"posicao\": [3, \"Zagueiro\", \"zag\"], \"clube\": {\"id\": 1371, \"nome\": \"Cuiab\\u00e1\", \"abreviacao\": \"CUI\"}, \"status\": null, \"is_capitao\": null, \"preco\": null, \"entrou_em_campo\": true}\n",
      "{\"id\": 70944, \"apelido\": \"Bruno Henrique\", \"pontos\": 6.2, \"scout\": {\"A\": 1, \"DS\": 1}, \"posicao\": [4, \"Meia\", \"mei\"], \"clube\": {\"id\": 285, \"nome\": \"Internacional\", \"abreviacao\": \"INT\"}, \"status\": null, \"is_capitao\": null, \"preco\": null, \"entrou_em_campo\": true}\n",
      "{\"id\": 70958, \"apelido\": \"Jean Carlos\", \"pontos\": 9.3, \"scout\": {\"CA\": 1, \"DS\": 2, \"FC\": 2, \"FS\": 1, \"G\": 1}, \"posicao\": [4, \"Meia\", \"mei\"], \"clube\": {\"id\": 286, \"nome\": \"Juventude\", \"abreviacao\": \"JUV\"}, \"status\": null, \"is_capitao\": null, \"preco\": null, \"entrou_em_campo\": true}\n",
      "{\"id\": 71038, \"apelido\": \"Pedro Henrique\", \"pontos\": 1.2, \"scout\": {\"DS\": 1}, \"posicao\": [3, \"Zagueiro\", \"zag\"], \"clube\": {\"id\": 373, \"nome\": \"Atl\\u00e9tico-GO\", \"abreviacao\": \"ACG\"}, \"status\": null, \"is_capitao\": null, \"preco\": null, \"entrou_em_campo\": true}\n",
      "{\"id\": 71631, \"apelido\": \"Weverton\", \"pontos\": 10, \"scout\": {\"DE\": 5, \"SG\": 1}, \"posicao\": [1, \"Goleiro\", \"gol\"], \"clube\": {\"id\": 275, \"nome\": \"Palmeiras\", \"abreviacao\": \"PAL\"}, \"status\": null, \"is_capitao\": null, \"preco\": null, \"entrou_em_campo\": true}\n",
      "{\"id\": 71701, \"apelido\": \"Santiago Arias\", \"pontos\": 2.8, \"scout\": {\"DS\": 2, \"FC\": 2, \"FS\": 2}, \"posicao\": [2, \"Lateral\", \"lat\"], \"clube\": {\"id\": 265, \"nome\": \"Bahia\", \"abreviacao\": \"BAH\"}, \"status\": null, \"is_capitao\": null, \"preco\": null, \"entrou_em_campo\": true}\n",
      "{\"id\": 72294, \"apelido\": \"Everson\", \"pontos\": 6.5, \"scout\": {\"CA\": 1, \"DE\": 2, \"FS\": 1, \"SG\": 1}, \"posicao\": [1, \"Goleiro\", \"gol\"], \"clube\": {\"id\": 282, \"nome\": \"Atl\\u00e9tico-MG\", \"abreviacao\": \"CAM\"}, \"status\": null, \"is_capitao\": null, \"preco\": null, \"entrou_em_campo\": true}\n",
      "{\"id\": 72391, \"apelido\": \"Fernando Diniz\", \"pontos\": 5.9, \"scout\": {}, \"posicao\": [6, \"T\\u00e9cnico\", \"tec\"], \"clube\": {\"id\": 266, \"nome\": \"Fluminense\", \"abreviacao\": \"FLU\"}, \"status\": null, \"is_capitao\": null, \"preco\": null, \"entrou_em_campo\": true}\n",
      "{\"id\": 72532, \"apelido\": \"Maguinho\", \"pontos\": 3.4, \"scout\": {\"A\": 1, \"CV\": 1, \"DS\": 2, \"PC\": 1}, \"posicao\": [2, \"Lateral\", \"lat\"], \"clube\": {\"id\": 373, \"nome\": \"Atl\\u00e9tico-GO\", \"abreviacao\": \"ACG\"}, \"status\": null, \"is_capitao\": null, \"preco\": null, \"entrou_em_campo\": true}\n",
      "{\"id\": 72772, \"apelido\": \"Luiz Adriano\", \"pontos\": 0.1, \"scout\": {\"FC\": 1, \"FS\": 1, \"I\": 1}, \"posicao\": [5, \"Atacante\", \"ata\"], \"clube\": {\"id\": 287, \"nome\": \"Vit\\u00f3ria\", \"abreviacao\": \"VIT\"}, \"status\": null, \"is_capitao\": null, \"preco\": null, \"entrou_em_campo\": true}\n",
      "{\"id\": 72775, \"apelido\": \"Fernandinho\", \"pontos\": 10.5, \"scout\": {\"A\": 1, \"DS\": 2, \"FC\": 1, \"FD\": 2, \"FS\": 2}, \"posicao\": [4, \"Meia\", \"mei\"], \"clube\": {\"id\": 293, \"nome\": \"Athl\\u00e9tico-PR\", \"abreviacao\": \"CAP\"}, \"status\": null, \"is_capitao\": null, \"preco\": null, \"entrou_em_campo\": true}\n",
      "{\"id\": 72951, \"apelido\": \"Mercado\", \"pontos\": 1.9, \"scout\": {\"CA\": 1, \"DS\": 2, \"FS\": 1}, \"posicao\": [3, \"Zagueiro\", \"zag\"], \"clube\": {\"id\": 285, \"nome\": \"Internacional\", \"abreviacao\": \"INT\"}, \"status\": null, \"is_capitao\": null, \"preco\": null, \"entrou_em_campo\": true}\n",
      "{\"id\": 73384, \"apelido\": \"Samuel Xavier\", \"pontos\": 2, \"scout\": {\"FD\": 1, \"FF\": 1}, \"posicao\": [2, \"Lateral\", \"lat\"], \"clube\": {\"id\": 266, \"nome\": \"Fluminense\", \"abreviacao\": \"FLU\"}, \"status\": null, \"is_capitao\": null, \"preco\": null, \"entrou_em_campo\": true}\n",
      "{\"id\": 73991, \"apelido\": \"Walisson Maia\", \"pontos\": 0, \"scout\": {}, \"posicao\": [3, \"Zagueiro\", \"zag\"], \"clube\": {\"id\": 288, \"nome\": \"Crici\\u00fama\", \"abreviacao\": \"CRI\"}, \"status\": null, \"is_capitao\": null, \"preco\": null, \"entrou_em_campo\": true}\n",
      "{\"id\": 74061, \"apelido\": \"Gatito Fern\\u00e1ndez\", \"pontos\": 0, \"scout\": {\"DE\": 3, \"GS\": 3}, \"posicao\": [1, \"Goleiro\", \"gol\"], \"clube\": {\"id\": 263, \"nome\": \"Botafogo\", \"abreviacao\": \"BOT\"}, \"status\": null, \"is_capitao\": null, \"preco\": null, \"entrou_em_campo\": true}\n",
      "{\"id\": 78117, \"apelido\": \"Everaldo\", \"pontos\": -1.3, \"scout\": {\"CA\": 1, \"FC\": 1}, \"posicao\": [5, \"Atacante\", \"ata\"], \"clube\": {\"id\": 265, \"nome\": \"Bahia\", \"abreviacao\": \"BAH\"}, \"status\": null, \"is_capitao\": null, \"preco\": null, \"entrou_em_campo\": true}\n",
      "{\"id\": 78248, \"apelido\": \"Gustavo Henrique\", \"pontos\": 7, \"scout\": {\"DS\": 2, \"FC\": 3, \"FS\": 1, \"SG\": 1}, \"posicao\": [3, \"Zagueiro\", \"zag\"], \"clube\": {\"id\": 264, \"nome\": \"Corinthians\", \"abreviacao\": \"COR\"}, \"status\": null, \"is_capitao\": null, \"preco\": null, \"entrou_em_campo\": true}\n",
      "{\"id\": 78445, \"apelido\": \"Ren\\u00ea\", \"pontos\": 10.8, \"scout\": {\"A\": 1, \"DS\": 3, \"FD\": 1, \"FS\": 2}, \"posicao\": [2, \"Lateral\", \"lat\"], \"clube\": {\"id\": 285, \"nome\": \"Internacional\", \"abreviacao\": \"INT\"}, \"status\": null, \"is_capitao\": null, \"preco\": null, \"entrou_em_campo\": true}\n",
      "{\"id\": 78450, \"apelido\": \"Cl\\u00e1udio Tencati\", \"pontos\": 3.37, \"scout\": {}, \"posicao\": [6, \"T\\u00e9cnico\", \"tec\"], \"clube\": {\"id\": 288, \"nome\": \"Crici\\u00fama\", \"abreviacao\": \"CRI\"}, \"status\": null, \"is_capitao\": null, \"preco\": null, \"entrou_em_campo\": true}\n",
      "{\"id\": 78548, \"apelido\": \"Jean Mota\", \"pontos\": 0, \"scout\": {}, \"posicao\": [4, \"Meia\", \"mei\"], \"clube\": {\"id\": 287, \"nome\": \"Vit\\u00f3ria\", \"abreviacao\": \"VIT\"}, \"status\": null, \"is_capitao\": null, \"preco\": null, \"entrou_em_campo\": true}\n",
      "{\"id\": 78580, \"apelido\": \"Jonathan Cafu\", \"pontos\": 0.5, \"scout\": {\"FS\": 1}, \"posicao\": [5, \"Atacante\", \"ata\"], \"clube\": {\"id\": 1371, \"nome\": \"Cuiab\\u00e1\", \"abreviacao\": \"CUI\"}, \"status\": null, \"is_capitao\": null, \"preco\": null, \"entrou_em_campo\": true}\n",
      "{\"id\": 78715, \"apelido\": \"Ramiro\", \"pontos\": 1.4, \"scout\": {\"DS\": 1, \"FC\": 1, \"FS\": 1}, \"posicao\": [4, \"Meia\", \"mei\"], \"clube\": {\"id\": 283, \"nome\": \"Cruzeiro\", \"abreviacao\": \"CRU\"}, \"status\": null, \"is_capitao\": null, \"preco\": null, \"entrou_em_campo\": true}\n",
      "{\"id\": 79035, \"apelido\": \"Luiz Felipe\", \"pontos\": 1, \"scout\": {\"PS\": 1}, \"posicao\": [3, \"Zagueiro\", \"zag\"], \"clube\": {\"id\": 373, \"nome\": \"Atl\\u00e9tico-GO\", \"abreviacao\": \"ACG\"}, \"status\": null, \"is_capitao\": null, \"preco\": null, \"entrou_em_campo\": true}\n",
      "{\"id\": 79113, \"apelido\": \"V\\u00edctor Cuesta\", \"pontos\": 1.6, \"scout\": {\"DS\": 1, \"FC\": 2, \"FS\": 2}, \"posicao\": [3, \"Zagueiro\", \"zag\"], \"clube\": {\"id\": 265, \"nome\": \"Bahia\", \"abreviacao\": \"BAH\"}, \"status\": null, \"is_capitao\": null, \"preco\": null, \"entrou_em_campo\": true}\n",
      "{\"id\": 79268, \"apelido\": \"Filipe Augusto\", \"pontos\": -1.6, \"scout\": {\"CA\": 1, \"FC\": 2}, \"posicao\": [4, \"Meia\", \"mei\"], \"clube\": {\"id\": 1371, \"nome\": \"Cuiab\\u00e1\", \"abreviacao\": \"CUI\"}, \"status\": null, \"is_capitao\": null, \"preco\": null, \"entrou_em_campo\": true}\n",
      "{\"id\": 79437, \"apelido\": \"Roger Machado\", \"pontos\": 3.35, \"scout\": {}, \"posicao\": [6, \"T\\u00e9cnico\", \"tec\"], \"clube\": {\"id\": 286, \"nome\": \"Juventude\", \"abreviacao\": \"JUV\"}, \"status\": null, \"is_capitao\": null, \"preco\": null, \"entrou_em_campo\": true}\n",
      "{\"id\": 79631, \"apelido\": \"Cano\", \"pontos\": 5.7, \"scout\": {\"FD\": 3, \"FF\": 2, \"FS\": 1}, \"posicao\": [5, \"Atacante\", \"ata\"], \"clube\": {\"id\": 266, \"nome\": \"Fluminense\", \"abreviacao\": \"FLU\"}, \"status\": null, \"is_capitao\": null, \"preco\": null, \"entrou_em_campo\": true}\n",
      "{\"id\": 79701, \"apelido\": \"Lucas Silva\", \"pontos\": 8.9, \"scout\": {\"DS\": 1, \"FC\": 1, \"G\": 1}, \"posicao\": [4, \"Meia\", \"mei\"], \"clube\": {\"id\": 283, \"nome\": \"Cruzeiro\", \"abreviacao\": \"CRU\"}, \"status\": null, \"is_capitao\": null, \"preco\": null, \"entrou_em_campo\": true}\n",
      "{\"id\": 80129, \"apelido\": \"Jadson\", \"pontos\": 10, \"scout\": {\"A\": 1, \"DS\": 3, \"FC\": 1, \"FD\": 1, \"FS\": 1}, \"posicao\": [4, \"Meia\", \"mei\"], \"clube\": {\"id\": 286, \"nome\": \"Juventude\", \"abreviacao\": \"JUV\"}, \"status\": null, \"is_capitao\": null, \"preco\": null, \"entrou_em_campo\": true}\n",
      "{\"id\": 80196, \"apelido\": \"Yago Pikachu\", \"pontos\": 1, \"scout\": {\"FS\": 2}, \"posicao\": [4, \"Meia\", \"mei\"], \"clube\": {\"id\": 356, \"nome\": \"Fortaleza\", \"abreviacao\": \"FOR\"}, \"status\": null, \"is_capitao\": null, \"preco\": null, \"entrou_em_campo\": true}\n",
      "{\"id\": 80225, \"apelido\": \"Rafa Silva\", \"pontos\": 9.6, \"scout\": {\"CA\": 1, \"DS\": 1, \"FS\": 3, \"G\": 1, \"I\": 1}, \"posicao\": [5, \"Atacante\", \"ata\"], \"clube\": {\"id\": 283, \"nome\": \"Cruzeiro\", \"abreviacao\": \"CRU\"}, \"status\": null, \"is_capitao\": null, \"preco\": null, \"entrou_em_campo\": true}\n",
      "{\"id\": 80287, \"apelido\": \"Luciano\", \"pontos\": 2.1, \"scout\": {\"CA\": 1, \"FC\": 3, \"FS\": 2, \"FT\": 1}, \"posicao\": [5, \"Atacante\", \"ata\"], \"clube\": {\"id\": 276, \"nome\": \"S\\u00e3o Paulo\", \"abreviacao\": \"SAO\"}, \"status\": null, \"is_capitao\": null, \"preco\": null, \"entrou_em_campo\": true}\n",
      "{\"id\": 80337, \"apelido\": \"Arthur Ca\\u00edke\", \"pontos\": 0, \"scout\": {}, \"posicao\": [5, \"Atacante\", \"ata\"], \"clube\": {\"id\": 288, \"nome\": \"Crici\\u00fama\", \"abreviacao\": \"CRI\"}, \"status\": null, \"is_capitao\": null, \"preco\": null, \"entrou_em_campo\": true}\n",
      "{\"id\": 80692, \"apelido\": \"Luan\", \"pontos\": 7.4, \"scout\": {\"DS\": 2, \"SG\": 1}, \"posicao\": [3, \"Zagueiro\", \"zag\"], \"clube\": {\"id\": 275, \"nome\": \"Palmeiras\", \"abreviacao\": \"PAL\"}, \"status\": null, \"is_capitao\": null, \"preco\": null, \"entrou_em_campo\": true}\n",
      "{\"id\": 81150, \"apelido\": \"Mayke\", \"pontos\": 7.9, \"scout\": {\"CA\": 1, \"DS\": 4, \"FC\": 3, \"SG\": 1}, \"posicao\": [2, \"Lateral\", \"lat\"], \"clube\": {\"id\": 275, \"nome\": \"Palmeiras\", \"abreviacao\": \"PAL\"}, \"status\": null, \"is_capitao\": null, \"preco\": null, \"entrou_em_campo\": true}\n",
      "{\"id\": 81798, \"apelido\": \"Rossi\", \"pontos\": 6.8, \"scout\": {\"A\": 1, \"CA\": 1, \"DS\": 2, \"FC\": 2, \"FS\": 2}, \"posicao\": [5, \"Atacante\", \"ata\"], \"clube\": {\"id\": 267, \"nome\": \"Vasco\", \"abreviacao\": \"VAS\"}, \"status\": null, \"is_capitao\": null, \"preco\": null, \"entrou_em_campo\": true}\n",
      "{\"id\": 81845, \"apelido\": \"Alisson\", \"pontos\": 1.9, \"scout\": {\"FC\": 1, \"FD\": 1, \"FS\": 2}, \"posicao\": [4, \"Meia\", \"mei\"], \"clube\": {\"id\": 276, \"nome\": \"S\\u00e3o Paulo\", \"abreviacao\": \"SAO\"}, \"status\": null, \"is_capitao\": null, \"preco\": null, \"entrou_em_campo\": true}\n",
      "{\"id\": 81881, \"apelido\": \"Jo\\u00e3o Ricardo\", \"pontos\": 4, \"scout\": {\"DE\": 5, \"GS\": 1}, \"posicao\": [1, \"Goleiro\", \"gol\"], \"clube\": {\"id\": 356, \"nome\": \"Fortaleza\", \"abreviacao\": \"FOR\"}, \"status\": null, \"is_capitao\": null, \"preco\": null, \"entrou_em_campo\": true}\n",
      "{\"id\": 81952, \"apelido\": \"Willian Oliveira\", \"pontos\": 4.3, \"scout\": {\"DS\": 2, \"FC\": 3, \"FF\": 1, \"FS\": 4}, \"posicao\": [4, \"Meia\", \"mei\"], \"clube\": {\"id\": 287, \"nome\": \"Vit\\u00f3ria\", \"abreviacao\": \"VIT\"}, \"status\": null, \"is_capitao\": null, \"preco\": null, \"entrou_em_campo\": true}\n",
      "{\"id\": 82463, \"apelido\": \"Ot\\u00e1vio\", \"pontos\": 3.1, \"scout\": {\"DS\": 2, \"FC\": 1, \"FS\": 2}, \"posicao\": [4, \"Meia\", \"mei\"], \"clube\": {\"id\": 282, \"nome\": \"Atl\\u00e9tico-MG\", \"abreviacao\": \"CAM\"}, \"status\": null, \"is_capitao\": null, \"preco\": null, \"entrou_em_campo\": true}\n",
      "{\"id\": 82627, \"apelido\": \"Luiz Ara\\u00fajo\", \"pontos\": 1.6, \"scout\": {\"DS\": 1, \"FC\": 2, \"FS\": 2}, \"posicao\": [5, \"Atacante\", \"ata\"], \"clube\": {\"id\": 262, \"nome\": \"Flamengo\", \"abreviacao\": \"FLA\"}, \"status\": null, \"is_capitao\": null, \"preco\": null, \"entrou_em_campo\": true}\n",
      "{\"id\": 82628, \"apelido\": \"Tinga\", \"pontos\": 0, \"scout\": {}, \"posicao\": [2, \"Lateral\", \"lat\"], \"clube\": {\"id\": 356, \"nome\": \"Fortaleza\", \"abreviacao\": \"FOR\"}, \"status\": null, \"is_capitao\": null, \"preco\": null, \"entrou_em_campo\": true}\n",
      "{\"id\": 82639, \"apelido\": \"Marcelo Hermes\", \"pontos\": 7, \"scout\": {\"A\": 1, \"DS\": 1, \"FF\": 1}, \"posicao\": [2, \"Lateral\", \"lat\"], \"clube\": {\"id\": 288, \"nome\": \"Crici\\u00fama\", \"abreviacao\": \"CRI\"}, \"status\": null, \"is_capitao\": null, \"preco\": null, \"entrou_em_campo\": true}\n",
      "{\"id\": 83528, \"apelido\": \"L\\u00e9o Pereira\", \"pontos\": -1.2, \"scout\": {\"CA\": 1, \"FF\": 1, \"PC\": 1}, \"posicao\": [3, \"Zagueiro\", \"zag\"], \"clube\": {\"id\": 262, \"nome\": \"Flamengo\", \"abreviacao\": \"FLA\"}, \"status\": null, \"is_capitao\": null, \"preco\": null, \"entrou_em_campo\": true}\n",
      "{\"id\": 83786, \"apelido\": \"Neris\", \"pontos\": 4.5, \"scout\": {\"DS\": 3, \"FC\": 1, \"FD\": 1}, \"posicao\": [3, \"Zagueiro\", \"zag\"], \"clube\": {\"id\": 283, \"nome\": \"Cruzeiro\", \"abreviacao\": \"CRU\"}, \"status\": null, \"is_capitao\": null, \"preco\": null, \"entrou_em_campo\": true}\n",
      "{\"id\": 83817, \"apelido\": \"Clayson\", \"pontos\": 0, \"scout\": {}, \"posicao\": [5, \"Atacante\", \"ata\"], \"clube\": {\"id\": 1371, \"nome\": \"Cuiab\\u00e1\", \"abreviacao\": \"CUI\"}, \"status\": null, \"is_capitao\": null, \"preco\": null, \"entrou_em_campo\": true}\n",
      "{\"id\": 84042, \"apelido\": \"Tiquinho Soares\", \"pontos\": 9, \"scout\": {\"FS\": 2, \"G\": 1}, \"posicao\": [5, \"Atacante\", \"ata\"], \"clube\": {\"id\": 263, \"nome\": \"Botafogo\", \"abreviacao\": \"BOT\"}, \"status\": null, \"is_capitao\": null, \"preco\": null, \"entrou_em_campo\": true}\n",
      "{\"id\": 84263, \"apelido\": \"Jemerson\", \"pontos\": 4.2, \"scout\": {\"CA\": 1, \"FC\": 1, \"FS\": 1, \"SG\": 1}, \"posicao\": [3, \"Zagueiro\", \"zag\"], \"clube\": {\"id\": 282, \"nome\": \"Atl\\u00e9tico-MG\", \"abreviacao\": \"CAM\"}, \"status\": null, \"is_capitao\": null, \"preco\": null, \"entrou_em_campo\": true}\n",
      "{\"id\": 84266, \"apelido\": \"Alisson\", \"pontos\": 2, \"scout\": {\"DE\": 3, \"GS\": 1}, \"posicao\": [1, \"Goleiro\", \"gol\"], \"clube\": {\"id\": 288, \"nome\": \"Crici\\u00fama\", \"abreviacao\": \"CRI\"}, \"status\": null, \"is_capitao\": null, \"preco\": null, \"entrou_em_campo\": true}\n",
      "{\"id\": 84428, \"apelido\": \"Fernando Sobral\", \"pontos\": 2.4, \"scout\": {\"DS\": 2}, \"posicao\": [4, \"Meia\", \"mei\"], \"clube\": {\"id\": 1371, \"nome\": \"Cuiab\\u00e1\", \"abreviacao\": \"CUI\"}, \"status\": null, \"is_capitao\": null, \"preco\": null, \"entrou_em_campo\": true}\n",
      "{\"id\": 84558, \"apelido\": \"Lucas Romero\", \"pontos\": 4.1, \"scout\": {\"DS\": 3, \"FC\": 1, \"FF\": 1}, \"posicao\": [4, \"Meia\", \"mei\"], \"clube\": {\"id\": 283, \"nome\": \"Cruzeiro\", \"abreviacao\": \"CRU\"}, \"status\": null, \"is_capitao\": null, \"preco\": null, \"entrou_em_campo\": true}\n",
      "{\"id\": 84587, \"apelido\": \"Fellipe Mateus\", \"pontos\": 4, \"scout\": {\"CA\": 1, \"DS\": 1, \"FC\": 3, \"FD\": 1, \"FS\": 7}, \"posicao\": [4, \"Meia\", \"mei\"], \"clube\": {\"id\": 288, \"nome\": \"Crici\\u00fama\", \"abreviacao\": \"CRI\"}, \"status\": null, \"is_capitao\": null, \"preco\": null, \"entrou_em_campo\": true}\n",
      "{\"id\": 85004, \"apelido\": \"Marcos Felipe\", \"pontos\": 5, \"scout\": {\"DE\": 7, \"GS\": 2}, \"posicao\": [1, \"Goleiro\", \"gol\"], \"clube\": {\"id\": 265, \"nome\": \"Bahia\", \"abreviacao\": \"BAH\"}, \"status\": null, \"is_capitao\": null, \"preco\": null, \"entrou_em_campo\": true}\n",
      "{\"id\": 85034, \"apelido\": \"\\u00d3scar Romero\", \"pontos\": 2.9, \"scout\": {\"DS\": 2, \"FS\": 1}, \"posicao\": [4, \"Meia\", \"mei\"], \"clube\": {\"id\": 263, \"nome\": \"Botafogo\", \"abreviacao\": \"BOT\"}, \"status\": null, \"is_capitao\": null, \"preco\": null, \"entrou_em_campo\": true}\n",
      "{\"id\": 85465, \"apelido\": \"Alex Santana\", \"pontos\": -0.3, \"scout\": {\"FC\": 1}, \"posicao\": [4, \"Meia\", \"mei\"], \"clube\": {\"id\": 293, \"nome\": \"Athl\\u00e9tico-PR\", \"abreviacao\": \"CAP\"}, \"status\": null, \"is_capitao\": null, \"preco\": null, \"entrou_em_campo\": true}\n",
      "{\"id\": 85626, \"apelido\": \"L\\u00e9o\", \"pontos\": 0.6, \"scout\": {\"DS\": 1, \"FC\": 2}, \"posicao\": [3, \"Zagueiro\", \"zag\"], \"clube\": {\"id\": 267, \"nome\": \"Vasco\", \"abreviacao\": \"VAS\"}, \"status\": null, \"is_capitao\": null, \"preco\": null, \"entrou_em_campo\": true}\n",
      "{\"id\": 86292, \"apelido\": \"Bolasie\", \"pontos\": -1.6, \"scout\": {\"CA\": 1, \"FC\": 2}, \"posicao\": [5, \"Atacante\", \"ata\"], \"clube\": {\"id\": 288, \"nome\": \"Crici\\u00fama\", \"abreviacao\": \"CRI\"}, \"status\": null, \"is_capitao\": null, \"preco\": null, \"entrou_em_campo\": true}\n",
      "{\"id\": 86684, \"apelido\": \"Rodrigo\", \"pontos\": 1.7, \"scout\": {\"DS\": 1, \"FS\": 1}, \"posicao\": [3, \"Zagueiro\", \"zag\"], \"clube\": {\"id\": 288, \"nome\": \"Crici\\u00fama\", \"abreviacao\": \"CRI\"}, \"status\": null, \"is_capitao\": null, \"preco\": null, \"entrou_em_campo\": true}\n",
      "{\"id\": 86686, \"apelido\": \"Tch\\u00ea Tch\\u00ea\", \"pontos\": 1.2, \"scout\": {\"DS\": 1}, \"posicao\": [4, \"Meia\", \"mei\"], \"clube\": {\"id\": 263, \"nome\": \"Botafogo\", \"abreviacao\": \"BOT\"}, \"status\": null, \"is_capitao\": null, \"preco\": null, \"entrou_em_campo\": true}\n",
      "{\"id\": 86757, \"apelido\": \"Everton\", \"pontos\": 2.4, \"scout\": {\"FF\": 3}, \"posicao\": [5, \"Atacante\", \"ata\"], \"clube\": {\"id\": 262, \"nome\": \"Flamengo\", \"abreviacao\": \"FLA\"}, \"status\": null, \"is_capitao\": null, \"preco\": null, \"entrou_em_campo\": true}\n",
      "{\"id\": 86777, \"apelido\": \"Danilo Barbosa\", \"pontos\": 7.5, \"scout\": {\"CA\": 1, \"FS\": 1, \"G\": 1}, \"posicao\": [4, \"Meia\", \"mei\"], \"clube\": {\"id\": 263, \"nome\": \"Botafogo\", \"abreviacao\": \"BOT\"}, \"status\": null, \"is_capitao\": null, \"preco\": null, \"entrou_em_campo\": true}\n",
      "{\"id\": 86859, \"apelido\": \"Jos\\u00e9 Welison\", \"pontos\": 3.3, \"scout\": {\"DS\": 3, \"FC\": 1}, \"posicao\": [4, \"Meia\", \"mei\"], \"clube\": {\"id\": 356, \"nome\": \"Fortaleza\", \"abreviacao\": \"FOR\"}, \"status\": null, \"is_capitao\": null, \"preco\": null, \"entrou_em_campo\": true}\n",
      "{\"id\": 87008, \"apelido\": \"L\\u00e9o Jardim\", \"pontos\": 0, \"scout\": {\"DE\": 1, \"GS\": 1}, \"posicao\": [1, \"Goleiro\", \"gol\"], \"clube\": {\"id\": 267, \"nome\": \"Vasco\", \"abreviacao\": \"VAS\"}, \"status\": null, \"is_capitao\": null, \"preco\": null, \"entrou_em_campo\": true}\n",
      "{\"id\": 87192, \"apelido\": \"Zeca\", \"pontos\": 4.1, \"scout\": {\"DS\": 2, \"FD\": 1, \"FS\": 1}, \"posicao\": [2, \"Lateral\", \"lat\"], \"clube\": {\"id\": 287, \"nome\": \"Vit\\u00f3ria\", \"abreviacao\": \"VIT\"}, \"status\": null, \"is_capitao\": null, \"preco\": null, \"entrou_em_campo\": true}\n",
      "{\"id\": 87228, \"apelido\": \"Guilherme Arana\", \"pontos\": 9.1, \"scout\": {\"DS\": 3, \"FS\": 1, \"SG\": 1}, \"posicao\": [2, \"Lateral\", \"lat\"], \"clube\": {\"id\": 282, \"nome\": \"Atl\\u00e9tico-MG\", \"abreviacao\": \"CAM\"}, \"status\": null, \"is_capitao\": null, \"preco\": null, \"entrou_em_campo\": true}\n",
      "{\"id\": 87242, \"apelido\": \"Carlos de Pena\", \"pontos\": -0.3, \"scout\": {\"CA\": 1, \"FC\": 1, \"FS\": 2}, \"posicao\": [4, \"Meia\", \"mei\"], \"clube\": {\"id\": 265, \"nome\": \"Bahia\", \"abreviacao\": \"BAH\"}, \"status\": null, \"is_capitao\": null, \"preco\": null, \"entrou_em_campo\": true}\n",
      "{\"id\": 87258, \"apelido\": \"Soteldo\", \"pontos\": 2.6, \"scout\": {\"DS\": 2, \"FC\": 1, \"FS\": 1}, \"posicao\": [5, \"Atacante\", \"ata\"], \"clube\": {\"id\": 284, \"nome\": \"Gr\\u00eamio\", \"abreviacao\": \"GRE\"}, \"status\": null, \"is_capitao\": null, \"preco\": null, \"entrou_em_campo\": true}\n",
      "{\"id\": 87342, \"apelido\": \"Kannemann\", \"pontos\": -0.3, \"scout\": {\"FC\": 1}, \"posicao\": [3, \"Zagueiro\", \"zag\"], \"clube\": {\"id\": 284, \"nome\": \"Gr\\u00eamio\", \"abreviacao\": \"GRE\"}, \"status\": null, \"is_capitao\": null, \"preco\": null, \"entrou_em_campo\": true}\n",
      "{\"id\": 87470, \"apelido\": \"Thaciano\", \"pontos\": 1.8, \"scout\": {\"FC\": 2, \"FD\": 1, \"FF\": 1, \"FS\": 1, \"I\": 1}, \"posicao\": [4, \"Meia\", \"mei\"], \"clube\": {\"id\": 265, \"nome\": \"Bahia\", \"abreviacao\": \"BAH\"}, \"status\": null, \"is_capitao\": null, \"preco\": null, \"entrou_em_campo\": true}\n",
      "{\"id\": 87660, \"apelido\": \"Galdames\", \"pontos\": 3.2, \"scout\": {\"DS\": 3, \"FC\": 3, \"FS\": 1}, \"posicao\": [4, \"Meia\", \"mei\"], \"clube\": {\"id\": 267, \"nome\": \"Vasco\", \"abreviacao\": \"VAS\"}, \"status\": null, \"is_capitao\": null, \"preco\": null, \"entrou_em_campo\": true}\n",
      "{\"id\": 87853, \"apelido\": \"Mauricio Lemos\", \"pontos\": 9.2, \"scout\": {\"DS\": 2, \"FC\": 1, \"FF\": 2, \"FS\": 1, \"SG\": 1}, \"posicao\": [3, \"Zagueiro\", \"zag\"], \"clube\": {\"id\": 282, \"nome\": \"Atl\\u00e9tico-MG\", \"abreviacao\": \"CAM\"}, \"status\": null, \"is_capitao\": null, \"preco\": null, \"entrou_em_campo\": true}\n",
      "{\"id\": 87863, \"apelido\": \"Arrascaeta\", \"pontos\": -0.5, \"scout\": {\"CA\": 1, \"FC\": 1, \"FF\": 1}, \"posicao\": [4, \"Meia\", \"mei\"], \"clube\": {\"id\": 262, \"nome\": \"Flamengo\", \"abreviacao\": \"FLA\"}, \"status\": null, \"is_capitao\": null, \"preco\": null, \"entrou_em_campo\": true}\n",
      "{\"id\": 87999, \"apelido\": \"Gustavo Scarpa\", \"pontos\": 2.9, \"scout\": {\"FD\": 2, \"FS\": 1}, \"posicao\": [4, \"Meia\", \"mei\"], \"clube\": {\"id\": 282, \"nome\": \"Atl\\u00e9tico-MG\", \"abreviacao\": \"CAM\"}, \"status\": null, \"is_capitao\": null, \"preco\": null, \"entrou_em_campo\": true}\n",
      "{\"id\": 88033, \"apelido\": \"Alan Empereur\", \"pontos\": -0.8, \"scout\": {\"CA\": 1, \"FC\": 1, \"FS\": 1}, \"posicao\": [3, \"Zagueiro\", \"zag\"], \"clube\": {\"id\": 1371, \"nome\": \"Cuiab\\u00e1\", \"abreviacao\": \"CUI\"}, \"status\": null, \"is_capitao\": null, \"preco\": null, \"entrou_em_campo\": true}\n",
      "{\"id\": 88323, \"apelido\": \"\\u00c1ngel Romero\", \"pontos\": 0.8, \"scout\": {\"CA\": 1, \"FF\": 1, \"FS\": 2}, \"posicao\": [5, \"Atacante\", \"ata\"], \"clube\": {\"id\": 264, \"nome\": \"Corinthians\", \"abreviacao\": \"COR\"}, \"status\": null, \"is_capitao\": null, \"preco\": null, \"entrou_em_campo\": true}\n",
      "{\"id\": 88393, \"apelido\": \"Ayrton Lucas\", \"pontos\": 3.9, \"scout\": {\"FC\": 2, \"FS\": 3, \"FT\": 1}, \"posicao\": [2, \"Lateral\", \"lat\"], \"clube\": {\"id\": 262, \"nome\": \"Flamengo\", \"abreviacao\": \"FLA\"}, \"status\": null, \"is_capitao\": null, \"preco\": null, \"entrou_em_campo\": true}\n",
      "{\"id\": 89224, \"apelido\": \"Barreto\", \"pontos\": 3.4, \"scout\": {\"DS\": 3, \"FC\": 4, \"FS\": 2}, \"posicao\": [4, \"Meia\", \"mei\"], \"clube\": {\"id\": 288, \"nome\": \"Crici\\u00fama\", \"abreviacao\": \"CRI\"}, \"status\": null, \"is_capitao\": null, \"preco\": null, \"entrou_em_campo\": true}\n",
      "{\"id\": 89256, \"apelido\": \"Gerson\", \"pontos\": 2.1, \"scout\": {\"DS\": 2, \"FC\": 1}, \"posicao\": [4, \"Meia\", \"mei\"], \"clube\": {\"id\": 262, \"nome\": \"Flamengo\", \"abreviacao\": \"FLA\"}, \"status\": null, \"is_capitao\": null, \"preco\": null, \"entrou_em_campo\": true}\n",
      "{\"id\": 89273, \"apelido\": \"Jo\\u00e3o Pedro\", \"pontos\": 1, \"scout\": {\"FC\": 1, \"FF\": 1, \"FS\": 1}, \"posicao\": [2, \"Lateral\", \"lat\"], \"clube\": {\"id\": 284, \"nome\": \"Gr\\u00eamio\", \"abreviacao\": \"GRE\"}, \"status\": null, \"is_capitao\": null, \"preco\": null, \"entrou_em_campo\": true}\n",
      "{\"id\": 89275, \"apelido\": \"William\", \"pontos\": 9.9, \"scout\": {\"A\": 1, \"DS\": 3, \"FF\": 1, \"FS\": 1}, \"posicao\": [2, \"Lateral\", \"lat\"], \"clube\": {\"id\": 283, \"nome\": \"Cruzeiro\", \"abreviacao\": \"CRU\"}, \"status\": null, \"is_capitao\": null, \"preco\": null, \"entrou_em_campo\": true}\n",
      "{\"id\": 89467, \"apelido\": \"Erick\", \"pontos\": 0.6, \"scout\": {\"FF\": 1, \"I\": 2}, \"posicao\": [5, \"Atacante\", \"ata\"], \"clube\": {\"id\": 286, \"nome\": \"Juventude\", \"abreviacao\": \"JUV\"}, \"status\": null, \"is_capitao\": null, \"preco\": null, \"entrou_em_campo\": true}\n",
      "{\"id\": 89493, \"apelido\": \"Igor Rabello\", \"pontos\": 5.5, \"scout\": {\"FS\": 1, \"SG\": 1}, \"posicao\": [3, \"Zagueiro\", \"zag\"], \"clube\": {\"id\": 282, \"nome\": \"Atl\\u00e9tico-MG\", \"abreviacao\": \"CAM\"}, \"status\": null, \"is_capitao\": null, \"preco\": null, \"entrou_em_campo\": true}\n",
      "{\"id\": 89637, \"apelido\": \"Thiago Maia\", \"pontos\": 2.4, \"scout\": {\"DS\": 1, \"FD\": 1}, \"posicao\": [4, \"Meia\", \"mei\"], \"clube\": {\"id\": 285, \"nome\": \"Internacional\", \"abreviacao\": \"INT\"}, \"status\": null, \"is_capitao\": null, \"preco\": null, \"entrou_em_campo\": true}\n",
      "{\"id\": 89646, \"apelido\": \"Rodrigo Andrade\", \"pontos\": 1.7, \"scout\": {\"DS\": 1, \"FS\": 1}, \"posicao\": [4, \"Meia\", \"mei\"], \"clube\": {\"id\": 287, \"nome\": \"Vit\\u00f3ria\", \"abreviacao\": \"VIT\"}, \"status\": null, \"is_capitao\": null, \"preco\": null, \"entrou_em_campo\": true}\n",
      "{\"id\": 89695, \"apelido\": \"Iury Castilho\", \"pontos\": 0.2, \"scout\": {\"FC\": 1, \"FS\": 1}, \"posicao\": [5, \"Atacante\", \"ata\"], \"clube\": {\"id\": 287, \"nome\": \"Vit\\u00f3ria\", \"abreviacao\": \"VIT\"}, \"status\": null, \"is_capitao\": null, \"preco\": null, \"entrou_em_campo\": true}\n",
      "{\"id\": 89840, \"apelido\": \"Calleri\", \"pontos\": 2.3, \"scout\": {\"DS\": 1, \"FF\": 1, \"FS\": 1, \"I\": 2}, \"posicao\": [5, \"Atacante\", \"ata\"], \"clube\": {\"id\": 276, \"nome\": \"S\\u00e3o Paulo\", \"abreviacao\": \"SAO\"}, \"status\": null, \"is_capitao\": null, \"preco\": null, \"entrou_em_campo\": true}\n",
      "{\"id\": 89846, \"apelido\": \"Cristaldo\", \"pontos\": 2.6, \"scout\": {\"DS\": 1, \"FC\": 1, \"FF\": 1, \"FS\": 2, \"I\": 1}, \"posicao\": [4, \"Meia\", \"mei\"], \"clube\": {\"id\": 284, \"nome\": \"Gr\\u00eamio\", \"abreviacao\": \"GRE\"}, \"status\": null, \"is_capitao\": null, \"preco\": null, \"entrou_em_campo\": true}\n",
      "{\"id\": 90061, \"apelido\": \"Bruno Pacheco\", \"pontos\": 3.3, \"scout\": {\"DS\": 2, \"FC\": 3, \"FF\": 1, \"FS\": 2}, \"posicao\": [2, \"Lateral\", \"lat\"], \"clube\": {\"id\": 356, \"nome\": \"Fortaleza\", \"abreviacao\": \"FOR\"}, \"status\": null, \"is_capitao\": null, \"preco\": null, \"entrou_em_campo\": true}\n",
      "{\"id\": 90285, \"apelido\": \"Bruno Henrique\", \"pontos\": 0.6, \"scout\": {\"FC\": 1, \"I\": 1, \"PS\": 1}, \"posicao\": [5, \"Atacante\", \"ata\"], \"clube\": {\"id\": 262, \"nome\": \"Flamengo\", \"abreviacao\": \"FLA\"}, \"status\": null, \"is_capitao\": null, \"preco\": null, \"entrou_em_campo\": true}\n",
      "{\"id\": 90309, \"apelido\": \"David\", \"pontos\": 9.4, \"scout\": {\"DS\": 1, \"FC\": 1, \"FS\": 1, \"G\": 1}, \"posicao\": [5, \"Atacante\", \"ata\"], \"clube\": {\"id\": 267, \"nome\": \"Vasco\", \"abreviacao\": \"VAS\"}, \"status\": null, \"is_capitao\": null, \"preco\": null, \"entrou_em_campo\": true}\n",
      "{\"id\": 90449, \"apelido\": \"Rezende\", \"pontos\": 7, \"scout\": {\"DS\": 5, \"FS\": 2}, \"posicao\": [4, \"Meia\", \"mei\"], \"clube\": {\"id\": 265, \"nome\": \"Bahia\", \"abreviacao\": \"BAH\"}, \"status\": null, \"is_capitao\": null, \"preco\": null, \"entrou_em_campo\": true}\n",
      "{\"id\": 90588, \"apelido\": \"Ca\\u00edque\", \"pontos\": 3.8, \"scout\": {\"CA\": 1, \"DS\": 3, \"FC\": 2, \"FF\": 1, \"FS\": 2}, \"posicao\": [4, \"Meia\", \"mei\"], \"clube\": {\"id\": 286, \"nome\": \"Juventude\", \"abreviacao\": \"JUV\"}, \"status\": null, \"is_capitao\": null, \"preco\": null, \"entrou_em_campo\": true}\n",
      "{\"id\": 90634, \"apelido\": \"Lucas Mineiro\", \"pontos\": 0.2, \"scout\": {\"FC\": 1, \"FS\": 1}, \"posicao\": [4, \"Meia\", \"mei\"], \"clube\": {\"id\": 1371, \"nome\": \"Cuiab\\u00e1\", \"abreviacao\": \"CUI\"}, \"status\": null, \"is_capitao\": null, \"preco\": null, \"entrou_em_campo\": true}\n",
      "{\"id\": 90703, \"apelido\": \"Matheuzinho\", \"pontos\": 4, \"scout\": {\"DS\": 1, \"FC\": 2, \"FF\": 3, \"FS\": 2}, \"posicao\": [4, \"Meia\", \"mei\"], \"clube\": {\"id\": 287, \"nome\": \"Vit\\u00f3ria\", \"abreviacao\": \"VIT\"}, \"status\": null, \"is_capitao\": null, \"preco\": null, \"entrou_em_campo\": true}\n",
      "{\"id\": 90715, \"apelido\": \"Luiz Fernando\", \"pontos\": 9.9, \"scout\": {\"DS\": 1, \"FC\": 1, \"FS\": 2, \"G\": 1}, \"posicao\": [5, \"Atacante\", \"ata\"], \"clube\": {\"id\": 373, \"nome\": \"Atl\\u00e9tico-GO\", \"abreviacao\": \"ACG\"}, \"status\": null, \"is_capitao\": null, \"preco\": null, \"entrou_em_campo\": true}\n",
      "{\"id\": 90768, \"apelido\": \"Fabr\\u00edcio Bruno\", \"pontos\": -1.3, \"scout\": {\"CA\": 1, \"FC\": 1}, \"posicao\": [3, \"Zagueiro\", \"zag\"], \"clube\": {\"id\": 262, \"nome\": \"Flamengo\", \"abreviacao\": \"FLA\"}, \"status\": null, \"is_capitao\": null, \"preco\": null, \"entrou_em_campo\": true}\n",
      "{\"id\": 90943, \"apelido\": \"Z\\u00e9 Marcos\", \"pontos\": -0.3, \"scout\": {\"CA\": 1, \"FC\": 1, \"FS\": 2}, \"posicao\": [3, \"Zagueiro\", \"zag\"], \"clube\": {\"id\": 286, \"nome\": \"Juventude\", \"abreviacao\": \"JUV\"}, \"status\": null, \"is_capitao\": null, \"preco\": null, \"entrou_em_campo\": true}\n",
      "{\"id\": 91101, \"apelido\": \"Ronaldo\", \"pontos\": -2, \"scout\": {\"GS\": 2}, \"posicao\": [1, \"Goleiro\", \"gol\"], \"clube\": {\"id\": 373, \"nome\": \"Atl\\u00e9tico-GO\", \"abreviacao\": \"ACG\"}, \"status\": null, \"is_capitao\": null, \"preco\": null, \"entrou_em_campo\": true}\n",
      "{\"id\": 91473, \"apelido\": \"Erick Pulgar\", \"pontos\": 0.6, \"scout\": {\"DS\": 1, \"FC\": 2}, \"posicao\": [4, \"Meia\", \"mei\"], \"clube\": {\"id\": 262, \"nome\": \"Flamengo\", \"abreviacao\": \"FLA\"}, \"status\": null, \"is_capitao\": null, \"preco\": null, \"entrou_em_campo\": true}\n",
      "{\"id\": 91509, \"apelido\": \"Rodrigo Sam\", \"pontos\": -0.4, \"scout\": {\"CA\": 1, \"DS\": 1, \"FC\": 2}, \"posicao\": [3, \"Zagueiro\", \"zag\"], \"clube\": {\"id\": 286, \"nome\": \"Juventude\", \"abreviacao\": \"JUV\"}, \"status\": null, \"is_capitao\": null, \"preco\": null, \"entrou_em_campo\": true}\n",
      "{\"id\": 91521, \"apelido\": \"Eder\", \"pontos\": 1.2, \"scout\": {\"FC\": 2, \"FF\": 1, \"FS\": 2}, \"posicao\": [5, \"Atacante\", \"ata\"], \"clube\": {\"id\": 288, \"nome\": \"Crici\\u00fama\", \"abreviacao\": \"CRI\"}, \"status\": null, \"is_capitao\": null, \"preco\": null, \"entrou_em_campo\": true}\n",
      "{\"id\": 91573, \"apelido\": \"Arboleda\", \"pontos\": 2.9, \"scout\": {\"DS\": 1, \"FD\": 1, \"FS\": 1}, \"posicao\": [3, \"Zagueiro\", \"zag\"], \"clube\": {\"id\": 276, \"nome\": \"S\\u00e3o Paulo\", \"abreviacao\": \"SAO\"}, \"status\": null, \"is_capitao\": null, \"preco\": null, \"entrou_em_campo\": true}\n",
      "{\"id\": 91607, \"apelido\": \"Rony\", \"pontos\": 6, \"scout\": {\"DS\": 3, \"FC\": 3, \"FD\": 1, \"FF\": 1, \"FS\": 3, \"I\": 2}, \"posicao\": [5, \"Atacante\", \"ata\"], \"clube\": {\"id\": 275, \"nome\": \"Palmeiras\", \"abreviacao\": \"PAL\"}, \"status\": null, \"is_capitao\": null, \"preco\": null, \"entrou_em_campo\": true}\n",
      "{\"id\": 91706, \"apelido\": \"Marlon\", \"pontos\": 2.3, \"scout\": {\"DS\": 2, \"FC\": 2, \"FS\": 1}, \"posicao\": [2, \"Lateral\", \"lat\"], \"clube\": {\"id\": 283, \"nome\": \"Cruzeiro\", \"abreviacao\": \"CRU\"}, \"status\": null, \"is_capitao\": null, \"preco\": null, \"entrou_em_campo\": true}\n",
      "{\"id\": 91866, \"apelido\": \"Z\\u00e9 Ivaldo\", \"pontos\": -0.1, \"scout\": {\"CA\": 1, \"DS\": 1, \"FC\": 1}, \"posicao\": [3, \"Zagueiro\", \"zag\"], \"clube\": {\"id\": 283, \"nome\": \"Cruzeiro\", \"abreviacao\": \"CRU\"}, \"status\": null, \"is_capitao\": null, \"preco\": null, \"entrou_em_campo\": true}\n",
      "{\"id\": 91908, \"apelido\": \"Pav\\u00f3n\", \"pontos\": 1.2, \"scout\": {\"DS\": 1}, \"posicao\": [5, \"Atacante\", \"ata\"], \"clube\": {\"id\": 284, \"nome\": \"Gr\\u00eamio\", \"abreviacao\": \"GRE\"}, \"status\": null, \"is_capitao\": null, \"preco\": null, \"entrou_em_campo\": true}\n",
      "{\"id\": 92075, \"apelido\": \"Ram\\u00f3n D\\u00edaz\", \"pontos\": 5.2, \"scout\": {\"V\": 1}, \"posicao\": [6, \"T\\u00e9cnico\", \"tec\"], \"clube\": {\"id\": 267, \"nome\": \"Vasco\", \"abreviacao\": \"VAS\"}, \"status\": null, \"is_capitao\": null, \"preco\": null, \"entrou_em_campo\": true}\n",
      "{\"id\": 92146, \"apelido\": \"Andr\\u00e9 Lu\\u00eds\", \"pontos\": 0.7, \"scout\": {\"FC\": 1, \"FS\": 2}, \"posicao\": [5, \"Atacante\", \"ata\"], \"clube\": {\"id\": 1371, \"nome\": \"Cuiab\\u00e1\", \"abreviacao\": \"CUI\"}, \"status\": null, \"is_capitao\": null, \"preco\": null, \"entrou_em_campo\": true}\n",
      "{\"id\": 92149, \"apelido\": \"Alario\", \"pontos\": -1.4, \"scout\": {\"CA\": 1, \"FC\": 1, \"I\": 1}, \"posicao\": [5, \"Atacante\", \"ata\"], \"clube\": {\"id\": 285, \"nome\": \"Internacional\", \"abreviacao\": \"INT\"}, \"status\": null, \"is_capitao\": null, \"preco\": null, \"entrou_em_campo\": true}\n",
      "{\"id\": 92180, \"apelido\": \"Jair Ventura\", \"pontos\": 1.83, \"scout\": {}, \"posicao\": [6, \"T\\u00e9cnico\", \"tec\"], \"clube\": {\"id\": 373, \"nome\": \"Atl\\u00e9tico-GO\", \"abreviacao\": \"ACG\"}, \"status\": null, \"is_capitao\": null, \"preco\": null, \"entrou_em_campo\": true}\n",
      "{\"id\": 92237, \"apelido\": \"Rodrigo Ely\", \"pontos\": 1.7, \"scout\": {\"FC\": 2, \"FF\": 1, \"FS\": 3}, \"posicao\": [3, \"Zagueiro\", \"zag\"], \"clube\": {\"id\": 284, \"nome\": \"Gr\\u00eamio\", \"abreviacao\": \"GRE\"}, \"status\": null, \"is_capitao\": null, \"preco\": null, \"entrou_em_campo\": true}\n",
      "{\"id\": 92496, \"apelido\": \"Raul\", \"pontos\": -0.6, \"scout\": {\"FC\": 2}, \"posicao\": [4, \"Meia\", \"mei\"], \"clube\": {\"id\": 280, \"nome\": \"Bragantino\", \"abreviacao\": \"BGT\"}, \"status\": null, \"is_capitao\": null, \"preco\": null, \"entrou_em_campo\": true}\n",
      "{\"id\": 92696, \"apelido\": \"Renato Kayzer\", \"pontos\": 9.6, \"scout\": {\"FF\": 1, \"FS\": 2, \"G\": 1, \"I\": 2}, \"posicao\": [5, \"Atacante\", \"ata\"], \"clube\": {\"id\": 288, \"nome\": \"Crici\\u00fama\", \"abreviacao\": \"CRI\"}, \"status\": null, \"is_capitao\": null, \"preco\": null, \"entrou_em_campo\": true}\n",
      "{\"id\": 92708, \"apelido\": \"Deyverson\", \"pontos\": 4.3, \"scout\": {\"DS\": 1, \"FD\": 1, \"FS\": 4, \"I\": 1}, \"posicao\": [5, \"Atacante\", \"ata\"], \"clube\": {\"id\": 1371, \"nome\": \"Cuiab\\u00e1\", \"abreviacao\": \"CUI\"}, \"status\": null, \"is_capitao\": null, \"preco\": null, \"entrou_em_campo\": true}\n",
      "{\"id\": 92854, \"apelido\": \"Borr\\u00e9\", \"pontos\": 5.9, \"scout\": {\"DS\": 1, \"FC\": 5, \"FD\": 4, \"FF\": 2, \"I\": 2}, \"posicao\": [5, \"Atacante\", \"ata\"], \"clube\": {\"id\": 285, \"nome\": \"Internacional\", \"abreviacao\": \"INT\"}, \"status\": null, \"is_capitao\": null, \"preco\": null, \"entrou_em_campo\": true}\n",
      "{\"id\": 93108, \"apelido\": \"Mateus Vital\", \"pontos\": 0.8, \"scout\": {\"FF\": 1}, \"posicao\": [4, \"Meia\", \"mei\"], \"clube\": {\"id\": 283, \"nome\": \"Cruzeiro\", \"abreviacao\": \"CRU\"}, \"status\": null, \"is_capitao\": null, \"preco\": null, \"entrou_em_campo\": true}\n",
      "{\"id\": 93478, \"apelido\": \"Wanderson\", \"pontos\": 1.6, \"scout\": {\"DS\": 1, \"FC\": 2, \"FS\": 2}, \"posicao\": [5, \"Atacante\", \"ata\"], \"clube\": {\"id\": 285, \"nome\": \"Internacional\", \"abreviacao\": \"INT\"}, \"status\": null, \"is_capitao\": null, \"preco\": null, \"entrou_em_campo\": true}\n",
      "{\"id\": 93702, \"apelido\": \"Gabriel Inoc\\u00eancio\", \"pontos\": -1.2, \"scout\": {\"FC\": 4}, \"posicao\": [2, \"Lateral\", \"lat\"], \"clube\": {\"id\": 286, \"nome\": \"Juventude\", \"abreviacao\": \"JUV\"}, \"status\": null, \"is_capitao\": null, \"preco\": null, \"entrou_em_campo\": true}\n",
      "{\"id\": 93716, \"apelido\": \"Paulo Henrique\", \"pontos\": 3.1, \"scout\": {\"DS\": 2, \"FC\": 2, \"FF\": 1, \"FS\": 1}, \"posicao\": [2, \"Lateral\", \"lat\"], \"clube\": {\"id\": 267, \"nome\": \"Vasco\", \"abreviacao\": \"VAS\"}, \"status\": null, \"is_capitao\": null, \"preco\": null, \"entrou_em_campo\": true}\n",
      "{\"id\": 93790, \"apelido\": \"Marlon Freitas\", \"pontos\": 0, \"scout\": {}, \"posicao\": [4, \"Meia\", \"mei\"], \"clube\": {\"id\": 263, \"nome\": \"Botafogo\", \"abreviacao\": \"BOT\"}, \"status\": null, \"is_capitao\": null, \"preco\": null, \"entrou_em_campo\": true}\n",
      "{\"id\": 93882, \"apelido\": \"Cleiton\", \"pontos\": 3, \"scout\": {\"DE\": 4, \"GS\": 1}, \"posicao\": [1, \"Goleiro\", \"gol\"], \"clube\": {\"id\": 280, \"nome\": \"Bragantino\", \"abreviacao\": \"BGT\"}, \"status\": null, \"is_capitao\": null, \"preco\": null, \"entrou_em_campo\": true}\n",
      "{\"id\": 93886, \"apelido\": \"Matheusinho\", \"pontos\": 0.8, \"scout\": {\"FF\": 1}, \"posicao\": [4, \"Meia\", \"mei\"], \"clube\": {\"id\": 288, \"nome\": \"Crici\\u00fama\", \"abreviacao\": \"CRI\"}, \"status\": null, \"is_capitao\": null, \"preco\": null, \"entrou_em_campo\": true}\n",
      "{\"id\": 94154, \"apelido\": \"Maycon\", \"pontos\": -0.8, \"scout\": {\"CA\": 1, \"FC\": 1, \"FS\": 1}, \"posicao\": [4, \"Meia\", \"mei\"], \"clube\": {\"id\": 264, \"nome\": \"Corinthians\", \"abreviacao\": \"COR\"}, \"status\": null, \"is_capitao\": null, \"preco\": null, \"entrou_em_campo\": true}\n",
      "{\"id\": 94509, \"apelido\": \"Raphael Veiga\", \"pontos\": 3.3, \"scout\": {\"DS\": 1, \"FC\": 1, \"FD\": 1, \"FF\": 1, \"FS\": 1, \"I\": 1}, \"posicao\": [4, \"Meia\", \"mei\"], \"clube\": {\"id\": 275, \"nome\": \"Palmeiras\", \"abreviacao\": \"PAL\"}, \"status\": null, \"is_capitao\": null, \"preco\": null, \"entrou_em_campo\": true}\n",
      "{\"id\": 94583, \"apelido\": \"Pedro\", \"pontos\": 9.2, \"scout\": {\"FC\": 1, \"FS\": 3, \"G\": 1}, \"posicao\": [5, \"Atacante\", \"ata\"], \"clube\": {\"id\": 262, \"nome\": \"Flamengo\", \"abreviacao\": \"FLA\"}, \"status\": null, \"is_capitao\": null, \"preco\": null, \"entrou_em_campo\": true}\n",
      "{\"id\": 94845, \"apelido\": \"Battaglia\", \"pontos\": -3.9, \"scout\": {\"CV\": 1, \"FC\": 3}, \"posicao\": [4, \"Meia\", \"mei\"], \"clube\": {\"id\": 282, \"nome\": \"Atl\\u00e9tico-MG\", \"abreviacao\": \"CAM\"}, \"status\": null, \"is_capitao\": null, \"preco\": null, \"entrou_em_campo\": true}\n",
      "{\"id\": 94853, \"apelido\": \"Eduardo Coudet\", \"pontos\": 6.32, \"scout\": {\"V\": 1}, \"posicao\": [6, \"T\\u00e9cnico\", \"tec\"], \"clube\": {\"id\": 285, \"nome\": \"Internacional\", \"abreviacao\": \"INT\"}, \"status\": null, \"is_capitao\": null, \"preco\": null, \"entrou_em_campo\": true}\n",
      "{\"id\": 94968, \"apelido\": \"Juninho Capixaba\", \"pontos\": 3, \"scout\": {\"CA\": 1, \"DS\": 3, \"FC\": 2, \"FS\": 2}, \"posicao\": [2, \"Lateral\", \"lat\"], \"clube\": {\"id\": 280, \"nome\": \"Bragantino\", \"abreviacao\": \"BGT\"}, \"status\": null, \"is_capitao\": null, \"preco\": null, \"entrou_em_campo\": true}\n",
      "{\"id\": 95464, \"apelido\": \"Gregore\", \"pontos\": -1, \"scout\": {\"CA\": 1, \"DS\": 1, \"FC\": 4}, \"posicao\": [4, \"Meia\", \"mei\"], \"clube\": {\"id\": 263, \"nome\": \"Botafogo\", \"abreviacao\": \"BOT\"}, \"status\": null, \"is_capitao\": null, \"preco\": null, \"entrou_em_campo\": true}\n",
      "{\"id\": 95466, \"apelido\": \"Igor Vin\\u00edcius\", \"pontos\": 3.4, \"scout\": {\"DS\": 2, \"FC\": 1, \"FF\": 1, \"FS\": 1}, \"posicao\": [2, \"Lateral\", \"lat\"], \"clube\": {\"id\": 276, \"nome\": \"S\\u00e3o Paulo\", \"abreviacao\": \"SAO\"}, \"status\": null, \"is_capitao\": null, \"preco\": null, \"entrou_em_campo\": true}\n",
      "{\"id\": 95556, \"apelido\": \"Raniele\", \"pontos\": 2.6, \"scout\": {\"CA\": 1, \"DS\": 2, \"FC\": 1, \"FS\": 3}, \"posicao\": [4, \"Meia\", \"mei\"], \"clube\": {\"id\": 264, \"nome\": \"Corinthians\", \"abreviacao\": \"COR\"}, \"status\": null, \"is_capitao\": null, \"preco\": null, \"entrou_em_campo\": true}\n",
      "{\"id\": 95738, \"apelido\": \"Trauco\", \"pontos\": 0.2, \"scout\": {\"CA\": 1, \"DS\": 1}, \"posicao\": [2, \"Lateral\", \"lat\"], \"clube\": {\"id\": 288, \"nome\": \"Crici\\u00fama\", \"abreviacao\": \"CRI\"}, \"status\": null, \"is_capitao\": null, \"preco\": null, \"entrou_em_campo\": true}\n",
      "{\"id\": 96340, \"apelido\": \"Lima\", \"pontos\": 18.2, \"scout\": {\"DS\": 1, \"FS\": 2, \"G\": 2}, \"posicao\": [4, \"Meia\", \"mei\"], \"clube\": {\"id\": 266, \"nome\": \"Fluminense\", \"abreviacao\": \"FLU\"}, \"status\": null, \"is_capitao\": null, \"preco\": null, \"entrou_em_campo\": true}\n",
      "{\"id\": 96610, \"apelido\": \"Matheus Pereira\", \"pontos\": 2.7, \"scout\": {\"FC\": 1, \"FD\": 1, \"FF\": 1, \"FS\": 2}, \"posicao\": [4, \"Meia\", \"mei\"], \"clube\": {\"id\": 283, \"nome\": \"Cruzeiro\", \"abreviacao\": \"CRU\"}, \"status\": null, \"is_capitao\": null, \"preco\": null, \"entrou_em_campo\": true}\n",
      "{\"id\": 96673, \"apelido\": \"Gabriel Milito\", \"pontos\": 4.21, \"scout\": {}, \"posicao\": [6, \"T\\u00e9cnico\", \"tec\"], \"clube\": {\"id\": 282, \"nome\": \"Atl\\u00e9tico-MG\", \"abreviacao\": \"CAM\"}, \"status\": null, \"is_capitao\": null, \"preco\": null, \"entrou_em_campo\": true}\n",
      "{\"id\": 96678, \"apelido\": \"Bustos\", \"pontos\": 1.6, \"scout\": {\"CA\": 1, \"DS\": 2, \"FC\": 2, \"FF\": 1}, \"posicao\": [2, \"Lateral\", \"lat\"], \"clube\": {\"id\": 285, \"nome\": \"Internacional\", \"abreviacao\": \"INT\"}, \"status\": null, \"is_capitao\": null, \"preco\": null, \"entrou_em_campo\": true}\n",
      "{\"id\": 96725, \"apelido\": \"Saravia\", \"pontos\": 4.4, \"scout\": {\"CA\": 1, \"DS\": 1, \"FC\": 4, \"FS\": 1, \"I\": 1, \"SG\": 1}, \"posicao\": [2, \"Lateral\", \"lat\"], \"clube\": {\"id\": 282, \"nome\": \"Atl\\u00e9tico-MG\", \"abreviacao\": \"CAM\"}, \"status\": null, \"is_capitao\": null, \"preco\": null, \"entrou_em_campo\": true}\n",
      "{\"id\": 96793, \"apelido\": \"Camutanga\", \"pontos\": 2, \"scout\": {\"CA\": 1, \"DS\": 3, \"FC\": 2}, \"posicao\": [3, \"Zagueiro\", \"zag\"], \"clube\": {\"id\": 287, \"nome\": \"Vit\\u00f3ria\", \"abreviacao\": \"VIT\"}, \"status\": null, \"is_capitao\": null, \"preco\": null, \"entrou_em_campo\": true}\n",
      "{\"id\": 96831, \"apelido\": \"Carlinhos\", \"pontos\": 0.8, \"scout\": {\"FF\": 1}, \"posicao\": [5, \"Atacante\", \"ata\"], \"clube\": {\"id\": 262, \"nome\": \"Flamengo\", \"abreviacao\": \"FLA\"}, \"status\": null, \"is_capitao\": null, \"preco\": null, \"entrou_em_campo\": true}\n",
      "{\"id\": 96966, \"apelido\": \"Arthur Gomes\", \"pontos\": 5.8, \"scout\": {\"A\": 1, \"CA\": 1, \"FC\": 1, \"FD\": 1, \"FS\": 2, \"I\": 1}, \"posicao\": [5, \"Atacante\", \"ata\"], \"clube\": {\"id\": 283, \"nome\": \"Cruzeiro\", \"abreviacao\": \"CRU\"}, \"status\": null, \"is_capitao\": null, \"preco\": null, \"entrou_em_campo\": true}\n",
      "{\"id\": 97080, \"apelido\": \"Yony Gonz\\u00e1lez\", \"pontos\": 1.5, \"scout\": {\"FS\": 3}, \"posicao\": [5, \"Atacante\", \"ata\"], \"clube\": {\"id\": 373, \"nome\": \"Atl\\u00e9tico-GO\", \"abreviacao\": \"ACG\"}, \"status\": null, \"is_capitao\": null, \"preco\": null, \"entrou_em_campo\": true}\n",
      "{\"id\": 97145, \"apelido\": \"Villasanti\", \"pontos\": 1.7, \"scout\": {\"DS\": 1, \"FS\": 1}, \"posicao\": [4, \"Meia\", \"mei\"], \"clube\": {\"id\": 284, \"nome\": \"Gr\\u00eamio\", \"abreviacao\": \"GRE\"}, \"status\": null, \"is_capitao\": null, \"preco\": null, \"entrou_em_campo\": true}\n",
      "{\"id\": 97341, \"apelido\": \"Rog\\u00e9rio Ceni\", \"pontos\": 4.08, \"scout\": {}, \"posicao\": [6, \"T\\u00e9cnico\", \"tec\"], \"clube\": {\"id\": 265, \"nome\": \"Bahia\", \"abreviacao\": \"BAH\"}, \"status\": null, \"is_capitao\": null, \"preco\": null, \"entrou_em_campo\": true}\n",
      "{\"id\": 97468, \"apelido\": \"Mar\\u00e7al\", \"pontos\": 1.2, \"scout\": {\"DS\": 1}, \"posicao\": [2, \"Lateral\", \"lat\"], \"clube\": {\"id\": 263, \"nome\": \"Botafogo\", \"abreviacao\": \"BOT\"}, \"status\": null, \"is_capitao\": null, \"preco\": null, \"entrou_em_campo\": true}\n",
      "{\"id\": 97520, \"apelido\": \"Shaylon\", \"pontos\": 0.2, \"scout\": {\"FD\": 1, \"FT\": 1, \"PP\": 1}, \"posicao\": [4, \"Meia\", \"mei\"], \"clube\": {\"id\": 373, \"nome\": \"Atl\\u00e9tico-GO\", \"abreviacao\": \"ACG\"}, \"status\": null, \"is_capitao\": null, \"preco\": null, \"entrou_em_campo\": true}\n",
      "{\"id\": 97547, \"apelido\": \"Estupi\\u00f1\\u00e1n\", \"pontos\": 0.8, \"scout\": {\"FF\": 1}, \"posicao\": [5, \"Atacante\", \"ata\"], \"clube\": {\"id\": 265, \"nome\": \"Bahia\", \"abreviacao\": \"BAH\"}, \"status\": null, \"is_capitao\": null, \"preco\": null, \"entrou_em_campo\": true}\n",
      "{\"id\": 97642, \"apelido\": \"F\\u00e9lix Torres\", \"pontos\": 8.6, \"scout\": {\"DS\": 3, \"SG\": 1}, \"posicao\": [3, \"Zagueiro\", \"zag\"], \"clube\": {\"id\": 264, \"nome\": \"Corinthians\", \"abreviacao\": \"COR\"}, \"status\": null, \"is_capitao\": null, \"preco\": null, \"entrou_em_campo\": true}\n",
      "{\"id\": 97653, \"apelido\": \"Murilo\", \"pontos\": 8.6, \"scout\": {\"DS\": 2, \"FD\": 1, \"SG\": 1}, \"posicao\": [3, \"Zagueiro\", \"zag\"], \"clube\": {\"id\": 275, \"nome\": \"Palmeiras\", \"abreviacao\": \"PAL\"}, \"status\": null, \"is_capitao\": null, \"preco\": null, \"entrou_em_campo\": true}\n",
      "{\"id\": 97810, \"apelido\": \"Erick\", \"pontos\": 7.2, \"scout\": {\"A\": 1, \"DS\": 1, \"FS\": 2}, \"posicao\": [5, \"Atacante\", \"ata\"], \"clube\": {\"id\": 276, \"nome\": \"S\\u00e3o Paulo\", \"abreviacao\": \"SAO\"}, \"status\": null, \"is_capitao\": null, \"preco\": null, \"entrou_em_campo\": true}\n",
      "{\"id\": 97900, \"apelido\": \"Vit\\u00e3o\", \"pontos\": 3.2, \"scout\": {\"DS\": 3, \"FC\": 3, \"FS\": 1}, \"posicao\": [3, \"Zagueiro\", \"zag\"], \"clube\": {\"id\": 285, \"nome\": \"Internacional\", \"abreviacao\": \"INT\"}, \"status\": null, \"is_capitao\": null, \"preco\": null, \"entrou_em_campo\": true}\n",
      "{\"id\": 98022, \"apelido\": \"Erick\", \"pontos\": 3.5, \"scout\": {\"DS\": 3, \"FC\": 2, \"FS\": 1}, \"posicao\": [4, \"Meia\", \"mei\"], \"clube\": {\"id\": 293, \"nome\": \"Athl\\u00e9tico-PR\", \"abreviacao\": \"CAP\"}, \"status\": null, \"is_capitao\": null, \"preco\": null, \"entrou_em_campo\": true}\n",
      "{\"id\": 98225, \"apelido\": \"Pedro Raul\", \"pontos\": -0.3, \"scout\": {\"FC\": 1}, \"posicao\": [5, \"Atacante\", \"ata\"], \"clube\": {\"id\": 264, \"nome\": \"Corinthians\", \"abreviacao\": \"COR\"}, \"status\": null, \"is_capitao\": null, \"preco\": null, \"entrou_em_campo\": true}\n",
      "{\"id\": 98280, \"apelido\": \"Bastos\", \"pontos\": -0.3, \"scout\": {\"FC\": 1}, \"posicao\": [3, \"Zagueiro\", \"zag\"], \"clube\": {\"id\": 263, \"nome\": \"Botafogo\", \"abreviacao\": \"BOT\"}, \"status\": null, \"is_capitao\": null, \"preco\": null, \"entrou_em_campo\": true}\n",
      "{\"id\": 98484, \"apelido\": \"Kanu\", \"pontos\": 0.7, \"scout\": {\"FC\": 1, \"FS\": 2}, \"posicao\": [3, \"Zagueiro\", \"zag\"], \"clube\": {\"id\": 265, \"nome\": \"Bahia\", \"abreviacao\": \"BAH\"}, \"status\": null, \"is_capitao\": null, \"preco\": null, \"entrou_em_campo\": true}\n",
      "{\"id\": 98517, \"apelido\": \"Jean Lucas\", \"pontos\": 4.6, \"scout\": {\"A\": 1, \"CA\": 1, \"FC\": 2, \"FD\": 1}, \"posicao\": [4, \"Meia\", \"mei\"], \"clube\": {\"id\": 265, \"nome\": \"Bahia\", \"abreviacao\": \"BAH\"}, \"status\": null, \"is_capitao\": null, \"preco\": null, \"entrou_em_campo\": true}\n",
      "{\"id\": 98619, \"apelido\": \"Kuscevic\", \"pontos\": 2.6, \"scout\": {\"DS\": 2, \"FC\": 1, \"FS\": 1}, \"posicao\": [3, \"Zagueiro\", \"zag\"], \"clube\": {\"id\": 356, \"nome\": \"Fortaleza\", \"abreviacao\": \"FOR\"}, \"status\": null, \"is_capitao\": null, \"preco\": null, \"entrou_em_campo\": true}\n",
      "{\"id\": 98672, \"apelido\": \"Savarino\", \"pontos\": 0.5, \"scout\": {\"FS\": 1}, \"posicao\": [5, \"Atacante\", \"ata\"], \"clube\": {\"id\": 263, \"nome\": \"Botafogo\", \"abreviacao\": \"BOT\"}, \"status\": null, \"is_capitao\": null, \"preco\": null, \"entrou_em_campo\": true}\n",
      "{\"id\": 98909, \"apelido\": \"Cuello\", \"pontos\": 3.8, \"scout\": {\"DS\": 1, \"FF\": 2, \"FS\": 2}, \"posicao\": [5, \"Atacante\", \"ata\"], \"clube\": {\"id\": 293, \"nome\": \"Athl\\u00e9tico-PR\", \"abreviacao\": \"CAP\"}, \"status\": null, \"is_capitao\": null, \"preco\": null, \"entrou_em_campo\": true}\n",
      "{\"id\": 98974, \"apelido\": \"Vi\\u00f1a\", \"pontos\": 0.8, \"scout\": {\"FF\": 1}, \"posicao\": [2, \"Lateral\", \"lat\"], \"clube\": {\"id\": 262, \"nome\": \"Flamengo\", \"abreviacao\": \"FLA\"}, \"status\": null, \"is_capitao\": null, \"preco\": null, \"entrou_em_campo\": true}\n",
      "{\"id\": 99198, \"apelido\": \"Vegetti\", \"pontos\": 1.2, \"scout\": {\"FC\": 4, \"FD\": 1, \"FF\": 1, \"FS\": 1, \"I\": 1}, \"posicao\": [5, \"Atacante\", \"ata\"], \"clube\": {\"id\": 267, \"nome\": \"Vasco\", \"abreviacao\": \"VAS\"}, \"status\": null, \"is_capitao\": null, \"preco\": null, \"entrou_em_campo\": true}\n",
      "{\"id\": 99228, \"apelido\": \"De la Cruz\", \"pontos\": 12.9, \"scout\": {\"DS\": 3, \"FF\": 1, \"FS\": 1, \"G\": 1}, \"posicao\": [4, \"Meia\", \"mei\"], \"clube\": {\"id\": 262, \"nome\": \"Flamengo\", \"abreviacao\": \"FLA\"}, \"status\": null, \"is_capitao\": null, \"preco\": null, \"entrou_em_campo\": true}\n",
      "{\"id\": 99267, \"apelido\": \"Pochettino\", \"pontos\": 7.4, \"scout\": {\"A\": 1, \"CA\": 1, \"DS\": 2, \"FC\": 1, \"FF\": 1, \"FS\": 1}, \"posicao\": [4, \"Meia\", \"mei\"], \"clube\": {\"id\": 356, \"nome\": \"Fortaleza\", \"abreviacao\": \"FOR\"}, \"status\": null, \"is_capitao\": null, \"preco\": null, \"entrou_em_campo\": true}\n",
      "{\"id\": 99274, \"apelido\": \"Alexander Barboza\", \"pontos\": -3, \"scout\": {\"CV\": 1}, \"posicao\": [3, \"Zagueiro\", \"zag\"], \"clube\": {\"id\": 263, \"nome\": \"Botafogo\", \"abreviacao\": \"BOT\"}, \"status\": null, \"is_capitao\": null, \"preco\": null, \"entrou_em_campo\": true}\n",
      "{\"id\": 99387, \"apelido\": \"Robert Rojas\", \"pontos\": 2.1, \"scout\": {\"DS\": 2, \"FC\": 1}, \"posicao\": [3, \"Zagueiro\", \"zag\"], \"clube\": {\"id\": 267, \"nome\": \"Vasco\", \"abreviacao\": \"VAS\"}, \"status\": null, \"is_capitao\": null, \"preco\": null, \"entrou_em_campo\": true}\n",
      "{\"id\": 99440, \"apelido\": \"Baralhas\", \"pontos\": 1.7, \"scout\": {\"DS\": 1, \"FC\": 1, \"FF\": 1}, \"posicao\": [4, \"Meia\", \"mei\"], \"clube\": {\"id\": 373, \"nome\": \"Atl\\u00e9tico-GO\", \"abreviacao\": \"ACG\"}, \"status\": null, \"is_capitao\": null, \"preco\": null, \"entrou_em_campo\": true}\n",
      "{\"id\": 99552, \"apelido\": \"Rossi\", \"pontos\": 2, \"scout\": {\"DE\": 3, \"GS\": 1}, \"posicao\": [1, \"Goleiro\", \"gol\"], \"clube\": {\"id\": 262, \"nome\": \"Flamengo\", \"abreviacao\": \"FLA\"}, \"status\": null, \"is_capitao\": null, \"preco\": null, \"entrou_em_campo\": true}\n",
      "{\"id\": 99623, \"apelido\": \"Guilherme Rom\\u00e3o\", \"pontos\": 1, \"scout\": {\"CA\": 1, \"FC\": 2, \"FF\": 2, \"FS\": 2}, \"posicao\": [2, \"Lateral\", \"lat\"], \"clube\": {\"id\": 373, \"nome\": \"Atl\\u00e9tico-GO\", \"abreviacao\": \"ACG\"}, \"status\": null, \"is_capitao\": null, \"preco\": null, \"entrou_em_campo\": true}\n",
      "{\"id\": 99766, \"apelido\": \"Cifuentes\", \"pontos\": 0.9, \"scout\": {\"DS\": 1, \"FC\": 1}, \"posicao\": [4, \"Meia\", \"mei\"], \"clube\": {\"id\": 283, \"nome\": \"Cruzeiro\", \"abreviacao\": \"CRU\"}, \"status\": null, \"is_capitao\": null, \"preco\": null, \"entrou_em_campo\": true}\n",
      "{\"id\": 99815, \"apelido\": \"Arias\", \"pontos\": 5.9, \"scout\": {\"DS\": 1, \"FD\": 2, \"FF\": 1, \"FS\": 3}, \"posicao\": [4, \"Meia\", \"mei\"], \"clube\": {\"id\": 266, \"nome\": \"Fluminense\", \"abreviacao\": \"FLU\"}, \"status\": null, \"is_capitao\": null, \"preco\": null, \"entrou_em_campo\": true}\n",
      "{\"id\": 99818, \"apelido\": \"Paulinho\", \"pontos\": 0.5, \"scout\": {\"FS\": 1}, \"posicao\": [5, \"Atacante\", \"ata\"], \"clube\": {\"id\": 282, \"nome\": \"Atl\\u00e9tico-MG\", \"abreviacao\": \"CAM\"}, \"status\": null, \"is_capitao\": null, \"preco\": null, \"entrou_em_campo\": true}\n"
     ]
    }
   ],
   "source": [
    "for _, player in players_round.items():\n",
    "    print(player.to_)"
   ]
  }
 ],
 "metadata": {
  "kernelspec": {
   "display_name": "mkv-cartola-AYh-Mpys",
   "language": "python",
   "name": "python3"
  },
  "language_info": {
   "codemirror_mode": {
    "name": "ipython",
    "version": 3
   },
   "file_extension": ".py",
   "mimetype": "text/x-python",
   "name": "python",
   "nbconvert_exporter": "python",
   "pygments_lexer": "ipython3",
   "version": "3.9.5"
  },
  "orig_nbformat": 4
 },
 "nbformat": 4,
 "nbformat_minor": 2
}
