{
 "cells": [
  {
   "cell_type": "code",
   "execution_count": 1,
   "metadata": {},
   "outputs": [],
   "source": [
    "from utils.data_acquisition import get_players"
   ]
  },
  {
   "attachments": {},
   "cell_type": "markdown",
   "metadata": {},
   "source": [
    "## Generating player list ranked by position"
   ]
  },
  {
   "cell_type": "code",
   "execution_count": 9,
   "metadata": {},
   "outputs": [],
   "source": [
    "players = get_players()"
   ]
  },
  {
   "cell_type": "code",
   "execution_count": 10,
   "metadata": {},
   "outputs": [],
   "source": [
    "positions = players['position'].unique()"
   ]
  },
  {
   "cell_type": "code",
   "execution_count": 24,
   "metadata": {},
   "outputs": [],
   "source": [
    "players_ranked = players.copy() \n",
    "players_ranked['rank'] = None\n",
    "\n",
    "for position in positions:\n",
    "    rank = players_ranked[players_ranked['position'] == position].id.rank(method='min')\n",
    "    rank = rank - 1\n",
    "    players_ranked.iloc[rank.index,-1] = rank\n",
    "\n",
    "columns_sorted = [\"rank\", \"nickname\", \"id\", \"position\"]\n",
    "players_ranked = players_ranked[columns_sorted].drop_duplicates().sort_values('rank', ignore_index=True)"
   ]
  },
  {
   "cell_type": "code",
   "execution_count": 25,
   "metadata": {},
   "outputs": [
    {
     "data": {
      "text/html": [
       "<div>\n",
       "<style scoped>\n",
       "    .dataframe tbody tr th:only-of-type {\n",
       "        vertical-align: middle;\n",
       "    }\n",
       "\n",
       "    .dataframe tbody tr th {\n",
       "        vertical-align: top;\n",
       "    }\n",
       "\n",
       "    .dataframe thead th {\n",
       "        text-align: right;\n",
       "    }\n",
       "</style>\n",
       "<table border=\"1\" class=\"dataframe\">\n",
       "  <thead>\n",
       "    <tr style=\"text-align: right;\">\n",
       "      <th></th>\n",
       "      <th>rank</th>\n",
       "      <th>nickname</th>\n",
       "      <th>id</th>\n",
       "      <th>position</th>\n",
       "    </tr>\n",
       "  </thead>\n",
       "  <tbody>\n",
       "    <tr>\n",
       "      <th>0</th>\n",
       "      <td>0.0</td>\n",
       "      <td>Rafinha</td>\n",
       "      <td>38144</td>\n",
       "      <td>lat</td>\n",
       "    </tr>\n",
       "    <tr>\n",
       "      <th>1</th>\n",
       "      <td>0.0</td>\n",
       "      <td>Renato Augusto</td>\n",
       "      <td>38398</td>\n",
       "      <td>mei</td>\n",
       "    </tr>\n",
       "    <tr>\n",
       "      <th>2</th>\n",
       "      <td>0.0</td>\n",
       "      <td>Thiago Heleno</td>\n",
       "      <td>38394</td>\n",
       "      <td>zag</td>\n",
       "    </tr>\n",
       "    <tr>\n",
       "      <th>3</th>\n",
       "      <td>0.0</td>\n",
       "      <td>Fábio</td>\n",
       "      <td>37656</td>\n",
       "      <td>gol</td>\n",
       "    </tr>\n",
       "    <tr>\n",
       "      <th>4</th>\n",
       "      <td>0.0</td>\n",
       "      <td>Vagner Love</td>\n",
       "      <td>38959</td>\n",
       "      <td>ata</td>\n",
       "    </tr>\n",
       "    <tr>\n",
       "      <th>5</th>\n",
       "      <td>0.0</td>\n",
       "      <td>Léo Condé</td>\n",
       "      <td>37457</td>\n",
       "      <td>tec</td>\n",
       "    </tr>\n",
       "    <tr>\n",
       "      <th>6</th>\n",
       "      <td>1.0</td>\n",
       "      <td>Nenê</td>\n",
       "      <td>38913</td>\n",
       "      <td>mei</td>\n",
       "    </tr>\n",
       "    <tr>\n",
       "      <th>7</th>\n",
       "      <td>1.0</td>\n",
       "      <td>Cássio</td>\n",
       "      <td>42234</td>\n",
       "      <td>gol</td>\n",
       "    </tr>\n",
       "    <tr>\n",
       "      <th>8</th>\n",
       "      <td>1.0</td>\n",
       "      <td>Felipe Melo</td>\n",
       "      <td>38545</td>\n",
       "      <td>zag</td>\n",
       "    </tr>\n",
       "    <tr>\n",
       "      <th>9</th>\n",
       "      <td>1.0</td>\n",
       "      <td>Marcelo</td>\n",
       "      <td>38402</td>\n",
       "      <td>lat</td>\n",
       "    </tr>\n",
       "  </tbody>\n",
       "</table>\n",
       "</div>"
      ],
      "text/plain": [
       "  rank        nickname     id position\n",
       "0  0.0         Rafinha  38144      lat\n",
       "1  0.0  Renato Augusto  38398      mei\n",
       "2  0.0   Thiago Heleno  38394      zag\n",
       "3  0.0           Fábio  37656      gol\n",
       "4  0.0     Vagner Love  38959      ata\n",
       "5  0.0       Léo Condé  37457      tec\n",
       "6  1.0            Nenê  38913      mei\n",
       "7  1.0          Cássio  42234      gol\n",
       "8  1.0     Felipe Melo  38545      zag\n",
       "9  1.0         Marcelo  38402      lat"
      ]
     },
     "execution_count": 25,
     "metadata": {},
     "output_type": "execute_result"
    }
   ],
   "source": [
    "players_ranked.head(10)"
   ]
  }
 ],
 "metadata": {
  "kernelspec": {
   "display_name": "mkv-cartola-AYh-Mpys",
   "language": "python",
   "name": "python3"
  },
  "language_info": {
   "codemirror_mode": {
    "name": "ipython",
    "version": 3
   },
   "file_extension": ".py",
   "mimetype": "text/x-python",
   "name": "python",
   "nbconvert_exporter": "python",
   "pygments_lexer": "ipython3",
   "version": "3.9.5"
  },
  "orig_nbformat": 4
 },
 "nbformat": 4,
 "nbformat_minor": 2
}
