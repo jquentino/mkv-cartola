{
 "cells": [
  {
   "cell_type": "code",
   "execution_count": 2,
   "metadata": {},
   "outputs": [],
   "source": [
    "from utils.data_acquisition import get_players, get_matches, get_players_perfomance, get_next_match"
   ]
  },
  {
   "attachments": {},
   "cell_type": "markdown",
   "metadata": {},
   "source": [
    "## Generating player list ranked by position"
   ]
  },
  {
   "cell_type": "code",
   "execution_count": 3,
   "metadata": {},
   "outputs": [],
   "source": [
    "players = get_players()"
   ]
  },
  {
   "cell_type": "code",
   "execution_count": 4,
   "metadata": {},
   "outputs": [],
   "source": [
    "positions = players['position'].unique()"
   ]
  },
  {
   "cell_type": "code",
   "execution_count": 5,
   "metadata": {},
   "outputs": [],
   "source": [
    "players_ranked = players.copy() \n",
    "players_ranked['rank'] = None\n",
    "\n",
    "for position in positions:\n",
    "    rank = players_ranked[players_ranked['position'] == position].id.rank(method='min')\n",
    "    rank = rank - 1\n",
    "    players_ranked.iloc[rank.index,-1] = rank\n",
    "\n",
    "columns_sorted = [\"rank\", \"nickname\", \"id\", \"position\", \"price\", \"team\", \"status\"]\n",
    "players_ranked = players_ranked[columns_sorted].drop_duplicates().sort_values('rank', ignore_index=True)"
   ]
  },
  {
   "cell_type": "code",
   "execution_count": 6,
   "metadata": {},
   "outputs": [
    {
     "data": {
      "text/html": [
       "<div>\n",
       "<style scoped>\n",
       "    .dataframe tbody tr th:only-of-type {\n",
       "        vertical-align: middle;\n",
       "    }\n",
       "\n",
       "    .dataframe tbody tr th {\n",
       "        vertical-align: top;\n",
       "    }\n",
       "\n",
       "    .dataframe thead th {\n",
       "        text-align: right;\n",
       "    }\n",
       "</style>\n",
       "<table border=\"1\" class=\"dataframe\">\n",
       "  <thead>\n",
       "    <tr style=\"text-align: right;\">\n",
       "      <th></th>\n",
       "      <th>rank</th>\n",
       "      <th>nickname</th>\n",
       "      <th>id</th>\n",
       "      <th>position</th>\n",
       "      <th>price</th>\n",
       "      <th>team</th>\n",
       "      <th>status</th>\n",
       "    </tr>\n",
       "  </thead>\n",
       "  <tbody>\n",
       "    <tr>\n",
       "      <th>0</th>\n",
       "      <td>0.0</td>\n",
       "      <td>Renato Augusto</td>\n",
       "      <td>38398</td>\n",
       "      <td>mei</td>\n",
       "      <td>7.78</td>\n",
       "      <td>FLU</td>\n",
       "      <td>Nulo</td>\n",
       "    </tr>\n",
       "    <tr>\n",
       "      <th>1</th>\n",
       "      <td>0.0</td>\n",
       "      <td>Thiago Heleno</td>\n",
       "      <td>38394</td>\n",
       "      <td>zag</td>\n",
       "      <td>6.53</td>\n",
       "      <td>CAP</td>\n",
       "      <td>Provável</td>\n",
       "    </tr>\n",
       "    <tr>\n",
       "      <th>2</th>\n",
       "      <td>0.0</td>\n",
       "      <td>Rafinha</td>\n",
       "      <td>38144</td>\n",
       "      <td>lat</td>\n",
       "      <td>7.00</td>\n",
       "      <td>SAO</td>\n",
       "      <td>Nulo</td>\n",
       "    </tr>\n",
       "    <tr>\n",
       "      <th>3</th>\n",
       "      <td>0.0</td>\n",
       "      <td>Renato Gaúcho</td>\n",
       "      <td>41929</td>\n",
       "      <td>tec</td>\n",
       "      <td>9.28</td>\n",
       "      <td>GRE</td>\n",
       "      <td>Provável</td>\n",
       "    </tr>\n",
       "    <tr>\n",
       "      <th>4</th>\n",
       "      <td>0.0</td>\n",
       "      <td>Vagner Love</td>\n",
       "      <td>38959</td>\n",
       "      <td>ata</td>\n",
       "      <td>4.76</td>\n",
       "      <td>ACG</td>\n",
       "      <td>Dúvida</td>\n",
       "    </tr>\n",
       "    <tr>\n",
       "      <th>5</th>\n",
       "      <td>0.0</td>\n",
       "      <td>Fábio</td>\n",
       "      <td>37656</td>\n",
       "      <td>gol</td>\n",
       "      <td>9.24</td>\n",
       "      <td>FLU</td>\n",
       "      <td>Provável</td>\n",
       "    </tr>\n",
       "    <tr>\n",
       "      <th>6</th>\n",
       "      <td>1.0</td>\n",
       "      <td>Cuca</td>\n",
       "      <td>42411</td>\n",
       "      <td>tec</td>\n",
       "      <td>11.57</td>\n",
       "      <td>CAP</td>\n",
       "      <td>Provável</td>\n",
       "    </tr>\n",
       "    <tr>\n",
       "      <th>7</th>\n",
       "      <td>1.0</td>\n",
       "      <td>Hulk</td>\n",
       "      <td>39148</td>\n",
       "      <td>ata</td>\n",
       "      <td>14.21</td>\n",
       "      <td>CAM</td>\n",
       "      <td>Provável</td>\n",
       "    </tr>\n",
       "    <tr>\n",
       "      <th>8</th>\n",
       "      <td>1.0</td>\n",
       "      <td>Marcelo</td>\n",
       "      <td>38402</td>\n",
       "      <td>lat</td>\n",
       "      <td>10.22</td>\n",
       "      <td>FLU</td>\n",
       "      <td>Provável</td>\n",
       "    </tr>\n",
       "    <tr>\n",
       "      <th>9</th>\n",
       "      <td>1.0</td>\n",
       "      <td>Cássio</td>\n",
       "      <td>42234</td>\n",
       "      <td>gol</td>\n",
       "      <td>11.40</td>\n",
       "      <td>CRU</td>\n",
       "      <td>Nulo</td>\n",
       "    </tr>\n",
       "  </tbody>\n",
       "</table>\n",
       "</div>"
      ],
      "text/plain": [
       "  rank        nickname     id position  price team    status\n",
       "0  0.0  Renato Augusto  38398      mei   7.78  FLU      Nulo\n",
       "1  0.0   Thiago Heleno  38394      zag   6.53  CAP  Provável\n",
       "2  0.0         Rafinha  38144      lat   7.00  SAO      Nulo\n",
       "3  0.0   Renato Gaúcho  41929      tec   9.28  GRE  Provável\n",
       "4  0.0     Vagner Love  38959      ata   4.76  ACG    Dúvida\n",
       "5  0.0           Fábio  37656      gol   9.24  FLU  Provável\n",
       "6  1.0            Cuca  42411      tec  11.57  CAP  Provável\n",
       "7  1.0            Hulk  39148      ata  14.21  CAM  Provável\n",
       "8  1.0         Marcelo  38402      lat  10.22  FLU  Provável\n",
       "9  1.0          Cássio  42234      gol  11.40  CRU      Nulo"
      ]
     },
     "execution_count": 6,
     "metadata": {},
     "output_type": "execute_result"
    }
   ],
   "source": [
    "players_ranked.head(10)"
   ]
  },
  {
   "attachments": {},
   "cell_type": "markdown",
   "metadata": {},
   "source": [
    "## Matches"
   ]
  },
  {
   "cell_type": "code",
   "execution_count": 7,
   "metadata": {},
   "outputs": [],
   "source": [
    "matches = get_matches()"
   ]
  },
  {
   "cell_type": "code",
   "execution_count": 8,
   "metadata": {},
   "outputs": [],
   "source": [
    "matches[\"home_score_norm\"] = matches[\"home_score\"]/matches[\"home_score\"].max()\n",
    "matches[\"away_score_norm\"] = matches[\"away_score\"]/matches[\"away_score\"].max()"
   ]
  },
  {
   "cell_type": "code",
   "execution_count": 9,
   "metadata": {},
   "outputs": [
    {
     "data": {
      "text/plain": [
       "(60, 8)"
      ]
     },
     "execution_count": 9,
     "metadata": {},
     "output_type": "execute_result"
    }
   ],
   "source": [
    "matches.shape"
   ]
  },
  {
   "cell_type": "code",
   "execution_count": 10,
   "metadata": {},
   "outputs": [
    {
     "data": {
      "text/html": [
       "<div>\n",
       "<style scoped>\n",
       "    .dataframe tbody tr th:only-of-type {\n",
       "        vertical-align: middle;\n",
       "    }\n",
       "\n",
       "    .dataframe tbody tr th {\n",
       "        vertical-align: top;\n",
       "    }\n",
       "\n",
       "    .dataframe thead th {\n",
       "        text-align: right;\n",
       "    }\n",
       "</style>\n",
       "<table border=\"1\" class=\"dataframe\">\n",
       "  <thead>\n",
       "    <tr style=\"text-align: right;\">\n",
       "      <th></th>\n",
       "      <th>date</th>\n",
       "      <th>home_team</th>\n",
       "      <th>away_team</th>\n",
       "      <th>home_score</th>\n",
       "      <th>away_score</th>\n",
       "      <th>round</th>\n",
       "      <th>home_score_norm</th>\n",
       "      <th>away_score_norm</th>\n",
       "    </tr>\n",
       "  </thead>\n",
       "  <tbody>\n",
       "    <tr>\n",
       "      <th>0</th>\n",
       "      <td>2024-04-13 18:30:00</td>\n",
       "      <td>INT</td>\n",
       "      <td>BAH</td>\n",
       "      <td>2.0</td>\n",
       "      <td>1.0</td>\n",
       "      <td>1</td>\n",
       "      <td>0.4</td>\n",
       "      <td>0.25</td>\n",
       "    </tr>\n",
       "    <tr>\n",
       "      <th>1</th>\n",
       "      <td>2024-04-13 18:30:00</td>\n",
       "      <td>CRI</td>\n",
       "      <td>JUV</td>\n",
       "      <td>1.0</td>\n",
       "      <td>1.0</td>\n",
       "      <td>1</td>\n",
       "      <td>0.2</td>\n",
       "      <td>0.25</td>\n",
       "    </tr>\n",
       "    <tr>\n",
       "      <th>2</th>\n",
       "      <td>2024-04-13 21:00:00</td>\n",
       "      <td>FLU</td>\n",
       "      <td>BGT</td>\n",
       "      <td>2.0</td>\n",
       "      <td>2.0</td>\n",
       "      <td>1</td>\n",
       "      <td>0.4</td>\n",
       "      <td>0.50</td>\n",
       "    </tr>\n",
       "    <tr>\n",
       "      <th>3</th>\n",
       "      <td>2024-04-13 21:00:00</td>\n",
       "      <td>SAO</td>\n",
       "      <td>FOR</td>\n",
       "      <td>1.0</td>\n",
       "      <td>2.0</td>\n",
       "      <td>1</td>\n",
       "      <td>0.2</td>\n",
       "      <td>0.50</td>\n",
       "    </tr>\n",
       "    <tr>\n",
       "      <th>4</th>\n",
       "      <td>2024-04-14 16:00:00</td>\n",
       "      <td>VAS</td>\n",
       "      <td>GRE</td>\n",
       "      <td>2.0</td>\n",
       "      <td>1.0</td>\n",
       "      <td>1</td>\n",
       "      <td>0.4</td>\n",
       "      <td>0.25</td>\n",
       "    </tr>\n",
       "  </tbody>\n",
       "</table>\n",
       "</div>"
      ],
      "text/plain": [
       "                 date home_team away_team  home_score  away_score  round  \\\n",
       "0 2024-04-13 18:30:00       INT       BAH         2.0         1.0      1   \n",
       "1 2024-04-13 18:30:00       CRI       JUV         1.0         1.0      1   \n",
       "2 2024-04-13 21:00:00       FLU       BGT         2.0         2.0      1   \n",
       "3 2024-04-13 21:00:00       SAO       FOR         1.0         2.0      1   \n",
       "4 2024-04-14 16:00:00       VAS       GRE         2.0         1.0      1   \n",
       "\n",
       "   home_score_norm  away_score_norm  \n",
       "0              0.4             0.25  \n",
       "1              0.2             0.25  \n",
       "2              0.4             0.50  \n",
       "3              0.2             0.50  \n",
       "4              0.4             0.25  "
      ]
     },
     "execution_count": 10,
     "metadata": {},
     "output_type": "execute_result"
    }
   ],
   "source": [
    "matches.head()"
   ]
  },
  {
   "cell_type": "code",
   "execution_count": 11,
   "metadata": {},
   "outputs": [
    {
     "data": {
      "text/plain": [
       "date               2024-06-09 16:00:00\n",
       "home_team                          CRI\n",
       "away_team                          CUI\n",
       "home_score                         NaN\n",
       "away_score                         NaN\n",
       "round                                6\n",
       "home_score_norm                    NaN\n",
       "away_score_norm                    NaN\n",
       "Name: 59, dtype: object"
      ]
     },
     "execution_count": 11,
     "metadata": {},
     "output_type": "execute_result"
    }
   ],
   "source": [
    "matches.iloc[-1]"
   ]
  },
  {
   "attachments": {},
   "cell_type": "markdown",
   "metadata": {},
   "source": [
    "Remark: RS teams didn't player last rounds"
   ]
  },
  {
   "cell_type": "code",
   "execution_count": 12,
   "metadata": {},
   "outputs": [],
   "source": [
    "matches = matches.dropna().reset_index()"
   ]
  },
  {
   "cell_type": "code",
   "execution_count": 13,
   "metadata": {},
   "outputs": [
    {
     "data": {
      "text/plain": [
       "(52, 9)"
      ]
     },
     "execution_count": 13,
     "metadata": {},
     "output_type": "execute_result"
    }
   ],
   "source": [
    "matches.shape"
   ]
  },
  {
   "attachments": {},
   "cell_type": "markdown",
   "metadata": {},
   "source": [
    "### Players performance"
   ]
  },
  {
   "cell_type": "code",
   "execution_count": 14,
   "metadata": {},
   "outputs": [],
   "source": [
    "players_performance = get_players_perfomance()"
   ]
  },
  {
   "cell_type": "code",
   "execution_count": 15,
   "metadata": {},
   "outputs": [],
   "source": [
    "players_performance = players_performance.drop(\n",
    "    [\"price\", \"nickname\", \"position\", \"team\"], axis=1)"
   ]
  },
  {
   "cell_type": "code",
   "execution_count": 16,
   "metadata": {},
   "outputs": [
    {
     "data": {
      "text/html": [
       "<div>\n",
       "<style scoped>\n",
       "    .dataframe tbody tr th:only-of-type {\n",
       "        vertical-align: middle;\n",
       "    }\n",
       "\n",
       "    .dataframe tbody tr th {\n",
       "        vertical-align: top;\n",
       "    }\n",
       "\n",
       "    .dataframe thead th {\n",
       "        text-align: right;\n",
       "    }\n",
       "</style>\n",
       "<table border=\"1\" class=\"dataframe\">\n",
       "  <thead>\n",
       "    <tr style=\"text-align: right;\">\n",
       "      <th></th>\n",
       "      <th>id</th>\n",
       "      <th>points</th>\n",
       "      <th>round</th>\n",
       "    </tr>\n",
       "  </thead>\n",
       "  <tbody>\n",
       "    <tr>\n",
       "      <th>0</th>\n",
       "      <td>100079</td>\n",
       "      <td>2.6</td>\n",
       "      <td>1</td>\n",
       "    </tr>\n",
       "    <tr>\n",
       "      <th>1</th>\n",
       "      <td>100084</td>\n",
       "      <td>1.4</td>\n",
       "      <td>1</td>\n",
       "    </tr>\n",
       "    <tr>\n",
       "      <th>2</th>\n",
       "      <td>100085</td>\n",
       "      <td>5.0</td>\n",
       "      <td>1</td>\n",
       "    </tr>\n",
       "    <tr>\n",
       "      <th>3</th>\n",
       "      <td>100652</td>\n",
       "      <td>1.3</td>\n",
       "      <td>1</td>\n",
       "    </tr>\n",
       "    <tr>\n",
       "      <th>4</th>\n",
       "      <td>100846</td>\n",
       "      <td>-1.5</td>\n",
       "      <td>1</td>\n",
       "    </tr>\n",
       "  </tbody>\n",
       "</table>\n",
       "</div>"
      ],
      "text/plain": [
       "       id  points  round\n",
       "0  100079     2.6      1\n",
       "1  100084     1.4      1\n",
       "2  100085     5.0      1\n",
       "3  100652     1.3      1\n",
       "4  100846    -1.5      1"
      ]
     },
     "execution_count": 16,
     "metadata": {},
     "output_type": "execute_result"
    }
   ],
   "source": [
    "players_performance.head()"
   ]
  },
  {
   "attachments": {},
   "cell_type": "markdown",
   "metadata": {},
   "source": [
    "Joining the above table with the players table, which contains the ranks"
   ]
  },
  {
   "cell_type": "code",
   "execution_count": 17,
   "metadata": {},
   "outputs": [],
   "source": [
    "players_performance = players_performance.set_index(\"id\").join(players_ranked.set_index(\"id\"))"
   ]
  },
  {
   "cell_type": "code",
   "execution_count": 18,
   "metadata": {},
   "outputs": [
    {
     "data": {
      "text/html": [
       "<div>\n",
       "<style scoped>\n",
       "    .dataframe tbody tr th:only-of-type {\n",
       "        vertical-align: middle;\n",
       "    }\n",
       "\n",
       "    .dataframe tbody tr th {\n",
       "        vertical-align: top;\n",
       "    }\n",
       "\n",
       "    .dataframe thead th {\n",
       "        text-align: right;\n",
       "    }\n",
       "</style>\n",
       "<table border=\"1\" class=\"dataframe\">\n",
       "  <thead>\n",
       "    <tr style=\"text-align: right;\">\n",
       "      <th></th>\n",
       "      <th>points</th>\n",
       "      <th>round</th>\n",
       "      <th>rank</th>\n",
       "      <th>nickname</th>\n",
       "      <th>position</th>\n",
       "      <th>price</th>\n",
       "      <th>team</th>\n",
       "      <th>status</th>\n",
       "    </tr>\n",
       "    <tr>\n",
       "      <th>id</th>\n",
       "      <th></th>\n",
       "      <th></th>\n",
       "      <th></th>\n",
       "      <th></th>\n",
       "      <th></th>\n",
       "      <th></th>\n",
       "      <th></th>\n",
       "      <th></th>\n",
       "    </tr>\n",
       "  </thead>\n",
       "  <tbody>\n",
       "    <tr>\n",
       "      <th>100079</th>\n",
       "      <td>2.6</td>\n",
       "      <td>1</td>\n",
       "      <td>94.0</td>\n",
       "      <td>Zaracho</td>\n",
       "      <td>mei</td>\n",
       "      <td>8.03</td>\n",
       "      <td>CAM</td>\n",
       "      <td>Provável</td>\n",
       "    </tr>\n",
       "    <tr>\n",
       "      <th>100084</th>\n",
       "      <td>1.4</td>\n",
       "      <td>1</td>\n",
       "      <td>95.0</td>\n",
       "      <td>Igor Gomes</td>\n",
       "      <td>mei</td>\n",
       "      <td>5.43</td>\n",
       "      <td>CAM</td>\n",
       "      <td>Nulo</td>\n",
       "    </tr>\n",
       "    <tr>\n",
       "      <th>100085</th>\n",
       "      <td>5.0</td>\n",
       "      <td>1</td>\n",
       "      <td>96.0</td>\n",
       "      <td>Pedro Augusto</td>\n",
       "      <td>mei</td>\n",
       "      <td>3.75</td>\n",
       "      <td>FOR</td>\n",
       "      <td>Provável</td>\n",
       "    </tr>\n",
       "    <tr>\n",
       "      <th>100652</th>\n",
       "      <td>1.3</td>\n",
       "      <td>1</td>\n",
       "      <td>72.0</td>\n",
       "      <td>Yuri Alberto</td>\n",
       "      <td>ata</td>\n",
       "      <td>5.73</td>\n",
       "      <td>COR</td>\n",
       "      <td>Provável</td>\n",
       "    </tr>\n",
       "    <tr>\n",
       "      <th>100846</th>\n",
       "      <td>-1.5</td>\n",
       "      <td>1</td>\n",
       "      <td>49.0</td>\n",
       "      <td>Lucas Esteves</td>\n",
       "      <td>lat</td>\n",
       "      <td>2.66</td>\n",
       "      <td>VIT</td>\n",
       "      <td>Nulo</td>\n",
       "    </tr>\n",
       "  </tbody>\n",
       "</table>\n",
       "</div>"
      ],
      "text/plain": [
       "        points  round  rank       nickname position  price team    status\n",
       "id                                                                       \n",
       "100079     2.6      1  94.0        Zaracho      mei   8.03  CAM  Provável\n",
       "100084     1.4      1  95.0     Igor Gomes      mei   5.43  CAM      Nulo\n",
       "100085     5.0      1  96.0  Pedro Augusto      mei   3.75  FOR  Provável\n",
       "100652     1.3      1  72.0   Yuri Alberto      ata   5.73  COR  Provável\n",
       "100846    -1.5      1  49.0  Lucas Esteves      lat   2.66  VIT      Nulo"
      ]
     },
     "execution_count": 18,
     "metadata": {},
     "output_type": "execute_result"
    }
   ],
   "source": [
    "players_performance.head()"
   ]
  },
  {
   "attachments": {},
   "cell_type": "markdown",
   "metadata": {},
   "source": [
    "**Remark**: The price column here can lead to confusion. This price was get from the market database. So, it is the current price of the player in the market.\n",
    "For this reason, I will rename the column: "
   ]
  },
  {
   "cell_type": "code",
   "execution_count": 19,
   "metadata": {},
   "outputs": [],
   "source": [
    "players_performance = players_performance.rename(columns={\"price\": \"current_price\"})"
   ]
  },
  {
   "cell_type": "code",
   "execution_count": 20,
   "metadata": {},
   "outputs": [
    {
     "data": {
      "text/plain": [
       "Index(['points', 'round', 'rank', 'nickname', 'position', 'current_price',\n",
       "       'team', 'status'],\n",
       "      dtype='object')"
      ]
     },
     "execution_count": 20,
     "metadata": {},
     "output_type": "execute_result"
    }
   ],
   "source": [
    "players_performance.columns"
   ]
  },
  {
   "cell_type": "code",
   "execution_count": 21,
   "metadata": {},
   "outputs": [
    {
     "data": {
      "text/plain": [
       "(1717, 8)"
      ]
     },
     "execution_count": 21,
     "metadata": {},
     "output_type": "execute_result"
    }
   ],
   "source": [
    "players_performance.shape"
   ]
  },
  {
   "attachments": {},
   "cell_type": "markdown",
   "metadata": {},
   "source": [
    "Removing player that are not available in the market"
   ]
  },
  {
   "cell_type": "code",
   "execution_count": 22,
   "metadata": {},
   "outputs": [],
   "source": [
    "players_performance.drop(\n",
    "    players_performance[players_performance['rank'].isnull()].index,\n",
    "    inplace=True)\n",
    "\n",
    "players_performance['rank'] = players_performance['rank'].astype(int)"
   ]
  },
  {
   "cell_type": "code",
   "execution_count": 23,
   "metadata": {},
   "outputs": [
    {
     "data": {
      "text/html": [
       "<div>\n",
       "<style scoped>\n",
       "    .dataframe tbody tr th:only-of-type {\n",
       "        vertical-align: middle;\n",
       "    }\n",
       "\n",
       "    .dataframe tbody tr th {\n",
       "        vertical-align: top;\n",
       "    }\n",
       "\n",
       "    .dataframe thead th {\n",
       "        text-align: right;\n",
       "    }\n",
       "</style>\n",
       "<table border=\"1\" class=\"dataframe\">\n",
       "  <thead>\n",
       "    <tr style=\"text-align: right;\">\n",
       "      <th></th>\n",
       "      <th>points</th>\n",
       "      <th>round</th>\n",
       "      <th>rank</th>\n",
       "      <th>nickname</th>\n",
       "      <th>position</th>\n",
       "      <th>current_price</th>\n",
       "      <th>team</th>\n",
       "      <th>status</th>\n",
       "    </tr>\n",
       "    <tr>\n",
       "      <th>id</th>\n",
       "      <th></th>\n",
       "      <th></th>\n",
       "      <th></th>\n",
       "      <th></th>\n",
       "      <th></th>\n",
       "      <th></th>\n",
       "      <th></th>\n",
       "      <th></th>\n",
       "    </tr>\n",
       "  </thead>\n",
       "  <tbody>\n",
       "    <tr>\n",
       "      <th>100079</th>\n",
       "      <td>2.6</td>\n",
       "      <td>1</td>\n",
       "      <td>94</td>\n",
       "      <td>Zaracho</td>\n",
       "      <td>mei</td>\n",
       "      <td>8.03</td>\n",
       "      <td>CAM</td>\n",
       "      <td>Provável</td>\n",
       "    </tr>\n",
       "    <tr>\n",
       "      <th>100084</th>\n",
       "      <td>1.4</td>\n",
       "      <td>1</td>\n",
       "      <td>95</td>\n",
       "      <td>Igor Gomes</td>\n",
       "      <td>mei</td>\n",
       "      <td>5.43</td>\n",
       "      <td>CAM</td>\n",
       "      <td>Nulo</td>\n",
       "    </tr>\n",
       "    <tr>\n",
       "      <th>100085</th>\n",
       "      <td>5.0</td>\n",
       "      <td>1</td>\n",
       "      <td>96</td>\n",
       "      <td>Pedro Augusto</td>\n",
       "      <td>mei</td>\n",
       "      <td>3.75</td>\n",
       "      <td>FOR</td>\n",
       "      <td>Provável</td>\n",
       "    </tr>\n",
       "    <tr>\n",
       "      <th>100652</th>\n",
       "      <td>1.3</td>\n",
       "      <td>1</td>\n",
       "      <td>72</td>\n",
       "      <td>Yuri Alberto</td>\n",
       "      <td>ata</td>\n",
       "      <td>5.73</td>\n",
       "      <td>COR</td>\n",
       "      <td>Provável</td>\n",
       "    </tr>\n",
       "    <tr>\n",
       "      <th>100846</th>\n",
       "      <td>-1.5</td>\n",
       "      <td>1</td>\n",
       "      <td>49</td>\n",
       "      <td>Lucas Esteves</td>\n",
       "      <td>lat</td>\n",
       "      <td>2.66</td>\n",
       "      <td>VIT</td>\n",
       "      <td>Nulo</td>\n",
       "    </tr>\n",
       "  </tbody>\n",
       "</table>\n",
       "</div>"
      ],
      "text/plain": [
       "        points  round  rank       nickname position  current_price team  \\\n",
       "id                                                                        \n",
       "100079     2.6      1    94        Zaracho      mei           8.03  CAM   \n",
       "100084     1.4      1    95     Igor Gomes      mei           5.43  CAM   \n",
       "100085     5.0      1    96  Pedro Augusto      mei           3.75  FOR   \n",
       "100652     1.3      1    72   Yuri Alberto      ata           5.73  COR   \n",
       "100846    -1.5      1    49  Lucas Esteves      lat           2.66  VIT   \n",
       "\n",
       "          status  \n",
       "id                \n",
       "100079  Provável  \n",
       "100084      Nulo  \n",
       "100085  Provável  \n",
       "100652  Provável  \n",
       "100846      Nulo  "
      ]
     },
     "execution_count": 23,
     "metadata": {},
     "output_type": "execute_result"
    }
   ],
   "source": [
    "players_performance.head()"
   ]
  },
  {
   "cell_type": "code",
   "execution_count": 24,
   "metadata": {},
   "outputs": [
    {
     "data": {
      "text/plain": [
       "(1688, 8)"
      ]
     },
     "execution_count": 24,
     "metadata": {},
     "output_type": "execute_result"
    }
   ],
   "source": [
    "players_performance.shape"
   ]
  },
  {
   "attachments": {},
   "cell_type": "markdown",
   "metadata": {},
   "source": [
    "## Transition matrix M between the states\n",
    "Until here, it is not clear for me yet what the states in this matrix means"
   ]
  },
  {
   "cell_type": "code",
   "execution_count": 25,
   "metadata": {},
   "outputs": [],
   "source": [
    "import numpy as np\n",
    "import matplotlib.pyplot as plt\n",
    "from matplotlib.colors import TwoSlopeNorm\n",
    "from typing import Literal, Callable, Tuple\n",
    "from numpy._typing import NDArray, ArrayLike"
   ]
  },
  {
   "cell_type": "code",
   "execution_count": 26,
   "metadata": {},
   "outputs": [],
   "source": [
    "def normalize_transition_matrix(m: NDArray) -> NDArray:\n",
    "    \"\"\".\"\"\"\n",
    "    M_norm = m.copy()\n",
    "    M_norm = M_norm / np.sum(M_norm, axis=1)[:, None] # Normalizing the rows.\n",
    "    M_norm = np.nan_to_num(M_norm, nan=1/M_norm.shape[0])  # Replacing no info rows with equally distributed probability\n",
    "    return M_norm"
   ]
  },
  {
   "cell_type": "code",
   "execution_count": 27,
   "metadata": {},
   "outputs": [],
   "source": [
    "def forward(home_goals: int, away_goals: int) -> Tuple[int, int]:\n",
    "    return home_goals, away_goals\n",
    "\n",
    "def defender(home_goals: int, away_goals: int):\n",
    "    home_extra_score, away_extra_score = 1, 1\n",
    "    if away_goals:\n",
    "        home_extra_score =- 1\n",
    "    if home_goals:\n",
    "        away_extra_score = -1\n",
    "    return home_extra_score, away_extra_score\n",
    "\n",
    "def midfilder(home_goals: int, away_goals: int) -> Tuple[int, int]:\n",
    "    forward_h, forward_a = forward(home_goals, away_goals)\n",
    "    defender_h, defender_a = defender(home_goals, away_goals)\n",
    "    return forward_h + defender_h, forward_a + defender_a\n",
    "\n",
    "def manager(*args) -> Tuple[int, int]:\n",
    "    return 0,0"
   ]
  },
  {
   "cell_type": "code",
   "execution_count": 28,
   "metadata": {},
   "outputs": [],
   "source": [
    "def generate_m_matrix(\n",
    "        position: Literal[\"ata\", \"mei\", \"zag\", \"tec\"], \n",
    "        extra_function: Callable[[int, int], Tuple[int, int]]\n",
    ") -> NDArray:\n",
    "    \"\"\".\"\"\"\n",
    "    players_performance_position = players_performance[\n",
    "        players_performance[\"position\"] == position\n",
    "        ].copy()\n",
    "\n",
    "    n_players = len(players_ranked[players_ranked[\"position\"] == position])\n",
    "    M = np.zeros([n_players, n_players])\n",
    "\n",
    "    # The match are labeled from 0 to len(matches)\n",
    "    for match in range(len(matches)):\n",
    "        # Selecting all players that played in the round where the match ocurred\n",
    "        df_round = players_performance_position[\n",
    "            players_performance_position[\"round\"] == matches[\"round\"][match]\n",
    "        ]\n",
    "        # Selecting the players that played in the given match\n",
    "        players_home = df_round[df_round[\"team\"] == matches[\"home_team\"][match]]\n",
    "        players_away = df_round[df_round[\"team\"] == matches[\"away_team\"][match]]\n",
    "\n",
    "        for p_home in range(len(players_home)):\n",
    "            for p_away in range(len(players_away)):\n",
    "                score_home, score_away = 0,0\n",
    "            \n",
    "                points_p_home = players_home[\"points\"].iloc[p_home]\n",
    "                points_p_away = players_away[\"points\"].iloc[p_away]\n",
    "\n",
    "                sum = points_p_home + points_p_away\n",
    "                if sum != 0:\n",
    "                    score_home = points_p_home/sum\n",
    "                    score_away = points_p_away/sum\n",
    "                \n",
    "                # Selecting the coordinates of each player in the matrix\n",
    "                p1 = players_home[\"rank\"].iloc[p_home]\n",
    "                p2 = players_away[\"rank\"].iloc[p_away]\n",
    "\n",
    "                home_extra_score, away_extra_score = extra_function(\n",
    "                    matches['home_score_norm'][match],\n",
    "                    matches['away_score_norm'][match]\n",
    "                )\n",
    "                home_extra_score, away_extra_score = 0,0\n",
    "\n",
    "                M[p1,p1] = M[p1,p1] + home_extra_score + score_home\n",
    "                M[p1,p2] = M[p1,p2] + away_extra_score + score_away\n",
    "                M[p2,p1] = M[p2,p1] + home_extra_score + score_home\n",
    "                M[p2,p2] = M[p2,p2] + away_extra_score + score_away\n",
    "    \n",
    "    # return normalize_transition_matrix(M)\n",
    "    return M\n"
   ]
  },
  {
   "cell_type": "code",
   "execution_count": 29,
   "metadata": {},
   "outputs": [],
   "source": [
    "def stacionary_distribution(m_norm: NDArray) -> ArrayLike:\n",
    "    \"\"\".\"\"\"\n",
    "    tolerances = [None, 1e-4, 1e-3, 1e-2]\n",
    "    evals, evecs = np.linalg.eig(m_norm.T)\n",
    "    \n",
    "    for tol in tolerances:\n",
    "        try: # TODO: Change this to a size validation\n",
    "            evec1 = evecs[:,np.isclose(evals, 1, tol)] # Increase the tolerance a little\n",
    "            evec1 = evec1[:,0]\n",
    "        except:\n",
    "            continue\n",
    "        stationary = evec1 / evec1.sum()\n",
    "        stationary = stationary.real\n",
    "        return stationary, evals, evecs"
   ]
  },
  {
   "cell_type": "code",
   "execution_count": 30,
   "metadata": {},
   "outputs": [],
   "source": [
    "out_data = {\n",
    "    \"gol\": {\"func\": defender},\n",
    "    \"zag\": {\"func\": defender},\n",
    "    \"lat\": {\"func\": defender},\n",
    "    \"mei\": {\"func\": midfilder},\n",
    "    \"ata\": {\"func\": forward},\n",
    "    \"tec\": {\"func\": manager}\n",
    "}"
   ]
  },
  {
   "cell_type": "code",
   "execution_count": 31,
   "metadata": {},
   "outputs": [
    {
     "name": "stderr",
     "output_type": "stream",
     "text": [
      "/tmp/ipykernel_36618/3863926212.py:4: RuntimeWarning: invalid value encountered in divide\n",
      "  M_norm = M_norm / np.sum(M_norm, axis=1)[:, None] # Normalizing the rows.\n"
     ]
    }
   ],
   "source": [
    "for position, content in out_data.items():\n",
    "    content['M'] = generate_m_matrix(position, content[\"func\"])\n",
    "    content['M_norm'] = normalize_transition_matrix(content['M'])\n",
    "    content[\"st_dist\"], *_ = stacionary_distribution(content['M_norm'])"
   ]
  },
  {
   "attachments": {},
   "cell_type": "markdown",
   "metadata": {},
   "source": [
    "Transiction matrix plot"
   ]
  },
  {
   "cell_type": "code",
   "execution_count": 32,
   "metadata": {},
   "outputs": [
    {
     "data": {
      "text/plain": [
       "<matplotlib.colorbar.Colorbar at 0x7f667ca230a0>"
      ]
     },
     "execution_count": 32,
     "metadata": {},
     "output_type": "execute_result"
    },
    {
     "data": {
      "image/png": "[encoded data removed]",
      "text/plain": [
       "<Figure size 1500x1000 with 7 Axes>"
      ]
     },
     "metadata": {},
     "output_type": "display_data"
    }
   ],
   "source": [
    "fig, axes = plt.subplots(2, 3, figsize=(15, 10))\n",
    "axesli = axes.flatten()\n",
    "for i, key in enumerate(out_data):\n",
    "    im = axesli[i].imshow(out_data[key][\"M_norm\"], cmap='seismic', norm=TwoSlopeNorm(0))\n",
    "    axesli[i].set_title(key)\n",
    "\n",
    "fig.colorbar(im, ax=axes.ravel())\n"
   ]
  },
  {
   "attachments": {},
   "cell_type": "markdown",
   "metadata": {},
   "source": [
    "Stationary Distribution plot "
   ]
  },
  {
   "cell_type": "code",
   "execution_count": 33,
   "metadata": {},
   "outputs": [
    {
     "data": {
      "image/png": "[encoded data removed]",
      "text/plain": [
       "<Figure size 1500x1000 with 6 Axes>"
      ]
     },
     "metadata": {},
     "output_type": "display_data"
    }
   ],
   "source": [
    "fig, axes = plt.subplots(2, 3, figsize=(15, 10))\n",
    "axesli = axes.flatten()\n",
    "for i, key in enumerate(out_data):\n",
    "    im = axesli[i].hist(out_data[key][\"st_dist\"])\n",
    "    axesli[i].set_title(key)"
   ]
  },
  {
   "attachments": {},
   "cell_type": "markdown",
   "metadata": {},
   "source": [
    "### Overperfomance players for each position"
   ]
  },
  {
   "cell_type": "code",
   "execution_count": 34,
   "metadata": {},
   "outputs": [
    {
     "data": {
      "text/html": [
       "<div>\n",
       "<style scoped>\n",
       "    .dataframe tbody tr th:only-of-type {\n",
       "        vertical-align: middle;\n",
       "    }\n",
       "\n",
       "    .dataframe tbody tr th {\n",
       "        vertical-align: top;\n",
       "    }\n",
       "\n",
       "    .dataframe thead th {\n",
       "        text-align: right;\n",
       "    }\n",
       "</style>\n",
       "<table border=\"1\" class=\"dataframe\">\n",
       "  <thead>\n",
       "    <tr style=\"text-align: right;\">\n",
       "      <th></th>\n",
       "      <th>rank</th>\n",
       "      <th>nickname</th>\n",
       "      <th>id</th>\n",
       "      <th>position</th>\n",
       "      <th>price</th>\n",
       "      <th>team</th>\n",
       "      <th>status</th>\n",
       "    </tr>\n",
       "  </thead>\n",
       "  <tbody>\n",
       "    <tr>\n",
       "      <th>5</th>\n",
       "      <td>0.0</td>\n",
       "      <td>Fábio</td>\n",
       "      <td>37656</td>\n",
       "      <td>gol</td>\n",
       "      <td>9.24</td>\n",
       "      <td>FLU</td>\n",
       "      <td>Provável</td>\n",
       "    </tr>\n",
       "    <tr>\n",
       "      <th>73</th>\n",
       "      <td>12.0</td>\n",
       "      <td>Marchesín</td>\n",
       "      <td>70332</td>\n",
       "      <td>gol</td>\n",
       "      <td>6.66</td>\n",
       "      <td>GRE</td>\n",
       "      <td>Nulo</td>\n",
       "    </tr>\n",
       "    <tr>\n",
       "      <th>82</th>\n",
       "      <td>13.0</td>\n",
       "      <td>Gabriel</td>\n",
       "      <td>70449</td>\n",
       "      <td>gol</td>\n",
       "      <td>3.81</td>\n",
       "      <td>JUV</td>\n",
       "      <td>Provável</td>\n",
       "    </tr>\n",
       "    <tr>\n",
       "      <th>94</th>\n",
       "      <td>15.0</td>\n",
       "      <td>Everson</td>\n",
       "      <td>72294</td>\n",
       "      <td>gol</td>\n",
       "      <td>9.62</td>\n",
       "      <td>CAM</td>\n",
       "      <td>Provável</td>\n",
       "    </tr>\n",
       "    <tr>\n",
       "      <th>118</th>\n",
       "      <td>19.0</td>\n",
       "      <td>João Ricardo</td>\n",
       "      <td>81881</td>\n",
       "      <td>gol</td>\n",
       "      <td>8.13</td>\n",
       "      <td>FOR</td>\n",
       "      <td>Provável</td>\n",
       "    </tr>\n",
       "  </tbody>\n",
       "</table>\n",
       "</div>"
      ],
      "text/plain": [
       "     rank      nickname     id position  price team    status\n",
       "5     0.0         Fábio  37656      gol   9.24  FLU  Provável\n",
       "73   12.0     Marchesín  70332      gol   6.66  GRE      Nulo\n",
       "82   13.0       Gabriel  70449      gol   3.81  JUV  Provável\n",
       "94   15.0       Everson  72294      gol   9.62  CAM  Provável\n",
       "118  19.0  João Ricardo  81881      gol   8.13  FOR  Provável"
      ]
     },
     "execution_count": 34,
     "metadata": {},
     "output_type": "execute_result"
    }
   ],
   "source": [
    "position = 'gol'\n",
    "dist = out_data[position]['st_dist']\n",
    "deviation = dist.std()\n",
    "players_ranked[players_ranked.position==position][list(dist > deviation)].head()"
   ]
  },
  {
   "cell_type": "code",
   "execution_count": 96,
   "metadata": {},
   "outputs": [
    {
     "data": {
      "text/html": [
       "<div>\n",
       "<style scoped>\n",
       "    .dataframe tbody tr th:only-of-type {\n",
       "        vertical-align: middle;\n",
       "    }\n",
       "\n",
       "    .dataframe tbody tr th {\n",
       "        vertical-align: top;\n",
       "    }\n",
       "\n",
       "    .dataframe thead th {\n",
       "        text-align: right;\n",
       "    }\n",
       "</style>\n",
       "<table border=\"1\" class=\"dataframe\">\n",
       "  <thead>\n",
       "    <tr style=\"text-align: right;\">\n",
       "      <th></th>\n",
       "      <th>rank</th>\n",
       "      <th>nickname</th>\n",
       "      <th>id</th>\n",
       "      <th>position</th>\n",
       "      <th>price</th>\n",
       "      <th>team</th>\n",
       "      <th>status</th>\n",
       "    </tr>\n",
       "  </thead>\n",
       "  <tbody>\n",
       "    <tr>\n",
       "      <th>147</th>\n",
       "      <td>25.0</td>\n",
       "      <td>Léo Pereira</td>\n",
       "      <td>83528</td>\n",
       "      <td>zag</td>\n",
       "      <td>7.71</td>\n",
       "      <td>FLA</td>\n",
       "      <td>Contundido</td>\n",
       "    </tr>\n",
       "    <tr>\n",
       "      <th>169</th>\n",
       "      <td>29.0</td>\n",
       "      <td>Rodrigo</td>\n",
       "      <td>86684</td>\n",
       "      <td>zag</td>\n",
       "      <td>5.32</td>\n",
       "      <td>CRI</td>\n",
       "      <td>Provável</td>\n",
       "    </tr>\n",
       "    <tr>\n",
       "      <th>194</th>\n",
       "      <td>34.0</td>\n",
       "      <td>Igor Rabello</td>\n",
       "      <td>89493</td>\n",
       "      <td>zag</td>\n",
       "      <td>7.32</td>\n",
       "      <td>CAM</td>\n",
       "      <td>Provável</td>\n",
       "    </tr>\n",
       "    <tr>\n",
       "      <th>197</th>\n",
       "      <td>35.0</td>\n",
       "      <td>Fabrício Bruno</td>\n",
       "      <td>90768</td>\n",
       "      <td>zag</td>\n",
       "      <td>5.81</td>\n",
       "      <td>FLA</td>\n",
       "      <td>Provável</td>\n",
       "    </tr>\n",
       "    <tr>\n",
       "      <th>345</th>\n",
       "      <td>65.0</td>\n",
       "      <td>Kaíque Rocha</td>\n",
       "      <td>103684</td>\n",
       "      <td>zag</td>\n",
       "      <td>8.32</td>\n",
       "      <td>CAP</td>\n",
       "      <td>Provável</td>\n",
       "    </tr>\n",
       "    <tr>\n",
       "      <th>367</th>\n",
       "      <td>70.0</td>\n",
       "      <td>Igor Gomes</td>\n",
       "      <td>104385</td>\n",
       "      <td>zag</td>\n",
       "      <td>4.85</td>\n",
       "      <td>INT</td>\n",
       "      <td>Nulo</td>\n",
       "    </tr>\n",
       "  </tbody>\n",
       "</table>\n",
       "</div>"
      ],
      "text/plain": [
       "     rank        nickname      id position  price team      status\n",
       "147  25.0     Léo Pereira   83528      zag   7.71  FLA  Contundido\n",
       "169  29.0         Rodrigo   86684      zag   5.32  CRI    Provável\n",
       "194  34.0    Igor Rabello   89493      zag   7.32  CAM    Provável\n",
       "197  35.0  Fabrício Bruno   90768      zag   5.81  FLA    Provável\n",
       "345  65.0    Kaíque Rocha  103684      zag   8.32  CAP    Provável\n",
       "367  70.0      Igor Gomes  104385      zag   4.85  INT        Nulo"
      ]
     },
     "execution_count": 96,
     "metadata": {},
     "output_type": "execute_result"
    }
   ],
   "source": [
    "position = 'zag'\n",
    "dist = out_data[position]['st_dist']\n",
    "deviation = dist.std()\n",
    "players_ranked[players_ranked.position==position][list(dist > deviation)]"
   ]
  },
  {
   "cell_type": "code",
   "execution_count": 36,
   "metadata": {},
   "outputs": [
    {
     "data": {
      "text/html": [
       "<div>\n",
       "<style scoped>\n",
       "    .dataframe tbody tr th:only-of-type {\n",
       "        vertical-align: middle;\n",
       "    }\n",
       "\n",
       "    .dataframe tbody tr th {\n",
       "        vertical-align: top;\n",
       "    }\n",
       "\n",
       "    .dataframe thead th {\n",
       "        text-align: right;\n",
       "    }\n",
       "</style>\n",
       "<table border=\"1\" class=\"dataframe\">\n",
       "  <thead>\n",
       "    <tr style=\"text-align: right;\">\n",
       "      <th></th>\n",
       "      <th>rank</th>\n",
       "      <th>nickname</th>\n",
       "      <th>id</th>\n",
       "      <th>position</th>\n",
       "      <th>price</th>\n",
       "      <th>team</th>\n",
       "      <th>status</th>\n",
       "    </tr>\n",
       "  </thead>\n",
       "  <tbody>\n",
       "    <tr>\n",
       "      <th>339</th>\n",
       "      <td>63.0</td>\n",
       "      <td>Matheus Bidu</td>\n",
       "      <td>105531</td>\n",
       "      <td>lat</td>\n",
       "      <td>6.45</td>\n",
       "      <td>COR</td>\n",
       "      <td>Nulo</td>\n",
       "    </tr>\n",
       "  </tbody>\n",
       "</table>\n",
       "</div>"
      ],
      "text/plain": [
       "     rank      nickname      id position  price team status\n",
       "339  63.0  Matheus Bidu  105531      lat   6.45  COR   Nulo"
      ]
     },
     "execution_count": 36,
     "metadata": {},
     "output_type": "execute_result"
    }
   ],
   "source": [
    "position = 'lat'\n",
    "dist = out_data[position]['st_dist']\n",
    "deviation = dist.std()\n",
    "players_ranked[players_ranked.position==position][list(dist > deviation)].head()"
   ]
  },
  {
   "cell_type": "code",
   "execution_count": 37,
   "metadata": {},
   "outputs": [
    {
     "data": {
      "text/html": [
       "<div>\n",
       "<style scoped>\n",
       "    .dataframe tbody tr th:only-of-type {\n",
       "        vertical-align: middle;\n",
       "    }\n",
       "\n",
       "    .dataframe tbody tr th {\n",
       "        vertical-align: top;\n",
       "    }\n",
       "\n",
       "    .dataframe thead th {\n",
       "        text-align: right;\n",
       "    }\n",
       "</style>\n",
       "<table border=\"1\" class=\"dataframe\">\n",
       "  <thead>\n",
       "    <tr style=\"text-align: right;\">\n",
       "      <th></th>\n",
       "      <th>rank</th>\n",
       "      <th>nickname</th>\n",
       "      <th>id</th>\n",
       "      <th>position</th>\n",
       "      <th>price</th>\n",
       "      <th>team</th>\n",
       "      <th>status</th>\n",
       "    </tr>\n",
       "  </thead>\n",
       "  <tbody>\n",
       "    <tr>\n",
       "      <th>19</th>\n",
       "      <td>3.0</td>\n",
       "      <td>Everton Ribeiro</td>\n",
       "      <td>51772</td>\n",
       "      <td>mei</td>\n",
       "      <td>9.72</td>\n",
       "      <td>BAH</td>\n",
       "      <td>Provável</td>\n",
       "    </tr>\n",
       "    <tr>\n",
       "      <th>81</th>\n",
       "      <td>13.0</td>\n",
       "      <td>Nikão</td>\n",
       "      <td>69705</td>\n",
       "      <td>mei</td>\n",
       "      <td>9.30</td>\n",
       "      <td>CAP</td>\n",
       "      <td>Nulo</td>\n",
       "    </tr>\n",
       "    <tr>\n",
       "      <th>91</th>\n",
       "      <td>15.0</td>\n",
       "      <td>Bruno Henrique</td>\n",
       "      <td>70944</td>\n",
       "      <td>mei</td>\n",
       "      <td>6.48</td>\n",
       "      <td>INT</td>\n",
       "      <td>Nulo</td>\n",
       "    </tr>\n",
       "    <tr>\n",
       "      <th>128</th>\n",
       "      <td>21.0</td>\n",
       "      <td>Fernandinho</td>\n",
       "      <td>72775</td>\n",
       "      <td>mei</td>\n",
       "      <td>6.86</td>\n",
       "      <td>CAP</td>\n",
       "      <td>Suspenso</td>\n",
       "    </tr>\n",
       "    <tr>\n",
       "      <th>142</th>\n",
       "      <td>24.0</td>\n",
       "      <td>Ramiro</td>\n",
       "      <td>78715</td>\n",
       "      <td>mei</td>\n",
       "      <td>3.80</td>\n",
       "      <td>CRU</td>\n",
       "      <td>Nulo</td>\n",
       "    </tr>\n",
       "  </tbody>\n",
       "</table>\n",
       "</div>"
      ],
      "text/plain": [
       "     rank         nickname     id position  price team    status\n",
       "19    3.0  Everton Ribeiro  51772      mei   9.72  BAH  Provável\n",
       "81   13.0            Nikão  69705      mei   9.30  CAP      Nulo\n",
       "91   15.0   Bruno Henrique  70944      mei   6.48  INT      Nulo\n",
       "128  21.0      Fernandinho  72775      mei   6.86  CAP  Suspenso\n",
       "142  24.0           Ramiro  78715      mei   3.80  CRU      Nulo"
      ]
     },
     "execution_count": 37,
     "metadata": {},
     "output_type": "execute_result"
    }
   ],
   "source": [
    "position = 'mei'\n",
    "dist = out_data[position]['st_dist']\n",
    "deviation = dist.std()\n",
    "players_ranked[players_ranked.position==position][list(dist > deviation)].head()"
   ]
  },
  {
   "cell_type": "code",
   "execution_count": 38,
   "metadata": {},
   "outputs": [
    {
     "data": {
      "text/html": [
       "<div>\n",
       "<style scoped>\n",
       "    .dataframe tbody tr th:only-of-type {\n",
       "        vertical-align: middle;\n",
       "    }\n",
       "\n",
       "    .dataframe tbody tr th {\n",
       "        vertical-align: top;\n",
       "    }\n",
       "\n",
       "    .dataframe thead th {\n",
       "        text-align: right;\n",
       "    }\n",
       "</style>\n",
       "<table border=\"1\" class=\"dataframe\">\n",
       "  <thead>\n",
       "    <tr style=\"text-align: right;\">\n",
       "      <th></th>\n",
       "      <th>rank</th>\n",
       "      <th>nickname</th>\n",
       "      <th>id</th>\n",
       "      <th>position</th>\n",
       "      <th>price</th>\n",
       "      <th>team</th>\n",
       "      <th>status</th>\n",
       "    </tr>\n",
       "  </thead>\n",
       "  <tbody>\n",
       "    <tr>\n",
       "      <th>50</th>\n",
       "      <td>8.0</td>\n",
       "      <td>Marinho</td>\n",
       "      <td>68952</td>\n",
       "      <td>ata</td>\n",
       "      <td>4.49</td>\n",
       "      <td>FOR</td>\n",
       "      <td>Contundido</td>\n",
       "    </tr>\n",
       "    <tr>\n",
       "      <th>124</th>\n",
       "      <td>20.0</td>\n",
       "      <td>Rafa Silva</td>\n",
       "      <td>80225</td>\n",
       "      <td>ata</td>\n",
       "      <td>6.23</td>\n",
       "      <td>CRU</td>\n",
       "      <td>Provável</td>\n",
       "    </tr>\n",
       "    <tr>\n",
       "      <th>126</th>\n",
       "      <td>21.0</td>\n",
       "      <td>Luciano</td>\n",
       "      <td>80287</td>\n",
       "      <td>ata</td>\n",
       "      <td>10.66</td>\n",
       "      <td>SAO</td>\n",
       "      <td>Suspenso</td>\n",
       "    </tr>\n",
       "    <tr>\n",
       "      <th>141</th>\n",
       "      <td>24.0</td>\n",
       "      <td>Luiz Araújo</td>\n",
       "      <td>82627</td>\n",
       "      <td>ata</td>\n",
       "      <td>6.99</td>\n",
       "      <td>FLA</td>\n",
       "      <td>Nulo</td>\n",
       "    </tr>\n",
       "    <tr>\n",
       "      <th>156</th>\n",
       "      <td>27.0</td>\n",
       "      <td>Tiquinho Soares</td>\n",
       "      <td>84042</td>\n",
       "      <td>ata</td>\n",
       "      <td>14.00</td>\n",
       "      <td>BOT</td>\n",
       "      <td>Provável</td>\n",
       "    </tr>\n",
       "  </tbody>\n",
       "</table>\n",
       "</div>"
      ],
      "text/plain": [
       "     rank         nickname     id position  price team      status\n",
       "50    8.0          Marinho  68952      ata   4.49  FOR  Contundido\n",
       "124  20.0       Rafa Silva  80225      ata   6.23  CRU    Provável\n",
       "126  21.0          Luciano  80287      ata  10.66  SAO    Suspenso\n",
       "141  24.0      Luiz Araújo  82627      ata   6.99  FLA        Nulo\n",
       "156  27.0  Tiquinho Soares  84042      ata  14.00  BOT    Provável"
      ]
     },
     "execution_count": 38,
     "metadata": {},
     "output_type": "execute_result"
    }
   ],
   "source": [
    "position = 'ata'\n",
    "dist = out_data[position]['st_dist']\n",
    "deviation = dist.std()\n",
    "players_ranked[players_ranked.position==position][list(dist > deviation)].head()"
   ]
  },
  {
   "cell_type": "code",
   "execution_count": 39,
   "metadata": {},
   "outputs": [
    {
     "data": {
      "text/html": [
       "<div>\n",
       "<style scoped>\n",
       "    .dataframe tbody tr th:only-of-type {\n",
       "        vertical-align: middle;\n",
       "    }\n",
       "\n",
       "    .dataframe tbody tr th {\n",
       "        vertical-align: top;\n",
       "    }\n",
       "\n",
       "    .dataframe thead th {\n",
       "        text-align: right;\n",
       "    }\n",
       "</style>\n",
       "<table border=\"1\" class=\"dataframe\">\n",
       "  <thead>\n",
       "    <tr style=\"text-align: right;\">\n",
       "      <th></th>\n",
       "      <th>rank</th>\n",
       "      <th>nickname</th>\n",
       "      <th>id</th>\n",
       "      <th>position</th>\n",
       "      <th>price</th>\n",
       "      <th>team</th>\n",
       "      <th>status</th>\n",
       "    </tr>\n",
       "  </thead>\n",
       "  <tbody>\n",
       "    <tr>\n",
       "      <th>3</th>\n",
       "      <td>0.0</td>\n",
       "      <td>Renato Gaúcho</td>\n",
       "      <td>41929</td>\n",
       "      <td>tec</td>\n",
       "      <td>9.28</td>\n",
       "      <td>GRE</td>\n",
       "      <td>Provável</td>\n",
       "    </tr>\n",
       "    <tr>\n",
       "      <th>6</th>\n",
       "      <td>1.0</td>\n",
       "      <td>Cuca</td>\n",
       "      <td>42411</td>\n",
       "      <td>tec</td>\n",
       "      <td>11.57</td>\n",
       "      <td>CAP</td>\n",
       "      <td>Provável</td>\n",
       "    </tr>\n",
       "    <tr>\n",
       "      <th>17</th>\n",
       "      <td>2.0</td>\n",
       "      <td>Tite</td>\n",
       "      <td>45125</td>\n",
       "      <td>tec</td>\n",
       "      <td>11.07</td>\n",
       "      <td>FLA</td>\n",
       "      <td>Provável</td>\n",
       "    </tr>\n",
       "    <tr>\n",
       "      <th>21</th>\n",
       "      <td>3.0</td>\n",
       "      <td>Fernando Diniz</td>\n",
       "      <td>72391</td>\n",
       "      <td>tec</td>\n",
       "      <td>9.78</td>\n",
       "      <td>FLU</td>\n",
       "      <td>Provável</td>\n",
       "    </tr>\n",
       "    <tr>\n",
       "      <th>34</th>\n",
       "      <td>5.0</td>\n",
       "      <td>Roger Machado</td>\n",
       "      <td>79437</td>\n",
       "      <td>tec</td>\n",
       "      <td>6.44</td>\n",
       "      <td>JUV</td>\n",
       "      <td>Provável</td>\n",
       "    </tr>\n",
       "  </tbody>\n",
       "</table>\n",
       "</div>"
      ],
      "text/plain": [
       "   rank        nickname     id position  price team    status\n",
       "3   0.0   Renato Gaúcho  41929      tec   9.28  GRE  Provável\n",
       "6   1.0            Cuca  42411      tec  11.57  CAP  Provável\n",
       "17  2.0            Tite  45125      tec  11.07  FLA  Provável\n",
       "21  3.0  Fernando Diniz  72391      tec   9.78  FLU  Provável\n",
       "34  5.0   Roger Machado  79437      tec   6.44  JUV  Provável"
      ]
     },
     "execution_count": 39,
     "metadata": {},
     "output_type": "execute_result"
    }
   ],
   "source": [
    "position = 'tec'\n",
    "dist = out_data[position]['st_dist']\n",
    "deviation = dist.std()\n",
    "players_ranked[players_ranked.position==position][list(dist > deviation)].head()"
   ]
  },
  {
   "attachments": {},
   "cell_type": "markdown",
   "metadata": {},
   "source": [
    "## Using linear programming to build the team"
   ]
  },
  {
   "attachments": {},
   "cell_type": "markdown",
   "metadata": {},
   "source": [
    "Adding probabilities in players on the market data"
   ]
  },
  {
   "cell_type": "code",
   "execution_count": 41,
   "metadata": {},
   "outputs": [],
   "source": [
    "df_players_anl = players_ranked.copy()\n",
    "df_players_anl['rank'] = df_players_anl['rank'].astype(int)\n",
    "df_players_anl['prob'] = 0.00"
   ]
  },
  {
   "cell_type": "code",
   "execution_count": 42,
   "metadata": {},
   "outputs": [],
   "source": [
    "def get_prob(df):\n",
    "    position = df['position']\n",
    "    rank = df['rank']\n",
    "    return out_data.get(position)[\"st_dist\"][int(rank)]"
   ]
  },
  {
   "cell_type": "code",
   "execution_count": 43,
   "metadata": {},
   "outputs": [],
   "source": [
    "df_players_anl['prob'] = df_players_anl.apply(get_prob, axis=1)"
   ]
  },
  {
   "cell_type": "code",
   "execution_count": 44,
   "metadata": {},
   "outputs": [
    {
     "data": {
      "text/html": [
       "<div>\n",
       "<style scoped>\n",
       "    .dataframe tbody tr th:only-of-type {\n",
       "        vertical-align: middle;\n",
       "    }\n",
       "\n",
       "    .dataframe tbody tr th {\n",
       "        vertical-align: top;\n",
       "    }\n",
       "\n",
       "    .dataframe thead th {\n",
       "        text-align: right;\n",
       "    }\n",
       "</style>\n",
       "<table border=\"1\" class=\"dataframe\">\n",
       "  <thead>\n",
       "    <tr style=\"text-align: right;\">\n",
       "      <th></th>\n",
       "      <th>rank</th>\n",
       "      <th>nickname</th>\n",
       "      <th>id</th>\n",
       "      <th>position</th>\n",
       "      <th>price</th>\n",
       "      <th>team</th>\n",
       "      <th>status</th>\n",
       "      <th>prob</th>\n",
       "    </tr>\n",
       "  </thead>\n",
       "  <tbody>\n",
       "    <tr>\n",
       "      <th>339</th>\n",
       "      <td>63</td>\n",
       "      <td>Matheus Bidu</td>\n",
       "      <td>105531</td>\n",
       "      <td>lat</td>\n",
       "      <td>6.45</td>\n",
       "      <td>COR</td>\n",
       "      <td>Nulo</td>\n",
       "      <td>0.763984</td>\n",
       "    </tr>\n",
       "    <tr>\n",
       "      <th>169</th>\n",
       "      <td>29</td>\n",
       "      <td>Rodrigo</td>\n",
       "      <td>86684</td>\n",
       "      <td>zag</td>\n",
       "      <td>5.32</td>\n",
       "      <td>CRI</td>\n",
       "      <td>Provável</td>\n",
       "      <td>0.284473</td>\n",
       "    </tr>\n",
       "    <tr>\n",
       "      <th>121</th>\n",
       "      <td>20</td>\n",
       "      <td>Alisson</td>\n",
       "      <td>84266</td>\n",
       "      <td>gol</td>\n",
       "      <td>3.05</td>\n",
       "      <td>CRI</td>\n",
       "      <td>Nulo</td>\n",
       "      <td>0.214818</td>\n",
       "    </tr>\n",
       "    <tr>\n",
       "      <th>194</th>\n",
       "      <td>34</td>\n",
       "      <td>Igor Rabello</td>\n",
       "      <td>89493</td>\n",
       "      <td>zag</td>\n",
       "      <td>7.32</td>\n",
       "      <td>CAM</td>\n",
       "      <td>Provável</td>\n",
       "      <td>0.137585</td>\n",
       "    </tr>\n",
       "    <tr>\n",
       "      <th>63</th>\n",
       "      <td>10</td>\n",
       "      <td>Rogério Ceni</td>\n",
       "      <td>97341</td>\n",
       "      <td>tec</td>\n",
       "      <td>10.15</td>\n",
       "      <td>BAH</td>\n",
       "      <td>Provável</td>\n",
       "      <td>0.125025</td>\n",
       "    </tr>\n",
       "  </tbody>\n",
       "</table>\n",
       "</div>"
      ],
      "text/plain": [
       "     rank      nickname      id position  price team    status      prob\n",
       "339    63  Matheus Bidu  105531      lat   6.45  COR      Nulo  0.763984\n",
       "169    29       Rodrigo   86684      zag   5.32  CRI  Provável  0.284473\n",
       "121    20       Alisson   84266      gol   3.05  CRI      Nulo  0.214818\n",
       "194    34  Igor Rabello   89493      zag   7.32  CAM  Provável  0.137585\n",
       "63     10  Rogério Ceni   97341      tec  10.15  BAH  Provável  0.125025"
      ]
     },
     "execution_count": 44,
     "metadata": {},
     "output_type": "execute_result"
    }
   ],
   "source": [
    "df_players_anl.sort_values('prob', ascending=False).head()"
   ]
  },
  {
   "cell_type": "code",
   "execution_count": 71,
   "metadata": {},
   "outputs": [],
   "source": [
    "df_players_anl['nickname'] = df_players_anl['nickname'].str.replace(\" \", \"_\")\n",
    "df_players_likely = df_players_anl[df_players_anl.status == \"Provável\"]"
   ]
  },
  {
   "attachments": {},
   "cell_type": "markdown",
   "metadata": {},
   "source": [
    "### Giving extra probability points for the players that will play at home.\n",
    "\n",
    "I found this [study](https://www.scielo.br/j/rbcdh/a/wc9c38CkYs5NZJYSF6SpNJR/?format=pdf&lang=pt) who says that teams in brazillian championship has 25% more chance to win when playing at home;\n"
   ]
  },
  {
   "cell_type": "code",
   "execution_count": 46,
   "metadata": {},
   "outputs": [],
   "source": [
    "next_matches = get_next_match()"
   ]
  },
  {
   "cell_type": "code",
   "execution_count": 64,
   "metadata": {},
   "outputs": [],
   "source": [
    "home_team = next_matches[\"home_team\"].values"
   ]
  },
  {
   "cell_type": "code",
   "execution_count": 65,
   "metadata": {},
   "outputs": [
    {
     "data": {
      "text/plain": [
       "array(['GRE', 'VIT', 'FLU', 'CUI', 'COR', 'CAM', 'VAS', 'CRI', 'SAO',\n",
       "       'FOR'], dtype=object)"
      ]
     },
     "execution_count": 65,
     "metadata": {},
     "output_type": "execute_result"
    }
   ],
   "source": [
    "home_team"
   ]
  },
  {
   "cell_type": "code",
   "execution_count": 73,
   "metadata": {},
   "outputs": [],
   "source": [
    "df_players_likely_bonus = df_players_likely.copy()"
   ]
  },
  {
   "cell_type": "code",
   "execution_count": 74,
   "metadata": {},
   "outputs": [],
   "source": [
    "df_players_likely_bonus.loc[df_players_likely_bonus.team.isin(home_team), 'prob'] *= 1.25"
   ]
  },
  {
   "cell_type": "code",
   "execution_count": 77,
   "metadata": {},
   "outputs": [
    {
     "data": {
      "text/html": [
       "<div>\n",
       "<style scoped>\n",
       "    .dataframe tbody tr th:only-of-type {\n",
       "        vertical-align: middle;\n",
       "    }\n",
       "\n",
       "    .dataframe tbody tr th {\n",
       "        vertical-align: top;\n",
       "    }\n",
       "\n",
       "    .dataframe thead th {\n",
       "        text-align: right;\n",
       "    }\n",
       "</style>\n",
       "<table border=\"1\" class=\"dataframe\">\n",
       "  <thead>\n",
       "    <tr style=\"text-align: right;\">\n",
       "      <th></th>\n",
       "      <th>rank</th>\n",
       "      <th>nickname</th>\n",
       "      <th>id</th>\n",
       "      <th>position</th>\n",
       "      <th>price</th>\n",
       "      <th>team</th>\n",
       "      <th>status</th>\n",
       "      <th>prob</th>\n",
       "    </tr>\n",
       "  </thead>\n",
       "  <tbody>\n",
       "    <tr>\n",
       "      <th>1</th>\n",
       "      <td>0</td>\n",
       "      <td>Thiago_Heleno</td>\n",
       "      <td>38394</td>\n",
       "      <td>zag</td>\n",
       "      <td>6.53</td>\n",
       "      <td>CAP</td>\n",
       "      <td>Provável</td>\n",
       "      <td>0.005032</td>\n",
       "    </tr>\n",
       "    <tr>\n",
       "      <th>3</th>\n",
       "      <td>0</td>\n",
       "      <td>Renato_Gaúcho</td>\n",
       "      <td>41929</td>\n",
       "      <td>tec</td>\n",
       "      <td>9.28</td>\n",
       "      <td>GRE</td>\n",
       "      <td>Provável</td>\n",
       "      <td>0.046596</td>\n",
       "    </tr>\n",
       "    <tr>\n",
       "      <th>5</th>\n",
       "      <td>0</td>\n",
       "      <td>Fábio</td>\n",
       "      <td>37656</td>\n",
       "      <td>gol</td>\n",
       "      <td>9.24</td>\n",
       "      <td>FLU</td>\n",
       "      <td>Provável</td>\n",
       "      <td>0.092776</td>\n",
       "    </tr>\n",
       "    <tr>\n",
       "      <th>6</th>\n",
       "      <td>1</td>\n",
       "      <td>Cuca</td>\n",
       "      <td>42411</td>\n",
       "      <td>tec</td>\n",
       "      <td>11.57</td>\n",
       "      <td>CAP</td>\n",
       "      <td>Provável</td>\n",
       "      <td>0.062602</td>\n",
       "    </tr>\n",
       "    <tr>\n",
       "      <th>7</th>\n",
       "      <td>1</td>\n",
       "      <td>Hulk</td>\n",
       "      <td>39148</td>\n",
       "      <td>ata</td>\n",
       "      <td>14.21</td>\n",
       "      <td>CAM</td>\n",
       "      <td>Provável</td>\n",
       "      <td>0.003813</td>\n",
       "    </tr>\n",
       "  </tbody>\n",
       "</table>\n",
       "</div>"
      ],
      "text/plain": [
       "   rank       nickname     id position  price team    status      prob\n",
       "1     0  Thiago_Heleno  38394      zag   6.53  CAP  Provável  0.005032\n",
       "3     0  Renato_Gaúcho  41929      tec   9.28  GRE  Provável  0.046596\n",
       "5     0          Fábio  37656      gol   9.24  FLU  Provável  0.092776\n",
       "6     1           Cuca  42411      tec  11.57  CAP  Provável  0.062602\n",
       "7     1           Hulk  39148      ata  14.21  CAM  Provável  0.003813"
      ]
     },
     "execution_count": 77,
     "metadata": {},
     "output_type": "execute_result"
    }
   ],
   "source": [
    "df_players_likely_bonus.head()"
   ]
  },
  {
   "attachments": {},
   "cell_type": "markdown",
   "metadata": {},
   "source": [
    "### Optimization"
   ]
  },
  {
   "cell_type": "code",
   "execution_count": 47,
   "metadata": {},
   "outputs": [],
   "source": [
    "from pulp import LpMaximize, LpProblem, lpSum, LpVariable\n",
    "import pandas as pd"
   ]
  },
  {
   "cell_type": "code",
   "execution_count": 85,
   "metadata": {},
   "outputs": [],
   "source": [
    "# Team and money constraints\n",
    "team = {\n",
    "    'ata': 3,\n",
    "    'mei': 3,\n",
    "    'lat': 2,\n",
    "    'zag': 2,\n",
    "    'gol':1,\n",
    "    'tec':1\n",
    "}\n",
    "\n",
    "money = 94.15"
   ]
  },
  {
   "cell_type": "code",
   "execution_count": 81,
   "metadata": {},
   "outputs": [],
   "source": [
    "# Selecting the dataframe to use in the optimization\n",
    "df = df_players_likely_bonus.copy()"
   ]
  },
  {
   "cell_type": "code",
   "execution_count": 82,
   "metadata": {},
   "outputs": [
    {
     "name": "stderr",
     "output_type": "stream",
     "text": [
      "/home/jucelio/.local/share/virtualenvs/mkv-cartola-AYh-Mpys/lib/python3.9/site-packages/pulp/pulp.py:1316: UserWarning: Spaces are not permitted in the name. Converted to '_'\n",
      "  warnings.warn(\"Spaces are not permitted in the name. Converted to '_'\")\n"
     ]
    }
   ],
   "source": [
    "df.set_index(\"id\", inplace=True)\n",
    "z = df['prob'].to_dict()\n",
    "c = df['price'].to_dict()\n",
    "\n",
    "dummies_position = pd.get_dummies(df.position)\n",
    "dummies_position = dummies_position.to_dict()\n",
    "prob = LpProblem(\"Players CHoice\", LpMaximize)\n",
    "y = LpVariable.dicts(\"player_id\", df.index , 0,1,cat='Binary')\n",
    "prob += lpSum([z[i] * y[i] for i in y])"
   ]
  },
  {
   "cell_type": "code",
   "execution_count": 83,
   "metadata": {},
   "outputs": [],
   "source": [
    "prob += lpSum([c[i] * y[i] for i in y]) <= money, \"money_limit\"\n",
    "prob += lpSum([dummies_position['ata'][i] * y[i] for i in y]) == team['ata'], \"Quantidade Atacantes\"\n",
    "prob += lpSum([dummies_position['lat'][i] * y[i] for i in y]) == team['lat'], \"Quantidade Laterais\"\n",
    "prob += lpSum([dummies_position['mei'][i] * y[i] for i in y]) == team['mei'], \"Quantidade Meio\"\n",
    "prob += lpSum([dummies_position['zag'][i] * y[i] for i in y]) == team['zag'], \"Quantidade Zagueiros\"\n",
    "prob += lpSum([dummies_position['gol'][i] * y[i] for i in y]) == team['gol'], \"Quantidade Gol\"\n",
    "prob += lpSum([dummies_position['tec'][i] * y[i] for i in y]) == team['tec'], \"Quantidade Tecnico\"\n"
   ]
  },
  {
   "cell_type": "code",
   "execution_count": 86,
   "metadata": {},
   "outputs": [
    {
     "name": "stdout",
     "output_type": "stream",
     "text": [
      "Welcome to the CBC MILP Solver \n",
      "Version: 2.10.3 \n",
      "Build Date: Dec 15 2019 \n",
      "\n",
      "command line - /home/jucelio/.local/share/virtualenvs/mkv-cartola-AYh-Mpys/lib/python3.9/site-packages/pulp/solverdir/cbc/linux/64/cbc /tmp/c7b237aa183344199b4bbe585024e638-pulp.mps -max -timeMode elapsed -branch -printingOptions all -solution /tmp/c7b237aa183344199b4bbe585024e638-pulp.sol (default strategy 1)\n",
      "At line 2 NAME          MODEL\n",
      "At line 3 ROWS\n",
      "At line 12 COLUMNS\n",
      "At line 1138 RHS\n",
      "At line 1146 BOUNDS\n",
      "At line 1372 ENDATA\n",
      "Problem MODEL has 7 rows, 225 columns and 450 elements\n",
      "Coin0008I MODEL read with 0 errors\n",
      "Option for timeMode changed from cpu to elapsed\n",
      "Continuous objective value is 1.11809 - 0.01 seconds\n",
      "Cgl0004I processed model has 7 rows, 222 columns (222 integer (220 of which binary)) and 444 elements\n",
      "Cbc0038I Initial state - 2 integers unsatisfied sum - 0.279141\n",
      "Cbc0038I Pass   1: suminf.    0.15799 (2) obj. -1.11793 iterations 5\n",
      "Cbc0038I Solution found of -1.09591\n",
      "Cbc0038I Cleaned solution of -1.09591\n",
      "Cbc0038I Before mini branch and bound, 219 integers at bound fixed and 0 continuous\n",
      "Cbc0038I Full problem 7 rows 222 columns, reduced to 0 rows 0 columns\n",
      "Cbc0038I Mini branch and bound improved solution from -1.09591 to -1.1074 (0.08 seconds)\n",
      "Cbc0038I Round again with cutoff of -1.10848\n",
      "Cbc0038I Reduced cost fixing fixed 173 variables on major pass 2\n",
      "Cbc0038I Pass   2: suminf.    0.15799 (2) obj. -1.11793 iterations 0\n",
      "Cbc0038I Pass   3: suminf.    0.94895 (2) obj. -1.10848 iterations 5\n",
      "Cbc0038I Pass   4: suminf.    0.17869 (2) obj. -1.10848 iterations 6\n",
      "Cbc0038I Solution found of -1.11069\n",
      "Cbc0038I Cleaned solution of -1.11069\n",
      "Cbc0038I Before mini branch and bound, 216 integers at bound fixed and 0 continuous\n",
      "Cbc0038I Full problem 7 rows 222 columns, reduced to 2 rows 4 columns\n",
      "Cbc0038I Mini branch and bound did not improve solution (0.09 seconds)\n",
      "Cbc0038I Round again with cutoff of -1.11218\n",
      "Cbc0038I Reduced cost fixing fixed 189 variables on major pass 3\n",
      "Cbc0038I Pass   5: suminf.    0.15799 (2) obj. -1.11793 iterations 0\n",
      "Cbc0038I Pass   6: suminf.    0.63949 (2) obj. -1.11218 iterations 5\n",
      "Cbc0038I Pass   7: suminf.    0.88152 (2) obj. -1.11218 iterations 2\n",
      "Cbc0038I Pass   8: suminf.    0.73158 (2) obj. -1.11218 iterations 5\n",
      "Cbc0038I Pass   9: suminf.    0.73158 (2) obj. -1.11218 iterations 2\n",
      "Cbc0038I Pass  10: suminf.    0.73158 (2) obj. -1.11218 iterations 0\n",
      "Cbc0038I Pass  11: suminf.    0.73158 (2) obj. -1.11218 iterations 0\n",
      "Cbc0038I Pass  12: suminf.    0.34823 (2) obj. -1.11218 iterations 3\n",
      "Cbc0038I Pass  13: suminf.    0.00694 (2) obj. -1.11419 iterations 4\n",
      "Cbc0038I Pass  14: suminf.    0.17557 (2) obj. -1.11218 iterations 4\n",
      "Cbc0038I Pass  15: suminf.    0.33791 (2) obj. -1.11218 iterations 3\n",
      "Cbc0038I Pass  16: suminf.    0.34823 (2) obj. -1.11218 iterations 1\n",
      "Cbc0038I Pass  17: suminf.    0.32581 (2) obj. -1.11218 iterations 7\n",
      "Cbc0038I Pass  18: suminf.    0.32581 (2) obj. -1.11218 iterations 3\n",
      "Cbc0038I Pass  19: suminf.    0.15799 (2) obj. -1.11793 iterations 6\n",
      "Cbc0038I Pass  20: suminf.    0.63949 (2) obj. -1.11218 iterations 4\n",
      "Cbc0038I Pass  21: suminf.    0.73158 (2) obj. -1.11218 iterations 3\n",
      "Cbc0038I Pass  22: suminf.    0.73158 (2) obj. -1.11218 iterations 2\n",
      "Cbc0038I Pass  23: suminf.    0.73158 (2) obj. -1.11218 iterations 0\n",
      "Cbc0038I Pass  24: suminf.    0.73158 (2) obj. -1.11218 iterations 0\n",
      "Cbc0038I Pass  25: suminf.    0.73158 (2) obj. -1.11218 iterations 0\n",
      "Cbc0038I Pass  26: suminf.    0.23963 (2) obj. -1.11218 iterations 5\n",
      "Cbc0038I Pass  27: suminf.    0.23963 (2) obj. -1.11218 iterations 1\n",
      "Cbc0038I Pass  28: suminf.    0.15799 (2) obj. -1.11793 iterations 6\n",
      "Cbc0038I Pass  29: suminf.    0.63949 (2) obj. -1.11218 iterations 4\n",
      "Cbc0038I Pass  30: suminf.    0.76916 (2) obj. -1.11218 iterations 3\n",
      "Cbc0038I Pass  31: suminf.    0.76916 (2) obj. -1.11218 iterations 1\n",
      "Cbc0038I Pass  32: suminf.    0.76916 (2) obj. -1.11218 iterations 1\n",
      "Cbc0038I Pass  33: suminf.    0.76916 (2) obj. -1.11218 iterations 1\n",
      "Cbc0038I Pass  34: suminf.    0.76916 (2) obj. -1.11218 iterations 0\n",
      "Cbc0038I No solution found this major pass\n",
      "Cbc0038I Before mini branch and bound, 213 integers at bound fixed and 0 continuous\n",
      "Cbc0038I Full problem 7 rows 222 columns, reduced to 3 rows 9 columns\n",
      "Cbc0038I Mini branch and bound improved solution from -1.11069 to -1.11114 (0.11 seconds)\n",
      "Cbc0038I Round again with cutoff of -1.11395\n",
      "Cbc0038I Reduced cost fixing fixed 199 variables on major pass 4\n",
      "Cbc0038I Pass  34: suminf.    0.15799 (2) obj. -1.11793 iterations 0\n",
      "Cbc0038I Pass  35: suminf.    0.49115 (2) obj. -1.11395 iterations 5\n",
      "Cbc0038I Pass  36: suminf.    0.55797 (2) obj. -1.11395 iterations 1\n",
      "Cbc0038I Pass  37: suminf.    0.79283 (2) obj. -1.11395 iterations 1\n",
      "Cbc0038I Pass  38: suminf.    0.63275 (2) obj. -1.11395 iterations 2\n",
      "Cbc0038I Pass  39: suminf.    0.63275 (2) obj. -1.11395 iterations 0\n",
      "Cbc0038I Pass  40: suminf.    0.63275 (2) obj. -1.11395 iterations 0\n",
      "Cbc0038I Pass  41: suminf.    0.63275 (2) obj. -1.11395 iterations 0\n",
      "Cbc0038I Pass  42: suminf.    0.79283 (2) obj. -1.11395 iterations 2\n",
      "Cbc0038I Pass  43: suminf.    0.79283 (2) obj. -1.11395 iterations 0\n",
      "Cbc0038I Pass  44: suminf.    0.97419 (2) obj. -1.11395 iterations 2\n",
      "Cbc0038I Pass  45: suminf.    0.72427 (2) obj. -1.11395 iterations 2\n",
      "Cbc0038I Pass  46: suminf.    0.97419 (2) obj. -1.11395 iterations 1\n",
      "Cbc0038I Pass  47: suminf.    0.33270 (2) obj. -1.11395 iterations 2\n",
      "Cbc0038I Solution found of -1.11595\n",
      "Cbc0038I Cleaned solution of -1.11595\n",
      "Cbc0038I Before mini branch and bound, 212 integers at bound fixed and 0 continuous\n",
      "Cbc0038I Full problem 7 rows 222 columns, reduced to 2 rows 9 columns\n",
      "Cbc0038I Mini branch and bound did not improve solution (0.12 seconds)\n",
      "Cbc0038I Round again with cutoff of -1.1166\n",
      "Cbc0038I Reduced cost fixing fixed 211 variables on major pass 5\n",
      "Cbc0038I Pass  48: suminf.    0.18686 (2) obj. -1.11809 iterations 1\n",
      "Cbc0038I Pass  49: suminf.    0.34696 (2) obj. -1.1166 iterations 5\n",
      "Cbc0038I Pass  50: suminf.    0.34696 (2) obj. -1.1166 iterations 0\n",
      "Cbc0038I Pass  51: suminf.    0.34696 (2) obj. -1.1166 iterations 0\n",
      "Cbc0038I Pass  52: suminf.    0.39714 (2) obj. -1.1166 iterations 1\n",
      "Cbc0038I Pass  53: suminf.    0.23454 (2) obj. -1.11792 iterations 1\n",
      "Cbc0038I Pass  54: suminf.    0.34696 (2) obj. -1.1166 iterations 2\n",
      "Cbc0038I Pass  55: suminf.    0.51835 (2) obj. -1.1166 iterations 3\n",
      "Cbc0038I Pass  56: suminf.    0.33456 (2) obj. -1.1166 iterations 2\n",
      "Cbc0038I Pass  57: suminf.    0.33456 (2) obj. -1.1166 iterations 0\n",
      "Cbc0038I Pass  58: suminf.    0.33456 (2) obj. -1.1166 iterations 0\n",
      "Cbc0038I Pass  59: suminf.    0.33456 (2) obj. -1.1166 iterations 0\n",
      "Cbc0038I Pass  60: suminf.    0.33456 (2) obj. -1.1166 iterations 1\n",
      "Cbc0038I Pass  61: suminf.    0.33456 (2) obj. -1.1166 iterations 1\n",
      "Cbc0038I Pass  62: suminf.    0.92308 (2) obj. -1.11774 iterations 3\n",
      "Cbc0038I Pass  63: suminf.    0.34696 (2) obj. -1.1166 iterations 2\n",
      "Cbc0038I Pass  64: suminf.    0.18686 (2) obj. -1.11809 iterations 1\n",
      "Cbc0038I Pass  65: suminf.    0.33456 (2) obj. -1.1166 iterations 3\n",
      "Cbc0038I Pass  66: suminf.    0.33456 (2) obj. -1.1166 iterations 0\n",
      "Cbc0038I Pass  67: suminf.    0.33456 (2) obj. -1.1166 iterations 0\n",
      "Cbc0038I Pass  68: suminf.    0.33456 (2) obj. -1.1166 iterations 1\n",
      "Cbc0038I Pass  69: suminf.    0.33456 (2) obj. -1.1166 iterations 1\n",
      "Cbc0038I Pass  70: suminf.    0.33456 (2) obj. -1.1166 iterations 0\n",
      "Cbc0038I Pass  71: suminf.    0.33456 (2) obj. -1.1166 iterations 0\n",
      "Cbc0038I Pass  72: suminf.    0.33456 (2) obj. -1.1166 iterations 0\n",
      "Cbc0038I Pass  73: suminf.    0.34696 (2) obj. -1.1166 iterations 2\n",
      "Cbc0038I Pass  74: suminf.    0.34696 (2) obj. -1.1166 iterations 0\n",
      "Cbc0038I Pass  75: suminf.    0.51835 (2) obj. -1.1166 iterations 3\n",
      "Cbc0038I Pass  76: suminf.    0.53418 (2) obj. -1.1166 iterations 3\n",
      "Cbc0038I Pass  77: suminf.    0.39714 (2) obj. -1.1166 iterations 1\n",
      "Cbc0038I No solution found this major pass\n",
      "Cbc0038I Before mini branch and bound, 215 integers at bound fixed and 0 continuous\n",
      "Cbc0038I Full problem 7 rows 222 columns, reduced to 2 rows 6 columns\n",
      "Cbc0038I Mini branch and bound did not improve solution (0.13 seconds)\n",
      "Cbc0038I After 0.13 seconds - Feasibility pump exiting with objective of -1.11595 - took 0.07 seconds\n",
      "Cbc0012I Integer solution of -1.1159549 found by feasibility pump after 0 iterations and 0 nodes (0.13 seconds)\n",
      "Cbc0031I 2 added rows had average density of 7\n",
      "Cbc0013I At root node, 4 cuts changed objective from -1.1180876 to -1.1159549 in 1 passes\n",
      "Cbc0014I Cut generator 0 (Probing) - 0 row cuts average 0.0 elements, 1 column cuts (1 active)  in 0.000 seconds - new frequency is 1\n",
      "Cbc0014I Cut generator 1 (Gomory) - 0 row cuts average 0.0 elements, 0 column cuts (0 active)  in 0.000 seconds - new frequency is -100\n",
      "Cbc0014I Cut generator 2 (Knapsack) - 1 row cuts average 3.0 elements, 0 column cuts (0 active)  in 0.000 seconds - new frequency is 1\n",
      "Cbc0014I Cut generator 3 (Clique) - 0 row cuts average 0.0 elements, 0 column cuts (0 active)  in 0.000 seconds - new frequency is -100\n",
      "Cbc0014I Cut generator 4 (MixedIntegerRounding2) - 0 row cuts average 0.0 elements, 0 column cuts (0 active)  in 0.000 seconds - new frequency is -100\n",
      "Cbc0014I Cut generator 5 (FlowCover) - 0 row cuts average 0.0 elements, 0 column cuts (0 active)  in 0.000 seconds - new frequency is -100\n",
      "Cbc0014I Cut generator 6 (TwoMirCuts) - 3 row cuts average 9.0 elements, 0 column cuts (0 active)  in 0.000 seconds - new frequency is -100\n",
      "Cbc0001I Search completed - best objective -1.11595491095717, took 0 iterations and 0 nodes (0.13 seconds)\n",
      "Cbc0035I Maximum depth 0, 204 variables fixed on reduced cost\n",
      "Cuts at root node changed objective from -1.11809 to -1.11595\n",
      "Probing was tried 1 times and created 1 cuts of which 0 were active after adding rounds of cuts (0.000 seconds)\n",
      "Gomory was tried 1 times and created 0 cuts of which 0 were active after adding rounds of cuts (0.000 seconds)\n",
      "Knapsack was tried 1 times and created 1 cuts of which 0 were active after adding rounds of cuts (0.000 seconds)\n",
      "Clique was tried 1 times and created 0 cuts of which 0 were active after adding rounds of cuts (0.000 seconds)\n",
      "MixedIntegerRounding2 was tried 1 times and created 0 cuts of which 0 were active after adding rounds of cuts (0.000 seconds)\n",
      "FlowCover was tried 1 times and created 0 cuts of which 0 were active after adding rounds of cuts (0.000 seconds)\n",
      "TwoMirCuts was tried 1 times and created 3 cuts of which 0 were active after adding rounds of cuts (0.000 seconds)\n",
      "ZeroHalf was tried 1 times and created 0 cuts of which 0 were active after adding rounds of cuts (0.000 seconds)\n",
      "\n",
      "Result - Optimal solution found\n",
      "\n",
      "Objective value:                1.11595491\n",
      "Enumerated nodes:               0\n",
      "Total iterations:               0\n",
      "Time (CPU seconds):             0.10\n",
      "Time (Wallclock seconds):       0.13\n",
      "\n",
      "Option for printingOptions changed from normal to all\n",
      "Total time (CPU seconds):       0.11   (Wallclock seconds):       0.19\n",
      "\n"
     ]
    },
    {
     "data": {
      "text/plain": [
       "1"
      ]
     },
     "execution_count": 86,
     "metadata": {},
     "output_type": "execute_result"
    }
   ],
   "source": [
    "prob.solve()"
   ]
  },
  {
   "cell_type": "code",
   "execution_count": 87,
   "metadata": {},
   "outputs": [
    {
     "name": "stdout",
     "output_type": "stream",
     "text": [
      "110193 = 1.0\n",
      "112886 = 1.0\n",
      "117632 = 1.0\n",
      "71701 = 1.0\n",
      "81845 = 1.0\n",
      "81881 = 1.0\n",
      "84428 = 1.0\n",
      "86485 = 1.0\n",
      "86684 = 1.0\n",
      "87228 = 1.0\n",
      "89493 = 1.0\n",
      "97341 = 1.0\n"
     ]
    }
   ],
   "source": [
    "escalados = []\n",
    "for v in prob.variables():\n",
    "    if v.varValue == 1:\n",
    "        atleta = v.name.replace('player_id_','')\n",
    "        escalados.append(int(atleta))\n",
    "        print(atleta, \"=\", v.varValue)"
   ]
  },
  {
   "cell_type": "code",
   "execution_count": 91,
   "metadata": {},
   "outputs": [],
   "source": [
    "my_team = df.loc[escalados]"
   ]
  },
  {
   "cell_type": "code",
   "execution_count": 92,
   "metadata": {},
   "outputs": [
    {
     "data": {
      "text/html": [
       "<div>\n",
       "<style scoped>\n",
       "    .dataframe tbody tr th:only-of-type {\n",
       "        vertical-align: middle;\n",
       "    }\n",
       "\n",
       "    .dataframe tbody tr th {\n",
       "        vertical-align: top;\n",
       "    }\n",
       "\n",
       "    .dataframe thead th {\n",
       "        text-align: right;\n",
       "    }\n",
       "</style>\n",
       "<table border=\"1\" class=\"dataframe\">\n",
       "  <thead>\n",
       "    <tr style=\"text-align: right;\">\n",
       "      <th></th>\n",
       "      <th>rank</th>\n",
       "      <th>nickname</th>\n",
       "      <th>position</th>\n",
       "      <th>price</th>\n",
       "      <th>team</th>\n",
       "      <th>status</th>\n",
       "      <th>prob</th>\n",
       "    </tr>\n",
       "    <tr>\n",
       "      <th>id</th>\n",
       "      <th></th>\n",
       "      <th></th>\n",
       "      <th></th>\n",
       "      <th></th>\n",
       "      <th></th>\n",
       "      <th></th>\n",
       "      <th></th>\n",
       "    </tr>\n",
       "  </thead>\n",
       "  <tbody>\n",
       "    <tr>\n",
       "      <th>110193</th>\n",
       "      <td>107</td>\n",
       "      <td>Lázaro</td>\n",
       "      <td>ata</td>\n",
       "      <td>4.78</td>\n",
       "      <td>PAL</td>\n",
       "      <td>Provável</td>\n",
       "      <td>0.019583</td>\n",
       "    </tr>\n",
       "    <tr>\n",
       "      <th>112886</th>\n",
       "      <td>113</td>\n",
       "      <td>Lucas_Barbosa</td>\n",
       "      <td>ata</td>\n",
       "      <td>10.00</td>\n",
       "      <td>JUV</td>\n",
       "      <td>Provável</td>\n",
       "      <td>0.055307</td>\n",
       "    </tr>\n",
       "    <tr>\n",
       "      <th>117632</th>\n",
       "      <td>168</td>\n",
       "      <td>Garro</td>\n",
       "      <td>mei</td>\n",
       "      <td>7.49</td>\n",
       "      <td>COR</td>\n",
       "      <td>Provável</td>\n",
       "      <td>0.044544</td>\n",
       "    </tr>\n",
       "    <tr>\n",
       "      <th>71701</th>\n",
       "      <td>11</td>\n",
       "      <td>Santiago_Arias</td>\n",
       "      <td>lat</td>\n",
       "      <td>6.47</td>\n",
       "      <td>BAH</td>\n",
       "      <td>Provável</td>\n",
       "      <td>0.045686</td>\n",
       "    </tr>\n",
       "    <tr>\n",
       "      <th>81845</th>\n",
       "      <td>30</td>\n",
       "      <td>Alisson</td>\n",
       "      <td>mei</td>\n",
       "      <td>6.04</td>\n",
       "      <td>SAO</td>\n",
       "      <td>Provável</td>\n",
       "      <td>0.036424</td>\n",
       "    </tr>\n",
       "    <tr>\n",
       "      <th>81881</th>\n",
       "      <td>19</td>\n",
       "      <td>João_Ricardo</td>\n",
       "      <td>gol</td>\n",
       "      <td>8.13</td>\n",
       "      <td>FOR</td>\n",
       "      <td>Provável</td>\n",
       "      <td>0.111155</td>\n",
       "    </tr>\n",
       "    <tr>\n",
       "      <th>84428</th>\n",
       "      <td>35</td>\n",
       "      <td>Fernando_Sobral</td>\n",
       "      <td>mei</td>\n",
       "      <td>5.51</td>\n",
       "      <td>CUI</td>\n",
       "      <td>Provável</td>\n",
       "      <td>0.096980</td>\n",
       "    </tr>\n",
       "    <tr>\n",
       "      <th>86485</th>\n",
       "      <td>31</td>\n",
       "      <td>Keno</td>\n",
       "      <td>ata</td>\n",
       "      <td>8.16</td>\n",
       "      <td>FLU</td>\n",
       "      <td>Provável</td>\n",
       "      <td>0.028717</td>\n",
       "    </tr>\n",
       "    <tr>\n",
       "      <th>86684</th>\n",
       "      <td>29</td>\n",
       "      <td>Rodrigo</td>\n",
       "      <td>zag</td>\n",
       "      <td>5.32</td>\n",
       "      <td>CRI</td>\n",
       "      <td>Provável</td>\n",
       "      <td>0.355591</td>\n",
       "    </tr>\n",
       "    <tr>\n",
       "      <th>87228</th>\n",
       "      <td>26</td>\n",
       "      <td>Guilherme_Arana</td>\n",
       "      <td>lat</td>\n",
       "      <td>14.00</td>\n",
       "      <td>CAM</td>\n",
       "      <td>Provável</td>\n",
       "      <td>0.024961</td>\n",
       "    </tr>\n",
       "    <tr>\n",
       "      <th>89493</th>\n",
       "      <td>34</td>\n",
       "      <td>Igor_Rabello</td>\n",
       "      <td>zag</td>\n",
       "      <td>7.32</td>\n",
       "      <td>CAM</td>\n",
       "      <td>Provável</td>\n",
       "      <td>0.171981</td>\n",
       "    </tr>\n",
       "    <tr>\n",
       "      <th>97341</th>\n",
       "      <td>10</td>\n",
       "      <td>Rogério_Ceni</td>\n",
       "      <td>tec</td>\n",
       "      <td>10.15</td>\n",
       "      <td>BAH</td>\n",
       "      <td>Provável</td>\n",
       "      <td>0.125025</td>\n",
       "    </tr>\n",
       "  </tbody>\n",
       "</table>\n",
       "</div>"
      ],
      "text/plain": [
       "        rank         nickname position  price team    status      prob\n",
       "id                                                                    \n",
       "110193   107           Lázaro      ata   4.78  PAL  Provável  0.019583\n",
       "112886   113    Lucas_Barbosa      ata  10.00  JUV  Provável  0.055307\n",
       "117632   168            Garro      mei   7.49  COR  Provável  0.044544\n",
       "71701     11   Santiago_Arias      lat   6.47  BAH  Provável  0.045686\n",
       "81845     30          Alisson      mei   6.04  SAO  Provável  0.036424\n",
       "81881     19     João_Ricardo      gol   8.13  FOR  Provável  0.111155\n",
       "84428     35  Fernando_Sobral      mei   5.51  CUI  Provável  0.096980\n",
       "86485     31             Keno      ata   8.16  FLU  Provável  0.028717\n",
       "86684     29          Rodrigo      zag   5.32  CRI  Provável  0.355591\n",
       "87228     26  Guilherme_Arana      lat  14.00  CAM  Provável  0.024961\n",
       "89493     34     Igor_Rabello      zag   7.32  CAM  Provável  0.171981\n",
       "97341     10     Rogério_Ceni      tec  10.15  BAH  Provável  0.125025"
      ]
     },
     "execution_count": 92,
     "metadata": {},
     "output_type": "execute_result"
    }
   ],
   "source": [
    "my_team"
   ]
  },
  {
   "cell_type": "code",
   "execution_count": 93,
   "metadata": {},
   "outputs": [
    {
     "data": {
      "text/plain": [
       "93.37"
      ]
     },
     "execution_count": 93,
     "metadata": {},
     "output_type": "execute_result"
    }
   ],
   "source": [
    "my_team['price'].sum()"
   ]
  },
  {
   "attachments": {},
   "cell_type": "markdown",
   "metadata": {},
   "source": [
    "TODO: \n",
    "- ~~Adicionar bonus para o caso do próximo jogo ser em casa;~~\n",
    "- Adicionar bonus para quem joga contra os últimos da tabela; ou a diferença entre as posições(?)\n",
    "- Adicionar restrição para que os jogadores escalados não se enfrentem na rodada;\n",
    "- Adicionar minimização para escolher os melhores reservas;\n",
    "- Adicionar possibilidade de outras escalações;\n",
    "- Adicionar método para a escolha do capitão.\n",
    "\n"
   ]
  },
  {
   "attachments": {},
   "cell_type": "markdown",
   "metadata": {},
   "source": [
    "## Test sections"
   ]
  },
  {
   "cell_type": "code",
   "execution_count": 56,
   "metadata": {},
   "outputs": [],
   "source": [
    "from cartolafc import Api"
   ]
  },
  {
   "cell_type": "code",
   "execution_count": 57,
   "metadata": {},
   "outputs": [],
   "source": [
    "api = Api()"
   ]
  },
  {
   "cell_type": "code",
   "execution_count": 58,
   "metadata": {},
   "outputs": [],
   "source": [
    "current_round = api.mercado().rodada_atual"
   ]
  },
  {
   "cell_type": "code",
   "execution_count": 59,
   "metadata": {},
   "outputs": [],
   "source": [
    "matches_current_round = api.partidas(current_round)"
   ]
  },
  {
   "cell_type": "code",
   "execution_count": 60,
   "metadata": {},
   "outputs": [
    {
     "data": {
      "text/plain": [
       "{\"data\": {\"year\": 2024, \"month\": 6, \"day\": 1, \"hour\": 16, \"minute\": 0, \"second\": 0, \"microsecond\": 0, \"tzinfo\": null}, \"local\": \"Couto Pereira\", \"clube_casa\": {\"id\": 284, \"nome\": \"Gr\\u00eamio\", \"abreviacao\": \"GRE\"}, \"placar_casa\": null, \"clube_visitante\": {\"id\": 280, \"nome\": \"Bragantino\", \"abreviacao\": \"BGT\"}, \"placar_visitante\": null}"
      ]
     },
     "execution_count": 60,
     "metadata": {},
     "output_type": "execute_result"
    }
   ],
   "source": [
    "matches_current_round[0]"
   ]
  },
  {
   "cell_type": "code",
   "execution_count": null,
   "metadata": {},
   "outputs": [],
   "source": []
  },
  {
   "cell_type": "code",
   "execution_count": 61,
   "metadata": {},
   "outputs": [
    {
     "data": {
      "text/plain": [
       "Status(id=1, nome='Mercado aberto')"
      ]
     },
     "execution_count": 61,
     "metadata": {},
     "output_type": "execute_result"
    }
   ],
   "source": [
    "api.mercado().status"
   ]
  }
 ],
 "metadata": {
  "kernelspec": {
   "display_name": "mkv-cartola-AYh-Mpys",
   "language": "python",
   "name": "python3"
  },
  "language_info": {
   "codemirror_mode": {
    "name": "ipython",
    "version": 3
   },
   "file_extension": ".py",
   "mimetype": "text/x-python",
   "name": "python",
   "nbconvert_exporter": "python",
   "pygments_lexer": "ipython3",
   "version": "3.9.5"
  },
  "orig_nbformat": 4
 },
 "nbformat": 4,
 "nbformat_minor": 2
}
